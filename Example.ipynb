{
 "cells": [
  {
   "cell_type": "markdown",
   "metadata": {},
   "source": [
    "# Example Use of Lignin-KMC\n",
    "Written by: Michael Orella <br>\n",
    "2019 January 23 <br>\n",
    "Updated by: Heather Mayes <br>\n",
    "2019 November 09 <br>\n",
    "\n",
    "This notebook contains brief examples of how to use the Lignin-KMC package within python. Further examples are available in the [LigninPolymerizationNotebook.ipynb](LigninPolymerizationNotebook.ipynb). The methodology is discussed in [\"Lignin-KMC: A Toolkit for Simulating Lignin Biosynthesis\"](https://pubs.acs.org/doi/abs/10.1021/acssuschemeng.9b03534), and uses data reported in [DFT calculations of monolignol coupling kinetics](https://pubs.acs.org/doi/abs/10.1021/acssuschemeng.9b02506).\n",
    "\n",
    "**Note:** this notebook directly calls various functions in the package. Users can also run Lignin-KMC from the command line, without the need to directly interact with the python code. See the [README on github](https://github.com/michaelorella/lignin-kmc)."
   ]
  },
  {
   "cell_type": "code",
   "execution_count": 1,
   "metadata": {},
   "outputs": [],
   "source": [
    "%load_ext autoreload\n",
    "%autoreload 2"
   ]
  },
  {
   "cell_type": "markdown",
   "metadata": {},
   "source": [
    "Among other packages, individual functions and global variables from the ligninkmc are imported."
   ]
  },
  {
   "cell_type": "code",
   "execution_count": 2,
   "metadata": {},
   "outputs": [],
   "source": [
    "import numpy as np\n",
    "\n",
    "# Chemical Drawing\n",
    "from rdkit.Chem import MolFromMolBlock\n",
    "from rdkit.Chem.AllChem import Compute2DCoords\n",
    "from rdkit.Chem.Draw import MolToImage\n",
    "from IPython.display import display\n",
    "\n",
    "# Lignin-KMC functions and global variables used in this notebook\n",
    "from ligninkmc.kmc_functions import (run_kmc, generate_mol)\n",
    "from ligninkmc.create_lignin import (calc_rates, create_initial_monomers, create_initial_events,\n",
    "                                     create_initial_state, analyze_adj_matrix, adj_analysis_to_stdout)\n",
    "from ligninkmc.kmc_common import (DEF_E_BARRIER_KCAL_MOL, ADJ_MATRIX, MONO_LIST, MONOMER, OX, GROW, Monomer, Event)"
   ]
  },
  {
   "cell_type": "markdown",
   "metadata": {},
   "source": [
    "## SG Lignin Example"
   ]
  },
  {
   "cell_type": "markdown",
   "metadata": {},
   "source": [
    "The first step of this example is for us to define the rates of bond formation, oxidation, and hydration. This is done by using a dictionary that maps the bond string ('5o4', 'bo4', 'b5', '55', 'bb', 'ao4', etc., saved as the global variables  C5O4, BO4, B4, C5C5, BB, AO4, etc.) to a dictionary that maps monomer type (0 - coniferyl, 1 - sinapyl, 2 - caffeoyl) to a dictionary that maps fragment sizes to be joined (e.g. ('monomer', 'oligomer'), where 'oligomer' represents any length (dimer and longer)) to the transition state Gibbs Free energy barriers in kcal/mol. \n",
    "\n",
    "Here, we will use the default values, as reported in the [Lignin-KMC paper](https://pubs.acs.org/doi/abs/10.1021/acssuschemeng.9b03534), [Tables S1 and S2](https://pubs.acs.org/doi/suppl/10.1021/acssuschemeng.9b03534/suppl_file/sc9b03534_si_001.pdf), which stored in the package's global variable DEF_E_BARRIER_KCAL_MOL (imported above). \n",
    "\n",
    "These values can be tuned and updated to reflect new developments in better understanding of lignin chemistry. The format of the expected dictionary is shown in the [LigninPolymerizationNotebook.ipynb](LigninPolymerizationNotebook.ipynb).\n",
    "\n",
    "Once the values have been input or imported, the `calc_rates` function uses the Eyring equation to calculate an equivalent dictionary (bond types) of dictionaries (substrate monomer types) of dictionaries (fragment sizes of substrates) of rates.\n",
    "\n",
    "$$ r_i = \\dfrac{k_BT}{h}\\exp\\left(-\\dfrac{\\Delta G_i}{k_BT}\\right) $$"
   ]
  },
  {
   "cell_type": "code",
   "execution_count": 3,
   "metadata": {},
   "outputs": [],
   "source": [
    "# Calculate the rates of reaction in 1/s (or 1/monomer-s if biomolecular) at the specified temp\n",
    "temp = 298.15  # K\n",
    "rxn_rates = calc_rates(temp, ea_kcal_mol_dict=DEF_E_BARRIER_KCAL_MOL)"
   ]
  },
  {
   "cell_type": "markdown",
   "metadata": {},
   "source": [
    "With the rates generated, we initialize the simulation with a set of monomers, and the ratio of S and G units that should be incorporated. "
   ]
  },
  {
   "cell_type": "code",
   "execution_count": 4,
   "metadata": {},
   "outputs": [],
   "source": [
    "# Set the percentage of S\n",
    "sg_ratio = 1\n",
    "pct_s = sg_ratio / (1 + sg_ratio)\n",
    "\n",
    "# Set the initial and maximum number of monomers to be modeled.\n",
    "ini_num_monos = 2\n",
    "max_num_monos = 10\n",
    "\n",
    "# Maximum time to simulate, in seconds\n",
    "t_max = 1  # seconds\n",
    "mono_add_rate = 1e4  # monomers/second\n",
    "\n",
    "# Use a random number and the given sg_ratio to determine the monolignol types to be initially modeled\n",
    "monomer_draw = np.random.rand(ini_num_monos)\n",
    "initial_monomers = create_initial_monomers(pct_s, monomer_draw)\n",
    "\n",
    "# Initially allow only oxidation events. After they are used to determine the initial state, add \n",
    "#     GROW to the events, which allows additional monomers to be added to the reaction at the \n",
    "#     specified rate and with the specified ratio\n",
    "initial_events = create_initial_events(initial_monomers, rxn_rates)\n",
    "initial_state = create_initial_state(initial_events, initial_monomers)\n",
    "initial_events.append(Event(GROW, [], rate=mono_add_rate, bond=sg_ratio))"
   ]
  },
  {
   "cell_type": "markdown",
   "metadata": {},
   "source": [
    "Now lignin creation can be simulated with `run_kmc`. A final time is specified in addition to the maximum number of monomers to model (defined above). The simulation will stop either when the maximum time is reached or no more reactions are possible, whichever happens first. \n",
    "\n",
    "To show the end state, we will print the adjacency matrix that has been generated, although this is not the typical output examined. Each row represents a monomer. If there is a number in a column, the monomer is joined to the monomer index corresponding to the column index, at the atom position specified by that number."
   ]
  },
  {
   "cell_type": "code",
   "execution_count": 5,
   "metadata": {},
   "outputs": [
    {
     "name": "stdout",
     "output_type": "stream",
     "text": [
      "The adjacency matrix for the simulated lignin is:\n",
      "[[0. 5. 0. 0. 0. 0. 0. 0. 0. 0.]\n",
      " [8. 0. 4. 0. 0. 0. 0. 0. 0. 0.]\n",
      " [0. 8. 0. 4. 0. 0. 0. 0. 0. 0.]\n",
      " [0. 0. 8. 0. 0. 0. 0. 4. 0. 0.]\n",
      " [0. 0. 0. 0. 0. 8. 4. 0. 0. 0.]\n",
      " [0. 0. 0. 0. 5. 0. 0. 0. 0. 0.]\n",
      " [0. 0. 0. 0. 8. 0. 0. 0. 5. 0.]\n",
      " [0. 0. 0. 8. 0. 0. 0. 0. 0. 5.]\n",
      " [0. 0. 0. 0. 0. 0. 8. 0. 0. 4.]\n",
      " [0. 0. 0. 0. 0. 0. 0. 4. 8. 0.]]\n"
     ]
    }
   ],
   "source": [
    "result = run_kmc(rxn_rates, initial_state,initial_events, n_max=max_num_monos, t_max=t_max, sg_ratio=sg_ratio)\n",
    "\n",
    "# Convert the sparse matrix to a full array before printing\n",
    "print(\"The adjacency matrix for the simulated lignin is:\")\n",
    "print(result[ADJ_MATRIX].toarray())"
   ]
  },
  {
   "cell_type": "markdown",
   "metadata": {},
   "source": [
    "With our results in place, we go about analyzing them using the \"analyze\" functionality."
   ]
  },
  {
   "cell_type": "code",
   "execution_count": 6,
   "metadata": {},
   "outputs": [
    {
     "name": "stdout",
     "output_type": "stream",
     "text": [
      "Lignin KMC created 10 monomers, which formed:\n",
      "       1 oligomer(s) of chain length 10, with branching coefficient 0.0\n",
      "composed of the following bond types and number:\n",
      "    BO4:    5     BB:    0     B5:    3     B1:    0    5O4:    1    AO4:    0     55:    0\n",
      "\n",
      "Breaking C-O bonds to simulate RCF results in:\n",
      "       4 monomer(s) (chain length 1)\n",
      "       3 dimer(s) (chain length 2)\n",
      "with the following remaining bond types and number:\n",
      "    BO4:    0     BB:    0     B5:    3     B1:    0    5O4:    0    AO4:    0     55:    0\n"
     ]
    }
   ],
   "source": [
    "summary = analyze_adj_matrix(result[ADJ_MATRIX])\n",
    "adj_analysis_to_stdout(summary)"
   ]
  },
  {
   "cell_type": "markdown",
   "metadata": {},
   "source": [
    "While the analysis is nice for the purpose of seeing macroscopic results, we can use the RDKit package to visualize the molecular fragments."
   ]
  },
  {
   "cell_type": "code",
   "execution_count": 7,
   "metadata": {},
   "outputs": [
    {
     "data": {
      "image/png": "[encoded data removed]",
      "text/plain": [
       "<PIL.Image.Image image mode=RGB size=950x300 at 0x11CE27400>"
      ]
     },
     "metadata": {},
     "output_type": "display_data"
    }
   ],
   "source": [
    "nodes = result[MONO_LIST]\n",
    "adj = result[ADJ_MATRIX]\n",
    "block = generate_mol(adj, nodes)\n",
    "mol = MolFromMolBlock(block)\n",
    "Compute2DCoords(mol)\n",
    "display(MolToImage(mol, size=(950, 300)))"
   ]
  },
  {
   "cell_type": "markdown",
   "metadata": {},
   "source": [
    "These results presented above will be dependent on each of the parameters that are chosen. Play around with the values of the parameters to see how the final structure changes. We will now go through a similar example using C-lignin instead of SG-lignin."
   ]
  },
  {
   "cell_type": "markdown",
   "metadata": {},
   "source": [
    "## C Lignin Example\n",
    "\n",
    "The default Gibbs free energy barriers imported above include those for for C lignin. The corresponding reaction rates were calculated above. Thus, we are ready to define the initial state and simulation termination criteria."
   ]
  },
  {
   "cell_type": "code",
   "execution_count": 8,
   "metadata": {},
   "outputs": [
    {
     "name": "stdout",
     "output_type": "stream",
     "text": [
      "Lignin KMC created 10 monomers, which formed:\n",
      "       1 oligomer(s) of chain length 10, with branching coefficient 0.0\n",
      "composed of the following bond types and number:\n",
      "    BO4:    8     BB:    0     B5:    1     B1:    0    5O4:    0    AO4:    0     55:    0\n",
      "\n",
      "Breaking C-O bonds to simulate RCF results in:\n",
      "       8 monomer(s) (chain length 1)\n",
      "       1 dimer(s) (chain length 2)\n",
      "with the following remaining bond types and number:\n",
      "    BO4:    0     BB:    0     B5:    1     B1:    0    5O4:    0    AO4:    0     55:    0\n",
      "\n",
      "The adjacency matrix for the simulated lignin is:\n",
      "[[0. 5. 0. 0. 0. 0. 0. 0. 0. 0.]\n",
      " [8. 0. 4. 0. 0. 0. 0. 0. 0. 0.]\n",
      " [0. 8. 0. 4. 0. 0. 0. 0. 0. 0.]\n",
      " [0. 0. 8. 0. 4. 0. 0. 0. 0. 0.]\n",
      " [0. 0. 0. 8. 0. 4. 0. 0. 0. 0.]\n",
      " [0. 0. 0. 0. 8. 0. 4. 0. 0. 0.]\n",
      " [0. 0. 0. 0. 0. 8. 0. 4. 0. 0.]\n",
      " [0. 0. 0. 0. 0. 0. 8. 0. 4. 0.]\n",
      " [0. 0. 0. 0. 0. 0. 0. 8. 0. 4.]\n",
      " [0. 0. 0. 0. 0. 0. 0. 0. 8. 0.]]\n"
     ]
    }
   ],
   "source": [
    "ini_num_monos = 2\n",
    "max_num_monos = 10\n",
    "\n",
    "t_max = 1  # seconds\n",
    "mono_add_rate = 1e4  # monomers/second\n",
    "\n",
    "initial_monomers = [Monomer(2, i) for i in range(ini_num_monos)]\n",
    "initial_events = [Event(OX, [i], rxn_rates[OX][2][MONOMER]) for i in range(ini_num_monos)]\n",
    "initial_state = create_initial_state(initial_events, initial_monomers)\n",
    "# An sg_ratio is not relevant and can be omitted\n",
    "initial_events.append(Event(GROW, [], rate=mono_add_rate))\n",
    "result = run_kmc(rxn_rates, initial_state, initial_events, n_max=max_num_monos, t_max=t_max)\n",
    "\n",
    "summary = analyze_adj_matrix(result[ADJ_MATRIX])\n",
    "adj_analysis_to_stdout(summary)\n",
    "\n",
    "print(\"\\nThe adjacency matrix for the simulated lignin is:\")\n",
    "print(result[ADJ_MATRIX].toarray())"
   ]
  },
  {
   "cell_type": "code",
   "execution_count": 9,
   "metadata": {},
   "outputs": [
    {
     "data": {
      "image/png": "[encoded data removed]",
      "text/plain": [
       "<PIL.Image.Image image mode=RGB size=950x250 at 0x11CE1BA90>"
      ]
     },
     "metadata": {},
     "output_type": "display_data"
    }
   ],
   "source": [
    "nodes = result[MONO_LIST]\n",
    "adj = result[ADJ_MATRIX]\n",
    "block = generate_mol(adj, nodes)\n",
    "mol = MolFromMolBlock(block)\n",
    "Compute2DCoords(mol)\n",
    "display(MolToImage(mol, size=(950, 250)))"
   ]
  },
  {
   "cell_type": "markdown",
   "metadata": {},
   "source": [
    "As previously noted, this package can be run from the command line. See also the package's [README](https://github.com/michaelorella/lignin-kmc) to see how."
   ]
  }
 ],
 "metadata": {
  "kernelspec": {
   "display_name": "Python 3",
   "language": "python",
   "name": "python3"
  },
  "language_info": {
   "codemirror_mode": {
    "name": "ipython",
    "version": 3
   },
   "file_extension": ".py",
   "mimetype": "text/x-python",
   "name": "python",
   "nbconvert_exporter": "python",
   "pygments_lexer": "ipython3",
   "version": "3.6.6"
  },
  "pycharm": {
   "stem_cell": {
    "cell_type": "raw",
    "metadata": {
     "collapsed": false
    },
    "source": []
   }
  }
 },
 "nbformat": 4,
 "nbformat_minor": 2
}
