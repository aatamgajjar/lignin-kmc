{
 "cells": [
  {
   "cell_type": "markdown",
   "metadata": {},
   "source": [
    "# Kinetic Monte Carlo Simulation of Lignin Polymerization\n",
    "Written by: Michael Orella <br>\n",
    "16 April 2019 <br>\n",
    "\n",
    "The code in this notebook performs calculations that are used in [citation here], which depends on the results that were obtained from [DFT Calculations of monolignol coupling kinetics](https://chemrxiv.org/articles/Quantum_Mechanical_Calculations_Suggest_That_Lignin_Polymerization_Is_Kinetically_Controlled/7334564)."
   ]
  },
  {
   "cell_type": "code",
   "execution_count": 1,
   "metadata": {},
   "outputs": [],
   "source": [
    "%load_ext autoreload\n",
    "%autoreload 2"
   ]
  },
  {
   "cell_type": "code",
   "execution_count": 2,
   "metadata": {},
   "outputs": [],
   "source": [
    "#LIGNIN-KMC Package\n",
    "import ligninkmc as kmc\n",
    "\n",
    "#General Math and LinAlg\n",
    "import numpy as np\n",
    "import scipy as sp\n",
    "import scipy.optimize\n",
    "\n",
    "#Chemical Drawing\n",
    "from rdkit import Chem\n",
    "from rdkit.Chem import AllChem\n",
    "from IPython.display import SVG\n",
    "\n",
    "#Plotting\n",
    "import matplotlib.pyplot as plt\n",
    "\n",
    "#Profiling and Performance\n",
    "import cProfile\n",
    "import time\n",
    "\n",
    "#Parallelization\n",
    "import joblib as par\n",
    "\n",
    "#Serialization\n",
    "import pickle"
   ]
  },
  {
   "cell_type": "markdown",
   "metadata": {},
   "source": [
    "## Input Data\n",
    "The kinetic monte carlo code relies on rates of chemical reactions. The reactions that we are interested in here are the coupling of radicals on either individual monomers or oligomers respectively. The energetics necessary to compute the reaction rates were performed by Terry Gani using [DFT methods](https://chemrxiv.org/articles/Quantum_Mechanical_Calculations_Suggest_That_Lignin_Polymerization_Is_Kinetically_Controlled/7334564) for SG lignin and similar methods for C lignin. Once the reaction energies were calculated, they could be inputted using the Erying equation to obtain the actual rate.\n",
    "$$ r_i = \\dfrac{k_BT}{h}\\exp\\left(-\\dfrac{\\Delta G_i}{k_BT}\\right) $$\n",
    "\n",
    "Throughout the code, monomers are kept track of individually through the state, so there are no reaction degeneracies occuring, and bond events can be tracked faithfully."
   ]
  },
  {
   "cell_type": "code",
   "execution_count": 3,
   "metadata": {},
   "outputs": [],
   "source": [
    "kb = 1.38064852e-23 # J / K\n",
    "h = 6.62607004e-34 # J s\n",
    "temp = 298.15 #K\n",
    "kcalToJoule = 4184 / 6.022140857e23\n",
    "\n",
    "#Input energy information\n",
    "#Select which energy set you want to use\n",
    "energies = {'5o4':{(0,0):{('monomer','monomer'):11.2,('monomer','dimer'):14.6,\n",
    "                          ('dimer','monomer'):14.6,('dimer','dimer'):4.4},\n",
    "                   (1,0):{('monomer','monomer'):10.9,('monomer','dimer'):14.6,\n",
    "                          ('dimer','monomer'):14.6,('dimer','dimer'):4.4}},\n",
    "            '55':{(0,0):{('monomer','monomer'):12.5,('monomer','dimer'):15.6,\n",
    "                          ('dimer','monomer'):15.6,('dimer','dimer'):3.8}},\n",
    "            'b5':{(0,0):{('monomer','monomer'):5.5,('monomer','dimer'):5.8,\n",
    "                          ('dimer','monomer'):5.8,('dimer','dimer'):5.8},\n",
    "                  (0,1):{('monomer','monomer'):5.5,('monomer','dimer'):5.8,\n",
    "                          ('dimer','monomer'):5.8,('dimer','dimer'):5.8}},\n",
    "            'bb':{(0,0):{('monomer','monomer'):5.2,('monomer','dimer'):5.2,('dimer','monomer'):5.2,('dimer','dimer'):5.2},\n",
    "                  (1,0):{('monomer','monomer'):6.5,('monomer','dimer'):6.5,('dimer','monomer'):6.5,('dimer','dimer'):6.5},\n",
    "                  (1,1):{('monomer','monomer'):5.2,('monomer','dimer'):5.2,('dimer','monomer'):5.2,('dimer','dimer'):5.2}},\n",
    "            'bo4':{(0,0):{('monomer','monomer'):6.3,('monomer','dimer'):6.2,\n",
    "                          ('dimer','monomer'):6.2,('dimer','dimer'):6.2},\n",
    "                   (1,0):{('monomer','monomer'):9.1,('monomer','dimer'):6.2,\n",
    "                          ('dimer','monomer'):6.2,('dimer','dimer'):6.2},\n",
    "                   (0,1):{('monomer','monomer'):8.9,('monomer','dimer'):6.2,\n",
    "                          ('dimer','monomer'):6.2,('dimer','dimer'):6.2},\n",
    "                   (1,1):{('monomer','monomer'):9.8,('monomer','dimer'):10.4,\n",
    "                          ('dimer','monomer'):10.4}},\n",
    "            'ao4':{(0,0):{('monomer','monomer'):20.7,('monomer','dimer'):20.7,\n",
    "                          ('dimer','monomer'):20.7,('dimer','dimer'):20.7},\n",
    "                   (1,0):{('monomer','monomer'):20.7,('monomer','dimer'):20.7,\n",
    "                          ('dimer','monomer'):20.7,('dimer','dimer'):20.7},\n",
    "                   (0,1):{('monomer','monomer'):20.7,('monomer','dimer'):20.7,\n",
    "                          ('dimer','monomer'):20.7,('dimer','dimer'):20.7},\n",
    "                   (1,1):{('monomer','monomer'):20.7,('monomer','dimer'):20.7,\n",
    "                          ('dimer','monomer'):20.7,('dimer','dimer'):20.7}},\n",
    "            'b1':{(0,0):{('monomer','dimer'):9.6,\n",
    "                          ('dimer','monomer'):9.6,('dimer','dimer'):9.6},\n",
    "                  (1,0):{('monomer','dimer'):11.7,\n",
    "                          ('dimer','monomer'):11.7,('dimer','dimer'):11.7},\n",
    "                  (0,1):{('monomer','dimer'):10.7,\n",
    "                          ('dimer','monomer'):10.7,('dimer','dimer'):10.7},\n",
    "                  (1,1):{('monomer','dimer'):11.9,\n",
    "                          ('dimer','monomer'):11.9,('dimer','dimer'):11.9}},\n",
    "            'ox':{0:{'monomer':0.9,'dimer':6.3},1:{'monomer':0.6,'dimer':2.2}},\n",
    "            'q':{0:{'monomer':11.1,'dimer':11.1},1:{'monomer':11.7,'dimer':11.7}}}\n",
    "energies['bb'][(0,1)] = energies['bb'][(1,0)]\n",
    "\n",
    "#Correct units of the energies\n",
    "energiesev = {bond : {monType : {size : energies[bond][monType][size] * kcalToJoule for size in energies[bond][monType]}\n",
    "                    for monType in energies[bond] } \n",
    "            for bond in energies }\n",
    "\n",
    "#Calculate the rates of reaction\n",
    "rates = {bond : {monType : { size : kb * temp / h * np.exp ( - energiesev[bond][monType][size] / kb / temp ) \n",
    "                            for size in energies[bond][monType]} \n",
    "                 for monType in energies[bond] } #Make rates 1/ns instead of 1/s\n",
    "         for bond in energies}"
   ]
  },
  {
   "cell_type": "code",
   "execution_count": 4,
   "metadata": {},
   "outputs": [],
   "source": [
    "cLigEnergies = {'5o4':{(2,2):{('monomer','monomer'):11.9,('monomer','dimer'):11.9,\n",
    "                          ('dimer','monomer'):11.9,('dimer','dimer'):11.9}},\n",
    "            '55':{(2,2):{('monomer','monomer'):10.6,('monomer','dimer'):10.6,\n",
    "                          ('dimer','monomer'):10.6,('dimer','dimer'):10.6}},\n",
    "            'b5':{(2,2):{('monomer','monomer'):1.9,('monomer','dimer'):5.8,\n",
    "                          ('dimer','monomer'):5.8,('dimer','dimer'):5.8}},\n",
    "            'bb':{(2,2):{('monomer','monomer'):7.2,('monomer','dimer'):7.2,\n",
    "                         ('dimer','monomer'):7.2,('dimer','dimer'):7.2}},\n",
    "            'bo4':{(2,2):{('monomer','monomer'):4.9,('monomer','dimer'):1.3,\n",
    "                          ('dimer','monomer'):1.3,('dimer','dimer'):1.3}},\n",
    "            'ao4':{(2,2):{('monomer','monomer'):20.7,('monomer','dimer'):20.7,\n",
    "                          ('dimer','monomer'):20.7,('dimer','dimer'):20.7}},\n",
    "            'b1':{(2,2):{('monomer','dimer'):9.6,\n",
    "                          ('dimer','monomer'):9.6,('dimer','dimer'):9.6}},\n",
    "            'ox':{2:{'monomer':0.9,'dimer':0.9}},\n",
    "            'q':{2:{'monomer':11.1,'dimer':11.1}}}\n",
    "\n",
    "#Correct units of the energies\n",
    "cLigEnergiesev = {bond : {monType : {size : cLigEnergies[bond][monType][size] * kcalToJoule for size in cLigEnergies[bond][monType]}\n",
    "                    for monType in cLigEnergies[bond] }\n",
    "            for bond in cLigEnergies }\n",
    "\n",
    "#Calculate the rates of reaction\n",
    "cRates = {bond : {monType : { size : kb * temp / h * np.exp ( - cLigEnergiesev[bond][monType][size] / kb / temp ) \n",
    "                            for size in cLigEnergies[bond][monType] } \n",
    "                 for monType in cLigEnergies[bond] }\n",
    "         for bond in cLigEnergies}"
   ]
  },
  {
   "cell_type": "markdown",
   "metadata": {},
   "source": [
    "## Sensitivity Analyses Examples\n",
    "The meat of the results and discussion for our paper lay in the predictions of how lignin composition should change with different sets of parameters used for lignification. These calculations were performed on desktop hardware over about a week's period, but for the sake of explanation, shorter examples are used here. We investigated the impact of S to G ratio and addition rate primarily."
   ]
  },
  {
   "cell_type": "markdown",
   "metadata": {},
   "source": [
    "### SG Sensitivity\n",
    "The first analysis performed is the dependence of monomer yields and bond contents on SG ratio and addition rate, where we selected multiple SG ratios between 0.1 and 10 and ran the simulations for these scenarios."
   ]
  },
  {
   "cell_type": "code",
   "execution_count": 6,
   "metadata": {},
   "outputs": [
    {
     "name": "stderr",
     "output_type": "stream",
     "text": [
      "[Parallel(n_jobs=16)]: Using backend LokyBackend with 16 concurrent workers.\n",
      "[Parallel(n_jobs=16)]: Done  40 tasks      | elapsed:   15.7s\n",
      "[Parallel(n_jobs=16)]: Done  90 out of 100 | elapsed:   28.7s remaining:    3.1s\n",
      "[Parallel(n_jobs=16)]: Done 100 out of 100 | elapsed:   29.9s finished\n",
      "[Parallel(n_jobs=16)]: Using backend LokyBackend with 16 concurrent workers.\n"
     ]
    },
    {
     "name": "stdout",
     "output_type": "stream",
     "text": [
      "Completed sensitivity iteration: 0.1\n",
      "Finished on 2019-5-9 at 11:18:54\n"
     ]
    },
    {
     "name": "stderr",
     "output_type": "stream",
     "text": [
      "[Parallel(n_jobs=16)]: Done  40 tasks      | elapsed:   12.1s\n",
      "[Parallel(n_jobs=16)]: Done  90 out of 100 | elapsed:   26.3s remaining:    2.8s\n",
      "[Parallel(n_jobs=16)]: Done 100 out of 100 | elapsed:   27.0s finished\n",
      "[Parallel(n_jobs=16)]: Using backend LokyBackend with 16 concurrent workers.\n"
     ]
    },
    {
     "name": "stdout",
     "output_type": "stream",
     "text": [
      "Completed sensitivity iteration: 0.2\n",
      "Finished on 2019-5-9 at 11:19:21\n"
     ]
    },
    {
     "name": "stderr",
     "output_type": "stream",
     "text": [
      "[Parallel(n_jobs=16)]: Done  40 tasks      | elapsed:   11.7s\n",
      "[Parallel(n_jobs=16)]: Done  90 out of 100 | elapsed:   26.0s remaining:    2.8s\n",
      "[Parallel(n_jobs=16)]: Done 100 out of 100 | elapsed:   26.8s finished\n",
      "[Parallel(n_jobs=16)]: Using backend LokyBackend with 16 concurrent workers.\n"
     ]
    },
    {
     "name": "stdout",
     "output_type": "stream",
     "text": [
      "Completed sensitivity iteration: 0.25\n",
      "Finished on 2019-5-9 at 11:19:48\n"
     ]
    },
    {
     "name": "stderr",
     "output_type": "stream",
     "text": [
      "[Parallel(n_jobs=16)]: Done  40 tasks      | elapsed:   12.1s\n",
      "[Parallel(n_jobs=16)]: Done  90 out of 100 | elapsed:   26.3s remaining:    2.8s\n",
      "[Parallel(n_jobs=16)]: Done 100 out of 100 | elapsed:   27.2s finished\n",
      "[Parallel(n_jobs=16)]: Using backend LokyBackend with 16 concurrent workers.\n"
     ]
    },
    {
     "name": "stdout",
     "output_type": "stream",
     "text": [
      "Completed sensitivity iteration: 0.33\n",
      "Finished on 2019-5-9 at 11:20:15\n"
     ]
    },
    {
     "name": "stderr",
     "output_type": "stream",
     "text": [
      "[Parallel(n_jobs=16)]: Done  40 tasks      | elapsed:   12.3s\n",
      "[Parallel(n_jobs=16)]: Done  90 out of 100 | elapsed:   27.7s remaining:    3.0s\n",
      "[Parallel(n_jobs=16)]: Done 100 out of 100 | elapsed:   28.4s finished\n",
      "[Parallel(n_jobs=16)]: Using backend LokyBackend with 16 concurrent workers.\n"
     ]
    },
    {
     "name": "stdout",
     "output_type": "stream",
     "text": [
      "Completed sensitivity iteration: 0.5\n",
      "Finished on 2019-5-9 at 11:20:44\n"
     ]
    },
    {
     "name": "stderr",
     "output_type": "stream",
     "text": [
      "[Parallel(n_jobs=16)]: Done  40 tasks      | elapsed:   13.5s\n",
      "[Parallel(n_jobs=16)]: Done  90 out of 100 | elapsed:   29.0s remaining:    3.1s\n",
      "[Parallel(n_jobs=16)]: Done 100 out of 100 | elapsed:   29.8s finished\n",
      "[Parallel(n_jobs=16)]: Using backend LokyBackend with 16 concurrent workers.\n"
     ]
    },
    {
     "name": "stdout",
     "output_type": "stream",
     "text": [
      "Completed sensitivity iteration: 1\n",
      "Finished on 2019-5-9 at 11:21:14\n"
     ]
    },
    {
     "name": "stderr",
     "output_type": "stream",
     "text": [
      "[Parallel(n_jobs=16)]: Done  40 tasks      | elapsed:   14.4s\n",
      "[Parallel(n_jobs=16)]: Done  90 out of 100 | elapsed:   30.0s remaining:    3.2s\n",
      "[Parallel(n_jobs=16)]: Done 100 out of 100 | elapsed:   32.0s finished\n",
      "[Parallel(n_jobs=16)]: Using backend LokyBackend with 16 concurrent workers.\n"
     ]
    },
    {
     "name": "stdout",
     "output_type": "stream",
     "text": [
      "Completed sensitivity iteration: 2\n",
      "Finished on 2019-5-9 at 11:21:46\n"
     ]
    },
    {
     "name": "stderr",
     "output_type": "stream",
     "text": [
      "[Parallel(n_jobs=16)]: Done  40 tasks      | elapsed:   15.0s\n",
      "[Parallel(n_jobs=16)]: Done  90 out of 100 | elapsed:   33.0s remaining:    3.6s\n",
      "[Parallel(n_jobs=16)]: Done 100 out of 100 | elapsed:   33.9s finished\n",
      "[Parallel(n_jobs=16)]: Using backend LokyBackend with 16 concurrent workers.\n"
     ]
    },
    {
     "name": "stdout",
     "output_type": "stream",
     "text": [
      "Completed sensitivity iteration: 3\n",
      "Finished on 2019-5-9 at 11:22:20\n"
     ]
    },
    {
     "name": "stderr",
     "output_type": "stream",
     "text": [
      "[Parallel(n_jobs=16)]: Done  40 tasks      | elapsed:   16.2s\n",
      "[Parallel(n_jobs=16)]: Done  90 out of 100 | elapsed:   33.4s remaining:    3.6s\n",
      "[Parallel(n_jobs=16)]: Done 100 out of 100 | elapsed:   35.7s finished\n",
      "[Parallel(n_jobs=16)]: Using backend LokyBackend with 16 concurrent workers.\n"
     ]
    },
    {
     "name": "stdout",
     "output_type": "stream",
     "text": [
      "Completed sensitivity iteration: 4\n",
      "Finished on 2019-5-9 at 11:22:56\n"
     ]
    },
    {
     "name": "stderr",
     "output_type": "stream",
     "text": [
      "[Parallel(n_jobs=16)]: Done  40 tasks      | elapsed:   16.5s\n",
      "[Parallel(n_jobs=16)]: Done  90 out of 100 | elapsed:   33.9s remaining:    3.7s\n",
      "[Parallel(n_jobs=16)]: Done 100 out of 100 | elapsed:   36.2s finished\n",
      "[Parallel(n_jobs=16)]: Using backend LokyBackend with 16 concurrent workers.\n"
     ]
    },
    {
     "name": "stdout",
     "output_type": "stream",
     "text": [
      "Completed sensitivity iteration: 5\n",
      "Finished on 2019-5-9 at 11:23:32\n"
     ]
    },
    {
     "name": "stderr",
     "output_type": "stream",
     "text": [
      "[Parallel(n_jobs=16)]: Done  40 tasks      | elapsed:   16.4s\n",
      "[Parallel(n_jobs=16)]: Done  90 out of 100 | elapsed:   36.7s remaining:    4.0s\n",
      "[Parallel(n_jobs=16)]: Done 100 out of 100 | elapsed:   38.2s finished\n"
     ]
    },
    {
     "name": "stdout",
     "output_type": "stream",
     "text": [
      "Completed sensitivity iteration: 10\n",
      "Finished on 2019-5-9 at 11:24:10\n"
     ]
    },
    {
     "name": "stderr",
     "output_type": "stream",
     "text": [
      "[Parallel(n_jobs=16)]: Using backend LokyBackend with 16 concurrent workers.\n",
      "[Parallel(n_jobs=16)]: Done  40 tasks      | elapsed:   11.5s\n",
      "[Parallel(n_jobs=16)]: Done  90 out of 100 | elapsed:   26.3s remaining:    2.8s\n",
      "[Parallel(n_jobs=16)]: Done 100 out of 100 | elapsed:   27.0s finished\n",
      "[Parallel(n_jobs=16)]: Using backend LokyBackend with 16 concurrent workers.\n"
     ]
    },
    {
     "name": "stdout",
     "output_type": "stream",
     "text": [
      "Completed sensitivity iteration: 0.1\n",
      "Finished on 2019-5-9 at 11:25:24\n"
     ]
    },
    {
     "name": "stderr",
     "output_type": "stream",
     "text": [
      "[Parallel(n_jobs=16)]: Done  40 tasks      | elapsed:   11.9s\n",
      "[Parallel(n_jobs=16)]: Done  90 out of 100 | elapsed:   28.2s remaining:    3.0s\n",
      "[Parallel(n_jobs=16)]: Done 100 out of 100 | elapsed:   28.7s finished\n",
      "[Parallel(n_jobs=16)]: Using backend LokyBackend with 16 concurrent workers.\n"
     ]
    },
    {
     "name": "stdout",
     "output_type": "stream",
     "text": [
      "Completed sensitivity iteration: 0.2\n",
      "Finished on 2019-5-9 at 11:25:53\n"
     ]
    },
    {
     "name": "stderr",
     "output_type": "stream",
     "text": [
      "[Parallel(n_jobs=16)]: Done  40 tasks      | elapsed:   11.9s\n",
      "[Parallel(n_jobs=16)]: Done  90 out of 100 | elapsed:   27.1s remaining:    2.9s\n",
      "[Parallel(n_jobs=16)]: Done 100 out of 100 | elapsed:   27.9s finished\n",
      "[Parallel(n_jobs=16)]: Using backend LokyBackend with 16 concurrent workers.\n"
     ]
    },
    {
     "name": "stdout",
     "output_type": "stream",
     "text": [
      "Completed sensitivity iteration: 0.25\n",
      "Finished on 2019-5-9 at 11:26:21\n"
     ]
    },
    {
     "name": "stderr",
     "output_type": "stream",
     "text": [
      "[Parallel(n_jobs=16)]: Done  40 tasks      | elapsed:   14.1s\n",
      "[Parallel(n_jobs=16)]: Done  90 out of 100 | elapsed:   27.7s remaining:    3.0s\n",
      "[Parallel(n_jobs=16)]: Done 100 out of 100 | elapsed:   29.0s finished\n",
      "[Parallel(n_jobs=16)]: Using backend LokyBackend with 16 concurrent workers.\n"
     ]
    },
    {
     "name": "stdout",
     "output_type": "stream",
     "text": [
      "Completed sensitivity iteration: 0.33\n",
      "Finished on 2019-5-9 at 11:26:50\n"
     ]
    },
    {
     "name": "stderr",
     "output_type": "stream",
     "text": [
      "[Parallel(n_jobs=16)]: Done  40 tasks      | elapsed:   14.1s\n",
      "[Parallel(n_jobs=16)]: Done  90 out of 100 | elapsed:   27.3s remaining:    2.9s\n",
      "[Parallel(n_jobs=16)]: Done 100 out of 100 | elapsed:   28.5s finished\n",
      "[Parallel(n_jobs=16)]: Using backend LokyBackend with 16 concurrent workers.\n"
     ]
    },
    {
     "name": "stdout",
     "output_type": "stream",
     "text": [
      "Completed sensitivity iteration: 0.5\n",
      "Finished on 2019-5-9 at 11:27:19\n"
     ]
    },
    {
     "name": "stderr",
     "output_type": "stream",
     "text": [
      "[Parallel(n_jobs=16)]: Done  40 tasks      | elapsed:   12.9s\n",
      "[Parallel(n_jobs=16)]: Done  90 out of 100 | elapsed:   29.1s remaining:    3.1s\n",
      "[Parallel(n_jobs=16)]: Done 100 out of 100 | elapsed:   29.7s finished\n",
      "[Parallel(n_jobs=16)]: Using backend LokyBackend with 16 concurrent workers.\n"
     ]
    },
    {
     "name": "stdout",
     "output_type": "stream",
     "text": [
      "Completed sensitivity iteration: 1\n",
      "Finished on 2019-5-9 at 11:27:48\n"
     ]
    },
    {
     "name": "stderr",
     "output_type": "stream",
     "text": [
      "[Parallel(n_jobs=16)]: Done  40 tasks      | elapsed:   13.6s\n",
      "[Parallel(n_jobs=16)]: Done  90 out of 100 | elapsed:   31.2s remaining:    3.4s\n",
      "[Parallel(n_jobs=16)]: Done 100 out of 100 | elapsed:   32.1s finished\n",
      "[Parallel(n_jobs=16)]: Using backend LokyBackend with 16 concurrent workers.\n"
     ]
    },
    {
     "name": "stdout",
     "output_type": "stream",
     "text": [
      "Completed sensitivity iteration: 2\n",
      "Finished on 2019-5-9 at 11:28:21\n"
     ]
    },
    {
     "name": "stderr",
     "output_type": "stream",
     "text": [
      "[Parallel(n_jobs=16)]: Done  40 tasks      | elapsed:   14.5s\n",
      "[Parallel(n_jobs=16)]: Done  90 out of 100 | elapsed:   33.8s remaining:    3.7s\n",
      "[Parallel(n_jobs=16)]: Done 100 out of 100 | elapsed:   34.6s finished\n",
      "[Parallel(n_jobs=16)]: Using backend LokyBackend with 16 concurrent workers.\n"
     ]
    },
    {
     "name": "stdout",
     "output_type": "stream",
     "text": [
      "Completed sensitivity iteration: 3\n",
      "Finished on 2019-5-9 at 11:28:55\n"
     ]
    },
    {
     "name": "stderr",
     "output_type": "stream",
     "text": [
      "[Parallel(n_jobs=16)]: Done  40 tasks      | elapsed:   15.7s\n",
      "[Parallel(n_jobs=16)]: Done  90 out of 100 | elapsed:  1.5min remaining:   10.2s\n",
      "[Parallel(n_jobs=16)]: Done 100 out of 100 | elapsed:  1.6min finished\n",
      "[Parallel(n_jobs=16)]: Using backend LokyBackend with 16 concurrent workers.\n"
     ]
    },
    {
     "name": "stdout",
     "output_type": "stream",
     "text": [
      "Completed sensitivity iteration: 4\n",
      "Finished on 2019-5-9 at 11:30:30\n"
     ]
    },
    {
     "name": "stderr",
     "output_type": "stream",
     "text": [
      "[Parallel(n_jobs=16)]: Done  40 tasks      | elapsed:   16.3s\n",
      "[Parallel(n_jobs=16)]: Done  90 out of 100 | elapsed:   33.9s remaining:    3.7s\n",
      "[Parallel(n_jobs=16)]: Done 100 out of 100 | elapsed:   36.2s finished\n",
      "[Parallel(n_jobs=16)]: Using backend LokyBackend with 16 concurrent workers.\n"
     ]
    },
    {
     "name": "stdout",
     "output_type": "stream",
     "text": [
      "Completed sensitivity iteration: 5\n",
      "Finished on 2019-5-9 at 11:31:6\n"
     ]
    },
    {
     "name": "stderr",
     "output_type": "stream",
     "text": [
      "[Parallel(n_jobs=16)]: Done  40 tasks      | elapsed:   17.0s\n",
      "[Parallel(n_jobs=16)]: Done  90 out of 100 | elapsed:   38.1s remaining:    4.1s\n",
      "[Parallel(n_jobs=16)]: Done 100 out of 100 | elapsed:   39.1s finished\n"
     ]
    },
    {
     "name": "stdout",
     "output_type": "stream",
     "text": [
      "Completed sensitivity iteration: 10\n",
      "Finished on 2019-5-9 at 11:31:45\n"
     ]
    },
    {
     "name": "stderr",
     "output_type": "stream",
     "text": [
      "[Parallel(n_jobs=16)]: Using backend LokyBackend with 16 concurrent workers.\n",
      "[Parallel(n_jobs=16)]: Done  40 tasks      | elapsed:   11.9s\n",
      "[Parallel(n_jobs=16)]: Done  90 out of 100 | elapsed:   25.5s remaining:    2.7s\n",
      "[Parallel(n_jobs=16)]: Done 100 out of 100 | elapsed:   26.4s finished\n",
      "[Parallel(n_jobs=16)]: Using backend LokyBackend with 16 concurrent workers.\n"
     ]
    },
    {
     "name": "stdout",
     "output_type": "stream",
     "text": [
      "Completed sensitivity iteration: 0.1\n",
      "Finished on 2019-5-9 at 11:32:52\n"
     ]
    },
    {
     "name": "stderr",
     "output_type": "stream",
     "text": [
      "[Parallel(n_jobs=16)]: Done  40 tasks      | elapsed:   12.4s\n",
      "[Parallel(n_jobs=16)]: Done  90 out of 100 | elapsed:   25.5s remaining:    2.7s\n",
      "[Parallel(n_jobs=16)]: Done 100 out of 100 | elapsed:   26.8s finished\n",
      "[Parallel(n_jobs=16)]: Using backend LokyBackend with 16 concurrent workers.\n"
     ]
    },
    {
     "name": "stdout",
     "output_type": "stream",
     "text": [
      "Completed sensitivity iteration: 0.2\n",
      "Finished on 2019-5-9 at 11:33:19\n"
     ]
    },
    {
     "name": "stderr",
     "output_type": "stream",
     "text": [
      "[Parallel(n_jobs=16)]: Done  40 tasks      | elapsed:   12.6s\n",
      "[Parallel(n_jobs=16)]: Done  90 out of 100 | elapsed:   25.9s remaining:    2.8s\n",
      "[Parallel(n_jobs=16)]: Done 100 out of 100 | elapsed:   27.0s finished\n",
      "[Parallel(n_jobs=16)]: Using backend LokyBackend with 16 concurrent workers.\n"
     ]
    },
    {
     "name": "stdout",
     "output_type": "stream",
     "text": [
      "Completed sensitivity iteration: 0.25\n",
      "Finished on 2019-5-9 at 11:33:46\n"
     ]
    },
    {
     "name": "stderr",
     "output_type": "stream",
     "text": [
      "[Parallel(n_jobs=16)]: Done  40 tasks      | elapsed:   12.0s\n",
      "[Parallel(n_jobs=16)]: Done  90 out of 100 | elapsed:   26.2s remaining:    2.8s\n",
      "[Parallel(n_jobs=16)]: Done 100 out of 100 | elapsed:   27.3s finished\n",
      "[Parallel(n_jobs=16)]: Using backend LokyBackend with 16 concurrent workers.\n"
     ]
    },
    {
     "name": "stdout",
     "output_type": "stream",
     "text": [
      "Completed sensitivity iteration: 0.33\n",
      "Finished on 2019-5-9 at 11:34:14\n"
     ]
    },
    {
     "name": "stderr",
     "output_type": "stream",
     "text": [
      "[Parallel(n_jobs=16)]: Done  40 tasks      | elapsed:   13.1s\n",
      "[Parallel(n_jobs=16)]: Done  90 out of 100 | elapsed:   28.1s remaining:    3.0s\n",
      "[Parallel(n_jobs=16)]: Done 100 out of 100 | elapsed:   29.0s finished\n",
      "[Parallel(n_jobs=16)]: Using backend LokyBackend with 16 concurrent workers.\n"
     ]
    },
    {
     "name": "stdout",
     "output_type": "stream",
     "text": [
      "Completed sensitivity iteration: 0.5\n",
      "Finished on 2019-5-9 at 11:34:43\n"
     ]
    },
    {
     "name": "stderr",
     "output_type": "stream",
     "text": [
      "[Parallel(n_jobs=16)]: Done  40 tasks      | elapsed:   14.2s\n",
      "[Parallel(n_jobs=16)]: Done  90 out of 100 | elapsed:   31.2s remaining:    3.4s\n",
      "[Parallel(n_jobs=16)]: Done 100 out of 100 | elapsed:   32.1s finished\n",
      "[Parallel(n_jobs=16)]: Using backend LokyBackend with 16 concurrent workers.\n"
     ]
    },
    {
     "name": "stdout",
     "output_type": "stream",
     "text": [
      "Completed sensitivity iteration: 1\n",
      "Finished on 2019-5-9 at 11:35:15\n"
     ]
    },
    {
     "name": "stderr",
     "output_type": "stream",
     "text": [
      "[Parallel(n_jobs=16)]: Done  40 tasks      | elapsed:   17.0s\n",
      "[Parallel(n_jobs=16)]: Done  90 out of 100 | elapsed:   38.0s remaining:    4.1s\n",
      "[Parallel(n_jobs=16)]: Done 100 out of 100 | elapsed:   39.1s finished\n",
      "[Parallel(n_jobs=16)]: Using backend LokyBackend with 16 concurrent workers.\n"
     ]
    },
    {
     "name": "stdout",
     "output_type": "stream",
     "text": [
      "Completed sensitivity iteration: 2\n",
      "Finished on 2019-5-9 at 11:35:54\n"
     ]
    },
    {
     "name": "stderr",
     "output_type": "stream",
     "text": [
      "[Parallel(n_jobs=16)]: Done  40 tasks      | elapsed:   19.1s\n",
      "[Parallel(n_jobs=16)]: Done  90 out of 100 | elapsed:   43.7s remaining:    4.8s\n",
      "[Parallel(n_jobs=16)]: Done 100 out of 100 | elapsed:   45.5s finished\n",
      "[Parallel(n_jobs=16)]: Using backend LokyBackend with 16 concurrent workers.\n"
     ]
    },
    {
     "name": "stdout",
     "output_type": "stream",
     "text": [
      "Completed sensitivity iteration: 3\n",
      "Finished on 2019-5-9 at 11:36:40\n"
     ]
    },
    {
     "name": "stderr",
     "output_type": "stream",
     "text": [
      "[Parallel(n_jobs=16)]: Done  40 tasks      | elapsed:   20.9s\n",
      "[Parallel(n_jobs=16)]: Done  90 out of 100 | elapsed:   46.7s remaining:    5.1s\n",
      "[Parallel(n_jobs=16)]: Done 100 out of 100 | elapsed:   47.9s finished\n",
      "[Parallel(n_jobs=16)]: Using backend LokyBackend with 16 concurrent workers.\n"
     ]
    },
    {
     "name": "stdout",
     "output_type": "stream",
     "text": [
      "Completed sensitivity iteration: 4\n",
      "Finished on 2019-5-9 at 11:37:28\n"
     ]
    },
    {
     "name": "stderr",
     "output_type": "stream",
     "text": [
      "[Parallel(n_jobs=16)]: Done  40 tasks      | elapsed:   21.6s\n",
      "[Parallel(n_jobs=16)]: Done  90 out of 100 | elapsed:   48.8s remaining:    5.3s\n",
      "[Parallel(n_jobs=16)]: Done 100 out of 100 | elapsed:   50.3s finished\n",
      "[Parallel(n_jobs=16)]: Using backend LokyBackend with 16 concurrent workers.\n"
     ]
    },
    {
     "name": "stdout",
     "output_type": "stream",
     "text": [
      "Completed sensitivity iteration: 5\n",
      "Finished on 2019-5-9 at 11:38:19\n"
     ]
    },
    {
     "name": "stderr",
     "output_type": "stream",
     "text": [
      "[Parallel(n_jobs=16)]: Done  40 tasks      | elapsed:   25.3s\n",
      "[Parallel(n_jobs=16)]: Done  90 out of 100 | elapsed:   56.8s remaining:    6.2s\n",
      "[Parallel(n_jobs=16)]: Done 100 out of 100 | elapsed:   58.3s finished\n"
     ]
    },
    {
     "name": "stdout",
     "output_type": "stream",
     "text": [
      "Completed sensitivity iteration: 10\n",
      "Finished on 2019-5-9 at 11:39:17\n"
     ]
    },
    {
     "name": "stderr",
     "output_type": "stream",
     "text": [
      "[Parallel(n_jobs=16)]: Using backend LokyBackend with 16 concurrent workers.\n",
      "[Parallel(n_jobs=16)]: Done  40 tasks      | elapsed:   12.8s\n",
      "[Parallel(n_jobs=16)]: Done  90 out of 100 | elapsed:   26.5s remaining:    2.9s\n",
      "[Parallel(n_jobs=16)]: Done 100 out of 100 | elapsed:   28.4s finished\n",
      "[Parallel(n_jobs=16)]: Using backend LokyBackend with 16 concurrent workers.\n"
     ]
    },
    {
     "name": "stdout",
     "output_type": "stream",
     "text": [
      "Completed sensitivity iteration: 0.1\n",
      "Finished on 2019-5-9 at 11:40:27\n"
     ]
    },
    {
     "name": "stderr",
     "output_type": "stream",
     "text": [
      "[Parallel(n_jobs=16)]: Done  40 tasks      | elapsed:   12.8s\n",
      "[Parallel(n_jobs=16)]: Done  90 out of 100 | elapsed:   26.9s remaining:    2.9s\n",
      "[Parallel(n_jobs=16)]: Done 100 out of 100 | elapsed:   28.8s finished\n",
      "[Parallel(n_jobs=16)]: Using backend LokyBackend with 16 concurrent workers.\n"
     ]
    },
    {
     "name": "stdout",
     "output_type": "stream",
     "text": [
      "Completed sensitivity iteration: 0.2\n",
      "Finished on 2019-5-9 at 11:40:56\n"
     ]
    },
    {
     "name": "stderr",
     "output_type": "stream",
     "text": [
      "[Parallel(n_jobs=16)]: Done  40 tasks      | elapsed:   12.6s\n",
      "[Parallel(n_jobs=16)]: Done  90 out of 100 | elapsed:   28.2s remaining:    3.0s\n",
      "[Parallel(n_jobs=16)]: Done 100 out of 100 | elapsed:   28.9s finished\n",
      "[Parallel(n_jobs=16)]: Using backend LokyBackend with 16 concurrent workers.\n"
     ]
    },
    {
     "name": "stdout",
     "output_type": "stream",
     "text": [
      "Completed sensitivity iteration: 0.25\n",
      "Finished on 2019-5-9 at 11:41:25\n"
     ]
    },
    {
     "name": "stderr",
     "output_type": "stream",
     "text": [
      "[Parallel(n_jobs=16)]: Done  40 tasks      | elapsed:   13.1s\n",
      "[Parallel(n_jobs=16)]: Done  90 out of 100 | elapsed:   27.3s remaining:    2.9s\n",
      "[Parallel(n_jobs=16)]: Done 100 out of 100 | elapsed:   29.2s finished\n",
      "[Parallel(n_jobs=16)]: Using backend LokyBackend with 16 concurrent workers.\n"
     ]
    },
    {
     "name": "stdout",
     "output_type": "stream",
     "text": [
      "Completed sensitivity iteration: 0.33\n",
      "Finished on 2019-5-9 at 11:41:54\n"
     ]
    },
    {
     "name": "stderr",
     "output_type": "stream",
     "text": [
      "[Parallel(n_jobs=16)]: Done  40 tasks      | elapsed:   12.9s\n",
      "[Parallel(n_jobs=16)]: Done  90 out of 100 | elapsed:   29.4s remaining:    3.2s\n",
      "[Parallel(n_jobs=16)]: Done 100 out of 100 | elapsed:   30.3s finished\n",
      "[Parallel(n_jobs=16)]: Using backend LokyBackend with 16 concurrent workers.\n"
     ]
    },
    {
     "name": "stdout",
     "output_type": "stream",
     "text": [
      "Completed sensitivity iteration: 0.5\n",
      "Finished on 2019-5-9 at 11:42:25\n"
     ]
    },
    {
     "name": "stderr",
     "output_type": "stream",
     "text": [
      "[Parallel(n_jobs=16)]: Done  40 tasks      | elapsed:   15.4s\n",
      "[Parallel(n_jobs=16)]: Done  90 out of 100 | elapsed:   34.4s remaining:    3.7s\n",
      "[Parallel(n_jobs=16)]: Done 100 out of 100 | elapsed:   35.6s finished\n",
      "[Parallel(n_jobs=16)]: Using backend LokyBackend with 16 concurrent workers.\n"
     ]
    },
    {
     "name": "stdout",
     "output_type": "stream",
     "text": [
      "Completed sensitivity iteration: 1\n",
      "Finished on 2019-5-9 at 11:43:1\n"
     ]
    },
    {
     "name": "stderr",
     "output_type": "stream",
     "text": [
      "[Parallel(n_jobs=16)]: Done  40 tasks      | elapsed:   22.9s\n",
      "[Parallel(n_jobs=16)]: Done  90 out of 100 | elapsed:   50.3s remaining:    5.5s\n",
      "[Parallel(n_jobs=16)]: Done 100 out of 100 | elapsed:   53.0s finished\n",
      "[Parallel(n_jobs=16)]: Using backend LokyBackend with 16 concurrent workers.\n"
     ]
    },
    {
     "name": "stdout",
     "output_type": "stream",
     "text": [
      "Completed sensitivity iteration: 2\n",
      "Finished on 2019-5-9 at 11:43:54\n"
     ]
    },
    {
     "name": "stderr",
     "output_type": "stream",
     "text": [
      "[Parallel(n_jobs=16)]: Done  40 tasks      | elapsed:   29.3s\n",
      "[Parallel(n_jobs=16)]: Done  90 out of 100 | elapsed:  1.1min remaining:    7.1s\n",
      "[Parallel(n_jobs=16)]: Done 100 out of 100 | elapsed:  1.1min finished\n",
      "[Parallel(n_jobs=16)]: Using backend LokyBackend with 16 concurrent workers.\n"
     ]
    },
    {
     "name": "stdout",
     "output_type": "stream",
     "text": [
      "Completed sensitivity iteration: 3\n",
      "Finished on 2019-5-9 at 11:45:0\n"
     ]
    },
    {
     "name": "stderr",
     "output_type": "stream",
     "text": [
      "[Parallel(n_jobs=16)]: Done  40 tasks      | elapsed:   32.5s\n",
      "[Parallel(n_jobs=16)]: Done  90 out of 100 | elapsed:  1.2min remaining:    8.1s\n",
      "[Parallel(n_jobs=16)]: Done 100 out of 100 | elapsed:  1.3min finished\n",
      "[Parallel(n_jobs=16)]: Using backend LokyBackend with 16 concurrent workers.\n"
     ]
    },
    {
     "name": "stdout",
     "output_type": "stream",
     "text": [
      "Completed sensitivity iteration: 4\n",
      "Finished on 2019-5-9 at 11:46:17\n"
     ]
    },
    {
     "name": "stderr",
     "output_type": "stream",
     "text": [
      "[Parallel(n_jobs=16)]: Done  40 tasks      | elapsed:   40.6s\n",
      "[Parallel(n_jobs=16)]: Done  90 out of 100 | elapsed:  1.4min remaining:    9.4s\n",
      "[Parallel(n_jobs=16)]: Done 100 out of 100 | elapsed:  1.5min finished\n",
      "[Parallel(n_jobs=16)]: Using backend LokyBackend with 16 concurrent workers.\n"
     ]
    },
    {
     "name": "stdout",
     "output_type": "stream",
     "text": [
      "Completed sensitivity iteration: 5\n",
      "Finished on 2019-5-9 at 11:47:45\n"
     ]
    },
    {
     "name": "stderr",
     "output_type": "stream",
     "text": [
      "[Parallel(n_jobs=16)]: Done  40 tasks      | elapsed:   44.4s\n",
      "[Parallel(n_jobs=16)]: Done  90 out of 100 | elapsed:  1.7min remaining:   11.4s\n",
      "[Parallel(n_jobs=16)]: Done 100 out of 100 | elapsed:  1.7min finished\n"
     ]
    },
    {
     "name": "stdout",
     "output_type": "stream",
     "text": [
      "Completed sensitivity iteration: 10\n",
      "Finished on 2019-5-9 at 11:49:30\n"
     ]
    },
    {
     "name": "stderr",
     "output_type": "stream",
     "text": [
      "[Parallel(n_jobs=16)]: Using backend LokyBackend with 16 concurrent workers.\n",
      "[Parallel(n_jobs=16)]: Done  40 tasks      | elapsed:   16.9s\n",
      "[Parallel(n_jobs=16)]: Done  90 out of 100 | elapsed:   34.4s remaining:    3.7s\n",
      "[Parallel(n_jobs=16)]: Done 100 out of 100 | elapsed:   36.0s finished\n",
      "[Parallel(n_jobs=16)]: Using backend LokyBackend with 16 concurrent workers.\n"
     ]
    },
    {
     "name": "stdout",
     "output_type": "stream",
     "text": [
      "Completed sensitivity iteration: 0.1\n",
      "Finished on 2019-5-9 at 11:50:57\n"
     ]
    },
    {
     "name": "stderr",
     "output_type": "stream",
     "text": [
      "[Parallel(n_jobs=16)]: Done  40 tasks      | elapsed:   15.9s\n",
      "[Parallel(n_jobs=16)]: Done  90 out of 100 | elapsed:   35.5s remaining:    3.9s\n",
      "[Parallel(n_jobs=16)]: Done 100 out of 100 | elapsed:   37.1s finished\n",
      "[Parallel(n_jobs=16)]: Using backend LokyBackend with 16 concurrent workers.\n"
     ]
    },
    {
     "name": "stdout",
     "output_type": "stream",
     "text": [
      "Completed sensitivity iteration: 0.2\n",
      "Finished on 2019-5-9 at 11:51:34\n"
     ]
    },
    {
     "name": "stderr",
     "output_type": "stream",
     "text": [
      "[Parallel(n_jobs=16)]: Done  40 tasks      | elapsed:   35.7s\n",
      "[Parallel(n_jobs=16)]: Done  90 out of 100 | elapsed:   54.1s remaining:    5.9s\n",
      "[Parallel(n_jobs=16)]: Done 100 out of 100 | elapsed:   56.4s finished\n",
      "[Parallel(n_jobs=16)]: Using backend LokyBackend with 16 concurrent workers.\n"
     ]
    },
    {
     "name": "stdout",
     "output_type": "stream",
     "text": [
      "Completed sensitivity iteration: 0.25\n",
      "Finished on 2019-5-9 at 11:52:31\n"
     ]
    },
    {
     "name": "stderr",
     "output_type": "stream",
     "text": [
      "[Parallel(n_jobs=16)]: Done  40 tasks      | elapsed:   17.1s\n",
      "[Parallel(n_jobs=16)]: Done  90 out of 100 | elapsed:   37.7s remaining:    4.1s\n",
      "[Parallel(n_jobs=16)]: Done 100 out of 100 | elapsed:   39.3s finished\n",
      "[Parallel(n_jobs=16)]: Using backend LokyBackend with 16 concurrent workers.\n"
     ]
    },
    {
     "name": "stdout",
     "output_type": "stream",
     "text": [
      "Completed sensitivity iteration: 0.33\n",
      "Finished on 2019-5-9 at 11:53:10\n"
     ]
    },
    {
     "name": "stderr",
     "output_type": "stream",
     "text": [
      "[Parallel(n_jobs=16)]: Done  40 tasks      | elapsed:   17.6s\n",
      "[Parallel(n_jobs=16)]: Done  90 out of 100 | elapsed:   40.1s remaining:    4.4s\n",
      "[Parallel(n_jobs=16)]: Done 100 out of 100 | elapsed:   41.0s finished\n",
      "[Parallel(n_jobs=16)]: Using backend LokyBackend with 16 concurrent workers.\n"
     ]
    },
    {
     "name": "stdout",
     "output_type": "stream",
     "text": [
      "Completed sensitivity iteration: 0.5\n",
      "Finished on 2019-5-9 at 11:53:51\n"
     ]
    },
    {
     "name": "stderr",
     "output_type": "stream",
     "text": [
      "[Parallel(n_jobs=16)]: Done  40 tasks      | elapsed:   21.6s\n",
      "[Parallel(n_jobs=16)]: Done  90 out of 100 | elapsed:   46.0s remaining:    5.0s\n",
      "[Parallel(n_jobs=16)]: Done 100 out of 100 | elapsed:   47.7s finished\n",
      "[Parallel(n_jobs=16)]: Using backend LokyBackend with 16 concurrent workers.\n"
     ]
    },
    {
     "name": "stdout",
     "output_type": "stream",
     "text": [
      "Completed sensitivity iteration: 1\n",
      "Finished on 2019-5-9 at 11:54:39\n"
     ]
    },
    {
     "name": "stderr",
     "output_type": "stream",
     "text": [
      "[Parallel(n_jobs=16)]: Done  40 tasks      | elapsed:   37.9s\n",
      "[Parallel(n_jobs=16)]: Done  90 out of 100 | elapsed:  1.3min remaining:    8.7s\n",
      "[Parallel(n_jobs=16)]: Done 100 out of 100 | elapsed:  1.4min finished\n",
      "[Parallel(n_jobs=16)]: Using backend LokyBackend with 16 concurrent workers.\n"
     ]
    },
    {
     "name": "stdout",
     "output_type": "stream",
     "text": [
      "Completed sensitivity iteration: 2\n",
      "Finished on 2019-5-9 at 11:56:3\n"
     ]
    },
    {
     "name": "stderr",
     "output_type": "stream",
     "text": [
      "[Parallel(n_jobs=16)]: Done  40 tasks      | elapsed:  1.1min\n",
      "[Parallel(n_jobs=16)]: Done  90 out of 100 | elapsed:  2.3min remaining:   15.2s\n",
      "[Parallel(n_jobs=16)]: Done 100 out of 100 | elapsed:  2.4min finished\n",
      "[Parallel(n_jobs=16)]: Using backend LokyBackend with 16 concurrent workers.\n"
     ]
    },
    {
     "name": "stdout",
     "output_type": "stream",
     "text": [
      "Completed sensitivity iteration: 3\n",
      "Finished on 2019-5-9 at 11:58:25\n"
     ]
    },
    {
     "name": "stderr",
     "output_type": "stream",
     "text": [
      "[Parallel(n_jobs=16)]: Done  40 tasks      | elapsed:  1.4min\n",
      "[Parallel(n_jobs=16)]: Done  90 out of 100 | elapsed:  2.8min remaining:   18.6s\n",
      "[Parallel(n_jobs=16)]: Done 100 out of 100 | elapsed:  3.0min finished\n",
      "[Parallel(n_jobs=16)]: Using backend LokyBackend with 16 concurrent workers.\n"
     ]
    },
    {
     "name": "stdout",
     "output_type": "stream",
     "text": [
      "Completed sensitivity iteration: 4\n",
      "Finished on 2019-5-9 at 12:1:22\n"
     ]
    },
    {
     "name": "stderr",
     "output_type": "stream",
     "text": [
      "[Parallel(n_jobs=16)]: Done  40 tasks      | elapsed:  1.3min\n",
      "[Parallel(n_jobs=16)]: Done  90 out of 100 | elapsed:  3.0min remaining:   19.9s\n",
      "[Parallel(n_jobs=16)]: Done 100 out of 100 | elapsed:  3.1min finished\n",
      "[Parallel(n_jobs=16)]: Using backend LokyBackend with 16 concurrent workers.\n"
     ]
    },
    {
     "name": "stdout",
     "output_type": "stream",
     "text": [
      "Completed sensitivity iteration: 5\n",
      "Finished on 2019-5-9 at 12:4:29\n"
     ]
    },
    {
     "name": "stderr",
     "output_type": "stream",
     "text": [
      "[Parallel(n_jobs=16)]: Done  40 tasks      | elapsed:  1.3min\n",
      "[Parallel(n_jobs=16)]: Done  90 out of 100 | elapsed:  3.0min remaining:   20.0s\n",
      "[Parallel(n_jobs=16)]: Done 100 out of 100 | elapsed:  3.1min finished\n"
     ]
    },
    {
     "name": "stdout",
     "output_type": "stream",
     "text": [
      "Completed sensitivity iteration: 10\n",
      "Finished on 2019-5-9 at 12:7:36\n"
     ]
    },
    {
     "name": "stderr",
     "output_type": "stream",
     "text": [
      "[Parallel(n_jobs=16)]: Using backend LokyBackend with 16 concurrent workers.\n",
      "[Parallel(n_jobs=16)]: Done  40 tasks      | elapsed:  1.1min\n",
      "[Parallel(n_jobs=16)]: Done  90 out of 100 | elapsed:  2.2min remaining:   14.5s\n",
      "[Parallel(n_jobs=16)]: Done 100 out of 100 | elapsed:  2.3min finished\n",
      "[Parallel(n_jobs=16)]: Using backend LokyBackend with 16 concurrent workers.\n"
     ]
    },
    {
     "name": "stdout",
     "output_type": "stream",
     "text": [
      "Completed sensitivity iteration: 0.1\n",
      "Finished on 2019-5-9 at 12:10:31\n"
     ]
    },
    {
     "name": "stderr",
     "output_type": "stream",
     "text": [
      "[Parallel(n_jobs=16)]: Done  40 tasks      | elapsed:  1.2min\n",
      "[Parallel(n_jobs=16)]: Done  90 out of 100 | elapsed:  2.6min remaining:   17.0s\n",
      "[Parallel(n_jobs=16)]: Done 100 out of 100 | elapsed:  2.7min finished\n",
      "[Parallel(n_jobs=16)]: Using backend LokyBackend with 16 concurrent workers.\n"
     ]
    },
    {
     "name": "stdout",
     "output_type": "stream",
     "text": [
      "Completed sensitivity iteration: 0.2\n",
      "Finished on 2019-5-9 at 12:13:12\n"
     ]
    },
    {
     "name": "stderr",
     "output_type": "stream",
     "text": [
      "[Parallel(n_jobs=16)]: Done  40 tasks      | elapsed:  1.3min\n",
      "[Parallel(n_jobs=16)]: Done  90 out of 100 | elapsed:  2.7min remaining:   18.0s\n",
      "[Parallel(n_jobs=16)]: Done 100 out of 100 | elapsed:  2.9min finished\n",
      "[Parallel(n_jobs=16)]: Using backend LokyBackend with 16 concurrent workers.\n"
     ]
    },
    {
     "name": "stdout",
     "output_type": "stream",
     "text": [
      "Completed sensitivity iteration: 0.25\n",
      "Finished on 2019-5-9 at 12:16:7\n"
     ]
    },
    {
     "name": "stderr",
     "output_type": "stream",
     "text": [
      "[Parallel(n_jobs=16)]: Done  40 tasks      | elapsed:  1.5min\n",
      "[Parallel(n_jobs=16)]: Done  90 out of 100 | elapsed:  3.2min remaining:   21.0s\n",
      "[Parallel(n_jobs=16)]: Done 100 out of 100 | elapsed:  3.3min finished\n",
      "[Parallel(n_jobs=16)]: Using backend LokyBackend with 16 concurrent workers.\n"
     ]
    },
    {
     "name": "stdout",
     "output_type": "stream",
     "text": [
      "Completed sensitivity iteration: 0.33\n",
      "Finished on 2019-5-9 at 12:19:23\n"
     ]
    },
    {
     "name": "stderr",
     "output_type": "stream",
     "text": [
      "[Parallel(n_jobs=16)]: Done  40 tasks      | elapsed:  2.0min\n",
      "[Parallel(n_jobs=16)]: Done  90 out of 100 | elapsed:  4.1min remaining:   27.2s\n",
      "[Parallel(n_jobs=16)]: Done 100 out of 100 | elapsed:  4.3min finished\n",
      "[Parallel(n_jobs=16)]: Using backend LokyBackend with 16 concurrent workers.\n"
     ]
    },
    {
     "name": "stdout",
     "output_type": "stream",
     "text": [
      "Completed sensitivity iteration: 0.5\n",
      "Finished on 2019-5-9 at 12:23:40\n"
     ]
    },
    {
     "name": "stderr",
     "output_type": "stream",
     "text": [
      "[Parallel(n_jobs=16)]: Done  40 tasks      | elapsed:  3.6min\n",
      "[Parallel(n_jobs=16)]: Done  90 out of 100 | elapsed:  7.2min remaining:   47.6s\n",
      "[Parallel(n_jobs=16)]: Done 100 out of 100 | elapsed:  7.5min finished\n",
      "[Parallel(n_jobs=16)]: Using backend LokyBackend with 16 concurrent workers.\n"
     ]
    },
    {
     "name": "stdout",
     "output_type": "stream",
     "text": [
      "Completed sensitivity iteration: 1\n",
      "Finished on 2019-5-9 at 12:31:12\n"
     ]
    },
    {
     "name": "stderr",
     "output_type": "stream",
     "text": [
      "[Parallel(n_jobs=16)]: Done  40 tasks      | elapsed:  5.4min\n",
      "[Parallel(n_jobs=16)]: Done  90 out of 100 | elapsed: 11.7min remaining:  1.3min\n",
      "[Parallel(n_jobs=16)]: Done 100 out of 100 | elapsed: 12.0min finished\n",
      "[Parallel(n_jobs=16)]: Using backend LokyBackend with 16 concurrent workers.\n"
     ]
    },
    {
     "name": "stdout",
     "output_type": "stream",
     "text": [
      "Completed sensitivity iteration: 2\n",
      "Finished on 2019-5-9 at 12:43:11\n"
     ]
    },
    {
     "name": "stderr",
     "output_type": "stream",
     "text": [
      "[Parallel(n_jobs=16)]: Done  40 tasks      | elapsed:  5.0min\n",
      "[Parallel(n_jobs=16)]: Done  90 out of 100 | elapsed: 11.1min remaining:  1.2min\n",
      "[Parallel(n_jobs=16)]: Done 100 out of 100 | elapsed: 11.5min finished\n",
      "[Parallel(n_jobs=16)]: Using backend LokyBackend with 16 concurrent workers.\n"
     ]
    },
    {
     "name": "stdout",
     "output_type": "stream",
     "text": [
      "Completed sensitivity iteration: 3\n",
      "Finished on 2019-5-9 at 12:54:43\n"
     ]
    },
    {
     "name": "stderr",
     "output_type": "stream",
     "text": [
      "[Parallel(n_jobs=16)]: Done  40 tasks      | elapsed:  4.4min\n",
      "[Parallel(n_jobs=16)]: Done  90 out of 100 | elapsed:  9.7min remaining:  1.1min\n",
      "[Parallel(n_jobs=16)]: Done 100 out of 100 | elapsed: 10.2min finished\n",
      "[Parallel(n_jobs=16)]: Using backend LokyBackend with 16 concurrent workers.\n"
     ]
    },
    {
     "name": "stdout",
     "output_type": "stream",
     "text": [
      "Completed sensitivity iteration: 4\n",
      "Finished on 2019-5-9 at 13:4:53\n"
     ]
    },
    {
     "name": "stderr",
     "output_type": "stream",
     "text": [
      "[Parallel(n_jobs=16)]: Done  40 tasks      | elapsed:  3.9min\n",
      "[Parallel(n_jobs=16)]: Done  90 out of 100 | elapsed:  8.9min remaining:   59.3s\n",
      "[Parallel(n_jobs=16)]: Done 100 out of 100 | elapsed:  9.2min finished\n",
      "[Parallel(n_jobs=16)]: Using backend LokyBackend with 16 concurrent workers.\n"
     ]
    },
    {
     "name": "stdout",
     "output_type": "stream",
     "text": [
      "Completed sensitivity iteration: 5\n",
      "Finished on 2019-5-9 at 13:14:7\n"
     ]
    },
    {
     "name": "stderr",
     "output_type": "stream",
     "text": [
      "[Parallel(n_jobs=16)]: Done  40 tasks      | elapsed:  2.9min\n",
      "[Parallel(n_jobs=16)]: Done  90 out of 100 | elapsed:  6.5min remaining:   43.5s\n",
      "[Parallel(n_jobs=16)]: Done 100 out of 100 | elapsed:  6.8min finished\n"
     ]
    },
    {
     "name": "stdout",
     "output_type": "stream",
     "text": [
      "Completed sensitivity iteration: 10\n",
      "Finished on 2019-5-9 at 13:20:55\n"
     ]
    },
    {
     "name": "stderr",
     "output_type": "stream",
     "text": [
      "[Parallel(n_jobs=16)]: Using backend LokyBackend with 16 concurrent workers.\n",
      "[Parallel(n_jobs=16)]: Done  40 tasks      | elapsed:  2.1min\n",
      "[Parallel(n_jobs=16)]: Done  90 out of 100 | elapsed:  4.6min remaining:   30.5s\n",
      "[Parallel(n_jobs=16)]: Done 100 out of 100 | elapsed:  4.8min finished\n",
      "[Parallel(n_jobs=16)]: Using backend LokyBackend with 16 concurrent workers.\n"
     ]
    },
    {
     "name": "stdout",
     "output_type": "stream",
     "text": [
      "Completed sensitivity iteration: 0.1\n",
      "Finished on 2019-5-9 at 13:26:24\n"
     ]
    },
    {
     "name": "stderr",
     "output_type": "stream",
     "text": [
      "[Parallel(n_jobs=16)]: Done  40 tasks      | elapsed:  2.6min\n",
      "[Parallel(n_jobs=16)]: Done  90 out of 100 | elapsed:  5.5min remaining:   36.7s\n",
      "[Parallel(n_jobs=16)]: Done 100 out of 100 | elapsed:  5.7min finished\n",
      "[Parallel(n_jobs=16)]: Using backend LokyBackend with 16 concurrent workers.\n"
     ]
    },
    {
     "name": "stdout",
     "output_type": "stream",
     "text": [
      "Completed sensitivity iteration: 0.2\n",
      "Finished on 2019-5-9 at 13:32:8\n"
     ]
    },
    {
     "name": "stderr",
     "output_type": "stream",
     "text": [
      "[Parallel(n_jobs=16)]: Done  40 tasks      | elapsed:  2.8min\n",
      "[Parallel(n_jobs=16)]: Done  90 out of 100 | elapsed:  6.0min remaining:   40.2s\n",
      "[Parallel(n_jobs=16)]: Done 100 out of 100 | elapsed:  6.3min finished\n",
      "[Parallel(n_jobs=16)]: Using backend LokyBackend with 16 concurrent workers.\n"
     ]
    },
    {
     "name": "stdout",
     "output_type": "stream",
     "text": [
      "Completed sensitivity iteration: 0.25\n",
      "Finished on 2019-5-9 at 13:38:28\n"
     ]
    },
    {
     "name": "stderr",
     "output_type": "stream",
     "text": [
      "[Parallel(n_jobs=16)]: Done  40 tasks      | elapsed:  3.2min\n",
      "[Parallel(n_jobs=16)]: Done  90 out of 100 | elapsed:  6.8min remaining:   45.4s\n",
      "[Parallel(n_jobs=16)]: Done 100 out of 100 | elapsed:  7.1min finished\n",
      "[Parallel(n_jobs=16)]: Using backend LokyBackend with 16 concurrent workers.\n"
     ]
    },
    {
     "name": "stdout",
     "output_type": "stream",
     "text": [
      "Completed sensitivity iteration: 0.33\n",
      "Finished on 2019-5-9 at 13:45:33\n"
     ]
    },
    {
     "name": "stderr",
     "output_type": "stream",
     "text": [
      "[Parallel(n_jobs=16)]: Done  40 tasks      | elapsed:  4.0min\n",
      "[Parallel(n_jobs=16)]: Done  90 out of 100 | elapsed:  8.6min remaining:   57.4s\n",
      "[Parallel(n_jobs=16)]: Done 100 out of 100 | elapsed:  8.9min finished\n",
      "[Parallel(n_jobs=16)]: Using backend LokyBackend with 16 concurrent workers.\n"
     ]
    },
    {
     "name": "stdout",
     "output_type": "stream",
     "text": [
      "Completed sensitivity iteration: 0.5\n",
      "Finished on 2019-5-9 at 13:54:30\n"
     ]
    },
    {
     "name": "stderr",
     "output_type": "stream",
     "text": [
      "[Parallel(n_jobs=16)]: Done  40 tasks      | elapsed:  7.1min\n",
      "[Parallel(n_jobs=16)]: Done  90 out of 100 | elapsed: 15.9min remaining:  1.8min\n",
      "[Parallel(n_jobs=16)]: Done 100 out of 100 | elapsed: 16.4min finished\n",
      "[Parallel(n_jobs=16)]: Using backend LokyBackend with 16 concurrent workers.\n"
     ]
    },
    {
     "name": "stdout",
     "output_type": "stream",
     "text": [
      "Completed sensitivity iteration: 1\n",
      "Finished on 2019-5-9 at 14:10:56\n"
     ]
    },
    {
     "name": "stderr",
     "output_type": "stream",
     "text": [
      "[Parallel(n_jobs=16)]: Done  40 tasks      | elapsed:  8.3min\n",
      "[Parallel(n_jobs=16)]: Done  90 out of 100 | elapsed: 18.5min remaining:  2.1min\n",
      "[Parallel(n_jobs=16)]: Done 100 out of 100 | elapsed: 18.8min finished\n",
      "[Parallel(n_jobs=16)]: Using backend LokyBackend with 16 concurrent workers.\n"
     ]
    },
    {
     "name": "stdout",
     "output_type": "stream",
     "text": [
      "Completed sensitivity iteration: 2\n",
      "Finished on 2019-5-9 at 14:29:45\n"
     ]
    },
    {
     "name": "stderr",
     "output_type": "stream",
     "text": [
      "[Parallel(n_jobs=16)]: Done  40 tasks      | elapsed:  6.9min\n",
      "[Parallel(n_jobs=16)]: Done  90 out of 100 | elapsed: 15.5min remaining:  1.7min\n",
      "[Parallel(n_jobs=16)]: Done 100 out of 100 | elapsed: 16.0min finished\n",
      "[Parallel(n_jobs=16)]: Using backend LokyBackend with 16 concurrent workers.\n"
     ]
    },
    {
     "name": "stdout",
     "output_type": "stream",
     "text": [
      "Completed sensitivity iteration: 3\n",
      "Finished on 2019-5-9 at 14:45:47\n"
     ]
    },
    {
     "name": "stderr",
     "output_type": "stream",
     "text": [
      "[Parallel(n_jobs=16)]: Done  40 tasks      | elapsed:  6.3min\n",
      "[Parallel(n_jobs=16)]: Done  90 out of 100 | elapsed: 12.9min remaining:  1.4min\n",
      "[Parallel(n_jobs=16)]: Done 100 out of 100 | elapsed: 13.7min finished\n",
      "[Parallel(n_jobs=16)]: Using backend LokyBackend with 16 concurrent workers.\n"
     ]
    },
    {
     "name": "stdout",
     "output_type": "stream",
     "text": [
      "Completed sensitivity iteration: 4\n",
      "Finished on 2019-5-9 at 14:59:32\n"
     ]
    },
    {
     "name": "stderr",
     "output_type": "stream",
     "text": [
      "[Parallel(n_jobs=16)]: Done  40 tasks      | elapsed:  5.4min\n",
      "[Parallel(n_jobs=16)]: Done  90 out of 100 | elapsed: 11.7min remaining:  1.3min\n",
      "[Parallel(n_jobs=16)]: Done 100 out of 100 | elapsed: 12.0min finished\n",
      "[Parallel(n_jobs=16)]: Using backend LokyBackend with 16 concurrent workers.\n"
     ]
    },
    {
     "name": "stdout",
     "output_type": "stream",
     "text": [
      "Completed sensitivity iteration: 5\n",
      "Finished on 2019-5-9 at 15:11:31\n"
     ]
    },
    {
     "name": "stderr",
     "output_type": "stream",
     "text": [
      "[Parallel(n_jobs=16)]: Done  40 tasks      | elapsed:  3.5min\n",
      "[Parallel(n_jobs=16)]: Done  90 out of 100 | elapsed:  7.9min remaining:   52.9s\n",
      "[Parallel(n_jobs=16)]: Done 100 out of 100 | elapsed:  8.2min finished\n"
     ]
    },
    {
     "name": "stdout",
     "output_type": "stream",
     "text": [
      "Completed sensitivity iteration: 10\n",
      "Finished on 2019-5-9 at 15:19:46\n"
     ]
    },
    {
     "name": "stderr",
     "output_type": "stream",
     "text": [
      "[Parallel(n_jobs=16)]: Using backend LokyBackend with 16 concurrent workers.\n",
      "[Parallel(n_jobs=16)]: Done  40 tasks      | elapsed:  2.8min\n",
      "[Parallel(n_jobs=16)]: Done  90 out of 100 | elapsed:  6.0min remaining:   39.9s\n",
      "[Parallel(n_jobs=16)]: Done 100 out of 100 | elapsed:  6.2min finished\n",
      "[Parallel(n_jobs=16)]: Using backend LokyBackend with 16 concurrent workers.\n"
     ]
    },
    {
     "name": "stdout",
     "output_type": "stream",
     "text": [
      "Completed sensitivity iteration: 0.1\n",
      "Finished on 2019-5-9 at 15:27:29\n"
     ]
    },
    {
     "name": "stderr",
     "output_type": "stream",
     "text": [
      "[Parallel(n_jobs=16)]: Done  40 tasks      | elapsed:  3.2min\n",
      "[Parallel(n_jobs=16)]: Done  90 out of 100 | elapsed:  6.5min remaining:   43.5s\n",
      "[Parallel(n_jobs=16)]: Done 100 out of 100 | elapsed:  7.0min finished\n",
      "[Parallel(n_jobs=16)]: Using backend LokyBackend with 16 concurrent workers.\n"
     ]
    },
    {
     "name": "stdout",
     "output_type": "stream",
     "text": [
      "Completed sensitivity iteration: 0.2\n",
      "Finished on 2019-5-9 at 15:34:26\n"
     ]
    },
    {
     "name": "stderr",
     "output_type": "stream",
     "text": [
      "[Parallel(n_jobs=16)]: Done  40 tasks      | elapsed:  3.5min\n",
      "[Parallel(n_jobs=16)]: Done  90 out of 100 | elapsed:  7.3min remaining:   48.4s\n",
      "[Parallel(n_jobs=16)]: Done 100 out of 100 | elapsed:  7.5min finished\n",
      "[Parallel(n_jobs=16)]: Using backend LokyBackend with 16 concurrent workers.\n"
     ]
    },
    {
     "name": "stdout",
     "output_type": "stream",
     "text": [
      "Completed sensitivity iteration: 0.25\n",
      "Finished on 2019-5-9 at 15:41:57\n"
     ]
    },
    {
     "name": "stderr",
     "output_type": "stream",
     "text": [
      "[Parallel(n_jobs=16)]: Done  40 tasks      | elapsed:  3.7min\n",
      "[Parallel(n_jobs=16)]: Done  90 out of 100 | elapsed:  8.2min remaining:   54.3s\n",
      "[Parallel(n_jobs=16)]: Done 100 out of 100 | elapsed:  8.4min finished\n",
      "[Parallel(n_jobs=16)]: Using backend LokyBackend with 16 concurrent workers.\n"
     ]
    },
    {
     "name": "stdout",
     "output_type": "stream",
     "text": [
      "Completed sensitivity iteration: 0.33\n",
      "Finished on 2019-5-9 at 15:50:23\n"
     ]
    },
    {
     "name": "stderr",
     "output_type": "stream",
     "text": [
      "[Parallel(n_jobs=16)]: Done  40 tasks      | elapsed:  4.8min\n",
      "[Parallel(n_jobs=16)]: Done  90 out of 100 | elapsed:  9.9min remaining:  1.1min\n",
      "[Parallel(n_jobs=16)]: Done 100 out of 100 | elapsed: 10.6min finished\n",
      "[Parallel(n_jobs=16)]: Using backend LokyBackend with 16 concurrent workers.\n"
     ]
    },
    {
     "name": "stdout",
     "output_type": "stream",
     "text": [
      "Completed sensitivity iteration: 0.5\n",
      "Finished on 2019-5-9 at 16:0:57\n"
     ]
    },
    {
     "name": "stderr",
     "output_type": "stream",
     "text": [
      "[Parallel(n_jobs=16)]: Done  40 tasks      | elapsed:  7.1min\n",
      "[Parallel(n_jobs=16)]: Done  90 out of 100 | elapsed: 15.1min remaining:  1.7min\n",
      "[Parallel(n_jobs=16)]: Done 100 out of 100 | elapsed: 15.9min finished\n",
      "[Parallel(n_jobs=16)]: Using backend LokyBackend with 16 concurrent workers.\n"
     ]
    },
    {
     "name": "stdout",
     "output_type": "stream",
     "text": [
      "Completed sensitivity iteration: 1\n",
      "Finished on 2019-5-9 at 16:16:51\n"
     ]
    },
    {
     "name": "stderr",
     "output_type": "stream",
     "text": [
      "[Parallel(n_jobs=16)]: Done  40 tasks      | elapsed:  7.8min\n",
      "[Parallel(n_jobs=16)]: Done  90 out of 100 | elapsed: 17.8min remaining:  2.0min\n",
      "[Parallel(n_jobs=16)]: Done 100 out of 100 | elapsed: 18.2min finished\n",
      "[Parallel(n_jobs=16)]: Using backend LokyBackend with 16 concurrent workers.\n"
     ]
    },
    {
     "name": "stdout",
     "output_type": "stream",
     "text": [
      "Completed sensitivity iteration: 2\n",
      "Finished on 2019-5-9 at 16:35:5\n"
     ]
    },
    {
     "name": "stderr",
     "output_type": "stream",
     "text": [
      "[Parallel(n_jobs=16)]: Done  40 tasks      | elapsed:  7.2min\n",
      "[Parallel(n_jobs=16)]: Done  90 out of 100 | elapsed: 16.2min remaining:  1.8min\n",
      "[Parallel(n_jobs=16)]: Done 100 out of 100 | elapsed: 16.6min finished\n",
      "[Parallel(n_jobs=16)]: Using backend LokyBackend with 16 concurrent workers.\n"
     ]
    },
    {
     "name": "stdout",
     "output_type": "stream",
     "text": [
      "Completed sensitivity iteration: 3\n",
      "Finished on 2019-5-9 at 16:51:38\n"
     ]
    },
    {
     "name": "stderr",
     "output_type": "stream",
     "text": [
      "[Parallel(n_jobs=16)]: Done  40 tasks      | elapsed:  6.5min\n",
      "[Parallel(n_jobs=16)]: Done  90 out of 100 | elapsed: 14.7min remaining:  1.6min\n",
      "[Parallel(n_jobs=16)]: Done 100 out of 100 | elapsed: 15.0min finished\n",
      "[Parallel(n_jobs=16)]: Using backend LokyBackend with 16 concurrent workers.\n"
     ]
    },
    {
     "name": "stdout",
     "output_type": "stream",
     "text": [
      "Completed sensitivity iteration: 4\n",
      "Finished on 2019-5-9 at 17:6:38\n"
     ]
    },
    {
     "name": "stderr",
     "output_type": "stream",
     "text": [
      "[Parallel(n_jobs=16)]: Done  40 tasks      | elapsed:  6.1min\n",
      "[Parallel(n_jobs=16)]: Done  90 out of 100 | elapsed: 13.5min remaining:  1.5min\n",
      "[Parallel(n_jobs=16)]: Done 100 out of 100 | elapsed: 13.7min finished\n",
      "[Parallel(n_jobs=16)]: Using backend LokyBackend with 16 concurrent workers.\n"
     ]
    },
    {
     "name": "stdout",
     "output_type": "stream",
     "text": [
      "Completed sensitivity iteration: 5\n",
      "Finished on 2019-5-9 at 17:20:20\n"
     ]
    },
    {
     "name": "stderr",
     "output_type": "stream",
     "text": [
      "[Parallel(n_jobs=16)]: Done  40 tasks      | elapsed:  4.7min\n",
      "[Parallel(n_jobs=16)]: Done  90 out of 100 | elapsed: 10.5min remaining:  1.2min\n",
      "[Parallel(n_jobs=16)]: Done 100 out of 100 | elapsed: 10.8min finished\n"
     ]
    },
    {
     "name": "stdout",
     "output_type": "stream",
     "text": [
      "Completed sensitivity iteration: 10\n",
      "Finished on 2019-5-9 at 17:31:9\n"
     ]
    },
    {
     "name": "stderr",
     "output_type": "stream",
     "text": [
      "[Parallel(n_jobs=16)]: Using backend LokyBackend with 16 concurrent workers.\n",
      "[Parallel(n_jobs=16)]: Done  40 tasks      | elapsed:  5.6min\n",
      "[Parallel(n_jobs=16)]: Done  90 out of 100 | elapsed: 12.6min remaining:  1.4min\n",
      "[Parallel(n_jobs=16)]: Done 100 out of 100 | elapsed: 13.0min finished\n",
      "[Parallel(n_jobs=16)]: Using backend LokyBackend with 16 concurrent workers.\n"
     ]
    },
    {
     "name": "stdout",
     "output_type": "stream",
     "text": [
      "Completed sensitivity iteration: 0.1\n",
      "Finished on 2019-5-9 at 17:44:49\n"
     ]
    },
    {
     "name": "stderr",
     "output_type": "stream",
     "text": [
      "[Parallel(n_jobs=16)]: Done  40 tasks      | elapsed:  6.2min\n",
      "[Parallel(n_jobs=16)]: Done  90 out of 100 | elapsed: 13.6min remaining:  1.5min\n",
      "[Parallel(n_jobs=16)]: Done 100 out of 100 | elapsed: 14.0min finished\n",
      "[Parallel(n_jobs=16)]: Using backend LokyBackend with 16 concurrent workers.\n"
     ]
    },
    {
     "name": "stdout",
     "output_type": "stream",
     "text": [
      "Completed sensitivity iteration: 0.2\n",
      "Finished on 2019-5-9 at 17:58:48\n"
     ]
    },
    {
     "name": "stderr",
     "output_type": "stream",
     "text": [
      "[Parallel(n_jobs=16)]: Done  40 tasks      | elapsed:  6.3min\n",
      "[Parallel(n_jobs=16)]: Done  90 out of 100 | elapsed: 13.9min remaining:  1.5min\n",
      "[Parallel(n_jobs=16)]: Done 100 out of 100 | elapsed: 14.6min finished\n",
      "[Parallel(n_jobs=16)]: Using backend LokyBackend with 16 concurrent workers.\n"
     ]
    },
    {
     "name": "stdout",
     "output_type": "stream",
     "text": [
      "Completed sensitivity iteration: 0.25\n",
      "Finished on 2019-5-9 at 18:13:24\n"
     ]
    },
    {
     "name": "stderr",
     "output_type": "stream",
     "text": [
      "[Parallel(n_jobs=16)]: Done  40 tasks      | elapsed:  6.7min\n",
      "[Parallel(n_jobs=16)]: Done  90 out of 100 | elapsed: 14.4min remaining:  1.6min\n",
      "[Parallel(n_jobs=16)]: Done 100 out of 100 | elapsed: 15.2min finished\n",
      "[Parallel(n_jobs=16)]: Using backend LokyBackend with 16 concurrent workers.\n"
     ]
    },
    {
     "name": "stdout",
     "output_type": "stream",
     "text": [
      "Completed sensitivity iteration: 0.33\n",
      "Finished on 2019-5-9 at 18:28:37\n"
     ]
    },
    {
     "name": "stderr",
     "output_type": "stream",
     "text": [
      "[Parallel(n_jobs=16)]: Done  40 tasks      | elapsed:  7.4min\n",
      "[Parallel(n_jobs=16)]: Done  90 out of 100 | elapsed: 16.2min remaining:  1.8min\n",
      "[Parallel(n_jobs=16)]: Done 100 out of 100 | elapsed: 16.7min finished\n",
      "[Parallel(n_jobs=16)]: Using backend LokyBackend with 16 concurrent workers.\n"
     ]
    },
    {
     "name": "stdout",
     "output_type": "stream",
     "text": [
      "Completed sensitivity iteration: 0.5\n",
      "Finished on 2019-5-9 at 18:45:19\n"
     ]
    },
    {
     "name": "stderr",
     "output_type": "stream",
     "text": [
      "[Parallel(n_jobs=16)]: Done  40 tasks      | elapsed:  8.6min\n",
      "[Parallel(n_jobs=16)]: Done  90 out of 100 | elapsed: 18.4min remaining:  2.0min\n",
      "[Parallel(n_jobs=16)]: Done 100 out of 100 | elapsed: 19.8min finished\n",
      "[Parallel(n_jobs=16)]: Using backend LokyBackend with 16 concurrent workers.\n"
     ]
    },
    {
     "name": "stdout",
     "output_type": "stream",
     "text": [
      "Completed sensitivity iteration: 1\n",
      "Finished on 2019-5-9 at 19:5:9\n"
     ]
    },
    {
     "name": "stderr",
     "output_type": "stream",
     "text": [
      "[Parallel(n_jobs=16)]: Done  40 tasks      | elapsed:  9.3min\n",
      "[Parallel(n_jobs=16)]: Done  90 out of 100 | elapsed: 21.2min remaining:  2.4min\n",
      "[Parallel(n_jobs=16)]: Done 100 out of 100 | elapsed: 21.8min finished\n",
      "[Parallel(n_jobs=16)]: Using backend LokyBackend with 16 concurrent workers.\n"
     ]
    },
    {
     "name": "stdout",
     "output_type": "stream",
     "text": [
      "Completed sensitivity iteration: 2\n",
      "Finished on 2019-5-9 at 19:26:59\n"
     ]
    },
    {
     "name": "stderr",
     "output_type": "stream",
     "text": [
      "[Parallel(n_jobs=16)]: Done  40 tasks      | elapsed:  9.3min\n",
      "[Parallel(n_jobs=16)]: Done  90 out of 100 | elapsed: 21.3min remaining:  2.4min\n",
      "[Parallel(n_jobs=16)]: Done 100 out of 100 | elapsed: 21.7min finished\n",
      "[Parallel(n_jobs=16)]: Using backend LokyBackend with 16 concurrent workers.\n"
     ]
    },
    {
     "name": "stdout",
     "output_type": "stream",
     "text": [
      "Completed sensitivity iteration: 3\n",
      "Finished on 2019-5-9 at 19:48:43\n"
     ]
    },
    {
     "name": "stderr",
     "output_type": "stream",
     "text": [
      "[Parallel(n_jobs=16)]: Done  40 tasks      | elapsed:  9.2min\n",
      "[Parallel(n_jobs=16)]: Done  90 out of 100 | elapsed: 21.4min remaining:  2.4min\n",
      "[Parallel(n_jobs=16)]: Done 100 out of 100 | elapsed: 21.8min finished\n",
      "[Parallel(n_jobs=16)]: Using backend LokyBackend with 16 concurrent workers.\n"
     ]
    },
    {
     "name": "stdout",
     "output_type": "stream",
     "text": [
      "Completed sensitivity iteration: 4\n",
      "Finished on 2019-5-9 at 20:10:29\n"
     ]
    },
    {
     "name": "stderr",
     "output_type": "stream",
     "text": [
      "[Parallel(n_jobs=16)]: Done  40 tasks      | elapsed:  9.5min\n",
      "[Parallel(n_jobs=16)]: Done  90 out of 100 | elapsed: 19.9min remaining:  2.2min\n",
      "[Parallel(n_jobs=16)]: Done 100 out of 100 | elapsed: 21.4min finished\n",
      "[Parallel(n_jobs=16)]: Using backend LokyBackend with 16 concurrent workers.\n"
     ]
    },
    {
     "name": "stdout",
     "output_type": "stream",
     "text": [
      "Completed sensitivity iteration: 5\n",
      "Finished on 2019-5-9 at 20:31:54\n"
     ]
    },
    {
     "name": "stderr",
     "output_type": "stream",
     "text": [
      "[Parallel(n_jobs=16)]: Done  40 tasks      | elapsed:  8.5min\n",
      "[Parallel(n_jobs=16)]: Done  90 out of 100 | elapsed: 19.3min remaining:  2.1min\n",
      "[Parallel(n_jobs=16)]: Done 100 out of 100 | elapsed: 19.7min finished\n"
     ]
    },
    {
     "name": "stdout",
     "output_type": "stream",
     "text": [
      "Completed sensitivity iteration: 10\n",
      "Finished on 2019-5-9 at 20:51:39\n"
     ]
    },
    {
     "name": "stderr",
     "output_type": "stream",
     "text": [
      "[Parallel(n_jobs=16)]: Using backend LokyBackend with 16 concurrent workers.\n",
      "[Parallel(n_jobs=16)]: Done  40 tasks      | elapsed: 19.2min\n",
      "[Parallel(n_jobs=16)]: Done  90 out of 100 | elapsed: 39.3min remaining:  4.4min\n",
      "[Parallel(n_jobs=16)]: Done 100 out of 100 | elapsed: 40.8min finished\n",
      "[Parallel(n_jobs=16)]: Using backend LokyBackend with 16 concurrent workers.\n"
     ]
    },
    {
     "name": "stdout",
     "output_type": "stream",
     "text": [
      "Completed sensitivity iteration: 0.1\n",
      "Finished on 2019-5-9 at 21:33:9\n"
     ]
    },
    {
     "name": "stderr",
     "output_type": "stream",
     "text": [
      "[Parallel(n_jobs=16)]: Done  40 tasks      | elapsed: 20.4min\n",
      "[Parallel(n_jobs=16)]: Done  90 out of 100 | elapsed: 41.3min remaining:  4.6min\n",
      "[Parallel(n_jobs=16)]: Done 100 out of 100 | elapsed: 43.1min finished\n",
      "[Parallel(n_jobs=16)]: Using backend LokyBackend with 16 concurrent workers.\n"
     ]
    },
    {
     "name": "stdout",
     "output_type": "stream",
     "text": [
      "Completed sensitivity iteration: 0.2\n",
      "Finished on 2019-5-9 at 22:16:16\n"
     ]
    },
    {
     "name": "stderr",
     "output_type": "stream",
     "text": [
      "[Parallel(n_jobs=16)]: Done  40 tasks      | elapsed: 18.9min\n",
      "[Parallel(n_jobs=16)]: Done  90 out of 100 | elapsed: 41.9min remaining:  4.7min\n",
      "[Parallel(n_jobs=16)]: Done 100 out of 100 | elapsed: 44.1min finished\n",
      "[Parallel(n_jobs=16)]: Using backend LokyBackend with 16 concurrent workers.\n"
     ]
    },
    {
     "name": "stdout",
     "output_type": "stream",
     "text": [
      "Completed sensitivity iteration: 0.25\n",
      "Finished on 2019-5-9 at 23:0:20\n"
     ]
    },
    {
     "name": "stderr",
     "output_type": "stream",
     "text": [
      "[Parallel(n_jobs=16)]: Done  40 tasks      | elapsed: 19.3min\n",
      "[Parallel(n_jobs=16)]: Done  90 out of 100 | elapsed: 42.8min remaining:  4.8min\n",
      "[Parallel(n_jobs=16)]: Done 100 out of 100 | elapsed: 44.8min finished\n",
      "[Parallel(n_jobs=16)]: Using backend LokyBackend with 16 concurrent workers.\n"
     ]
    },
    {
     "name": "stdout",
     "output_type": "stream",
     "text": [
      "Completed sensitivity iteration: 0.33\n",
      "Finished on 2019-5-9 at 23:45:8\n"
     ]
    },
    {
     "name": "stderr",
     "output_type": "stream",
     "text": [
      "[Parallel(n_jobs=16)]: Done  40 tasks      | elapsed: 22.4min\n",
      "[Parallel(n_jobs=16)]: Done  90 out of 100 | elapsed: 45.5min remaining:  5.1min\n",
      "[Parallel(n_jobs=16)]: Done 100 out of 100 | elapsed: 47.2min finished\n",
      "[Parallel(n_jobs=16)]: Using backend LokyBackend with 16 concurrent workers.\n"
     ]
    },
    {
     "name": "stdout",
     "output_type": "stream",
     "text": [
      "Completed sensitivity iteration: 0.5\n",
      "Finished on 2019-5-10 at 0:32:20\n"
     ]
    },
    {
     "name": "stderr",
     "output_type": "stream",
     "text": [
      "[Parallel(n_jobs=16)]: Done  40 tasks      | elapsed: 23.2min\n",
      "[Parallel(n_jobs=16)]: Done  90 out of 100 | elapsed: 47.5min remaining:  5.3min\n",
      "[Parallel(n_jobs=16)]: Done 100 out of 100 | elapsed: 51.0min finished\n",
      "[Parallel(n_jobs=16)]: Using backend LokyBackend with 16 concurrent workers.\n"
     ]
    },
    {
     "name": "stdout",
     "output_type": "stream",
     "text": [
      "Completed sensitivity iteration: 1\n",
      "Finished on 2019-5-10 at 1:23:22\n"
     ]
    },
    {
     "name": "stderr",
     "output_type": "stream",
     "text": [
      "[Parallel(n_jobs=16)]: Done  40 tasks      | elapsed: 22.6min\n",
      "[Parallel(n_jobs=16)]: Done  90 out of 100 | elapsed: 51.2min remaining:  5.7min\n",
      "[Parallel(n_jobs=16)]: Done 100 out of 100 | elapsed: 52.9min finished\n",
      "[Parallel(n_jobs=16)]: Using backend LokyBackend with 16 concurrent workers.\n"
     ]
    },
    {
     "name": "stdout",
     "output_type": "stream",
     "text": [
      "Completed sensitivity iteration: 2\n",
      "Finished on 2019-5-10 at 2:16:16\n"
     ]
    },
    {
     "name": "stderr",
     "output_type": "stream",
     "text": [
      "[Parallel(n_jobs=16)]: Done  40 tasks      | elapsed: 23.6min\n",
      "[Parallel(n_jobs=16)]: Done  90 out of 100 | elapsed: 49.4min remaining:  5.5min\n",
      "[Parallel(n_jobs=16)]: Done 100 out of 100 | elapsed: 52.5min finished\n",
      "[Parallel(n_jobs=16)]: Using backend LokyBackend with 16 concurrent workers.\n"
     ]
    },
    {
     "name": "stdout",
     "output_type": "stream",
     "text": [
      "Completed sensitivity iteration: 3\n",
      "Finished on 2019-5-10 at 3:8:45\n"
     ]
    },
    {
     "name": "stderr",
     "output_type": "stream",
     "text": [
      "[Parallel(n_jobs=16)]: Done  40 tasks      | elapsed: 22.6min\n",
      "[Parallel(n_jobs=16)]: Done  90 out of 100 | elapsed: 50.8min remaining:  5.6min\n",
      "[Parallel(n_jobs=16)]: Done 100 out of 100 | elapsed: 52.3min finished\n",
      "[Parallel(n_jobs=16)]: Using backend LokyBackend with 16 concurrent workers.\n"
     ]
    },
    {
     "name": "stdout",
     "output_type": "stream",
     "text": [
      "Completed sensitivity iteration: 4\n",
      "Finished on 2019-5-10 at 4:1:4\n"
     ]
    },
    {
     "name": "stderr",
     "output_type": "stream",
     "text": [
      "[Parallel(n_jobs=16)]: Done  40 tasks      | elapsed: 22.6min\n",
      "[Parallel(n_jobs=16)]: Done  90 out of 100 | elapsed: 48.4min remaining:  5.4min\n",
      "[Parallel(n_jobs=16)]: Done 100 out of 100 | elapsed: 51.8min finished\n",
      "[Parallel(n_jobs=16)]: Using backend LokyBackend with 16 concurrent workers.\n"
     ]
    },
    {
     "name": "stdout",
     "output_type": "stream",
     "text": [
      "Completed sensitivity iteration: 5\n",
      "Finished on 2019-5-10 at 4:52:50\n"
     ]
    },
    {
     "name": "stderr",
     "output_type": "stream",
     "text": [
      "[Parallel(n_jobs=16)]: Done  40 tasks      | elapsed: 22.6min\n",
      "[Parallel(n_jobs=16)]: Done  90 out of 100 | elapsed: 47.5min remaining:  5.3min\n",
      "[Parallel(n_jobs=16)]: Done 100 out of 100 | elapsed: 50.5min finished\n"
     ]
    },
    {
     "name": "stdout",
     "output_type": "stream",
     "text": [
      "Completed sensitivity iteration: 10\n",
      "Finished on 2019-5-10 at 5:43:17\n"
     ]
    },
    {
     "name": "stderr",
     "output_type": "stream",
     "text": [
      "[Parallel(n_jobs=16)]: Using backend LokyBackend with 16 concurrent workers.\n",
      "[Parallel(n_jobs=16)]: Done  40 tasks      | elapsed: 58.5min\n",
      "[Parallel(n_jobs=16)]: Done  90 out of 100 | elapsed: 118.1min remaining: 13.1min\n",
      "[Parallel(n_jobs=16)]: Done 100 out of 100 | elapsed: 123.4min finished\n"
     ]
    },
    {
     "name": "stdout",
     "output_type": "stream",
     "text": [
      "Completed sensitivity iteration: 0.1\n",
      "Finished on 2019-5-10 at 7:48:19\n"
     ]
    },
    {
     "name": "stderr",
     "output_type": "stream",
     "text": [
      "[Parallel(n_jobs=16)]: Using backend LokyBackend with 16 concurrent workers.\n",
      "[Parallel(n_jobs=16)]: Done  40 tasks      | elapsed: 56.8min\n",
      "[Parallel(n_jobs=16)]: Done  90 out of 100 | elapsed: 117.4min remaining: 13.0min\n",
      "[Parallel(n_jobs=16)]: Done 100 out of 100 | elapsed: 123.1min finished\n",
      "[Parallel(n_jobs=16)]: Using backend LokyBackend with 16 concurrent workers.\n"
     ]
    },
    {
     "name": "stdout",
     "output_type": "stream",
     "text": [
      "Completed sensitivity iteration: 0.2\n",
      "Finished on 2019-5-10 at 9:51:28\n"
     ]
    },
    {
     "name": "stderr",
     "output_type": "stream",
     "text": [
      "[Parallel(n_jobs=16)]: Done  40 tasks      | elapsed: 57.6min\n",
      "[Parallel(n_jobs=16)]: Done  90 out of 100 | elapsed: 118.6min remaining: 13.2min\n",
      "[Parallel(n_jobs=16)]: Done 100 out of 100 | elapsed: 123.7min finished\n",
      "[Parallel(n_jobs=16)]: Using backend LokyBackend with 16 concurrent workers.\n"
     ]
    },
    {
     "name": "stdout",
     "output_type": "stream",
     "text": [
      "Completed sensitivity iteration: 0.25\n",
      "Finished on 2019-5-10 at 11:55:10\n"
     ]
    },
    {
     "name": "stderr",
     "output_type": "stream",
     "text": [
      "[Parallel(n_jobs=16)]: Done  40 tasks      | elapsed: 58.6min\n",
      "[Parallel(n_jobs=16)]: Done  90 out of 100 | elapsed: 119.4min remaining: 13.3min\n",
      "[Parallel(n_jobs=16)]: Done 100 out of 100 | elapsed: 125.7min finished\n",
      "[Parallel(n_jobs=16)]: Using backend LokyBackend with 16 concurrent workers.\n"
     ]
    },
    {
     "name": "stdout",
     "output_type": "stream",
     "text": [
      "Completed sensitivity iteration: 0.33\n",
      "Finished on 2019-5-10 at 14:0:51\n"
     ]
    },
    {
     "name": "stderr",
     "output_type": "stream",
     "text": [
      "[Parallel(n_jobs=16)]: Done  40 tasks      | elapsed: 58.5min\n",
      "[Parallel(n_jobs=16)]: Done  90 out of 100 | elapsed: 120.7min remaining: 13.4min\n",
      "[Parallel(n_jobs=16)]: Done 100 out of 100 | elapsed: 126.0min finished\n",
      "[Parallel(n_jobs=16)]: Using backend LokyBackend with 16 concurrent workers.\n"
     ]
    },
    {
     "name": "stdout",
     "output_type": "stream",
     "text": [
      "Completed sensitivity iteration: 0.5\n",
      "Finished on 2019-5-10 at 16:6:54\n"
     ]
    },
    {
     "name": "stderr",
     "output_type": "stream",
     "text": [
      "[Parallel(n_jobs=16)]: Done  40 tasks      | elapsed: 58.4min\n",
      "[Parallel(n_jobs=16)]: Done  90 out of 100 | elapsed: 120.9min remaining: 13.4min\n",
      "[Parallel(n_jobs=16)]: Done 100 out of 100 | elapsed: 125.2min finished\n",
      "[Parallel(n_jobs=16)]: Using backend LokyBackend with 16 concurrent workers.\n"
     ]
    },
    {
     "name": "stdout",
     "output_type": "stream",
     "text": [
      "Completed sensitivity iteration: 1\n",
      "Finished on 2019-5-10 at 18:12:6\n"
     ]
    },
    {
     "name": "stderr",
     "output_type": "stream",
     "text": [
      "[Parallel(n_jobs=16)]: Done  40 tasks      | elapsed: 57.2min\n",
      "[Parallel(n_jobs=16)]: Done  90 out of 100 | elapsed: 117.2min remaining: 13.0min\n",
      "[Parallel(n_jobs=16)]: Done 100 out of 100 | elapsed: 121.6min finished\n",
      "[Parallel(n_jobs=16)]: Using backend LokyBackend with 16 concurrent workers.\n"
     ]
    },
    {
     "name": "stdout",
     "output_type": "stream",
     "text": [
      "Completed sensitivity iteration: 2\n",
      "Finished on 2019-5-10 at 20:13:42\n"
     ]
    },
    {
     "name": "stderr",
     "output_type": "stream",
     "text": [
      "[Parallel(n_jobs=16)]: Done  40 tasks      | elapsed: 56.1min\n",
      "[Parallel(n_jobs=16)]: Done  90 out of 100 | elapsed: 113.3min remaining: 12.6min\n",
      "[Parallel(n_jobs=16)]: Done 100 out of 100 | elapsed: 118.6min finished\n",
      "[Parallel(n_jobs=16)]: Using backend LokyBackend with 16 concurrent workers.\n"
     ]
    },
    {
     "name": "stdout",
     "output_type": "stream",
     "text": [
      "Completed sensitivity iteration: 3\n",
      "Finished on 2019-5-10 at 22:12:17\n"
     ]
    },
    {
     "name": "stderr",
     "output_type": "stream",
     "text": [
      "[Parallel(n_jobs=16)]: Done  40 tasks      | elapsed: 53.5min\n",
      "[Parallel(n_jobs=16)]: Done  90 out of 100 | elapsed: 110.4min remaining: 12.3min\n",
      "[Parallel(n_jobs=16)]: Done 100 out of 100 | elapsed: 116.7min finished\n",
      "[Parallel(n_jobs=16)]: Using backend LokyBackend with 16 concurrent workers.\n"
     ]
    },
    {
     "name": "stdout",
     "output_type": "stream",
     "text": [
      "Completed sensitivity iteration: 4\n",
      "Finished on 2019-5-11 at 0:8:56\n"
     ]
    },
    {
     "name": "stderr",
     "output_type": "stream",
     "text": [
      "[Parallel(n_jobs=16)]: Done  40 tasks      | elapsed: 53.5min\n",
      "[Parallel(n_jobs=16)]: Done  90 out of 100 | elapsed: 108.1min remaining: 12.0min\n",
      "[Parallel(n_jobs=16)]: Done 100 out of 100 | elapsed: 113.4min finished\n",
      "[Parallel(n_jobs=16)]: Using backend LokyBackend with 16 concurrent workers.\n"
     ]
    },
    {
     "name": "stdout",
     "output_type": "stream",
     "text": [
      "Completed sensitivity iteration: 5\n",
      "Finished on 2019-5-11 at 2:2:20\n"
     ]
    },
    {
     "name": "stderr",
     "output_type": "stream",
     "text": [
      "[Parallel(n_jobs=16)]: Done  40 tasks      | elapsed: 50.6min\n",
      "[Parallel(n_jobs=16)]: Done  90 out of 100 | elapsed: 103.2min remaining: 11.5min\n",
      "[Parallel(n_jobs=16)]: Done 100 out of 100 | elapsed: 107.3min finished\n"
     ]
    },
    {
     "name": "stdout",
     "output_type": "stream",
     "text": [
      "Completed sensitivity iteration: 10\n",
      "Finished on 2019-5-11 at 3:49:40\n"
     ]
    },
    {
     "name": "stderr",
     "output_type": "stream",
     "text": [
      "[Parallel(n_jobs=16)]: Using backend LokyBackend with 16 concurrent workers.\n",
      "[Parallel(n_jobs=16)]: Done  40 tasks      | elapsed: 109.6min\n",
      "[Parallel(n_jobs=16)]: Done  90 out of 100 | elapsed: 219.6min remaining: 24.4min\n",
      "[Parallel(n_jobs=16)]: Done 100 out of 100 | elapsed: 229.3min finished\n",
      "[Parallel(n_jobs=16)]: Using backend LokyBackend with 16 concurrent workers.\n"
     ]
    },
    {
     "name": "stdout",
     "output_type": "stream",
     "text": [
      "Completed sensitivity iteration: 0.1\n",
      "Finished on 2019-5-11 at 7:40:31\n"
     ]
    },
    {
     "name": "stderr",
     "output_type": "stream",
     "text": [
      "[Parallel(n_jobs=16)]: Done  40 tasks      | elapsed: 105.7min\n",
      "[Parallel(n_jobs=16)]: Done  90 out of 100 | elapsed: 213.5min remaining: 23.7min\n",
      "[Parallel(n_jobs=16)]: Done 100 out of 100 | elapsed: 223.0min finished\n",
      "[Parallel(n_jobs=16)]: Using backend LokyBackend with 16 concurrent workers.\n"
     ]
    },
    {
     "name": "stdout",
     "output_type": "stream",
     "text": [
      "Completed sensitivity iteration: 0.2\n",
      "Finished on 2019-5-11 at 11:23:32\n"
     ]
    },
    {
     "name": "stderr",
     "output_type": "stream",
     "text": [
      "[Parallel(n_jobs=16)]: Done  40 tasks      | elapsed: 103.1min\n",
      "[Parallel(n_jobs=16)]: Done  90 out of 100 | elapsed: 208.1min remaining: 23.1min\n",
      "[Parallel(n_jobs=16)]: Done 100 out of 100 | elapsed: 217.8min finished\n",
      "[Parallel(n_jobs=16)]: Using backend LokyBackend with 16 concurrent workers.\n"
     ]
    },
    {
     "name": "stdout",
     "output_type": "stream",
     "text": [
      "Completed sensitivity iteration: 0.25\n",
      "Finished on 2019-5-11 at 15:1:19\n"
     ]
    },
    {
     "name": "stderr",
     "output_type": "stream",
     "text": [
      "[Parallel(n_jobs=16)]: Done  40 tasks      | elapsed: 100.8min\n",
      "[Parallel(n_jobs=16)]: Done  90 out of 100 | elapsed: 203.5min remaining: 22.6min\n",
      "[Parallel(n_jobs=16)]: Done 100 out of 100 | elapsed: 212.5min finished\n",
      "[Parallel(n_jobs=16)]: Using backend LokyBackend with 16 concurrent workers.\n"
     ]
    },
    {
     "name": "stdout",
     "output_type": "stream",
     "text": [
      "Completed sensitivity iteration: 0.33\n",
      "Finished on 2019-5-11 at 18:33:48\n"
     ]
    },
    {
     "name": "stderr",
     "output_type": "stream",
     "text": [
      "[Parallel(n_jobs=16)]: Done  40 tasks      | elapsed: 95.9min\n",
      "[Parallel(n_jobs=16)]: Done  90 out of 100 | elapsed: 195.2min remaining: 21.7min\n",
      "[Parallel(n_jobs=16)]: Done 100 out of 100 | elapsed: 204.6min finished\n",
      "[Parallel(n_jobs=16)]: Using backend LokyBackend with 16 concurrent workers.\n"
     ]
    },
    {
     "name": "stdout",
     "output_type": "stream",
     "text": [
      "Completed sensitivity iteration: 0.5\n",
      "Finished on 2019-5-11 at 21:58:22\n"
     ]
    },
    {
     "name": "stderr",
     "output_type": "stream",
     "text": [
      "[Parallel(n_jobs=16)]: Done  40 tasks      | elapsed: 88.4min\n",
      "[Parallel(n_jobs=16)]: Done  90 out of 100 | elapsed: 182.5min remaining: 20.3min\n",
      "[Parallel(n_jobs=16)]: Done 100 out of 100 | elapsed: 191.5min finished\n",
      "[Parallel(n_jobs=16)]: Using backend LokyBackend with 16 concurrent workers.\n"
     ]
    },
    {
     "name": "stdout",
     "output_type": "stream",
     "text": [
      "Completed sensitivity iteration: 1\n",
      "Finished on 2019-5-12 at 1:9:51\n"
     ]
    },
    {
     "name": "stderr",
     "output_type": "stream",
     "text": [
      "[Parallel(n_jobs=16)]: Done  40 tasks      | elapsed: 82.4min\n",
      "[Parallel(n_jobs=16)]: Done  90 out of 100 | elapsed: 168.5min remaining: 18.7min\n",
      "[Parallel(n_jobs=16)]: Done 100 out of 100 | elapsed: 177.6min finished\n",
      "[Parallel(n_jobs=16)]: Using backend LokyBackend with 16 concurrent workers.\n"
     ]
    },
    {
     "name": "stdout",
     "output_type": "stream",
     "text": [
      "Completed sensitivity iteration: 2\n",
      "Finished on 2019-5-12 at 4:7:25\n"
     ]
    },
    {
     "name": "stderr",
     "output_type": "stream",
     "text": [
      "[Parallel(n_jobs=16)]: Done  40 tasks      | elapsed: 80.0min\n",
      "[Parallel(n_jobs=16)]: Done  90 out of 100 | elapsed: 160.7min remaining: 17.9min\n",
      "[Parallel(n_jobs=16)]: Done 100 out of 100 | elapsed: 168.0min finished\n",
      "[Parallel(n_jobs=16)]: Using backend LokyBackend with 16 concurrent workers.\n"
     ]
    },
    {
     "name": "stdout",
     "output_type": "stream",
     "text": [
      "Completed sensitivity iteration: 3\n",
      "Finished on 2019-5-12 at 6:55:26\n"
     ]
    },
    {
     "name": "stderr",
     "output_type": "stream",
     "text": [
      "[Parallel(n_jobs=16)]: Done  40 tasks      | elapsed: 76.4min\n",
      "[Parallel(n_jobs=16)]: Done  90 out of 100 | elapsed: 155.0min remaining: 17.2min\n",
      "[Parallel(n_jobs=16)]: Done 100 out of 100 | elapsed: 162.5min finished\n",
      "[Parallel(n_jobs=16)]: Using backend LokyBackend with 16 concurrent workers.\n"
     ]
    },
    {
     "name": "stdout",
     "output_type": "stream",
     "text": [
      "Completed sensitivity iteration: 4\n",
      "Finished on 2019-5-12 at 9:37:55\n"
     ]
    },
    {
     "name": "stderr",
     "output_type": "stream",
     "text": [
      "[Parallel(n_jobs=16)]: Done  40 tasks      | elapsed: 75.5min\n",
      "[Parallel(n_jobs=16)]: Done  90 out of 100 | elapsed: 153.1min remaining: 17.0min\n",
      "[Parallel(n_jobs=16)]: Done 100 out of 100 | elapsed: 160.2min finished\n",
      "[Parallel(n_jobs=16)]: Using backend LokyBackend with 16 concurrent workers.\n"
     ]
    },
    {
     "name": "stdout",
     "output_type": "stream",
     "text": [
      "Completed sensitivity iteration: 5\n",
      "Finished on 2019-5-12 at 12:18:6\n"
     ]
    },
    {
     "name": "stderr",
     "output_type": "stream",
     "text": [
      "[Parallel(n_jobs=16)]: Done  40 tasks      | elapsed: 70.5min\n",
      "[Parallel(n_jobs=16)]: Done  90 out of 100 | elapsed: 142.6min remaining: 15.8min\n",
      "[Parallel(n_jobs=16)]: Done 100 out of 100 | elapsed: 149.6min finished\n"
     ]
    },
    {
     "name": "stdout",
     "output_type": "stream",
     "text": [
      "Completed sensitivity iteration: 10\n",
      "Finished on 2019-5-12 at 14:47:40\n"
     ]
    },
    {
     "name": "stderr",
     "output_type": "stream",
     "text": [
      "[Parallel(n_jobs=16)]: Using backend LokyBackend with 16 concurrent workers.\n",
      "[Parallel(n_jobs=16)]: Done  40 tasks      | elapsed: 93.9min\n",
      "[Parallel(n_jobs=16)]: Done  90 out of 100 | elapsed: 190.9min remaining: 21.2min\n",
      "[Parallel(n_jobs=16)]: Done 100 out of 100 | elapsed: 200.2min finished\n",
      "[Parallel(n_jobs=16)]: Using backend LokyBackend with 16 concurrent workers.\n"
     ]
    },
    {
     "name": "stdout",
     "output_type": "stream",
     "text": [
      "Completed sensitivity iteration: 0.1\n",
      "Finished on 2019-5-12 at 18:10:40\n"
     ]
    },
    {
     "name": "stderr",
     "output_type": "stream",
     "text": [
      "[Parallel(n_jobs=16)]: Done  40 tasks      | elapsed: 90.7min\n",
      "[Parallel(n_jobs=16)]: Done  90 out of 100 | elapsed: 183.1min remaining: 20.3min\n",
      "[Parallel(n_jobs=16)]: Done 100 out of 100 | elapsed: 191.8min finished\n",
      "[Parallel(n_jobs=16)]: Using backend LokyBackend with 16 concurrent workers.\n"
     ]
    },
    {
     "name": "stdout",
     "output_type": "stream",
     "text": [
      "Completed sensitivity iteration: 0.2\n",
      "Finished on 2019-5-12 at 21:22:28\n"
     ]
    },
    {
     "name": "stderr",
     "output_type": "stream",
     "text": [
      "[Parallel(n_jobs=16)]: Done  40 tasks      | elapsed: 87.8min\n",
      "[Parallel(n_jobs=16)]: Done  90 out of 100 | elapsed: 178.2min remaining: 19.8min\n",
      "[Parallel(n_jobs=16)]: Done 100 out of 100 | elapsed: 186.6min finished\n",
      "[Parallel(n_jobs=16)]: Using backend LokyBackend with 16 concurrent workers.\n"
     ]
    },
    {
     "name": "stdout",
     "output_type": "stream",
     "text": [
      "Completed sensitivity iteration: 0.25\n",
      "Finished on 2019-5-13 at 0:29:5\n"
     ]
    },
    {
     "name": "stderr",
     "output_type": "stream",
     "text": [
      "[Parallel(n_jobs=16)]: Done  40 tasks      | elapsed: 86.8min\n",
      "[Parallel(n_jobs=16)]: Done  90 out of 100 | elapsed: 176.4min remaining: 19.6min\n",
      "[Parallel(n_jobs=16)]: Done 100 out of 100 | elapsed: 184.2min finished\n",
      "[Parallel(n_jobs=16)]: Using backend LokyBackend with 16 concurrent workers.\n"
     ]
    },
    {
     "name": "stdout",
     "output_type": "stream",
     "text": [
      "Completed sensitivity iteration: 0.33\n",
      "Finished on 2019-5-13 at 3:33:18\n"
     ]
    },
    {
     "name": "stderr",
     "output_type": "stream",
     "text": [
      "[Parallel(n_jobs=16)]: Done  40 tasks      | elapsed: 83.7min\n",
      "[Parallel(n_jobs=16)]: Done  90 out of 100 | elapsed: 168.9min remaining: 18.8min\n",
      "[Parallel(n_jobs=16)]: Done 100 out of 100 | elapsed: 177.5min finished\n",
      "[Parallel(n_jobs=16)]: Using backend LokyBackend with 16 concurrent workers.\n"
     ]
    },
    {
     "name": "stdout",
     "output_type": "stream",
     "text": [
      "Completed sensitivity iteration: 0.5\n",
      "Finished on 2019-5-13 at 6:30:51\n"
     ]
    },
    {
     "name": "stderr",
     "output_type": "stream",
     "text": [
      "[Parallel(n_jobs=16)]: Done  40 tasks      | elapsed: 76.2min\n",
      "[Parallel(n_jobs=16)]: Done  90 out of 100 | elapsed: 156.4min remaining: 17.4min\n",
      "[Parallel(n_jobs=16)]: Done 100 out of 100 | elapsed: 163.9min finished\n",
      "[Parallel(n_jobs=16)]: Using backend LokyBackend with 16 concurrent workers.\n"
     ]
    },
    {
     "name": "stdout",
     "output_type": "stream",
     "text": [
      "Completed sensitivity iteration: 1\n",
      "Finished on 2019-5-13 at 9:14:47\n"
     ]
    },
    {
     "name": "stderr",
     "output_type": "stream",
     "text": [
      "[Parallel(n_jobs=16)]: Done  40 tasks      | elapsed: 73.9min\n",
      "[Parallel(n_jobs=16)]: Done  90 out of 100 | elapsed: 148.7min remaining: 16.5min\n",
      "[Parallel(n_jobs=16)]: Done 100 out of 100 | elapsed: 154.8min finished\n",
      "[Parallel(n_jobs=16)]: Using backend LokyBackend with 16 concurrent workers.\n"
     ]
    },
    {
     "name": "stdout",
     "output_type": "stream",
     "text": [
      "Completed sensitivity iteration: 2\n",
      "Finished on 2019-5-13 at 11:49:37\n"
     ]
    },
    {
     "name": "stderr",
     "output_type": "stream",
     "text": [
      "[Parallel(n_jobs=16)]: Done  40 tasks      | elapsed: 68.3min\n",
      "[Parallel(n_jobs=16)]: Done  90 out of 100 | elapsed: 140.9min remaining: 15.7min\n",
      "[Parallel(n_jobs=16)]: Done 100 out of 100 | elapsed: 148.4min finished\n",
      "[Parallel(n_jobs=16)]: Using backend LokyBackend with 16 concurrent workers.\n"
     ]
    },
    {
     "name": "stdout",
     "output_type": "stream",
     "text": [
      "Completed sensitivity iteration: 3\n",
      "Finished on 2019-5-13 at 14:18:3\n"
     ]
    },
    {
     "name": "stderr",
     "output_type": "stream",
     "text": [
      "[Parallel(n_jobs=16)]: Done  40 tasks      | elapsed: 65.8min\n",
      "[Parallel(n_jobs=16)]: Done  90 out of 100 | elapsed: 135.8min remaining: 15.1min\n",
      "[Parallel(n_jobs=16)]: Done 100 out of 100 | elapsed: 143.4min finished\n",
      "[Parallel(n_jobs=16)]: Using backend LokyBackend with 16 concurrent workers.\n"
     ]
    },
    {
     "name": "stdout",
     "output_type": "stream",
     "text": [
      "Completed sensitivity iteration: 4\n",
      "Finished on 2019-5-13 at 16:41:25\n"
     ]
    },
    {
     "name": "stderr",
     "output_type": "stream",
     "text": [
      "[Parallel(n_jobs=16)]: Done  40 tasks      | elapsed: 65.2min\n",
      "[Parallel(n_jobs=16)]: Done  90 out of 100 | elapsed: 133.7min remaining: 14.9min\n",
      "[Parallel(n_jobs=16)]: Done 100 out of 100 | elapsed: 141.7min finished\n",
      "[Parallel(n_jobs=16)]: Using backend LokyBackend with 16 concurrent workers.\n"
     ]
    },
    {
     "name": "stdout",
     "output_type": "stream",
     "text": [
      "Completed sensitivity iteration: 5\n",
      "Finished on 2019-5-13 at 19:3:5\n"
     ]
    },
    {
     "name": "stderr",
     "output_type": "stream",
     "text": [
      "[Parallel(n_jobs=16)]: Done  40 tasks      | elapsed: 61.8min\n",
      "[Parallel(n_jobs=16)]: Done  90 out of 100 | elapsed: 128.1min remaining: 14.2min\n",
      "[Parallel(n_jobs=16)]: Done 100 out of 100 | elapsed: 135.2min finished\n"
     ]
    },
    {
     "name": "stdout",
     "output_type": "stream",
     "text": [
      "Completed sensitivity iteration: 10\n",
      "Finished on 2019-5-13 at 21:18:20\n"
     ]
    },
    {
     "name": "stderr",
     "output_type": "stream",
     "text": [
      "[Parallel(n_jobs=16)]: Using backend LokyBackend with 16 concurrent workers.\n",
      "[Parallel(n_jobs=16)]: Done  40 tasks      | elapsed: 49.8min\n",
      "[Parallel(n_jobs=16)]: Done  90 out of 100 | elapsed: 101.9min remaining: 11.3min\n",
      "[Parallel(n_jobs=16)]: Done 100 out of 100 | elapsed: 108.1min finished\n",
      "[Parallel(n_jobs=16)]: Using backend LokyBackend with 16 concurrent workers.\n"
     ]
    },
    {
     "name": "stdout",
     "output_type": "stream",
     "text": [
      "Completed sensitivity iteration: 0.1\n",
      "Finished on 2019-5-13 at 23:12:24\n"
     ]
    },
    {
     "name": "stderr",
     "output_type": "stream",
     "text": [
      "[Parallel(n_jobs=16)]: Done  40 tasks      | elapsed: 47.3min\n",
      "[Parallel(n_jobs=16)]: Done  90 out of 100 | elapsed: 98.6min remaining: 11.0min\n",
      "[Parallel(n_jobs=16)]: Done 100 out of 100 | elapsed: 104.9min finished\n"
     ]
    },
    {
     "name": "stdout",
     "output_type": "stream",
     "text": [
      "Completed sensitivity iteration: 0.2\n",
      "Finished on 2019-5-14 at 0:57:19\n"
     ]
    },
    {
     "name": "stderr",
     "output_type": "stream",
     "text": [
      "[Parallel(n_jobs=16)]: Using backend LokyBackend with 16 concurrent workers.\n",
      "[Parallel(n_jobs=16)]: Done  40 tasks      | elapsed: 46.8min\n",
      "[Parallel(n_jobs=16)]: Done  90 out of 100 | elapsed: 97.6min remaining: 10.8min\n",
      "[Parallel(n_jobs=16)]: Done 100 out of 100 | elapsed: 104.0min finished\n"
     ]
    },
    {
     "name": "stdout",
     "output_type": "stream",
     "text": [
      "Completed sensitivity iteration: 0.25\n",
      "Finished on 2019-5-14 at 2:41:17\n"
     ]
    },
    {
     "name": "stderr",
     "output_type": "stream",
     "text": [
      "[Parallel(n_jobs=16)]: Using backend LokyBackend with 16 concurrent workers.\n",
      "[Parallel(n_jobs=16)]: Done  40 tasks      | elapsed: 48.4min\n",
      "[Parallel(n_jobs=16)]: Done  90 out of 100 | elapsed: 98.1min remaining: 10.9min\n",
      "[Parallel(n_jobs=16)]: Done 100 out of 100 | elapsed: 102.7min finished\n",
      "[Parallel(n_jobs=16)]: Using backend LokyBackend with 16 concurrent workers.\n"
     ]
    },
    {
     "name": "stdout",
     "output_type": "stream",
     "text": [
      "Completed sensitivity iteration: 0.33\n",
      "Finished on 2019-5-14 at 4:23:57\n"
     ]
    },
    {
     "name": "stderr",
     "output_type": "stream",
     "text": [
      "[Parallel(n_jobs=16)]: Done  40 tasks      | elapsed: 45.4min\n",
      "[Parallel(n_jobs=16)]: Done  90 out of 100 | elapsed: 94.8min remaining: 10.5min\n",
      "[Parallel(n_jobs=16)]: Done 100 out of 100 | elapsed: 100.4min finished\n"
     ]
    },
    {
     "name": "stdout",
     "output_type": "stream",
     "text": [
      "Completed sensitivity iteration: 0.5\n",
      "Finished on 2019-5-14 at 6:4:20\n"
     ]
    },
    {
     "name": "stderr",
     "output_type": "stream",
     "text": [
      "[Parallel(n_jobs=16)]: Using backend LokyBackend with 16 concurrent workers.\n",
      "[Parallel(n_jobs=16)]: Done  40 tasks      | elapsed: 43.2min\n",
      "[Parallel(n_jobs=16)]: Done  90 out of 100 | elapsed: 89.1min remaining:  9.9min\n",
      "[Parallel(n_jobs=16)]: Done 100 out of 100 | elapsed: 94.2min finished\n",
      "[Parallel(n_jobs=16)]: Using backend LokyBackend with 16 concurrent workers.\n"
     ]
    },
    {
     "name": "stdout",
     "output_type": "stream",
     "text": [
      "Completed sensitivity iteration: 1\n",
      "Finished on 2019-5-14 at 7:38:30\n"
     ]
    },
    {
     "name": "stderr",
     "output_type": "stream",
     "text": [
      "[Parallel(n_jobs=16)]: Done  40 tasks      | elapsed: 42.3min\n",
      "[Parallel(n_jobs=16)]: Done  90 out of 100 | elapsed: 87.6min remaining:  9.7min\n",
      "[Parallel(n_jobs=16)]: Done 100 out of 100 | elapsed: 93.0min finished\n",
      "[Parallel(n_jobs=16)]: Using backend LokyBackend with 16 concurrent workers.\n"
     ]
    },
    {
     "name": "stdout",
     "output_type": "stream",
     "text": [
      "Completed sensitivity iteration: 2\n",
      "Finished on 2019-5-14 at 9:11:28\n"
     ]
    },
    {
     "name": "stderr",
     "output_type": "stream",
     "text": [
      "[Parallel(n_jobs=16)]: Done  40 tasks      | elapsed: 43.0min\n",
      "[Parallel(n_jobs=16)]: Done  90 out of 100 | elapsed: 87.6min remaining:  9.7min\n",
      "[Parallel(n_jobs=16)]: Done 100 out of 100 | elapsed: 93.0min finished\n",
      "[Parallel(n_jobs=16)]: Using backend LokyBackend with 16 concurrent workers.\n"
     ]
    },
    {
     "name": "stdout",
     "output_type": "stream",
     "text": [
      "Completed sensitivity iteration: 3\n",
      "Finished on 2019-5-14 at 10:44:26\n"
     ]
    },
    {
     "name": "stderr",
     "output_type": "stream",
     "text": [
      "[Parallel(n_jobs=16)]: Done  40 tasks      | elapsed: 43.4min\n",
      "[Parallel(n_jobs=16)]: Done  90 out of 100 | elapsed: 87.7min remaining:  9.7min\n",
      "[Parallel(n_jobs=16)]: Done 100 out of 100 | elapsed: 91.4min finished\n",
      "[Parallel(n_jobs=16)]: Using backend LokyBackend with 16 concurrent workers.\n"
     ]
    },
    {
     "name": "stdout",
     "output_type": "stream",
     "text": [
      "Completed sensitivity iteration: 4\n",
      "Finished on 2019-5-14 at 12:15:47\n"
     ]
    },
    {
     "name": "stderr",
     "output_type": "stream",
     "text": [
      "[Parallel(n_jobs=16)]: Done  40 tasks      | elapsed: 42.6min\n",
      "[Parallel(n_jobs=16)]: Done  90 out of 100 | elapsed: 87.5min remaining:  9.7min\n",
      "[Parallel(n_jobs=16)]: Done 100 out of 100 | elapsed: 90.6min finished\n",
      "[Parallel(n_jobs=16)]: Using backend LokyBackend with 16 concurrent workers.\n"
     ]
    },
    {
     "name": "stdout",
     "output_type": "stream",
     "text": [
      "Completed sensitivity iteration: 5\n",
      "Finished on 2019-5-14 at 13:46:22\n"
     ]
    },
    {
     "name": "stderr",
     "output_type": "stream",
     "text": [
      "[Parallel(n_jobs=16)]: Done  40 tasks      | elapsed: 41.2min\n",
      "[Parallel(n_jobs=16)]: Done  90 out of 100 | elapsed: 84.0min remaining:  9.3min\n",
      "[Parallel(n_jobs=16)]: Done 100 out of 100 | elapsed: 88.1min finished\n"
     ]
    },
    {
     "name": "stdout",
     "output_type": "stream",
     "text": [
      "Completed sensitivity iteration: 10\n",
      "Finished on 2019-5-14 at 15:14:28\n"
     ]
    },
    {
     "name": "stderr",
     "output_type": "stream",
     "text": [
      "[Parallel(n_jobs=16)]: Using backend LokyBackend with 16 concurrent workers.\n",
      "[Parallel(n_jobs=16)]: Done  40 tasks      | elapsed: 44.0min\n",
      "[Parallel(n_jobs=16)]: Done  90 out of 100 | elapsed: 97.5min remaining: 10.8min\n",
      "[Parallel(n_jobs=16)]: Done 100 out of 100 | elapsed: 100.2min finished\n",
      "[Parallel(n_jobs=16)]: Using backend LokyBackend with 16 concurrent workers.\n"
     ]
    },
    {
     "name": "stdout",
     "output_type": "stream",
     "text": [
      "Completed sensitivity iteration: 0.1\n",
      "Finished on 2019-5-14 at 17:0:14\n"
     ]
    },
    {
     "name": "stderr",
     "output_type": "stream",
     "text": [
      "[Parallel(n_jobs=16)]: Done  40 tasks      | elapsed: 43.5min\n",
      "[Parallel(n_jobs=16)]: Done  90 out of 100 | elapsed: 90.6min remaining: 10.1min\n",
      "[Parallel(n_jobs=16)]: Done 100 out of 100 | elapsed: 96.9min finished\n",
      "[Parallel(n_jobs=16)]: Using backend LokyBackend with 16 concurrent workers.\n"
     ]
    },
    {
     "name": "stdout",
     "output_type": "stream",
     "text": [
      "Completed sensitivity iteration: 0.2\n",
      "Finished on 2019-5-14 at 18:37:9\n"
     ]
    },
    {
     "name": "stderr",
     "output_type": "stream",
     "text": [
      "[Parallel(n_jobs=16)]: Done  40 tasks      | elapsed: 46.0min\n",
      "[Parallel(n_jobs=16)]: Done  90 out of 100 | elapsed: 92.2min remaining: 10.2min\n",
      "[Parallel(n_jobs=16)]: Done 100 out of 100 | elapsed: 96.0min finished\n",
      "[Parallel(n_jobs=16)]: Using backend LokyBackend with 16 concurrent workers.\n"
     ]
    },
    {
     "name": "stdout",
     "output_type": "stream",
     "text": [
      "Completed sensitivity iteration: 0.25\n",
      "Finished on 2019-5-14 at 20:13:11\n"
     ]
    },
    {
     "name": "stderr",
     "output_type": "stream",
     "text": [
      "[Parallel(n_jobs=16)]: Done  40 tasks      | elapsed: 44.2min\n",
      "[Parallel(n_jobs=16)]: Done  90 out of 100 | elapsed: 90.7min remaining: 10.1min\n",
      "[Parallel(n_jobs=16)]: Done 100 out of 100 | elapsed: 94.5min finished\n",
      "[Parallel(n_jobs=16)]: Using backend LokyBackend with 16 concurrent workers.\n"
     ]
    },
    {
     "name": "stdout",
     "output_type": "stream",
     "text": [
      "Completed sensitivity iteration: 0.33\n",
      "Finished on 2019-5-14 at 21:47:44\n"
     ]
    },
    {
     "name": "stderr",
     "output_type": "stream",
     "text": [
      "[Parallel(n_jobs=16)]: Done  40 tasks      | elapsed: 42.1min\n",
      "[Parallel(n_jobs=16)]: Done  90 out of 100 | elapsed: 87.2min remaining:  9.7min\n",
      "[Parallel(n_jobs=16)]: Done 100 out of 100 | elapsed: 92.8min finished\n",
      "[Parallel(n_jobs=16)]: Using backend LokyBackend with 16 concurrent workers.\n"
     ]
    },
    {
     "name": "stdout",
     "output_type": "stream",
     "text": [
      "Completed sensitivity iteration: 0.5\n",
      "Finished on 2019-5-14 at 23:20:30\n"
     ]
    },
    {
     "name": "stderr",
     "output_type": "stream",
     "text": [
      "[Parallel(n_jobs=16)]: Done  40 tasks      | elapsed: 40.9min\n",
      "[Parallel(n_jobs=16)]: Done  90 out of 100 | elapsed: 83.2min remaining:  9.2min\n",
      "[Parallel(n_jobs=16)]: Done 100 out of 100 | elapsed: 87.5min finished\n",
      "[Parallel(n_jobs=16)]: Using backend LokyBackend with 16 concurrent workers.\n"
     ]
    },
    {
     "name": "stdout",
     "output_type": "stream",
     "text": [
      "Completed sensitivity iteration: 1\n",
      "Finished on 2019-5-15 at 0:48:3\n"
     ]
    },
    {
     "name": "stderr",
     "output_type": "stream",
     "text": [
      "[Parallel(n_jobs=16)]: Done  40 tasks      | elapsed: 39.8min\n",
      "[Parallel(n_jobs=16)]: Done  90 out of 100 | elapsed: 82.9min remaining:  9.2min\n",
      "[Parallel(n_jobs=16)]: Done 100 out of 100 | elapsed: 86.3min finished\n",
      "[Parallel(n_jobs=16)]: Using backend LokyBackend with 16 concurrent workers.\n"
     ]
    },
    {
     "name": "stdout",
     "output_type": "stream",
     "text": [
      "Completed sensitivity iteration: 2\n",
      "Finished on 2019-5-15 at 2:14:24\n"
     ]
    },
    {
     "name": "stderr",
     "output_type": "stream",
     "text": [
      "[Parallel(n_jobs=16)]: Done  40 tasks      | elapsed: 39.7min\n",
      "[Parallel(n_jobs=16)]: Done  90 out of 100 | elapsed: 82.9min remaining:  9.2min\n",
      "[Parallel(n_jobs=16)]: Done 100 out of 100 | elapsed: 85.8min finished\n",
      "[Parallel(n_jobs=16)]: Using backend LokyBackend with 16 concurrent workers.\n"
     ]
    },
    {
     "name": "stdout",
     "output_type": "stream",
     "text": [
      "Completed sensitivity iteration: 3\n",
      "Finished on 2019-5-15 at 3:40:14\n"
     ]
    },
    {
     "name": "stderr",
     "output_type": "stream",
     "text": [
      "[Parallel(n_jobs=16)]: Done  40 tasks      | elapsed: 37.7min\n",
      "[Parallel(n_jobs=16)]: Done  90 out of 100 | elapsed: 78.7min remaining:  8.7min\n",
      "[Parallel(n_jobs=16)]: Done 100 out of 100 | elapsed: 84.0min finished\n",
      "[Parallel(n_jobs=16)]: Using backend LokyBackend with 16 concurrent workers.\n"
     ]
    },
    {
     "name": "stdout",
     "output_type": "stream",
     "text": [
      "Completed sensitivity iteration: 4\n",
      "Finished on 2019-5-15 at 5:4:12\n"
     ]
    },
    {
     "name": "stderr",
     "output_type": "stream",
     "text": [
      "[Parallel(n_jobs=16)]: Done  40 tasks      | elapsed: 37.5min\n",
      "[Parallel(n_jobs=16)]: Done  90 out of 100 | elapsed: 78.4min remaining:  8.7min\n",
      "[Parallel(n_jobs=16)]: Done 100 out of 100 | elapsed: 83.3min finished\n",
      "[Parallel(n_jobs=16)]: Using backend LokyBackend with 16 concurrent workers.\n"
     ]
    },
    {
     "name": "stdout",
     "output_type": "stream",
     "text": [
      "Completed sensitivity iteration: 5\n",
      "Finished on 2019-5-15 at 6:27:30\n"
     ]
    },
    {
     "name": "stderr",
     "output_type": "stream",
     "text": [
      "[Parallel(n_jobs=16)]: Done  40 tasks      | elapsed: 35.1min\n",
      "[Parallel(n_jobs=16)]: Done  90 out of 100 | elapsed: 73.5min remaining:  8.2min\n",
      "[Parallel(n_jobs=16)]: Done 100 out of 100 | elapsed: 78.8min finished\n"
     ]
    },
    {
     "name": "stdout",
     "output_type": "stream",
     "text": [
      "Completed sensitivity iteration: 10\n",
      "Finished on 2019-5-15 at 7:46:16\n"
     ]
    }
   ],
   "source": [
    "sg_opts = [0.1,0.2,0.25,0.33,0.5,1,2,3,4,5,10]\n",
    "\n",
    "fun = par.delayed(kmc.run)\n",
    "\n",
    "for additionRate in np.logspace(0,14,15):\n",
    "    resultsToSave = []\n",
    "\n",
    "    for sg in sg_opts:\n",
    "        #Set the percentage of S\n",
    "        pct = sg / (1 + sg)\n",
    "\n",
    "        #Make choices about what kinds of monomers there are\n",
    "        n = 2\n",
    "        rands = np.random.rand(n)\n",
    "\n",
    "        #Initialize the monomers, events, and state\n",
    "        mons = [ kmc.Monomer( int ( sOrG < pct ) , i ) for i,sOrG in zip ( range(n) , rands ) ]\n",
    "        startEvents = [ kmc.Event ( 'ox' , [i] , rates['ox'][ int( sOrG < pct ) ]['monomer'] ) for i,sOrG in zip ( range(n) , rands) ]\n",
    "\n",
    "        state = { i : {'mon' : mons[i] , 'affected' : {startEvents[i]} } for i in range(n) }\n",
    "        events = { startEvents[i] for i in range(n) }\n",
    "        events.add(kmc.Event('grow',[],rate = additionRate,bond = sg))\n",
    "\n",
    "        results = par.Parallel(n_jobs = 16,verbose = 5)([fun(nMax = 500, tFinal = 1e5,rates = rates,initialState = state,initialEvents = events)\n",
    "                                            for _ in range(100)])\n",
    "        resultsToSave.append(results)\n",
    "        print('Completed sensitivity iteration: ' + str(sg))\n",
    "\n",
    "        t = time.localtime()\n",
    "        print('Finished on ' + str(t.tm_year) + '-' + str(t.tm_mon) + '-' + str(t.tm_mday) \n",
    "                + ' at ' + str(t.tm_hour) + ':' + str(t.tm_min) + ':' + str(t.tm_sec))\n",
    "\n",
    "    with open(f'C:\\\\Users\\\\MikeOrella\\\\Documents\\\\GitHub\\\\lignin-kmc\\\\results\\\\2start\\\\{additionRate:0.0e}.pkl','wb+') as file:\n",
    "        pickle.dump(resultsToSave,file)"
   ]
  },
  {
   "cell_type": "code",
   "execution_count": 11,
   "metadata": {},
   "outputs": [
    {
     "name": "stdout",
     "output_type": "stream",
     "text": [
      "Finished on 2019-5-15 at 10:42:59\n",
      "Finished on 2019-5-15 at 10:43:10\n",
      "Finished on 2019-5-15 at 10:43:20\n",
      "Finished on 2019-5-15 at 10:43:31\n",
      "Finished on 2019-5-15 at 10:43:42\n",
      "Finished on 2019-5-15 at 10:43:53\n",
      "Finished on 2019-5-15 at 10:44:5\n",
      "Finished on 2019-5-15 at 10:44:17\n",
      "Finished on 2019-5-15 at 10:44:29\n",
      "Finished on 2019-5-15 at 10:44:41\n",
      "Finished on 2019-5-15 at 10:44:53\n",
      "Finished on 2019-5-15 at 10:45:39\n",
      "Finished on 2019-5-15 at 10:45:50\n",
      "Finished on 2019-5-15 at 10:46:1\n",
      "Finished on 2019-5-15 at 10:46:12\n",
      "Finished on 2019-5-15 at 10:46:22\n",
      "Finished on 2019-5-15 at 10:46:34\n",
      "Finished on 2019-5-15 at 10:46:45\n",
      "Finished on 2019-5-15 at 10:46:57\n",
      "Finished on 2019-5-15 at 10:47:9\n",
      "Finished on 2019-5-15 at 10:47:21\n",
      "Finished on 2019-5-15 at 10:47:34\n",
      "Finished on 2019-5-15 at 10:47:54\n",
      "Finished on 2019-5-15 at 10:48:4\n",
      "Finished on 2019-5-15 at 10:48:15\n",
      "Finished on 2019-5-15 at 10:48:26\n",
      "Finished on 2019-5-15 at 10:48:37\n",
      "Finished on 2019-5-15 at 10:48:48\n",
      "Finished on 2019-5-15 at 10:48:59\n",
      "Finished on 2019-5-15 at 10:49:11\n",
      "Finished on 2019-5-15 at 10:49:23\n",
      "Finished on 2019-5-15 at 10:49:35\n",
      "Finished on 2019-5-15 at 10:49:47\n",
      "Finished on 2019-5-15 at 10:50:9\n",
      "Finished on 2019-5-15 at 10:50:20\n",
      "Finished on 2019-5-15 at 10:50:31\n",
      "Finished on 2019-5-15 at 10:50:42\n",
      "Finished on 2019-5-15 at 10:50:53\n",
      "Finished on 2019-5-15 at 10:51:4\n",
      "Finished on 2019-5-15 at 10:51:16\n",
      "Finished on 2019-5-15 at 10:51:27\n",
      "Finished on 2019-5-15 at 10:51:39\n",
      "Finished on 2019-5-15 at 10:51:50\n",
      "Finished on 2019-5-15 at 10:52:0\n",
      "Finished on 2019-5-15 at 10:52:21\n",
      "Finished on 2019-5-15 at 10:52:33\n",
      "Finished on 2019-5-15 at 10:52:44\n",
      "Finished on 2019-5-15 at 10:52:55\n",
      "Finished on 2019-5-15 at 10:53:7\n",
      "Finished on 2019-5-15 at 10:53:18\n",
      "Finished on 2019-5-15 at 10:53:30\n",
      "Finished on 2019-5-15 at 10:53:41\n",
      "Finished on 2019-5-15 at 10:53:52\n",
      "Finished on 2019-5-15 at 10:54:2\n",
      "Finished on 2019-5-15 at 10:54:11\n",
      "Finished on 2019-5-15 at 10:54:32\n",
      "Finished on 2019-5-15 at 10:54:44\n",
      "Finished on 2019-5-15 at 10:54:56\n",
      "Finished on 2019-5-15 at 10:55:8\n",
      "Finished on 2019-5-15 at 10:55:20\n",
      "Finished on 2019-5-15 at 10:55:32\n",
      "Finished on 2019-5-15 at 10:55:44\n",
      "Finished on 2019-5-15 at 10:55:55\n",
      "Finished on 2019-5-15 at 10:56:15\n",
      "Finished on 2019-5-15 at 10:56:25\n",
      "Finished on 2019-5-15 at 10:56:33\n",
      "Finished on 2019-5-15 at 10:57:27\n",
      "Finished on 2019-5-15 at 10:57:39\n",
      "Finished on 2019-5-15 at 10:57:52\n",
      "Finished on 2019-5-15 at 10:58:4\n",
      "Finished on 2019-5-15 at 10:58:16\n",
      "Finished on 2019-5-15 at 10:58:28\n",
      "Finished on 2019-5-15 at 10:58:39\n",
      "Finished on 2019-5-15 at 10:58:50\n",
      "Finished on 2019-5-15 at 10:59:0\n",
      "Finished on 2019-5-15 at 10:59:9\n",
      "Finished on 2019-5-15 at 10:59:17\n",
      "Finished on 2019-5-15 at 10:59:39\n",
      "Finished on 2019-5-15 at 10:59:51\n",
      "Finished on 2019-5-15 at 11:0:3\n",
      "Finished on 2019-5-15 at 11:0:15\n",
      "Finished on 2019-5-15 at 11:0:27\n",
      "Finished on 2019-5-15 at 11:0:39\n",
      "Finished on 2019-5-15 at 11:0:49\n",
      "Finished on 2019-5-15 at 11:0:59\n",
      "Finished on 2019-5-15 at 11:1:9\n",
      "Finished on 2019-5-15 at 11:1:17\n",
      "Finished on 2019-5-15 at 11:1:25\n",
      "Finished on 2019-5-15 at 11:1:45\n",
      "Finished on 2019-5-15 at 11:1:57\n",
      "Finished on 2019-5-15 at 11:2:9\n",
      "Finished on 2019-5-15 at 11:2:21\n",
      "Finished on 2019-5-15 at 11:2:33\n",
      "Finished on 2019-5-15 at 11:2:44\n",
      "Finished on 2019-5-15 at 11:2:54\n",
      "Finished on 2019-5-15 at 11:3:3\n",
      "Finished on 2019-5-15 at 11:3:12\n",
      "Finished on 2019-5-15 at 11:3:20\n",
      "Finished on 2019-5-15 at 11:3:28\n",
      "Finished on 2019-5-15 at 11:3:47\n",
      "Finished on 2019-5-15 at 11:3:59\n",
      "Finished on 2019-5-15 at 11:4:11\n",
      "Finished on 2019-5-15 at 11:4:23\n",
      "Finished on 2019-5-15 at 11:4:35\n",
      "Finished on 2019-5-15 at 11:4:46\n",
      "Finished on 2019-5-15 at 11:4:55\n",
      "Finished on 2019-5-15 at 11:5:4\n",
      "Finished on 2019-5-15 at 11:5:12\n",
      "Finished on 2019-5-15 at 11:5:20\n",
      "Finished on 2019-5-15 at 11:5:28\n",
      "Finished on 2019-5-15 at 11:5:48\n",
      "Finished on 2019-5-15 at 11:6:0\n",
      "Finished on 2019-5-15 at 11:6:12\n",
      "Finished on 2019-5-15 at 11:6:24\n",
      "Finished on 2019-5-15 at 11:6:35\n",
      "Finished on 2019-5-15 at 11:6:45\n",
      "Finished on 2019-5-15 at 11:6:54\n",
      "Finished on 2019-5-15 at 11:7:3\n",
      "Finished on 2019-5-15 at 11:7:11\n",
      "Finished on 2019-5-15 at 11:7:19\n",
      "Finished on 2019-5-15 at 11:7:27\n",
      "Finished on 2019-5-15 at 11:7:45\n",
      "Finished on 2019-5-15 at 11:7:57\n",
      "Finished on 2019-5-15 at 11:8:8\n",
      "Finished on 2019-5-15 at 11:8:20\n",
      "Finished on 2019-5-15 at 11:8:31\n",
      "Finished on 2019-5-15 at 11:8:41\n",
      "Finished on 2019-5-15 at 11:8:50\n",
      "Finished on 2019-5-15 at 11:8:59\n",
      "Finished on 2019-5-15 at 11:9:7\n",
      "Finished on 2019-5-15 at 11:9:15\n",
      "Finished on 2019-5-15 at 11:9:22\n",
      "Finished on 2019-5-15 at 11:10:10\n",
      "Finished on 2019-5-15 at 11:10:22\n",
      "Finished on 2019-5-15 at 11:10:34\n",
      "Finished on 2019-5-15 at 11:10:46\n",
      "Finished on 2019-5-15 at 11:10:58\n",
      "Finished on 2019-5-15 at 11:11:8\n",
      "Finished on 2019-5-15 at 11:11:18\n",
      "Finished on 2019-5-15 at 11:11:26\n",
      "Finished on 2019-5-15 at 11:11:34\n",
      "Finished on 2019-5-15 at 11:11:42\n",
      "Finished on 2019-5-15 at 11:11:50\n",
      "Finished on 2019-5-15 at 11:12:7\n",
      "Finished on 2019-5-15 at 11:12:19\n",
      "Finished on 2019-5-15 at 11:12:31\n",
      "Finished on 2019-5-15 at 11:12:42\n",
      "Finished on 2019-5-15 at 11:12:54\n",
      "Finished on 2019-5-15 at 11:13:4\n",
      "Finished on 2019-5-15 at 11:13:14\n",
      "Finished on 2019-5-15 at 11:13:22\n",
      "Finished on 2019-5-15 at 11:13:31\n",
      "Finished on 2019-5-15 at 11:13:39\n",
      "Finished on 2019-5-15 at 11:13:46\n",
      "Finished on 2019-5-15 at 11:14:3\n",
      "Finished on 2019-5-15 at 11:14:15\n",
      "Finished on 2019-5-15 at 11:14:27\n",
      "Finished on 2019-5-15 at 11:14:39\n",
      "Finished on 2019-5-15 at 11:14:50\n",
      "Finished on 2019-5-15 at 11:15:1\n",
      "Finished on 2019-5-15 at 11:15:10\n",
      "Finished on 2019-5-15 at 11:15:19\n",
      "Finished on 2019-5-15 at 11:15:27\n",
      "Finished on 2019-5-15 at 11:15:35\n",
      "Finished on 2019-5-15 at 11:15:43\n"
     ]
    }
   ],
   "source": [
    "for additionRate in np.logspace(0,14,15):\n",
    "    with open(f'C:\\\\Users\\\\MikeOrella\\\\Documents\\\\GitHub\\\\lignin-kmc\\\\results\\\\2start\\\\{additionRate:0.0e}.pkl','rb') as file:\n",
    "        raw = pickle.load(file)\n",
    "    \n",
    "    results = [0]*len(raw)\n",
    "    for i in range(len(raw)):\n",
    "        results[i] = par.Parallel(n_jobs = 8)( [ par.delayed(kmc.analyze)(adjacency = raw[i][j]['adjacency_matrix'], \n",
    "                                                                          nodes = raw[i][j]['monomers'] ) \n",
    "                                                 for j in range( len ( raw[i] ) ) ] )\n",
    "        \n",
    "        t = time.localtime()\n",
    "        \n",
    "        print('Finished on ' + str(t.tm_year) + '-' + str(t.tm_mon) + '-' + str(t.tm_mday) \n",
    "                + ' at ' + str(t.tm_hour) + ':' + str(t.tm_min) + ':' + str(t.tm_sec))\n",
    "\n",
    "        \n",
    "    with open(f'C:\\\\Users\\\\MikeOrella\\\\Documents\\\\GitHub\\\\lignin-kmc\\\\results\\\\2start\\\\{additionRate:0.0e}_analysis.pkl','wb+') as file:\n",
    "        pickle.dump(results,file)"
   ]
  },
  {
   "cell_type": "markdown",
   "metadata": {},
   "source": [
    "### Start Number Sensitivity\n",
    "The first analysis performed is the dependence of monomer yields and bond contents on SG ratio and addition rate, where we selected multiple SG ratios between 0.1 and 10 and ran the simulations for these scenarios."
   ]
  },
  {
   "cell_type": "code",
   "execution_count": 6,
   "metadata": {
    "scrolled": true
   },
   "outputs": [
    {
     "name": "stdout",
     "output_type": "stream",
     "text": [
      "Completed sensitivity iteration: 0.1\n",
      "Finished on 2019-5-16 at 10:40:23\n",
      "Completed sensitivity iteration: 0.2\n",
      "Finished on 2019-5-16 at 10:40:48\n",
      "Completed sensitivity iteration: 0.25\n",
      "Finished on 2019-5-16 at 10:41:13\n",
      "Completed sensitivity iteration: 0.33\n",
      "Finished on 2019-5-16 at 10:41:37\n",
      "Completed sensitivity iteration: 0.5\n",
      "Finished on 2019-5-16 at 10:42:2\n",
      "Completed sensitivity iteration: 1\n",
      "Finished on 2019-5-16 at 10:42:29\n",
      "Completed sensitivity iteration: 2\n",
      "Finished on 2019-5-16 at 10:42:58\n",
      "Completed sensitivity iteration: 3\n",
      "Finished on 2019-5-16 at 10:43:28\n",
      "Completed sensitivity iteration: 4\n",
      "Finished on 2019-5-16 at 10:44:2\n",
      "Completed sensitivity iteration: 5\n",
      "Finished on 2019-5-16 at 10:44:36\n",
      "Completed sensitivity iteration: 10\n",
      "Finished on 2019-5-16 at 10:45:10\n",
      "Saving.... completed\n",
      "Completed sensitivity iteration: 0.1\n",
      "Finished on 2019-5-16 at 10:46:33\n",
      "Completed sensitivity iteration: 0.2\n",
      "Finished on 2019-5-16 at 10:47:21\n",
      "Completed sensitivity iteration: 0.25\n",
      "Finished on 2019-5-16 at 10:48:6\n",
      "Completed sensitivity iteration: 0.33\n",
      "Finished on 2019-5-16 at 10:48:53\n",
      "Completed sensitivity iteration: 0.5\n",
      "Finished on 2019-5-16 at 10:49:37\n",
      "Completed sensitivity iteration: 1\n",
      "Finished on 2019-5-16 at 10:50:23\n",
      "Completed sensitivity iteration: 2\n",
      "Finished on 2019-5-16 at 10:51:11\n",
      "Completed sensitivity iteration: 3\n",
      "Finished on 2019-5-16 at 10:52:2\n",
      "Completed sensitivity iteration: 4\n",
      "Finished on 2019-5-16 at 10:52:55\n",
      "Completed sensitivity iteration: 5\n",
      "Finished on 2019-5-16 at 10:53:50\n",
      "Completed sensitivity iteration: 10\n",
      "Finished on 2019-5-16 at 10:54:54\n",
      "Saving.... completed\n",
      "Completed sensitivity iteration: 0.1\n",
      "Finished on 2019-5-16 at 10:57:38\n",
      "Completed sensitivity iteration: 0.2\n",
      "Finished on 2019-5-16 at 10:59:41\n",
      "Completed sensitivity iteration: 0.25\n",
      "Finished on 2019-5-16 at 11:1:46\n",
      "Completed sensitivity iteration: 0.33\n",
      "Finished on 2019-5-16 at 11:3:45\n",
      "Completed sensitivity iteration: 0.5\n",
      "Finished on 2019-5-16 at 11:5:37\n",
      "Completed sensitivity iteration: 1\n",
      "Finished on 2019-5-16 at 11:7:29\n",
      "Completed sensitivity iteration: 2\n",
      "Finished on 2019-5-16 at 11:9:31\n",
      "Completed sensitivity iteration: 3\n",
      "Finished on 2019-5-16 at 11:11:38\n",
      "Completed sensitivity iteration: 4\n",
      "Finished on 2019-5-16 at 11:13:44\n",
      "Completed sensitivity iteration: 5\n",
      "Finished on 2019-5-16 at 11:15:46\n",
      "Completed sensitivity iteration: 10\n",
      "Finished on 2019-5-16 at 11:18:3\n",
      "Saving.... completed\n",
      "Completed sensitivity iteration: 0.1\n",
      "Finished on 2019-5-16 at 11:36:6\n",
      "Completed sensitivity iteration: 0.2\n",
      "Finished on 2019-5-16 at 11:53:34\n",
      "Completed sensitivity iteration: 0.25\n",
      "Finished on 2019-5-16 at 12:10:41\n",
      "Completed sensitivity iteration: 0.33\n",
      "Finished on 2019-5-16 at 12:27:23\n",
      "Completed sensitivity iteration: 0.5\n",
      "Finished on 2019-5-16 at 12:43:27\n",
      "Completed sensitivity iteration: 1\n",
      "Finished on 2019-5-16 at 12:57:28\n",
      "Completed sensitivity iteration: 2\n",
      "Finished on 2019-5-16 at 13:10:27\n",
      "Completed sensitivity iteration: 3\n",
      "Finished on 2019-5-16 at 13:23:40\n",
      "Completed sensitivity iteration: 4\n",
      "Finished on 2019-5-16 at 13:36:53\n",
      "Completed sensitivity iteration: 5\n",
      "Finished on 2019-5-16 at 13:50:8\n",
      "Completed sensitivity iteration: 10\n",
      "Finished on 2019-5-16 at 14:3:18\n",
      "Saving.... completed\n"
     ]
    },
    {
     "name": "stderr",
     "output_type": "stream",
     "text": [
      "C:\\Users\\MikeOrella\\Miniconda3\\envs\\lignin_kmc\\lib\\site-packages\\joblib\\externals\\loky\\process_executor.py:700: UserWarning: A worker stopped while some jobs were given to the executor. This can be caused by a too short worker timeout or by a memory leak.\n",
      "  \"timeout or by a memory leak.\", UserWarning\n"
     ]
    },
    {
     "name": "stdout",
     "output_type": "stream",
     "text": [
      "Completed sensitivity iteration: 0.1\n",
      "Finished on 2019-5-16 at 15:41:15\n",
      "Completed sensitivity iteration: 0.2\n",
      "Finished on 2019-5-16 at 17:15:48\n",
      "Completed sensitivity iteration: 0.25\n",
      "Finished on 2019-5-16 at 18:48:16\n",
      "Completed sensitivity iteration: 0.33\n",
      "Finished on 2019-5-16 at 20:19:33\n",
      "Completed sensitivity iteration: 0.5\n",
      "Finished on 2019-5-16 at 21:46:57\n",
      "Completed sensitivity iteration: 1\n",
      "Finished on 2019-5-16 at 23:10:36\n",
      "Completed sensitivity iteration: 2\n",
      "Finished on 2019-5-17 at 0:33:22\n",
      "Completed sensitivity iteration: 3\n",
      "Finished on 2019-5-17 at 1:54:35\n",
      "Completed sensitivity iteration: 4\n",
      "Finished on 2019-5-17 at 3:13:33\n",
      "Completed sensitivity iteration: 5\n",
      "Finished on 2019-5-17 at 4:33:9\n",
      "Completed sensitivity iteration: 10\n",
      "Finished on 2019-5-17 at 5:49:15\n",
      "Saving.... completed\n"
     ]
    }
   ],
   "source": [
    "sg_opts = [0.1,0.2,0.25,0.33,0.5,1,2,3,4,5,10]\n",
    "\n",
    "fun = par.delayed(kmc.run)\n",
    "\n",
    "for startNum in [2,50,100,250,499]:\n",
    "    resultsToSave = []\n",
    "\n",
    "    for sg in sg_opts:\n",
    "        #Set the percentage of S\n",
    "        pct = sg / (1 + sg)\n",
    "\n",
    "        #Make choices about what kinds of monomers there are\n",
    "        n = startNum\n",
    "        rands = np.random.rand(n)\n",
    "\n",
    "        #Initialize the monomers, events, and state\n",
    "        mons = [ kmc.Monomer( int ( sOrG < pct ) , i ) for i,sOrG in zip ( range(n) , rands ) ]\n",
    "        startEvents = [ kmc.Event ( 'ox' , [i] , rates['ox'][ int( sOrG < pct ) ]['monomer'] ) for i,sOrG in zip ( range(n) , rands) ]\n",
    "\n",
    "        state = { i : {'mon' : mons[i] , 'affected' : {startEvents[i]} } for i in range(n) }\n",
    "        events = { startEvents[i] for i in range(n) }\n",
    "        events.add(kmc.Event('grow',[],rate = 1e0,bond = sg))\n",
    "\n",
    "        results = par.Parallel(n_jobs = 16)([fun(nMax = 500, tFinal = 1e5,rates = rates,initialState = state,initialEvents = events)\n",
    "                                            for _ in range(100)])\n",
    "        resultsToSave.append(results)\n",
    "        print('Completed sensitivity iteration: ' + str(sg))\n",
    "\n",
    "        t = time.localtime()\n",
    "        print('Finished on ' + str(t.tm_year) + '-' + str(t.tm_mon) + '-' + str(t.tm_mday) \n",
    "                + ' at ' + str(t.tm_hour) + ':' + str(t.tm_min) + ':' + str(t.tm_sec))\n",
    "\n",
    "    with open(f'C:\\\\Users\\\\MikeOrella\\\\Documents\\\\GitHub\\\\lignin-kmc\\\\results\\\\startNum_1e0add\\\\{startNum:0n}.pkl','wb+') as file:\n",
    "        pickle.dump(resultsToSave,file)\n",
    "        print('Saving.... completed')"
   ]
  },
  {
   "cell_type": "code",
   "execution_count": 7,
   "metadata": {},
   "outputs": [
    {
     "name": "stdout",
     "output_type": "stream",
     "text": [
      "Finished on 2019-5-17 at 9:32:51\n",
      "Finished on 2019-5-17 at 9:33:1\n",
      "Finished on 2019-5-17 at 9:33:11\n",
      "Finished on 2019-5-17 at 9:33:21\n",
      "Finished on 2019-5-17 at 9:33:31\n",
      "Finished on 2019-5-17 at 9:33:41\n",
      "Finished on 2019-5-17 at 9:33:51\n",
      "Finished on 2019-5-17 at 9:34:6\n",
      "Finished on 2019-5-17 at 9:34:17\n",
      "Finished on 2019-5-17 at 9:34:28\n",
      "Finished on 2019-5-17 at 9:34:40\n",
      "Finished on 2019-5-17 at 9:34:53\n",
      "Finished on 2019-5-17 at 9:35:4\n",
      "Finished on 2019-5-17 at 9:35:14\n",
      "Finished on 2019-5-17 at 9:35:24\n",
      "Finished on 2019-5-17 at 9:35:34\n",
      "Finished on 2019-5-17 at 9:35:44\n",
      "Finished on 2019-5-17 at 9:35:55\n",
      "Finished on 2019-5-17 at 9:36:10\n",
      "Finished on 2019-5-17 at 9:36:21\n",
      "Finished on 2019-5-17 at 9:36:33\n",
      "Finished on 2019-5-17 at 9:36:44\n",
      "Finished on 2019-5-17 at 9:36:58\n",
      "Finished on 2019-5-17 at 9:37:8\n",
      "Finished on 2019-5-17 at 9:37:19\n",
      "Finished on 2019-5-17 at 9:37:29\n",
      "Finished on 2019-5-17 at 9:37:39\n",
      "Finished on 2019-5-17 at 9:37:50\n",
      "Finished on 2019-5-17 at 9:38:1\n",
      "Finished on 2019-5-17 at 9:38:11\n",
      "Finished on 2019-5-17 at 9:38:27\n",
      "Finished on 2019-5-17 at 9:38:39\n",
      "Finished on 2019-5-17 at 9:38:50\n",
      "Finished on 2019-5-17 at 9:39:4\n",
      "Finished on 2019-5-17 at 9:39:15\n",
      "Finished on 2019-5-17 at 9:39:26\n",
      "Finished on 2019-5-17 at 9:39:37\n",
      "Finished on 2019-5-17 at 9:39:48\n",
      "Finished on 2019-5-17 at 9:39:58\n",
      "Finished on 2019-5-17 at 9:40:9\n",
      "Finished on 2019-5-17 at 9:40:20\n",
      "Finished on 2019-5-17 at 9:40:31\n",
      "Finished on 2019-5-17 at 9:40:41\n",
      "Finished on 2019-5-17 at 9:40:50\n",
      "Finished on 2019-5-17 at 9:41:10\n",
      "Finished on 2019-5-17 at 9:41:21\n",
      "Finished on 2019-5-17 at 9:41:32\n",
      "Finished on 2019-5-17 at 9:41:43\n",
      "Finished on 2019-5-17 at 9:41:53\n",
      "Finished on 2019-5-17 at 9:42:3\n",
      "Finished on 2019-5-17 at 9:42:12\n",
      "Finished on 2019-5-17 at 9:42:20\n",
      "Finished on 2019-5-17 at 9:42:27\n",
      "Finished on 2019-5-17 at 9:42:34\n",
      "Finished on 2019-5-17 at 9:42:41\n"
     ]
    }
   ],
   "source": [
    "for startNum in [2,50,100,250,499]:\n",
    "    with open(f'C:\\\\Users\\\\MikeOrella\\\\Documents\\\\GitHub\\\\lignin-kmc\\\\results\\\\startNum_1e0add\\\\{startNum:0n}.pkl','rb') as file:\n",
    "        raw = pickle.load(file)\n",
    "    \n",
    "    results = [0]*len(raw)\n",
    "    for i in range(len(raw)):\n",
    "        results[i] = par.Parallel(n_jobs = 8)( [ par.delayed(kmc.analyze)(adjacency = raw[i][j]['adjacency_matrix'], \n",
    "                                                                          nodes = raw[i][j]['monomers'] ) \n",
    "                                                 for j in range( len ( raw[i] ) ) ] )\n",
    "        \n",
    "        t = time.localtime()\n",
    "        \n",
    "        print('Finished on ' + str(t.tm_year) + '-' + str(t.tm_mon) + '-' + str(t.tm_mday) \n",
    "                + ' at ' + str(t.tm_hour) + ':' + str(t.tm_min) + ':' + str(t.tm_sec))\n",
    "\n",
    "        \n",
    "    with open(f'C:\\\\Users\\\\MikeOrella\\\\Documents\\\\GitHub\\\\lignin-kmc\\\\results\\\\startNum_1e0add\\\\{startNum:0n}_analysis.pkl','wb+') as file:\n",
    "        pickle.dump(results,file)"
   ]
  },
  {
   "cell_type": "markdown",
   "metadata": {},
   "source": [
    "## C-lignin example"
   ]
  },
  {
   "cell_type": "code",
   "execution_count": 8,
   "metadata": {
    "scrolled": true
   },
   "outputs": [],
   "source": [
    "fun = par.delayed(kmc.run)\n",
    "\n",
    "mons = [ kmc.Monomer( 2 , i ) for i in range(n) ]\n",
    "startEvents = [ kmc.Event ( 'ox' , [i] , cRates['ox'][ 2 ]['monomer'] ) for i in range(n) ]\n",
    "\n",
    "state = { i : {'mon' : mons[i] , 'affected' : {startEvents[i]} } for i in range(n)}\n",
    "events = { startEvents[i] for i in range(n)}\n",
    "events.add(kmc.Event('grow',[],rate=1e4))\n",
    "\n",
    "res = kmc.run(nMax = 10,tFinal = 1, rates = cRates, initialState = state, initialEvents = events)\n",
    "\n",
    "#Make choices about what kinds of monomers there are\n",
    "n = 2\n",
    "\n",
    "#Initialize the monomers, events, and state\n",
    "mons = [ kmc.Monomer( 2 , i ) for i in range(n) ]\n",
    "startEvents = [ kmc.Event ( 'ox' , [i] , cRates['ox'][ 2 ]['monomer'] ) for i in range(n) ]\n",
    "\n",
    "state = { i : {'mon' : mons[i] , 'affected' : {startEvents[i]} } for i in range(n) }\n",
    "events = { startEvents[i] for i in range(n) }\n",
    "events.add( kmc.Event('grow',[],rate = 1e0 ) )\n",
    "\n",
    "results = par.Parallel(n_jobs = 16)([fun(nMax = 500, tFinal = 1e5,rates = cRates,initialState = state,initialEvents = events)\n",
    "                                    for _ in range(100)])\n",
    "\n",
    "with open(f'C:\\\\Users\\\\MikeOrella\\\\Documents\\\\GitHub\\\\lignin-kmc\\\\results\\\\cLignin\\\\slow_results.pkl','wb+') as file:\n",
    "    pickle.dump(results,file)\n"
   ]
  },
  {
   "cell_type": "code",
   "execution_count": 11,
   "metadata": {},
   "outputs": [],
   "source": [
    "with open(f'C:\\\\Users\\\\MikeOrella\\\\Documents\\\\GitHub\\\\lignin-kmc\\\\results\\\\cLignin\\\\slow_results.pkl','rb') as file:\n",
    "    results = pickle.load(file)\n",
    "    \n",
    "analysis = par.Parallel(n_jobs = 16)( [ par.delayed(kmc.analyze)(adjacency = results[i]['adjacency_matrix'], \n",
    "                                                                          nodes = results[i]['monomers'] ) \n",
    "                                                 for i in range( len ( results ) ) ] )\n",
    "\n",
    "with open(f'C:\\\\Users\\\\MikeOrella\\\\Documents\\\\GitHub\\\\lignin-kmc\\\\results\\\\cLignin\\\\slow_results_analysis.pkl','wb+') as file:\n",
    "    pickle.dump(analysis,file)"
   ]
  },
  {
   "cell_type": "code",
   "execution_count": 12,
   "metadata": {},
   "outputs": [
    {
     "name": "stdout",
     "output_type": "stream",
     "text": [
      "[{'Chain Lengths': Counter({500: 1}), 'Bonds': {'bo4': 498, 'b1': 0, 'bb': 0, 'b5': 1, '55': 0, 'ao4': 0, '5o4': 0}, 'RCF Yields': Counter({1: 498, 2: 1}), 'RCF Bonds': {'bo4': 0, 'b1': 0, 'bb': 0, 'b5': 1, '55': 0, 'ao4': 0, '5o4': 0}}, {'Chain Lengths': Counter({500: 1}), 'Bonds': {'bo4': 498, 'b1': 0, 'bb': 0, 'b5': 1, '55': 0, 'ao4': 0, '5o4': 0}, 'RCF Yields': Counter({1: 498, 2: 1}), 'RCF Bonds': {'bo4': 0, 'b1': 0, 'bb': 0, 'b5': 1, '55': 0, 'ao4': 0, '5o4': 0}}, {'Chain Lengths': Counter({500: 1}), 'Bonds': {'bo4': 497, 'b1': 0, 'bb': 0, 'b5': 2, '55': 0, 'ao4': 0, '5o4': 0}, 'RCF Yields': Counter({1: 496, 2: 2}), 'RCF Bonds': {'bo4': 0, 'b1': 0, 'bb': 0, 'b5': 2, '55': 0, 'ao4': 0, '5o4': 0}}, {'Chain Lengths': Counter({500: 1}), 'Bonds': {'bo4': 497, 'b1': 0, 'bb': 0, 'b5': 2, '55': 0, 'ao4': 0, '5o4': 0}, 'RCF Yields': Counter({1: 496, 2: 2}), 'RCF Bonds': {'bo4': 0, 'b1': 0, 'bb': 0, 'b5': 2, '55': 0, 'ao4': 0, '5o4': 0}}, {'Chain Lengths': Counter({500: 1}), 'Bonds': {'bo4': 498, 'b1': 0, 'bb': 0, 'b5': 1, '55': 0, 'ao4': 0, '5o4': 0}, 'RCF Yields': Counter({1: 498, 2: 1}), 'RCF Bonds': {'bo4': 0, 'b1': 0, 'bb': 0, 'b5': 1, '55': 0, 'ao4': 0, '5o4': 0}}, {'Chain Lengths': Counter({500: 1}), 'Bonds': {'bo4': 499, 'b1': 0, 'bb': 0, 'b5': 0, '55': 0, 'ao4': 0, '5o4': 0}, 'RCF Yields': Counter({1: 500}), 'RCF Bonds': {'bo4': 0, 'b1': 0, 'bb': 0, 'b5': 0, '55': 0, 'ao4': 0, '5o4': 0}}, {'Chain Lengths': Counter({500: 1}), 'Bonds': {'bo4': 498, 'b1': 0, 'bb': 0, 'b5': 1, '55': 0, 'ao4': 0, '5o4': 0}, 'RCF Yields': Counter({1: 498, 2: 1}), 'RCF Bonds': {'bo4': 0, 'b1': 0, 'bb': 0, 'b5': 1, '55': 0, 'ao4': 0, '5o4': 0}}, {'Chain Lengths': Counter({500: 1}), 'Bonds': {'bo4': 497, 'b1': 0, 'bb': 0, 'b5': 2, '55': 0, 'ao4': 0, '5o4': 0}, 'RCF Yields': Counter({1: 496, 2: 2}), 'RCF Bonds': {'bo4': 0, 'b1': 0, 'bb': 0, 'b5': 2, '55': 0, 'ao4': 0, '5o4': 0}}, {'Chain Lengths': Counter({500: 1}), 'Bonds': {'bo4': 497, 'b1': 0, 'bb': 0, 'b5': 2, '55': 0, 'ao4': 0, '5o4': 0}, 'RCF Yields': Counter({1: 496, 2: 2}), 'RCF Bonds': {'bo4': 0, 'b1': 0, 'bb': 0, 'b5': 2, '55': 0, 'ao4': 0, '5o4': 0}}, {'Chain Lengths': Counter({500: 1}), 'Bonds': {'bo4': 498, 'b1': 0, 'bb': 0, 'b5': 1, '55': 0, 'ao4': 0, '5o4': 0}, 'RCF Yields': Counter({1: 498, 2: 1}), 'RCF Bonds': {'bo4': 0, 'b1': 0, 'bb': 0, 'b5': 1, '55': 0, 'ao4': 0, '5o4': 0}}, {'Chain Lengths': Counter({500: 1}), 'Bonds': {'bo4': 498, 'b1': 0, 'bb': 0, 'b5': 1, '55': 0, 'ao4': 0, '5o4': 0}, 'RCF Yields': Counter({1: 498, 2: 1}), 'RCF Bonds': {'bo4': 0, 'b1': 0, 'bb': 0, 'b5': 1, '55': 0, 'ao4': 0, '5o4': 0}}, {'Chain Lengths': Counter({500: 1}), 'Bonds': {'bo4': 498, 'b1': 0, 'bb': 0, 'b5': 1, '55': 0, 'ao4': 0, '5o4': 0}, 'RCF Yields': Counter({1: 498, 2: 1}), 'RCF Bonds': {'bo4': 0, 'b1': 0, 'bb': 0, 'b5': 1, '55': 0, 'ao4': 0, '5o4': 0}}, {'Chain Lengths': Counter({500: 1}), 'Bonds': {'bo4': 498, 'b1': 0, 'bb': 0, 'b5': 1, '55': 0, 'ao4': 0, '5o4': 0}, 'RCF Yields': Counter({1: 498, 2: 1}), 'RCF Bonds': {'bo4': 0, 'b1': 0, 'bb': 0, 'b5': 1, '55': 0, 'ao4': 0, '5o4': 0}}, {'Chain Lengths': Counter({500: 1}), 'Bonds': {'bo4': 497, 'b1': 0, 'bb': 0, 'b5': 2, '55': 0, 'ao4': 0, '5o4': 0}, 'RCF Yields': Counter({1: 496, 2: 2}), 'RCF Bonds': {'bo4': 0, 'b1': 0, 'bb': 0, 'b5': 2, '55': 0, 'ao4': 0, '5o4': 0}}, {'Chain Lengths': Counter({500: 1}), 'Bonds': {'bo4': 497, 'b1': 0, 'bb': 0, 'b5': 2, '55': 0, 'ao4': 0, '5o4': 0}, 'RCF Yields': Counter({1: 496, 2: 2}), 'RCF Bonds': {'bo4': 0, 'b1': 0, 'bb': 0, 'b5': 2, '55': 0, 'ao4': 0, '5o4': 0}}, {'Chain Lengths': Counter({500: 1}), 'Bonds': {'bo4': 498, 'b1': 0, 'bb': 0, 'b5': 1, '55': 0, 'ao4': 0, '5o4': 0}, 'RCF Yields': Counter({1: 498, 2: 1}), 'RCF Bonds': {'bo4': 0, 'b1': 0, 'bb': 0, 'b5': 1, '55': 0, 'ao4': 0, '5o4': 0}}, {'Chain Lengths': Counter({500: 1}), 'Bonds': {'bo4': 498, 'b1': 0, 'bb': 0, 'b5': 1, '55': 0, 'ao4': 0, '5o4': 0}, 'RCF Yields': Counter({1: 498, 2: 1}), 'RCF Bonds': {'bo4': 0, 'b1': 0, 'bb': 0, 'b5': 1, '55': 0, 'ao4': 0, '5o4': 0}}, {'Chain Lengths': Counter({500: 1}), 'Bonds': {'bo4': 498, 'b1': 0, 'bb': 0, 'b5': 1, '55': 0, 'ao4': 0, '5o4': 0}, 'RCF Yields': Counter({1: 498, 2: 1}), 'RCF Bonds': {'bo4': 0, 'b1': 0, 'bb': 0, 'b5': 1, '55': 0, 'ao4': 0, '5o4': 0}}, {'Chain Lengths': Counter({500: 1}), 'Bonds': {'bo4': 497, 'b1': 0, 'bb': 0, 'b5': 2, '55': 0, 'ao4': 0, '5o4': 0}, 'RCF Yields': Counter({1: 496, 2: 2}), 'RCF Bonds': {'bo4': 0, 'b1': 0, 'bb': 0, 'b5': 2, '55': 0, 'ao4': 0, '5o4': 0}}, {'Chain Lengths': Counter({500: 1}), 'Bonds': {'bo4': 498, 'b1': 0, 'bb': 0, 'b5': 1, '55': 0, 'ao4': 0, '5o4': 0}, 'RCF Yields': Counter({1: 498, 2: 1}), 'RCF Bonds': {'bo4': 0, 'b1': 0, 'bb': 0, 'b5': 1, '55': 0, 'ao4': 0, '5o4': 0}}, {'Chain Lengths': Counter({500: 1}), 'Bonds': {'bo4': 498, 'b1': 0, 'bb': 0, 'b5': 1, '55': 0, 'ao4': 0, '5o4': 0}, 'RCF Yields': Counter({1: 498, 2: 1}), 'RCF Bonds': {'bo4': 0, 'b1': 0, 'bb': 0, 'b5': 1, '55': 0, 'ao4': 0, '5o4': 0}}, {'Chain Lengths': Counter({500: 1}), 'Bonds': {'bo4': 498, 'b1': 0, 'bb': 0, 'b5': 1, '55': 0, 'ao4': 0, '5o4': 0}, 'RCF Yields': Counter({1: 498, 2: 1}), 'RCF Bonds': {'bo4': 0, 'b1': 0, 'bb': 0, 'b5': 1, '55': 0, 'ao4': 0, '5o4': 0}}, {'Chain Lengths': Counter({500: 1}), 'Bonds': {'bo4': 498, 'b1': 0, 'bb': 0, 'b5': 1, '55': 0, 'ao4': 0, '5o4': 0}, 'RCF Yields': Counter({1: 498, 2: 1}), 'RCF Bonds': {'bo4': 0, 'b1': 0, 'bb': 0, 'b5': 1, '55': 0, 'ao4': 0, '5o4': 0}}, {'Chain Lengths': Counter({500: 1}), 'Bonds': {'bo4': 498, 'b1': 0, 'bb': 0, 'b5': 1, '55': 0, 'ao4': 0, '5o4': 0}, 'RCF Yields': Counter({1: 498, 2: 1}), 'RCF Bonds': {'bo4': 0, 'b1': 0, 'bb': 0, 'b5': 1, '55': 0, 'ao4': 0, '5o4': 0}}, {'Chain Lengths': Counter({500: 1}), 'Bonds': {'bo4': 498, 'b1': 0, 'bb': 0, 'b5': 1, '55': 0, 'ao4': 0, '5o4': 0}, 'RCF Yields': Counter({1: 498, 2: 1}), 'RCF Bonds': {'bo4': 0, 'b1': 0, 'bb': 0, 'b5': 1, '55': 0, 'ao4': 0, '5o4': 0}}, {'Chain Lengths': Counter({500: 1}), 'Bonds': {'bo4': 498, 'b1': 0, 'bb': 0, 'b5': 1, '55': 0, 'ao4': 0, '5o4': 0}, 'RCF Yields': Counter({1: 498, 2: 1}), 'RCF Bonds': {'bo4': 0, 'b1': 0, 'bb': 0, 'b5': 1, '55': 0, 'ao4': 0, '5o4': 0}}, {'Chain Lengths': Counter({500: 1}), 'Bonds': {'bo4': 498, 'b1': 0, 'bb': 0, 'b5': 1, '55': 0, 'ao4': 0, '5o4': 0}, 'RCF Yields': Counter({1: 498, 2: 1}), 'RCF Bonds': {'bo4': 0, 'b1': 0, 'bb': 0, 'b5': 1, '55': 0, 'ao4': 0, '5o4': 0}}, {'Chain Lengths': Counter({500: 1}), 'Bonds': {'bo4': 497, 'b1': 0, 'bb': 0, 'b5': 2, '55': 0, 'ao4': 0, '5o4': 0}, 'RCF Yields': Counter({1: 496, 2: 2}), 'RCF Bonds': {'bo4': 0, 'b1': 0, 'bb': 0, 'b5': 2, '55': 0, 'ao4': 0, '5o4': 0}}, {'Chain Lengths': Counter({500: 1}), 'Bonds': {'bo4': 498, 'b1': 0, 'bb': 0, 'b5': 1, '55': 0, 'ao4': 0, '5o4': 0}, 'RCF Yields': Counter({1: 498, 2: 1}), 'RCF Bonds': {'bo4': 0, 'b1': 0, 'bb': 0, 'b5': 1, '55': 0, 'ao4': 0, '5o4': 0}}, {'Chain Lengths': Counter({500: 1}), 'Bonds': {'bo4': 498, 'b1': 0, 'bb': 0, 'b5': 1, '55': 0, 'ao4': 0, '5o4': 0}, 'RCF Yields': Counter({1: 498, 2: 1}), 'RCF Bonds': {'bo4': 0, 'b1': 0, 'bb': 0, 'b5': 1, '55': 0, 'ao4': 0, '5o4': 0}}, {'Chain Lengths': Counter({500: 1}), 'Bonds': {'bo4': 498, 'b1': 0, 'bb': 0, 'b5': 1, '55': 0, 'ao4': 0, '5o4': 0}, 'RCF Yields': Counter({1: 498, 2: 1}), 'RCF Bonds': {'bo4': 0, 'b1': 0, 'bb': 0, 'b5': 1, '55': 0, 'ao4': 0, '5o4': 0}}, {'Chain Lengths': Counter({500: 1}), 'Bonds': {'bo4': 498, 'b1': 0, 'bb': 0, 'b5': 1, '55': 0, 'ao4': 0, '5o4': 0}, 'RCF Yields': Counter({1: 498, 2: 1}), 'RCF Bonds': {'bo4': 0, 'b1': 0, 'bb': 0, 'b5': 1, '55': 0, 'ao4': 0, '5o4': 0}}, {'Chain Lengths': Counter({500: 1}), 'Bonds': {'bo4': 498, 'b1': 0, 'bb': 0, 'b5': 1, '55': 0, 'ao4': 0, '5o4': 0}, 'RCF Yields': Counter({1: 498, 2: 1}), 'RCF Bonds': {'bo4': 0, 'b1': 0, 'bb': 0, 'b5': 1, '55': 0, 'ao4': 0, '5o4': 0}}, {'Chain Lengths': Counter({500: 1}), 'Bonds': {'bo4': 496, 'b1': 0, 'bb': 0, 'b5': 3, '55': 0, 'ao4': 0, '5o4': 0}, 'RCF Yields': Counter({1: 494, 2: 3}), 'RCF Bonds': {'bo4': 0, 'b1': 0, 'bb': 0, 'b5': 3, '55': 0, 'ao4': 0, '5o4': 0}}, {'Chain Lengths': Counter({500: 1}), 'Bonds': {'bo4': 498, 'b1': 0, 'bb': 0, 'b5': 1, '55': 0, 'ao4': 0, '5o4': 0}, 'RCF Yields': Counter({1: 498, 2: 1}), 'RCF Bonds': {'bo4': 0, 'b1': 0, 'bb': 0, 'b5': 1, '55': 0, 'ao4': 0, '5o4': 0}}, {'Chain Lengths': Counter({500: 1}), 'Bonds': {'bo4': 498, 'b1': 0, 'bb': 0, 'b5': 1, '55': 0, 'ao4': 0, '5o4': 0}, 'RCF Yields': Counter({1: 498, 2: 1}), 'RCF Bonds': {'bo4': 0, 'b1': 0, 'bb': 0, 'b5': 1, '55': 0, 'ao4': 0, '5o4': 0}}, {'Chain Lengths': Counter({500: 1}), 'Bonds': {'bo4': 498, 'b1': 0, 'bb': 0, 'b5': 1, '55': 0, 'ao4': 0, '5o4': 0}, 'RCF Yields': Counter({1: 498, 2: 1}), 'RCF Bonds': {'bo4': 0, 'b1': 0, 'bb': 0, 'b5': 1, '55': 0, 'ao4': 0, '5o4': 0}}, {'Chain Lengths': Counter({500: 1}), 'Bonds': {'bo4': 497, 'b1': 0, 'bb': 0, 'b5': 2, '55': 0, 'ao4': 0, '5o4': 0}, 'RCF Yields': Counter({1: 496, 2: 2}), 'RCF Bonds': {'bo4': 0, 'b1': 0, 'bb': 0, 'b5': 2, '55': 0, 'ao4': 0, '5o4': 0}}, {'Chain Lengths': Counter({500: 1}), 'Bonds': {'bo4': 498, 'b1': 0, 'bb': 0, 'b5': 1, '55': 0, 'ao4': 0, '5o4': 0}, 'RCF Yields': Counter({1: 498, 2: 1}), 'RCF Bonds': {'bo4': 0, 'b1': 0, 'bb': 0, 'b5': 1, '55': 0, 'ao4': 0, '5o4': 0}}, {'Chain Lengths': Counter({500: 1}), 'Bonds': {'bo4': 498, 'b1': 0, 'bb': 0, 'b5': 1, '55': 0, 'ao4': 0, '5o4': 0}, 'RCF Yields': Counter({1: 498, 2: 1}), 'RCF Bonds': {'bo4': 0, 'b1': 0, 'bb': 0, 'b5': 1, '55': 0, 'ao4': 0, '5o4': 0}}, {'Chain Lengths': Counter({500: 1}), 'Bonds': {'bo4': 498, 'b1': 0, 'bb': 0, 'b5': 1, '55': 0, 'ao4': 0, '5o4': 0}, 'RCF Yields': Counter({1: 498, 2: 1}), 'RCF Bonds': {'bo4': 0, 'b1': 0, 'bb': 0, 'b5': 1, '55': 0, 'ao4': 0, '5o4': 0}}, {'Chain Lengths': Counter({500: 1}), 'Bonds': {'bo4': 498, 'b1': 0, 'bb': 0, 'b5': 1, '55': 0, 'ao4': 0, '5o4': 0}, 'RCF Yields': Counter({1: 498, 2: 1}), 'RCF Bonds': {'bo4': 0, 'b1': 0, 'bb': 0, 'b5': 1, '55': 0, 'ao4': 0, '5o4': 0}}, {'Chain Lengths': Counter({500: 1}), 'Bonds': {'bo4': 498, 'b1': 0, 'bb': 0, 'b5': 1, '55': 0, 'ao4': 0, '5o4': 0}, 'RCF Yields': Counter({1: 498, 2: 1}), 'RCF Bonds': {'bo4': 0, 'b1': 0, 'bb': 0, 'b5': 1, '55': 0, 'ao4': 0, '5o4': 0}}, {'Chain Lengths': Counter({500: 1}), 'Bonds': {'bo4': 497, 'b1': 0, 'bb': 0, 'b5': 2, '55': 0, 'ao4': 0, '5o4': 0}, 'RCF Yields': Counter({1: 496, 2: 2}), 'RCF Bonds': {'bo4': 0, 'b1': 0, 'bb': 0, 'b5': 2, '55': 0, 'ao4': 0, '5o4': 0}}, {'Chain Lengths': Counter({500: 1}), 'Bonds': {'bo4': 498, 'b1': 0, 'bb': 0, 'b5': 1, '55': 0, 'ao4': 0, '5o4': 0}, 'RCF Yields': Counter({1: 498, 2: 1}), 'RCF Bonds': {'bo4': 0, 'b1': 0, 'bb': 0, 'b5': 1, '55': 0, 'ao4': 0, '5o4': 0}}, {'Chain Lengths': Counter({500: 1}), 'Bonds': {'bo4': 497, 'b1': 0, 'bb': 0, 'b5': 2, '55': 0, 'ao4': 0, '5o4': 0}, 'RCF Yields': Counter({1: 496, 2: 2}), 'RCF Bonds': {'bo4': 0, 'b1': 0, 'bb': 0, 'b5': 2, '55': 0, 'ao4': 0, '5o4': 0}}, {'Chain Lengths': Counter({500: 1}), 'Bonds': {'bo4': 498, 'b1': 0, 'bb': 0, 'b5': 1, '55': 0, 'ao4': 0, '5o4': 0}, 'RCF Yields': Counter({1: 498, 2: 1}), 'RCF Bonds': {'bo4': 0, 'b1': 0, 'bb': 0, 'b5': 1, '55': 0, 'ao4': 0, '5o4': 0}}, {'Chain Lengths': Counter({500: 1}), 'Bonds': {'bo4': 497, 'b1': 0, 'bb': 0, 'b5': 2, '55': 0, 'ao4': 0, '5o4': 0}, 'RCF Yields': Counter({1: 496, 2: 2}), 'RCF Bonds': {'bo4': 0, 'b1': 0, 'bb': 0, 'b5': 2, '55': 0, 'ao4': 0, '5o4': 0}}, {'Chain Lengths': Counter({500: 1}), 'Bonds': {'bo4': 498, 'b1': 0, 'bb': 0, 'b5': 1, '55': 0, 'ao4': 0, '5o4': 0}, 'RCF Yields': Counter({1: 498, 2: 1}), 'RCF Bonds': {'bo4': 0, 'b1': 0, 'bb': 0, 'b5': 1, '55': 0, 'ao4': 0, '5o4': 0}}, {'Chain Lengths': Counter({500: 1}), 'Bonds': {'bo4': 498, 'b1': 0, 'bb': 0, 'b5': 1, '55': 0, 'ao4': 0, '5o4': 0}, 'RCF Yields': Counter({1: 498, 2: 1}), 'RCF Bonds': {'bo4': 0, 'b1': 0, 'bb': 0, 'b5': 1, '55': 0, 'ao4': 0, '5o4': 0}}, {'Chain Lengths': Counter({500: 1}), 'Bonds': {'bo4': 498, 'b1': 0, 'bb': 0, 'b5': 1, '55': 0, 'ao4': 0, '5o4': 0}, 'RCF Yields': Counter({1: 498, 2: 1}), 'RCF Bonds': {'bo4': 0, 'b1': 0, 'bb': 0, 'b5': 1, '55': 0, 'ao4': 0, '5o4': 0}}, {'Chain Lengths': Counter({500: 1}), 'Bonds': {'bo4': 498, 'b1': 0, 'bb': 0, 'b5': 1, '55': 0, 'ao4': 0, '5o4': 0}, 'RCF Yields': Counter({1: 498, 2: 1}), 'RCF Bonds': {'bo4': 0, 'b1': 0, 'bb': 0, 'b5': 1, '55': 0, 'ao4': 0, '5o4': 0}}, {'Chain Lengths': Counter({500: 1}), 'Bonds': {'bo4': 498, 'b1': 0, 'bb': 0, 'b5': 1, '55': 0, 'ao4': 0, '5o4': 0}, 'RCF Yields': Counter({1: 498, 2: 1}), 'RCF Bonds': {'bo4': 0, 'b1': 0, 'bb': 0, 'b5': 1, '55': 0, 'ao4': 0, '5o4': 0}}, {'Chain Lengths': Counter({500: 1}), 'Bonds': {'bo4': 498, 'b1': 0, 'bb': 0, 'b5': 1, '55': 0, 'ao4': 0, '5o4': 0}, 'RCF Yields': Counter({1: 498, 2: 1}), 'RCF Bonds': {'bo4': 0, 'b1': 0, 'bb': 0, 'b5': 1, '55': 0, 'ao4': 0, '5o4': 0}}, {'Chain Lengths': Counter({500: 1}), 'Bonds': {'bo4': 498, 'b1': 0, 'bb': 0, 'b5': 1, '55': 0, 'ao4': 0, '5o4': 0}, 'RCF Yields': Counter({1: 498, 2: 1}), 'RCF Bonds': {'bo4': 0, 'b1': 0, 'bb': 0, 'b5': 1, '55': 0, 'ao4': 0, '5o4': 0}}, {'Chain Lengths': Counter({500: 1}), 'Bonds': {'bo4': 498, 'b1': 0, 'bb': 0, 'b5': 1, '55': 0, 'ao4': 0, '5o4': 0}, 'RCF Yields': Counter({1: 498, 2: 1}), 'RCF Bonds': {'bo4': 0, 'b1': 0, 'bb': 0, 'b5': 1, '55': 0, 'ao4': 0, '5o4': 0}}, {'Chain Lengths': Counter({500: 1}), 'Bonds': {'bo4': 498, 'b1': 0, 'bb': 0, 'b5': 1, '55': 0, 'ao4': 0, '5o4': 0}, 'RCF Yields': Counter({1: 498, 2: 1}), 'RCF Bonds': {'bo4': 0, 'b1': 0, 'bb': 0, 'b5': 1, '55': 0, 'ao4': 0, '5o4': 0}}, {'Chain Lengths': Counter({500: 1}), 'Bonds': {'bo4': 498, 'b1': 0, 'bb': 0, 'b5': 1, '55': 0, 'ao4': 0, '5o4': 0}, 'RCF Yields': Counter({1: 498, 2: 1}), 'RCF Bonds': {'bo4': 0, 'b1': 0, 'bb': 0, 'b5': 1, '55': 0, 'ao4': 0, '5o4': 0}}, {'Chain Lengths': Counter({500: 1}), 'Bonds': {'bo4': 498, 'b1': 0, 'bb': 0, 'b5': 1, '55': 0, 'ao4': 0, '5o4': 0}, 'RCF Yields': Counter({1: 498, 2: 1}), 'RCF Bonds': {'bo4': 0, 'b1': 0, 'bb': 0, 'b5': 1, '55': 0, 'ao4': 0, '5o4': 0}}, {'Chain Lengths': Counter({500: 1}), 'Bonds': {'bo4': 498, 'b1': 0, 'bb': 0, 'b5': 1, '55': 0, 'ao4': 0, '5o4': 0}, 'RCF Yields': Counter({1: 498, 2: 1}), 'RCF Bonds': {'bo4': 0, 'b1': 0, 'bb': 0, 'b5': 1, '55': 0, 'ao4': 0, '5o4': 0}}, {'Chain Lengths': Counter({500: 1}), 'Bonds': {'bo4': 498, 'b1': 0, 'bb': 0, 'b5': 1, '55': 0, 'ao4': 0, '5o4': 0}, 'RCF Yields': Counter({1: 498, 2: 1}), 'RCF Bonds': {'bo4': 0, 'b1': 0, 'bb': 0, 'b5': 1, '55': 0, 'ao4': 0, '5o4': 0}}, {'Chain Lengths': Counter({500: 1}), 'Bonds': {'bo4': 497, 'b1': 0, 'bb': 0, 'b5': 2, '55': 0, 'ao4': 0, '5o4': 0}, 'RCF Yields': Counter({1: 496, 2: 2}), 'RCF Bonds': {'bo4': 0, 'b1': 0, 'bb': 0, 'b5': 2, '55': 0, 'ao4': 0, '5o4': 0}}, {'Chain Lengths': Counter({500: 1}), 'Bonds': {'bo4': 498, 'b1': 0, 'bb': 0, 'b5': 1, '55': 0, 'ao4': 0, '5o4': 0}, 'RCF Yields': Counter({1: 498, 2: 1}), 'RCF Bonds': {'bo4': 0, 'b1': 0, 'bb': 0, 'b5': 1, '55': 0, 'ao4': 0, '5o4': 0}}, {'Chain Lengths': Counter({500: 1}), 'Bonds': {'bo4': 498, 'b1': 0, 'bb': 0, 'b5': 1, '55': 0, 'ao4': 0, '5o4': 0}, 'RCF Yields': Counter({1: 498, 2: 1}), 'RCF Bonds': {'bo4': 0, 'b1': 0, 'bb': 0, 'b5': 1, '55': 0, 'ao4': 0, '5o4': 0}}, {'Chain Lengths': Counter({500: 1}), 'Bonds': {'bo4': 497, 'b1': 0, 'bb': 0, 'b5': 2, '55': 0, 'ao4': 0, '5o4': 0}, 'RCF Yields': Counter({1: 496, 2: 2}), 'RCF Bonds': {'bo4': 0, 'b1': 0, 'bb': 0, 'b5': 2, '55': 0, 'ao4': 0, '5o4': 0}}, {'Chain Lengths': Counter({500: 1}), 'Bonds': {'bo4': 498, 'b1': 0, 'bb': 0, 'b5': 1, '55': 0, 'ao4': 0, '5o4': 0}, 'RCF Yields': Counter({1: 498, 2: 1}), 'RCF Bonds': {'bo4': 0, 'b1': 0, 'bb': 0, 'b5': 1, '55': 0, 'ao4': 0, '5o4': 0}}, {'Chain Lengths': Counter({500: 1}), 'Bonds': {'bo4': 498, 'b1': 0, 'bb': 0, 'b5': 1, '55': 0, 'ao4': 0, '5o4': 0}, 'RCF Yields': Counter({1: 498, 2: 1}), 'RCF Bonds': {'bo4': 0, 'b1': 0, 'bb': 0, 'b5': 1, '55': 0, 'ao4': 0, '5o4': 0}}, {'Chain Lengths': Counter({500: 1}), 'Bonds': {'bo4': 497, 'b1': 0, 'bb': 0, 'b5': 2, '55': 0, 'ao4': 0, '5o4': 0}, 'RCF Yields': Counter({1: 496, 2: 2}), 'RCF Bonds': {'bo4': 0, 'b1': 0, 'bb': 0, 'b5': 2, '55': 0, 'ao4': 0, '5o4': 0}}, {'Chain Lengths': Counter({500: 1}), 'Bonds': {'bo4': 498, 'b1': 0, 'bb': 0, 'b5': 1, '55': 0, 'ao4': 0, '5o4': 0}, 'RCF Yields': Counter({1: 498, 2: 1}), 'RCF Bonds': {'bo4': 0, 'b1': 0, 'bb': 0, 'b5': 1, '55': 0, 'ao4': 0, '5o4': 0}}, {'Chain Lengths': Counter({500: 1}), 'Bonds': {'bo4': 497, 'b1': 0, 'bb': 0, 'b5': 2, '55': 0, 'ao4': 0, '5o4': 0}, 'RCF Yields': Counter({1: 496, 2: 2}), 'RCF Bonds': {'bo4': 0, 'b1': 0, 'bb': 0, 'b5': 2, '55': 0, 'ao4': 0, '5o4': 0}}, {'Chain Lengths': Counter({500: 1}), 'Bonds': {'bo4': 497, 'b1': 0, 'bb': 0, 'b5': 2, '55': 0, 'ao4': 0, '5o4': 0}, 'RCF Yields': Counter({1: 496, 2: 2}), 'RCF Bonds': {'bo4': 0, 'b1': 0, 'bb': 0, 'b5': 2, '55': 0, 'ao4': 0, '5o4': 0}}, {'Chain Lengths': Counter({500: 1}), 'Bonds': {'bo4': 498, 'b1': 0, 'bb': 0, 'b5': 1, '55': 0, 'ao4': 0, '5o4': 0}, 'RCF Yields': Counter({1: 498, 2: 1}), 'RCF Bonds': {'bo4': 0, 'b1': 0, 'bb': 0, 'b5': 1, '55': 0, 'ao4': 0, '5o4': 0}}, {'Chain Lengths': Counter({500: 1}), 'Bonds': {'bo4': 497, 'b1': 0, 'bb': 0, 'b5': 2, '55': 0, 'ao4': 0, '5o4': 0}, 'RCF Yields': Counter({1: 496, 2: 2}), 'RCF Bonds': {'bo4': 0, 'b1': 0, 'bb': 0, 'b5': 2, '55': 0, 'ao4': 0, '5o4': 0}}, {'Chain Lengths': Counter({500: 1}), 'Bonds': {'bo4': 497, 'b1': 0, 'bb': 0, 'b5': 2, '55': 0, 'ao4': 0, '5o4': 0}, 'RCF Yields': Counter({1: 496, 2: 2}), 'RCF Bonds': {'bo4': 0, 'b1': 0, 'bb': 0, 'b5': 2, '55': 0, 'ao4': 0, '5o4': 0}}, {'Chain Lengths': Counter({500: 1}), 'Bonds': {'bo4': 498, 'b1': 0, 'bb': 0, 'b5': 1, '55': 0, 'ao4': 0, '5o4': 0}, 'RCF Yields': Counter({1: 498, 2: 1}), 'RCF Bonds': {'bo4': 0, 'b1': 0, 'bb': 0, 'b5': 1, '55': 0, 'ao4': 0, '5o4': 0}}, {'Chain Lengths': Counter({500: 1}), 'Bonds': {'bo4': 498, 'b1': 0, 'bb': 0, 'b5': 1, '55': 0, 'ao4': 0, '5o4': 0}, 'RCF Yields': Counter({1: 498, 2: 1}), 'RCF Bonds': {'bo4': 0, 'b1': 0, 'bb': 0, 'b5': 1, '55': 0, 'ao4': 0, '5o4': 0}}, {'Chain Lengths': Counter({500: 1}), 'Bonds': {'bo4': 497, 'b1': 0, 'bb': 0, 'b5': 2, '55': 0, 'ao4': 0, '5o4': 0}, 'RCF Yields': Counter({1: 496, 2: 2}), 'RCF Bonds': {'bo4': 0, 'b1': 0, 'bb': 0, 'b5': 2, '55': 0, 'ao4': 0, '5o4': 0}}, {'Chain Lengths': Counter({500: 1}), 'Bonds': {'bo4': 498, 'b1': 0, 'bb': 0, 'b5': 1, '55': 0, 'ao4': 0, '5o4': 0}, 'RCF Yields': Counter({1: 498, 2: 1}), 'RCF Bonds': {'bo4': 0, 'b1': 0, 'bb': 0, 'b5': 1, '55': 0, 'ao4': 0, '5o4': 0}}, {'Chain Lengths': Counter({500: 1}), 'Bonds': {'bo4': 498, 'b1': 0, 'bb': 0, 'b5': 1, '55': 0, 'ao4': 0, '5o4': 0}, 'RCF Yields': Counter({1: 498, 2: 1}), 'RCF Bonds': {'bo4': 0, 'b1': 0, 'bb': 0, 'b5': 1, '55': 0, 'ao4': 0, '5o4': 0}}, {'Chain Lengths': Counter({500: 1}), 'Bonds': {'bo4': 498, 'b1': 0, 'bb': 0, 'b5': 1, '55': 0, 'ao4': 0, '5o4': 0}, 'RCF Yields': Counter({1: 498, 2: 1}), 'RCF Bonds': {'bo4': 0, 'b1': 0, 'bb': 0, 'b5': 1, '55': 0, 'ao4': 0, '5o4': 0}}, {'Chain Lengths': Counter({500: 1}), 'Bonds': {'bo4': 498, 'b1': 0, 'bb': 0, 'b5': 1, '55': 0, 'ao4': 0, '5o4': 0}, 'RCF Yields': Counter({1: 498, 2: 1}), 'RCF Bonds': {'bo4': 0, 'b1': 0, 'bb': 0, 'b5': 1, '55': 0, 'ao4': 0, '5o4': 0}}, {'Chain Lengths': Counter({500: 1}), 'Bonds': {'bo4': 498, 'b1': 0, 'bb': 0, 'b5': 1, '55': 0, 'ao4': 0, '5o4': 0}, 'RCF Yields': Counter({1: 498, 2: 1}), 'RCF Bonds': {'bo4': 0, 'b1': 0, 'bb': 0, 'b5': 1, '55': 0, 'ao4': 0, '5o4': 0}}, {'Chain Lengths': Counter({500: 1}), 'Bonds': {'bo4': 498, 'b1': 0, 'bb': 0, 'b5': 1, '55': 0, 'ao4': 0, '5o4': 0}, 'RCF Yields': Counter({1: 498, 2: 1}), 'RCF Bonds': {'bo4': 0, 'b1': 0, 'bb': 0, 'b5': 1, '55': 0, 'ao4': 0, '5o4': 0}}, {'Chain Lengths': Counter({500: 1}), 'Bonds': {'bo4': 497, 'b1': 0, 'bb': 0, 'b5': 2, '55': 0, 'ao4': 0, '5o4': 0}, 'RCF Yields': Counter({1: 496, 2: 2}), 'RCF Bonds': {'bo4': 0, 'b1': 0, 'bb': 0, 'b5': 2, '55': 0, 'ao4': 0, '5o4': 0}}, {'Chain Lengths': Counter({500: 1}), 'Bonds': {'bo4': 498, 'b1': 0, 'bb': 0, 'b5': 1, '55': 0, 'ao4': 0, '5o4': 0}, 'RCF Yields': Counter({1: 498, 2: 1}), 'RCF Bonds': {'bo4': 0, 'b1': 0, 'bb': 0, 'b5': 1, '55': 0, 'ao4': 0, '5o4': 0}}, {'Chain Lengths': Counter({500: 1}), 'Bonds': {'bo4': 497, 'b1': 0, 'bb': 0, 'b5': 2, '55': 0, 'ao4': 0, '5o4': 0}, 'RCF Yields': Counter({1: 496, 2: 2}), 'RCF Bonds': {'bo4': 0, 'b1': 0, 'bb': 0, 'b5': 2, '55': 0, 'ao4': 0, '5o4': 0}}, {'Chain Lengths': Counter({500: 1}), 'Bonds': {'bo4': 498, 'b1': 0, 'bb': 0, 'b5': 1, '55': 0, 'ao4': 0, '5o4': 0}, 'RCF Yields': Counter({1: 498, 2: 1}), 'RCF Bonds': {'bo4': 0, 'b1': 0, 'bb': 0, 'b5': 1, '55': 0, 'ao4': 0, '5o4': 0}}, {'Chain Lengths': Counter({500: 1}), 'Bonds': {'bo4': 496, 'b1': 0, 'bb': 0, 'b5': 3, '55': 0, 'ao4': 0, '5o4': 0}, 'RCF Yields': Counter({1: 494, 2: 3}), 'RCF Bonds': {'bo4': 0, 'b1': 0, 'bb': 0, 'b5': 3, '55': 0, 'ao4': 0, '5o4': 0}}, {'Chain Lengths': Counter({500: 1}), 'Bonds': {'bo4': 495, 'b1': 0, 'bb': 0, 'b5': 4, '55': 0, 'ao4': 0, '5o4': 0}, 'RCF Yields': Counter({1: 492, 2: 4}), 'RCF Bonds': {'bo4': 0, 'b1': 0, 'bb': 0, 'b5': 4, '55': 0, 'ao4': 0, '5o4': 0}}, {'Chain Lengths': Counter({500: 1}), 'Bonds': {'bo4': 498, 'b1': 0, 'bb': 0, 'b5': 1, '55': 0, 'ao4': 0, '5o4': 0}, 'RCF Yields': Counter({1: 498, 2: 1}), 'RCF Bonds': {'bo4': 0, 'b1': 0, 'bb': 0, 'b5': 1, '55': 0, 'ao4': 0, '5o4': 0}}, {'Chain Lengths': Counter({500: 1}), 'Bonds': {'bo4': 498, 'b1': 0, 'bb': 0, 'b5': 1, '55': 0, 'ao4': 0, '5o4': 0}, 'RCF Yields': Counter({1: 498, 2: 1}), 'RCF Bonds': {'bo4': 0, 'b1': 0, 'bb': 0, 'b5': 1, '55': 0, 'ao4': 0, '5o4': 0}}, {'Chain Lengths': Counter({500: 1}), 'Bonds': {'bo4': 498, 'b1': 0, 'bb': 0, 'b5': 1, '55': 0, 'ao4': 0, '5o4': 0}, 'RCF Yields': Counter({1: 498, 2: 1}), 'RCF Bonds': {'bo4': 0, 'b1': 0, 'bb': 0, 'b5': 1, '55': 0, 'ao4': 0, '5o4': 0}}, {'Chain Lengths': Counter({500: 1}), 'Bonds': {'bo4': 498, 'b1': 0, 'bb': 0, 'b5': 1, '55': 0, 'ao4': 0, '5o4': 0}, 'RCF Yields': Counter({1: 498, 2: 1}), 'RCF Bonds': {'bo4': 0, 'b1': 0, 'bb': 0, 'b5': 1, '55': 0, 'ao4': 0, '5o4': 0}}, {'Chain Lengths': Counter({500: 1}), 'Bonds': {'bo4': 496, 'b1': 0, 'bb': 0, 'b5': 3, '55': 0, 'ao4': 0, '5o4': 0}, 'RCF Yields': Counter({1: 494, 2: 3}), 'RCF Bonds': {'bo4': 0, 'b1': 0, 'bb': 0, 'b5': 3, '55': 0, 'ao4': 0, '5o4': 0}}, {'Chain Lengths': Counter({500: 1}), 'Bonds': {'bo4': 498, 'b1': 0, 'bb': 0, 'b5': 1, '55': 0, 'ao4': 0, '5o4': 0}, 'RCF Yields': Counter({1: 498, 2: 1}), 'RCF Bonds': {'bo4': 0, 'b1': 0, 'bb': 0, 'b5': 1, '55': 0, 'ao4': 0, '5o4': 0}}, {'Chain Lengths': Counter({500: 1}), 'Bonds': {'bo4': 497, 'b1': 0, 'bb': 0, 'b5': 2, '55': 0, 'ao4': 0, '5o4': 0}, 'RCF Yields': Counter({1: 496, 2: 2}), 'RCF Bonds': {'bo4': 0, 'b1': 0, 'bb': 0, 'b5': 2, '55': 0, 'ao4': 0, '5o4': 0}}, {'Chain Lengths': Counter({500: 1}), 'Bonds': {'bo4': 498, 'b1': 0, 'bb': 0, 'b5': 1, '55': 0, 'ao4': 0, '5o4': 0}, 'RCF Yields': Counter({1: 498, 2: 1}), 'RCF Bonds': {'bo4': 0, 'b1': 0, 'bb': 0, 'b5': 1, '55': 0, 'ao4': 0, '5o4': 0}}, {'Chain Lengths': Counter({500: 1}), 'Bonds': {'bo4': 498, 'b1': 0, 'bb': 0, 'b5': 1, '55': 0, 'ao4': 0, '5o4': 0}, 'RCF Yields': Counter({1: 498, 2: 1}), 'RCF Bonds': {'bo4': 0, 'b1': 0, 'bb': 0, 'b5': 1, '55': 0, 'ao4': 0, '5o4': 0}}, {'Chain Lengths': Counter({500: 1}), 'Bonds': {'bo4': 498, 'b1': 0, 'bb': 0, 'b5': 1, '55': 0, 'ao4': 0, '5o4': 0}, 'RCF Yields': Counter({1: 498, 2: 1}), 'RCF Bonds': {'bo4': 0, 'b1': 0, 'bb': 0, 'b5': 1, '55': 0, 'ao4': 0, '5o4': 0}}, {'Chain Lengths': Counter({500: 1}), 'Bonds': {'bo4': 498, 'b1': 0, 'bb': 0, 'b5': 1, '55': 0, 'ao4': 0, '5o4': 0}, 'RCF Yields': Counter({1: 498, 2: 1}), 'RCF Bonds': {'bo4': 0, 'b1': 0, 'bb': 0, 'b5': 1, '55': 0, 'ao4': 0, '5o4': 0}}]\n"
     ]
    }
   ],
   "source": [
    "print(analysis)"
   ]
  },
  {
   "cell_type": "code",
   "execution_count": null,
   "metadata": {},
   "outputs": [],
   "source": []
  }
 ],
 "metadata": {
  "kernelspec": {
   "display_name": "Python 3",
   "language": "python",
   "name": "python3"
  },
  "language_info": {
   "codemirror_mode": {
    "name": "ipython",
    "version": 3
   },
   "file_extension": ".py",
   "mimetype": "text/x-python",
   "name": "python",
   "nbconvert_exporter": "python",
   "pygments_lexer": "ipython3",
   "version": "3.6.7"
  }
 },
 "nbformat": 4,
 "nbformat_minor": 2
}
