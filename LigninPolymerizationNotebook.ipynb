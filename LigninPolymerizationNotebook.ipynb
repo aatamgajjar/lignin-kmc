{
 "cells": [
  {
   "cell_type": "markdown",
   "metadata": {},
   "source": [
    "# Kinetic Monte Carlo Simulation of Lignin Polymerization\n",
    "Written by: Michael Orella <br>\n",
    "2019 January 24 <br>\n",
    "Updated by: Heather Mayes <br>\n",
    "2019 November 09 <br>\n",
    "\n",
    "The code in this notebook performs calculations analogous to those performed in [\"Lignin-KMC: A Toolkit for Simulating Lignin Biosynthesis\"](https://pubs.acs.org/doi/abs/10.1021/acssuschemeng.9b03534), which depend on the results that were obtained from [DFT calculations of monolignol coupling kinetics](https://pubs.acs.org/doi/abs/10.1021/acssuschemeng.9b02506).\n",
    "\n",
    "**Note:** this notebook directly calls various functions in the package. Users can also run Lignin-KMC from the command line, without the need to directly interact with the python code. See the [README on github](https://github.com/michaelorella/lignin-kmc)."
   ]
  },
  {
   "cell_type": "code",
   "execution_count": 1,
   "metadata": {},
   "outputs": [],
   "source": [
    "%load_ext autoreload\n",
    "%autoreload 2"
   ]
  },
  {
   "cell_type": "code",
   "execution_count": 2,
   "metadata": {},
   "outputs": [],
   "source": [
    "# functions, global variables, and default values (described below) from the lignin-kmc Package \n",
    "from ligninkmc.create_lignin import (calc_rates, create_initial_monomers, create_initial_events, \n",
    "                                     create_initial_state, DEF_ADD_RATE)\n",
    "from ligninkmc.kmc_functions import (run_kmc, generate_mol, analyze_adj_matrix)\n",
    "from ligninkmc.kmc_common import (DEF_E_BARRIER_KCAL_MOL, GROW, OX, BO4, B5, BB, B1, C5O4, AO4, C5C5,\n",
    "                                  MONOMER, MONO_LIST, ADJ_MATRIX, BONDS, CHAIN_LEN, RCF_YIELDS, Event, Monomer)\n",
    "\n",
    "# General Math and LinAlg\n",
    "import numpy as np\n",
    "from scipy import optimize\n",
    "\n",
    "# Chemical Drawing\n",
    "from rdkit.Chem import MolFromMolBlock\n",
    "from rdkit.Chem.AllChem import Compute2DCoords\n",
    "from rdkit.Chem.Draw import MolToImage\n",
    "from IPython.display import display\n",
    "\n",
    "#Plotting\n",
    "import matplotlib.pyplot as plt\n",
    "\n",
    "# For performance\n",
    "import time\n",
    "\n",
    "#Parallelization\n",
    "import joblib as par"
   ]
  },
  {
   "cell_type": "markdown",
   "metadata": {},
   "source": [
    "## Input Data\n",
    "The kinetic monte carlo code relies on rates of chemical reactions. The reactions that we are interested in here are the coupling of radicals on either individual monomers or oligomers respectively. The energetics necessary to compute the reaction rates were calculated by Terry Gani using [DFT methods](https://pubs.acs.org/doi/abs/10.1021/acssuschemeng.9b02506) for SG lignin and similar methods for C lignin. Once the reaction energies were calculated, they could converted to reaction rates using the Eyring equation:\n",
    "$$ r_i = \\dfrac{k_BT}{h}\\exp\\left(-\\dfrac{\\Delta G_i}{k_BT}\\right) $$\n",
    "\n",
    "The these Gibbs free energy barriers (at 298.15 K and 1 atm), as reported in the [Lignin-KMC paper](https://pubs.acs.org/doi/abs/10.1021/acssuschemeng.9b03534), [Tables S1 and S2](https://pubs.acs.org/doi/suppl/10.1021/acssuschemeng.9b03534/suppl_file/sc9b03534_si_001.pdf), are stored in the package's global variable DEF_E_BARRIER_KCAL_MOL (imported above). \n",
    "\n",
    "The user may use other values. The assignment of energy barriers (in kcal/mol) to this global variable is shown below (using global variables for reaction types to help prevent typos from directly using strings) to provide a template for how to assign alternate values. Of course, the user only needs to (and must) supply energy barriers (or directly supply reaction rates) only for the monomer types to be modeled and the reaction types to be modeled. Here, the bond names stands for creation of that bond.\n",
    "\n",
    "Throughout the code, monomers are kept track of individually through the state, so there are no reaction degeneracies occurring, and bond events can be tracked faithfully.\n",
    "\n",
    "The monomer types are:  0: guaiacol, 1: syringyl, 2: caffeoyl"
   ]
  },
  {
   "cell_type": "raw",
   "metadata": {},
   "source": [
    "# The definition for the default Gibbs free energy barriers in kcal/mol (at 298.15 K and 1 atm), shown here as a \n",
    "# template for user-input values. The gloval variables MONOMER, DIMER, BO4, etc., can be imported from kmc.kmc_common. \n",
    "# DIMER stands for dimer or longer (\"2+\" in the SI; could be changed to OLIGOMER)\n",
    "DEF_E_BARRIER_KCAL_MOL = {C5O4: {(0, 0): {(MONOMER, MONOMER): 11.2, (MONOMER, DIMER): 14.6, \n",
    "                                    (DIMER, MONOMER): 14.6, (DIMER, DIMER): 4.4},\n",
    "                           (1, 0): {(MONOMER, MONOMER): 10.9, (MONOMER, DIMER): 14.6, \n",
    "                                    (DIMER, MONOMER): 14.6, (DIMER, DIMER): 4.4},\n",
    "                           (2, 2): {(MONOMER, MONOMER): 11.9, (MONOMER, DIMER): 11.9,\n",
    "                                    (DIMER, MONOMER): 11.9, (DIMER, DIMER): 11.9}},\n",
    "                    C5C5: {(0, 0): {(MONOMER, MONOMER): 12.5, (MONOMER, DIMER): 15.6, \n",
    "                                    (DIMER, MONOMER): 15.6, (DIMER, DIMER): 3.8},\n",
    "                           (2, 2): {(MONOMER, MONOMER): 10.6, (MONOMER, DIMER): 10.6,\n",
    "                                    (DIMER, MONOMER): 10.6, (DIMER, DIMER): 10.6}},\n",
    "                    B5: {(0, 0): {(MONOMER, MONOMER): 5.5, (MONOMER, DIMER): 5.8, \n",
    "                                  (DIMER, MONOMER): 5.8, (DIMER, DIMER): 5.8},\n",
    "                         (0, 1): {(MONOMER, MONOMER): 5.5, (MONOMER, DIMER): 5.8, \n",
    "                                  (DIMER, MONOMER): 5.8, (DIMER, DIMER): 5.8},\n",
    "                         (2, 2): {(MONOMER, MONOMER): 1.9, (MONOMER, DIMER): 5.8,\n",
    "                                  (DIMER, MONOMER): 5.8, (DIMER, DIMER): 5.8}},\n",
    "                    BB: {(0, 0): {(MONOMER, MONOMER): 5.2, (MONOMER, DIMER): 5.2,\n",
    "                                  (DIMER, MONOMER): 5.2, (DIMER, DIMER): 5.2},\n",
    "                         (1, 0): {(MONOMER, MONOMER): 6.5, (MONOMER, DIMER): 6.5, \n",
    "                                  (DIMER, MONOMER): 6.5, (DIMER, DIMER): 6.5},\n",
    "                         (0, 1): {(MONOMER, MONOMER): 6.5, (MONOMER, DIMER): 6.5, \n",
    "                                  (DIMER, MONOMER): 6.5, (DIMER, DIMER): 6.5},\n",
    "                         (1, 1): {(MONOMER, MONOMER): 5.2, (MONOMER, DIMER): 5.2, \n",
    "                                  (DIMER, MONOMER): 5.2, (DIMER, DIMER): 5.2},\n",
    "                         (2, 2): {(MONOMER, MONOMER): 7.2, (MONOMER, DIMER): 7.2,\n",
    "                                  (DIMER, MONOMER): 7.2, (DIMER, DIMER): 7.2}},\n",
    "                    BO4: {(0, 0): {(MONOMER, MONOMER): 6.3, (MONOMER, DIMER): 6.2, \n",
    "                                   (DIMER, MONOMER): 6.2, (DIMER, DIMER): 6.2},\n",
    "                          (1, 0): {(MONOMER, MONOMER): 9.1, (MONOMER, DIMER): 6.2,\n",
    "                                   (DIMER, MONOMER): 6.2, (DIMER, DIMER): 6.2},\n",
    "                          (0, 1): {(MONOMER, MONOMER): 8.9, (MONOMER, DIMER): 6.2,\n",
    "                                   (DIMER, MONOMER): 6.2, (DIMER, DIMER): 6.2},\n",
    "                          (1, 1): {(MONOMER, MONOMER): 9.8, (MONOMER, DIMER): 10.4,\n",
    "                                   (DIMER, MONOMER): 10.4}, (DIMER, DIMER): 10.4},\n",
    "                          (2, 2): {(MONOMER, MONOMER): 4.9, (MONOMER, DIMER): 1.3,\n",
    "                                   (DIMER, MONOMER): 1.3, (DIMER, DIMER): 1.3},\n",
    "                    AO4: {(0, 0): {(MONOMER, MONOMER): 20.7, (MONOMER, DIMER): 20.7,\n",
    "                                   (DIMER, MONOMER): 20.7, (DIMER, DIMER): 20.7},\n",
    "                          (1, 0): {(MONOMER, MONOMER): 20.7, (MONOMER, DIMER): 20.7,\n",
    "                                   (DIMER, MONOMER): 20.7, (DIMER, DIMER): 20.7},\n",
    "                          (0, 1): {(MONOMER, MONOMER): 20.7, (MONOMER, DIMER): 20.7,\n",
    "                                   (DIMER, MONOMER): 20.7, (DIMER, DIMER): 20.7},\n",
    "                          (1, 1): {(MONOMER, MONOMER): 20.7, (MONOMER, DIMER): 20.7,\n",
    "                                   (DIMER, MONOMER): 20.7, (DIMER, DIMER): 20.7},\n",
    "                          (2, 2): {(MONOMER, MONOMER): 20.7, (MONOMER, DIMER): 20.7,\n",
    "                                   (DIMER, MONOMER): 20.7, (DIMER, DIMER): 20.7}},\n",
    "                    B1: {(0, 0): {(MONOMER, DIMER): 9.6, (DIMER, MONOMER): 9.6, (DIMER, DIMER): 9.6},\n",
    "                         (1, 0): {(MONOMER, DIMER): 11.7, (DIMER, MONOMER): 11.7, (DIMER, DIMER): 11.7},\n",
    "                         (0, 1): {(MONOMER, DIMER): 10.7, (DIMER, MONOMER): 10.7, (DIMER, DIMER): 10.7},\n",
    "                         (1, 1): {(MONOMER, DIMER): 11.9, (DIMER, MONOMER): 11.9, (DIMER, DIMER): 11.9},\n",
    "                         (2, 2): {(MONOMER, DIMER): 9.6, (DIMER, MONOMER): 9.6, (DIMER, DIMER): 9.6}},\n",
    "                    OX: {0: {MONOMER: 0.9, DIMER: 6.3}, 1: {MONOMER: 0.6, DIMER: 2.2}, \n",
    "                         2: {MONOMER: 0.9, DIMER: 0.9}},\n",
    "                    Q: {0: {MONOMER: 11.1, DIMER: 11.1}, 1: {MONOMER: 11.7, DIMER: 11.7},\n",
    "                        2: {MONOMER: 11.1, DIMER: 11.1}}}"
   ]
  },
  {
   "cell_type": "code",
   "execution_count": 3,
   "metadata": {},
   "outputs": [],
   "source": [
    "# Calculate the rates of reaction in 1/s at the specified temp\n",
    "temp = 298.15  # K\n",
    "rxn_rates = calc_rates(temp, ea_kcal_mol_dict=DEF_E_BARRIER_KCAL_MOL)\n",
    "\n",
    "# if the user has instead input Gibbs free energy barriers in Joules per particle (e.g., as `my_ea_j_part_dict`), \n",
    "# instead invoke:\n",
    "#    rxn_rates = calc_rates(temp, ea_j_part_dict=my_ea_j_part_dict)"
   ]
  },
  {
   "cell_type": "markdown",
   "metadata": {},
   "source": [
    "## Code Performance\n",
    "One of the first things that we were interested in reporting was the performance and scaling of this code package. This was done by replicating runs of the algorithm with different numbers of monomers included in the simulation under batch conditions."
   ]
  },
  {
   "cell_type": "code",
   "execution_count": 4,
   "metadata": {},
   "outputs": [
    {
     "name": "stdout",
     "output_type": "stream",
     "text": [
      "Time to complete simulation with    50 monomers:    0.26 seconds\n",
      "Time to complete simulation with   100 monomers:    1.13 seconds\n",
      "Time to complete simulation with   150 monomers:    8.35 seconds\n"
     ]
    }
   ],
   "source": [
    "# Here, we are testing with equal amount of S and G (no C)\n",
    "times = []\n",
    "sg_ratio = 1\n",
    "pct_s = sg_ratio / (1 + sg_ratio)\n",
    "\n",
    "test_vals = np.linspace(50, 150, num=3, dtype ='int32')\n",
    "num_repeats = 5\n",
    "for num_monos in test_vals:\n",
    "    times.append([])\n",
    "    for _ in range(num_repeats):\n",
    "        # Generate the initial monomers and events (oxidation)\n",
    "        monomer_draw = np.random.rand(num_monos)\n",
    "        initial_monomers = create_initial_monomers(pct_s, monomer_draw)\n",
    "        initial_events = create_initial_events(initial_monomers, rxn_rates)\n",
    "        \n",
    "        # Set the state and add the option to join initial monomers\n",
    "        initial_state = create_initial_state(initial_events, initial_monomers)\n",
    "        initial_events.append(Event(GROW, [], rate=DEF_ADD_RATE, bond=sg_ratio))\n",
    "        \n",
    "        #Start timing the actual KMC part\n",
    "        start = time.time()\n",
    "        run_kmc(rxn_rates, initial_state, initial_events, sg_ratio=sg_ratio)\n",
    "        end = time.time()\n",
    "        times[-1].append(end-start)\n",
    "    print(f'Time to complete simulation with {num_monos:5n} monomers: {np.sum(times[-1])/num_repeats:7.2f} seconds')"
   ]
  },
  {
   "cell_type": "markdown",
   "metadata": {},
   "source": [
    "Now we want to fit the times that we just calculated to a generic power law expression $t = aN^b$ to find the scaling of our algorithm."
   ]
  },
  {
   "cell_type": "code",
   "execution_count": 5,
   "metadata": {},
   "outputs": [
    {
     "name": "stdout",
     "output_type": "stream",
     "text": [
      "      fun: 1.7975783537859686\n",
      " hess_inv: <2x2 LbfgsInvHessProduct with dtype=float64>\n",
      "      jac: array([221.38109668,  -1.12919312])\n",
      "  message: b'CONVERGENCE: REL_REDUCTION_OF_F_<=_FACTR*EPSMCH'\n",
      "     nfev: 87\n",
      "      nit: 4\n",
      "   status: 0\n",
      "  success: True\n",
      "        x: array([2.80143113e-05, 2.50013512e+00])\n"
     ]
    }
   ],
   "source": [
    "meas_t = [np.mean(time) for time in times]\n",
    "meas_n = test_vals\n",
    "\n",
    "sim_t = lambda p, n: p[0] * np.power (n, p[1])\n",
    "loss = lambda p: np.linalg.norm(sim_t(p, meas_n) - meas_t)\n",
    "\n",
    "results = optimize.minimize(loss, np.asarray([1e-5, 2.5]), bounds=[[0,1], [0,10]], options={'disp': True})\n",
    "print(results)\n",
    "\n",
    "opt_p = results.x"
   ]
  },
  {
   "cell_type": "markdown",
   "metadata": {},
   "source": [
    "Now we should plot both the measured values and the fit all together"
   ]
  },
  {
   "cell_type": "code",
   "execution_count": 6,
   "metadata": {},
   "outputs": [
    {
     "data": {
      "text/plain": [
       "Text(200,200,'Measured')"
      ]
     },
     "execution_count": 6,
     "metadata": {},
     "output_type": "execute_result"
    },
    {
     "data": {
      "image/png": "[encoded data removed]",
      "text/plain": [
       "<Figure size 252x252 with 1 Axes>"
      ]
     },
     "metadata": {
      "needs_background": "light"
     },
     "output_type": "display_data"
    }
   ],
   "source": [
    "plt.figure(figsize=(3.5, 3.5))\n",
    "plt.errorbar(test_vals, [np.mean(time) for time in times],\n",
    "             yerr=[np.sqrt(np.var(time)) for time in times],\n",
    "             capsize=3, ecolor='black', linestyle='None', marker='.', markerSize=15, color='black', zorder=1)\n",
    "plt.plot(test_vals, sim_t(opt_p,meas_n), linestyle='--', color='r', linewidth=1.5, zorder=2)\n",
    "plt.tick_params(axis='both', which ='major', labelsize=10, direction='in',\n",
    "                pad=8, top = True, right=True, width=1.5, length=5)\n",
    "plt.tick_params(axis='both', which='minor', direction='in',\n",
    "                pad=8, top=True, right=True, width=1, length=3)\n",
    "ax = plt.gca()\n",
    "[ax.spines[i].set_linewidth(1.5) for i in ['top', 'right', 'bottom', 'left']]\n",
    "ax.fontsize = 10\n",
    "plt.xlabel('Number of Monomers', fontsize=10)\n",
    "plt.ylabel('Execution Time (s)', fontsize=10)\n",
    "plt.yscale('log')\n",
    "plt.xscale('log')\n",
    "plt.ylim([0.2, 200])\n",
    "plt.xlim([40, 200])\n",
    "plt.text(75, 0.4, f'$t = {opt_p[0]:3.1e}N^{{ {opt_p[1]:4.2f} }}$', fontsize=10, color='red')\n",
    "plt.text(200, 200, r'Measured', fontsize=10, color='black')\n",
    "# plt.savefig('performance.svg', format='svg', transparent=True, bbox_inches='tight')"
   ]
  },
  {
   "cell_type": "markdown",
   "metadata": {},
   "source": [
    "## Example KMC Runs\n",
    "Small examples of running the algorithm for KMC, using both SG lignin and C lignin."
   ]
  },
  {
   "cell_type": "markdown",
   "metadata": {},
   "source": [
    "### SG Lignin\n",
    "Run an example starting with 2 monomers and an S to G ratio of 1"
   ]
  },
  {
   "cell_type": "code",
   "execution_count": 7,
   "metadata": {
    "scrolled": true
   },
   "outputs": [
    {
     "data": {
      "image/png": "[encoded data removed]",
      "text/plain": [
       "<PIL.Image.Image image mode=RGB size=950x250 at 0xF1AE31908>"
      ]
     },
     "metadata": {},
     "output_type": "display_data"
    }
   ],
   "source": [
    "num_monos = 2\n",
    "sg_ratio = 1\n",
    "pct_s = sg_ratio / (1 + sg_ratio)\n",
    "\n",
    "monomer_draw = np.random.rand(num_monos)\n",
    "initial_monomers = create_initial_monomers(pct_s, monomer_draw)\n",
    "initial_events = create_initial_events(initial_monomers, rxn_rates)\n",
    "initial_state = create_initial_state(initial_events, initial_monomers)\n",
    "initial_events.append(Event(GROW, [], rate=DEF_ADD_RATE, bond=sg_ratio))\n",
    "\n",
    "result = run_kmc(rxn_rates, initial_state, initial_events, n_max=10, t_max=1, sg_ratio=sg_ratio)\n",
    "nodes = result[MONO_LIST]\n",
    "adj = result[ADJ_MATRIX]\n",
    "block = generate_mol(adj, nodes)\n",
    "mol = MolFromMolBlock(block)\n",
    "Compute2DCoords(mol)\n",
    "display(MolToImage(mol, size=(950, 250)))"
   ]
  },
  {
   "cell_type": "markdown",
   "metadata": {},
   "source": [
    "### C lignin\n",
    "Run an example with 2 monomers but using the C lignin energies"
   ]
  },
  {
   "cell_type": "code",
   "execution_count": 8,
   "metadata": {},
   "outputs": [
    {
     "data": {
      "image/png": "[encoded data removed]",
      "text/plain": [
       "<PIL.Image.Image image mode=RGB size=950x250 at 0x101C6D0550>"
      ]
     },
     "metadata": {},
     "output_type": "display_data"
    }
   ],
   "source": [
    "ini_num_monos = 2\n",
    "\n",
    "initial_monomers = [Monomer(2, i) for i in range(ini_num_monos)]\n",
    "initial_events = [Event(OX, [i], rxn_rates[OX][2][MONOMER]) for i in range(len(initial_monomers))]\n",
    "initial_state = create_initial_state(initial_events, initial_monomers)\n",
    "# `events` may be a set or a list\n",
    "events = {initial_events[i] for i in range(len(initial_monomers))}\n",
    "events.add(Event(GROW, [], rate=DEF_ADD_RATE))\n",
    "\n",
    "result = run_kmc(rxn_rates, initial_state, sorted(events), n_max=10, t_max=1)\n",
    "\n",
    "nodes = result[MONO_LIST]\n",
    "adj = result[ADJ_MATRIX]\n",
    "block = generate_mol(adj, nodes)\n",
    "mol = MolFromMolBlock(block)\n",
    "Compute2DCoords(mol)\n",
    "display(MolToImage(mol, size=(950, 250)))"
   ]
  },
  {
   "cell_type": "markdown",
   "metadata": {},
   "source": [
    "## Sensitivity Analyses Examples\n",
    "The meat of the results and discussion for our paper lay in the predictions of how lignin composition should change with different sets of parameters used for lignification. These calculations were performed on desktop hardware over about a week's period, but for the sake of explanation, shorter examples are used here. We investigated the impact of S to G ratio and addition rate primarily."
   ]
  },
  {
   "cell_type": "markdown",
   "metadata": {},
   "source": [
    "### SG Batch Sensitivity\n",
    "The first analysis performed is the dependence of monomer yields and bond contents on SG ratio, where we selected multiple SG ratios between 0.1 and 10 and ran the simulations for these scenarios."
   ]
  },
  {
   "cell_type": "code",
   "execution_count": 9,
   "metadata": {},
   "outputs": [
    {
     "name": "stdout",
     "output_type": "stream",
     "text": [
      "Completed sensitivity iteration for S to G ratio  0.10 on 2019-11-19 at 15:52:23\n",
      "Completed sensitivity iteration for S to G ratio  0.20 on 2019-11-19 at 15:52:41\n",
      "Completed sensitivity iteration for S to G ratio  0.25 on 2019-11-19 at 15:53:01\n",
      "Completed sensitivity iteration for S to G ratio  0.33 on 2019-11-19 at 15:53:41\n",
      "Completed sensitivity iteration for S to G ratio  0.50 on 2019-11-19 at 15:54:20\n",
      "Completed sensitivity iteration for S to G ratio  1.00 on 2019-11-19 at 15:55:09\n",
      "Completed sensitivity iteration for S to G ratio  2.00 on 2019-11-19 at 15:55:45\n",
      "Completed sensitivity iteration for S to G ratio  3.00 on 2019-11-19 at 15:55:58\n",
      "Completed sensitivity iteration for S to G ratio  4.00 on 2019-11-19 at 15:56:09\n",
      "Completed sensitivity iteration for S to G ratio  5.00 on 2019-11-19 at 15:56:18\n",
      "Completed sensitivity iteration for S to G ratio 10.00 on 2019-11-19 at 15:56:27\n"
     ]
    }
   ],
   "source": [
    "sg_opts = [0.1, 0.2, 0.25, 0.33, 0.5, 1, 2, 3, 4, 5, 10]\n",
    "num_repeats = 5\n",
    "num_monos = 200\n",
    "\n",
    "fun = par.delayed(run_kmc)\n",
    "sg_result_list = []\n",
    "\n",
    "for sg_ratio in sg_opts:\n",
    "    # Set the percentage of S\n",
    "    pct_s = sg_ratio / (1 + sg_ratio)\n",
    "    \n",
    "    # Make choices about what kinds of monomers there are and create them\n",
    "    monomer_draw = np.random.rand(num_monos)\n",
    "    initial_monomers = create_initial_monomers(pct_s, monomer_draw)\n",
    "    \n",
    "    # Initialize the monomers, events, and state\n",
    "    initial_events = create_initial_events(initial_monomers, rxn_rates)\n",
    "    initial_state = create_initial_state(initial_events, initial_monomers)\n",
    "\n",
    "    results = par.Parallel(n_jobs=4)([fun(rxn_rates, initial_state, initial_events, n_max=num_monos, t_max=1)\n",
    "                                      for _ in range(num_repeats)])\n",
    "    \n",
    "    sg_result_list.append(results)\n",
    "    t = time.localtime()\n",
    "    print('Completed sensitivity iteration for S to G ratio {:5.2f} on '\n",
    "          '{}-{:02d}-{:02d} at {:02d}:{:02d}:{:02d}'.format(sg_ratio, t.tm_year, t.tm_mon, t.tm_mday,\n",
    "                                                            t.tm_hour, t.tm_min, t.tm_sec))"
   ]
  },
  {
   "cell_type": "markdown",
   "metadata": {},
   "source": [
    "We now aggregate the results that we obtained in the form of adjacency matrices and monomer lists and times to meaningful values of monomer yields and bond contents."
   ]
  },
  {
   "cell_type": "code",
   "execution_count": 10,
   "metadata": {},
   "outputs": [
    {
     "name": "stdout",
     "output_type": "stream",
     "text": [
      "Finished analysis for S:G of  0.10 on 2019-11-19 at 15:56:36\n",
      "Finished analysis for S:G of  0.20 on 2019-11-19 at 15:56:36\n",
      "Finished analysis for S:G of  0.25 on 2019-11-19 at 15:56:37\n",
      "Finished analysis for S:G of  0.33 on 2019-11-19 at 15:56:37\n",
      "Finished analysis for S:G of  0.50 on 2019-11-19 at 15:56:38\n",
      "Finished analysis for S:G of  1.00 on 2019-11-19 at 15:56:38\n",
      "Finished analysis for S:G of  2.00 on 2019-11-19 at 15:56:39\n",
      "Finished analysis for S:G of  3.00 on 2019-11-19 at 15:56:39\n",
      "Finished analysis for S:G of  4.00 on 2019-11-19 at 15:56:40\n",
      "Finished analysis for S:G of  5.00 on 2019-11-19 at 15:56:40\n",
      "Finished analysis for S:G of 10.00 on 2019-11-19 at 15:56:41\n"
     ]
    }
   ],
   "source": [
    "num_sg_opts = len(sg_opts)\n",
    "analysis = []\n",
    "\n",
    "for i in range(num_sg_opts):\n",
    "    sg_results = sg_result_list[i]\n",
    "    cur_adjs = [sg_results[j][ADJ_MATRIX] for j in range(num_repeats)]\n",
    "    analysis.append(par.Parallel(n_jobs=4)(par.delayed(analyze_adj_matrix)(cur_adjs[j])\n",
    "                                           for j in range(num_repeats)))                                        \n",
    "    t = time.localtime()\n",
    "    print('Finished analysis for S:G of {:5.2f} on {}-{:02d}-{:02d} at '\n",
    "          '{:02d}:{:02d}:{:02d}'.format(sg_opts[i], t.tm_year, t.tm_mon, t.tm_mday, \n",
    "                                        t.tm_hour, t.tm_min, t.tm_sec))"
   ]
  },
  {
   "cell_type": "markdown",
   "metadata": {},
   "source": [
    "Now as an example, we will look at the distribution of monomer yields from RCF (assuming C-O bonds (beta-O4, alpha-O4, and 5-O4 bonds), and only C-O bonds are broken in this process), and then summarize that distribution with the sample mean and standard deviation, which will be used for all of the subsequent analyses. To visualize these results, we first need to extract the information from the analysis data structure, and normalize the data to the total number of monomers or total number of bonds."
   ]
  },
  {
   "cell_type": "code",
   "execution_count": 11,
   "metadata": {},
   "outputs": [],
   "source": [
    "num_monos = [[sum([analysis[j][i][CHAIN_LEN][k] * k for k in analysis[j][i][CHAIN_LEN]]) \n",
    "              for i in range(num_repeats)] for j in range(num_sg_opts)]\n",
    "\n",
    "monomer_yields = [[analysis[j][i][RCF_YIELDS][1]/num_monos[j][i] \n",
    "                   for i in range(num_repeats)] for j in range(num_sg_opts)]\n",
    "\n",
    "betaO4_content = [[analysis[j][i][BONDS][BO4]/sum(analysis[j][i][BONDS].values())\n",
    "                   for i in range(num_repeats)] for j in range(num_sg_opts)]\n",
    "beta5_content = [[analysis[j][i][BONDS][B5]/sum(analysis[j][i][BONDS].values())\n",
    "                  for i in range(num_repeats)] for j in range(num_sg_opts)]\n",
    "betabeta_content = [[analysis[j][i][BONDS][BB]/sum(analysis[j][i][BONDS].values())\n",
    "                     for i in range(num_repeats)] for j in range(num_sg_opts)]\n",
    "beta1_content = [[analysis[j][i][BONDS][B1]/sum(analysis[j][i][BONDS].values())\n",
    "                  for i in range(num_repeats)] for j in range(num_sg_opts)]\n",
    "c5o4_content = [[analysis[j][i][BONDS][C5O4]/sum(analysis[j][i][BONDS].values())\n",
    "                 for i in range(num_repeats)] for j in range(num_sg_opts)]\n",
    "alphaO4_content = [[analysis[j][i][BONDS][AO4]/sum(analysis[j][i][BONDS].values())\n",
    "                    for i in range(num_repeats)] for j in range(num_sg_opts)]\n",
    "fivefive_content = [[analysis[j][i][BONDS][C5C5]/sum(analysis[j][i][BONDS].values())\n",
    "                     for i in range(num_repeats)] for j in range(num_sg_opts)]\n",
    "\n",
    "av_mon_yield = [np.mean(percent) for percent in monomer_yields]\n",
    "std_mon_yield = [np.sqrt(np.var(percent)) for percent in monomer_yields]\n",
    "\n",
    "av_bo4_content = [np.mean(percent) for percent in betaO4_content]\n",
    "std_bo4_content = [np.sqrt(np.var(percent)) for percent in betaO4_content]\n",
    "\n",
    "av_b5_content = [np.mean(percent) for percent in beta5_content]\n",
    "std_b5_content = [np.sqrt(np.var(percent)) for percent in beta5_content]\n",
    "\n",
    "av_bb_content = [np.mean(percent) for percent in betabeta_content]\n",
    "std_bb_content = [np.sqrt(np.var(percent)) for percent in betabeta_content]\n",
    "\n",
    "av_b1_content = [np.mean(percent) for percent in beta1_content]\n",
    "std_b1_content = [np.sqrt(np.var(percent)) for percent in beta1_content]\n",
    "\n",
    "av_5o4_content = [np.mean(percent) for percent in c5o4_content]\n",
    "std_5o4_content = [np.sqrt(np.var(percent)) for percent in c5o4_content]\n",
    "\n",
    "av_ao4_content = [np.mean(percent) for percent in alphaO4_content]\n",
    "std_ao4_content = [np.sqrt(np.var(percent)) for percent in alphaO4_content]\n",
    "\n",
    "av_55_content = [np.mean(percent) for percent in fivefive_content]\n",
    "std_55_content = [np.sqrt(np.var(percent)) for percent in fivefive_content]"
   ]
  },
  {
   "cell_type": "markdown",
   "metadata": {},
   "source": [
    "With this aggregation complete, we now plot the histograms of beta04 bond yields for 3 cases of SG ratios - 0.1, 1, and 10. With so few repeats, these histograms look very poor, but with greater repeats there is a much clearer trend and approximation of the normal distribution - which justifies the use of sample norm and standard deviation as summary statistics."
   ]
  },
  {
   "cell_type": "code",
   "execution_count": 12,
   "metadata": {},
   "outputs": [
    {
     "data": {
      "text/plain": [
       "<matplotlib.legend.Legend at 0x101daa1cf8>"
      ]
     },
     "execution_count": 12,
     "metadata": {},
     "output_type": "execute_result"
    },
    {
     "data": {
      "image/png": "[encoded data removed]",
      "text/plain": [
       "<Figure size 252x252 with 1 Axes>"
      ]
     },
     "metadata": {
      "needs_background": "light"
     },
     "output_type": "display_data"
    }
   ],
   "source": [
    "plt.figure(figsize=(3.5, 3.5))\n",
    "\n",
    "plt.hist(monomer_yields[0], bins=np.linspace(0, 1.0, 21), density=1, facecolor='black', alpha=0.5, \n",
    "         edgecolor='black', label='S/G=0.1')\n",
    "plt.hist(monomer_yields[5], bins=np.linspace(0, 1.0, 21), density=1, facecolor='red', alpha=0.5, \n",
    "         edgecolor='black', label='S/G=1')\n",
    "plt.hist(monomer_yields[10], bins=np.linspace(0, 1.0, 21), density=1, facecolor='blue', alpha=0.5, \n",
    "         edgecolor='black', label='S/G=10')\n",
    "[plt.gca().spines[i].set_linewidth(1.5) for i in ['top','right','bottom','left']]\n",
    "plt.gca().tick_params(axis='both', which='major', labelsize=14, direction='in', pad=8, top=True, \n",
    "                      right=True, width=1.5, length=6)\n",
    "plt.xlabel('Monomer Yield (%)', fontsize=14)\n",
    "plt.legend(fontsize=14, loc='best')"
   ]
  },
  {
   "cell_type": "markdown",
   "metadata": {},
   "source": [
    "As mentioned above, with more repeats these distributions approach the normal distribution. In addition, if we want to add more sensitivity results to this plot, it starts to look messier and more crowded. Therefore, it becomes much easier to use the mean and variance of our samples as summary statistics, and just plot these values (using the standard deviation as the error bar on every point)."
   ]
  },
  {
   "cell_type": "code",
   "execution_count": 13,
   "metadata": {},
   "outputs": [
    {
     "data": {
      "text/plain": [
       "(0.0, 1.0)"
      ]
     },
     "execution_count": 13,
     "metadata": {},
     "output_type": "execute_result"
    },
    {
     "data": {
      "image/png": "[encoded data removed]",
      "text/plain": [
       "<Figure size 252x252 with 1 Axes>"
      ]
     },
     "metadata": {
      "needs_background": "light"
     },
     "output_type": "display_data"
    }
   ],
   "source": [
    "plt.figure(figsize=(3.5, 3.5))\n",
    "plt.errorbar(sg_opts, av_mon_yield, yerr=std_mon_yield, linestyle='none', marker='.', markersize=10, \n",
    "             markerfacecolor='black', markeredgecolor='black', capsize=3, ecolor='black')\n",
    "plt.xscale('log')\n",
    "[plt.gca().spines[i].set_linewidth(1.5) for i in ['top', 'right', 'bottom', 'left']]\n",
    "plt.gca().tick_params(axis='both', which='major', labelsize=14, direction='in', pad=8, top=True, right=True, \n",
    "                      width=1.5, length=6)\n",
    "plt.gca().tick_params(axis='both', which='minor', labelsize=14, direction='in', pad=8, top=True, right=True, \n",
    "                      width=1, length=4)\n",
    "plt.ylabel('Monomer Yield (%)', fontsize=14)\n",
    "plt.xlabel('SG Ratio', fontsize=14)\n",
    "plt.ylim([0.0, 1.0])"
   ]
  },
  {
   "cell_type": "markdown",
   "metadata": {},
   "source": [
    "The monomer yields plot above is easy, because there is just one trend that we look at. For this instance, that trend is fairly messy, again because there are fewer repeats and fewer monomers in each simulation, but the idea is still the same.\n",
    "\n",
    "Let us now examine the bond contents that were predicted from this simulation."
   ]
  },
  {
   "cell_type": "code",
   "execution_count": 14,
   "metadata": {},
   "outputs": [
    {
     "data": {
      "text/plain": [
       "<matplotlib.legend.Legend at 0x101bc64d30>"
      ]
     },
     "execution_count": 14,
     "metadata": {},
     "output_type": "execute_result"
    },
    {
     "data": {
      "image/png": "[encoded data removed]",
      "text/plain": [
       "<Figure size 252x252 with 1 Axes>"
      ]
     },
     "metadata": {
      "needs_background": "light"
     },
     "output_type": "display_data"
    }
   ],
   "source": [
    "colors = [(0, 0, 0), (1, 0, 0), (0, 0, 1), (0, 0.6, 0), (0.6, 0, 0.6), (1, 0.549, 0), \n",
    "          (0, 0.6, 0.6), (1, 0.8, 0), (0.6078, 0.2980, 0), (0.6, 0, 0), (0, 0, 0.6)]\n",
    "plt.figure(figsize=(3.5,3.5))\n",
    "plt.errorbar(sg_opts, av_bo4_content, yerr=std_bo4_content, linestyle='none', marker='.',\n",
    "             markersize=10, markerfacecolor=colors[0], markeredgecolor=colors[0], label=BO4,\n",
    "             capsize=3,ecolor=colors[0])\n",
    "plt.errorbar(sg_opts, av_bb_content, yerr=std_bb_content, linestyle='none', marker='.', markersize=10, \n",
    "             markerfacecolor=colors[1], markeredgecolor=colors[1], label=BB, capsize=3, ecolor=colors[1])\n",
    "plt.errorbar(sg_opts, av_b5_content, yerr=std_b5_content, linestyle='none', marker='.', markersize=10,\n",
    "             markerfacecolor=colors[2], markeredgecolor=colors[2], label=B5, capsize=3, ecolor=colors[2])\n",
    "plt.errorbar(sg_opts, av_b1_content, yerr=std_b1_content, linestyle='none', marker='.', markersize=10, \n",
    "             markerfacecolor=colors[3], markeredgecolor=colors[3], label=B1, capsize=3, ecolor=colors[3])\n",
    "plt.errorbar(sg_opts, av_5o4_content, yerr=std_5o4_content, linestyle='none', marker='.', markersize=10, \n",
    "             markerfacecolor=colors[4], markeredgecolor=colors[4], label=C5O4, capsize=3, ecolor=colors[4])\n",
    "plt.errorbar(sg_opts, av_ao4_content, yerr=std_ao4_content, linestyle='none', marker='.', markersize=10, \n",
    "             markerfacecolor=colors[5], markeredgecolor=colors[5], label=AO4, capsize=3, ecolor=colors[5])\n",
    "plt.errorbar(sg_opts, av_55_content, yerr=std_55_content, linestyle='none', marker='.', markersize=10, \n",
    "             markerfacecolor=colors[6], markeredgecolor=colors[6], label=C5C5, capsize=3, ecolor=colors[6])\n",
    "plt.xscale('log')\n",
    "\n",
    "[plt.gca().spines[i].set_linewidth(1.5) for i in ['top', 'right', 'bottom', 'left']]\n",
    "plt.gca().tick_params(axis='both', which='major', labelsize=14, direction='in', pad=8, top=True, right=True, \n",
    "                      width=1.5, length=6)\n",
    "plt.gca().tick_params(axis='both', which='minor', labelsize=14, direction='in', pad=8, top=True, right=True, \n",
    "                      width=1, length=4)\n",
    "plt.ylabel('Bond Type Yield (%)', fontsize=14)\n",
    "plt.xlabel('SG Ratio', fontsize=14)\n",
    "plt.ylim([0.0, 1.0])\n",
    "plt.legend(fontsize=14, loc='upper center', bbox_to_anchor=(1.2, 1.05), frameon=False)"
   ]
  },
  {
   "cell_type": "markdown",
   "metadata": {},
   "source": [
    "### Addition rate sensitivity\n",
    "We will now perform the same task on different monomer addition rates."
   ]
  },
  {
   "cell_type": "code",
   "execution_count": 15,
   "metadata": {},
   "outputs": [
    {
     "name": "stdout",
     "output_type": "stream",
     "text": [
      "Completed sensitivity iteration for addition rate 1.00e+04 monomers/s on 2019-11-19 at 15:57:11.\n",
      "Completed sensitivity iteration for addition rate 3.16e+04 monomers/s on 2019-11-19 at 15:57:11.\n",
      "Completed sensitivity iteration for addition rate 1.00e+05 monomers/s on 2019-11-19 at 15:57:12.\n",
      "Completed sensitivity iteration for addition rate 3.16e+05 monomers/s on 2019-11-19 at 15:57:14.\n",
      "Completed sensitivity iteration for addition rate 1.00e+06 monomers/s on 2019-11-19 at 15:57:15.\n",
      "Completed sensitivity iteration for addition rate 3.16e+06 monomers/s on 2019-11-19 at 15:57:17.\n",
      "Completed sensitivity iteration for addition rate 1.00e+07 monomers/s on 2019-11-19 at 15:57:19.\n",
      "Completed sensitivity iteration for addition rate 3.16e+07 monomers/s on 2019-11-19 at 15:57:22.\n",
      "Completed sensitivity iteration for addition rate 1.00e+08 monomers/s on 2019-11-19 at 15:57:26.\n",
      "Completed sensitivity iteration for addition rate 3.16e+08 monomers/s on 2019-11-19 at 15:57:34.\n",
      "Completed sensitivity iteration for addition rate 1.00e+09 monomers/s on 2019-11-19 at 15:57:44.\n",
      "Completed sensitivity iteration for addition rate 3.16e+09 monomers/s on 2019-11-19 at 15:58:02.\n",
      "Completed sensitivity iteration for addition rate 1.00e+10 monomers/s on 2019-11-19 at 15:58:28.\n",
      "Completed sensitivity iteration for addition rate 3.16e+10 monomers/s on 2019-11-19 at 15:59:03.\n",
      "Completed sensitivity iteration for addition rate 1.00e+11 monomers/s on 2019-11-19 at 15:59:38.\n",
      "Completed sensitivity iteration for addition rate 3.16e+11 monomers/s on 2019-11-19 at 16:00:14.\n",
      "Completed sensitivity iteration for addition rate 1.00e+12 monomers/s on 2019-11-19 at 16:00:49.\n",
      "Completed sensitivity iteration for addition rate 3.16e+12 monomers/s on 2019-11-19 at 16:01:22.\n",
      "Completed sensitivity iteration for addition rate 1.00e+13 monomers/s on 2019-11-19 at 16:01:42.\n",
      "Completed sensitivity iteration for addition rate 3.16e+13 monomers/s on 2019-11-19 at 16:02:01.\n",
      "Completed sensitivity iteration for addition rate 1.00e+14 monomers/s on 2019-11-19 at 16:02:18.\n"
     ]
    }
   ],
   "source": [
    "add_rates = np.logspace(4, 14, 21)\n",
    "\n",
    "fun = par.delayed(run_kmc)\n",
    "add_result_list = []\n",
    "\n",
    "# Set the percentage of S\n",
    "sg_ratio = 1\n",
    "pct_s = sg_ratio / (1 + sg_ratio)\n",
    "\n",
    "# Set the initial and maximum number of monomers to be modeled.\n",
    "ini_num_monos = 4\n",
    "max_monos = 200\n",
    "    \n",
    "for add_rate in add_rates:\n",
    "    # Initialize the monomers, events, and state\n",
    "    monomer_draw = np.random.rand(ini_num_monos)\n",
    "    initial_monomers = create_initial_monomers(pct_s, monomer_draw)\n",
    "    initial_events = create_initial_events(initial_monomers, rxn_rates)\n",
    "    initial_state = create_initial_state(initial_events, initial_monomers)\n",
    "    initial_events.append(Event(GROW, [], rate=add_rate, bond=sg_ratio))\n",
    "\n",
    "    results = par.Parallel(n_jobs = 4)([fun(rxn_rates, initial_state, initial_events, n_max=max_monos, \n",
    "                                            sg_ratio=sg_ratio) for _ in range(num_repeats)])\n",
    "    \n",
    "    add_result_list.append(results)\n",
    "    t = time.localtime()\n",
    "    print('Completed sensitivity iteration for addition rate {:.2e} monomers/s on ' \n",
    "          '{}-{:02d}-{:02d} at {:02d}:{:02d}:{:02d}.'.format(add_rate, t.tm_year, t.tm_mon, t.tm_mday, \n",
    "                                                             t.tm_hour, t.tm_min, t.tm_sec))"
   ]
  },
  {
   "cell_type": "code",
   "execution_count": 16,
   "metadata": {},
   "outputs": [
    {
     "name": "stdout",
     "output_type": "stream",
     "text": [
      "Finished analysis for monomer addition rate 1.00e+04 on 2019-11-19 at 16:02:36\n",
      "Finished analysis for monomer addition rate 3.16e+04 on 2019-11-19 at 16:02:37\n",
      "Finished analysis for monomer addition rate 1.00e+05 on 2019-11-19 at 16:02:37\n",
      "Finished analysis for monomer addition rate 3.16e+05 on 2019-11-19 at 16:02:38\n",
      "Finished analysis for monomer addition rate 1.00e+06 on 2019-11-19 at 16:02:38\n",
      "Finished analysis for monomer addition rate 3.16e+06 on 2019-11-19 at 16:02:39\n",
      "Finished analysis for monomer addition rate 1.00e+07 on 2019-11-19 at 16:02:39\n",
      "Finished analysis for monomer addition rate 3.16e+07 on 2019-11-19 at 16:02:40\n",
      "Finished analysis for monomer addition rate 1.00e+08 on 2019-11-19 at 16:02:40\n",
      "Finished analysis for monomer addition rate 3.16e+08 on 2019-11-19 at 16:02:40\n",
      "Finished analysis for monomer addition rate 1.00e+09 on 2019-11-19 at 16:02:41\n",
      "Finished analysis for monomer addition rate 3.16e+09 on 2019-11-19 at 16:02:41\n",
      "Finished analysis for monomer addition rate 1.00e+10 on 2019-11-19 at 16:02:42\n",
      "Finished analysis for monomer addition rate 3.16e+10 on 2019-11-19 at 16:02:42\n",
      "Finished analysis for monomer addition rate 1.00e+11 on 2019-11-19 at 16:02:43\n",
      "Finished analysis for monomer addition rate 3.16e+11 on 2019-11-19 at 16:02:43\n",
      "Finished analysis for monomer addition rate 1.00e+12 on 2019-11-19 at 16:02:44\n",
      "Finished analysis for monomer addition rate 3.16e+12 on 2019-11-19 at 16:02:44\n",
      "Finished analysis for monomer addition rate 1.00e+13 on 2019-11-19 at 16:02:45\n",
      "Finished analysis for monomer addition rate 3.16e+13 on 2019-11-19 at 16:02:45\n",
      "Finished analysis for monomer addition rate 1.00e+14 on 2019-11-19 at 16:02:46\n"
     ]
    }
   ],
   "source": [
    "num_opts = len(add_rates)\n",
    "analysis = []\n",
    "\n",
    "for i in range(num_opts):\n",
    "    opt_results = add_result_list[i]\n",
    "    cur_adjs = [opt_results[j][ADJ_MATRIX] for j in range(num_repeats)]\n",
    "    analysis.append(par.Parallel(n_jobs=4)(par.delayed(analyze_adj_matrix)(cur_adjs[j])\n",
    "                                                       for j in range(num_repeats)))\n",
    "                                     \n",
    "    t = time.localtime()\n",
    "    print('Finished analysis for monomer addition rate {:5.2e} on {}-{:02d}-{:02d} at '\n",
    "          '{:02d}:{:02d}:{:02d}'.format(add_rates[i], t.tm_year, t.tm_mon, t.tm_mday, \n",
    "                                        t.tm_hour, t.tm_min, t.tm_sec))"
   ]
  },
  {
   "cell_type": "code",
   "execution_count": 17,
   "metadata": {},
   "outputs": [],
   "source": [
    "num_monos = [[sum([analysis[j][i][CHAIN_LEN][k] * k for k in analysis[j][i][CHAIN_LEN]]) \n",
    "              for i in range(num_repeats)] for j in range(num_opts)]\n",
    "\n",
    "monomer_yields = [[analysis[j][i][RCF_YIELDS][1]/num_monos[j][i] \n",
    "                   for i in range(num_repeats)] for j in range(num_opts)]\n",
    "\n",
    "betaO4_content = [[analysis[j][i][BONDS][BO4]/sum(analysis[j][i][BONDS].values())\n",
    "                   for i in range(num_repeats)] for j in range(num_opts)]\n",
    "beta5_content = [[analysis[j][i][BONDS][B5]/sum(analysis[j][i][BONDS].values())\n",
    "                  for i in range(num_repeats)] for j in range(num_opts)]\n",
    "betabeta_content = [[analysis[j][i][BONDS][BB]/sum(analysis[j][i][BONDS].values())\n",
    "                     for i in range(num_repeats)] for j in range(num_opts)]\n",
    "beta1_content = [[analysis[j][i][BONDS][B1]/sum(analysis[j][i][BONDS].values())\n",
    "                  for i in range(num_repeats)] for j in range(num_opts)]\n",
    "c5o4_content = [[analysis[j][i][BONDS][C5O4]/sum(analysis[j][i][BONDS].values())\n",
    "                 for i in range(num_repeats)] for j in range(num_opts)]\n",
    "alphaO4_content = [[analysis[j][i][BONDS][AO4]/sum(analysis[j][i][BONDS].values())\n",
    "                    for i in range(num_repeats)] for j in range(num_opts)]\n",
    "fivefive_content = [[analysis[j][i][BONDS][C5C5]/sum(analysis[j][i][BONDS].values())\n",
    "                     for i in range(num_repeats)] for j in range(num_opts)]\n",
    "\n",
    "av_mon_yield = [np.mean(percent) for percent in monomer_yields]\n",
    "std_mon_yield = [np.sqrt(np.var(percent)) for percent in monomer_yields]\n",
    "\n",
    "av_bo4_content = [np.mean(percent) for percent in betaO4_content]\n",
    "std_bo4_content = [np.sqrt(np.var(percent)) for percent in betaO4_content]\n",
    "\n",
    "av_b5_content = [np.mean(percent) for percent in beta5_content]\n",
    "std_b5_content = [np.sqrt(np.var(percent)) for percent in beta5_content]\n",
    "\n",
    "av_bb_content = [np.mean(percent) for percent in betabeta_content]\n",
    "std_bb_content = [np.sqrt(np.var(percent)) for percent in betabeta_content]\n",
    "\n",
    "av_b1_content = [np.mean(percent) for percent in beta1_content]\n",
    "std_b1_content = [np.sqrt(np.var(percent)) for percent in beta1_content]\n",
    "\n",
    "av_5o4_content = [np.mean(percent) for percent in c5o4_content]\n",
    "std_5o4_content = [np.sqrt(np.var(percent)) for percent in c5o4_content]\n",
    "\n",
    "av_ao4_content = [np.mean(percent) for percent in alphaO4_content]\n",
    "std_ao4_content = [np.sqrt(np.var(percent)) for percent in alphaO4_content]\n",
    "\n",
    "av_55_content = [np.mean(percent) for percent in fivefive_content]\n",
    "std_55_content = [np.sqrt(np.var(percent)) for percent in fivefive_content]"
   ]
  },
  {
   "cell_type": "code",
   "execution_count": 18,
   "metadata": {},
   "outputs": [
    {
     "data": {
      "text/plain": [
       "Text(0.5,0,'Addition Rate (monomers/s)')"
      ]
     },
     "execution_count": 18,
     "metadata": {},
     "output_type": "execute_result"
    },
    {
     "data": {
      "image/png": "[encoded data removed]",
      "text/plain": [
       "<Figure size 252x252 with 1 Axes>"
      ]
     },
     "metadata": {
      "needs_background": "light"
     },
     "output_type": "display_data"
    }
   ],
   "source": [
    "plt.figure(figsize=(3.5, 3.5))\n",
    "plt.errorbar(add_rates, av_mon_yield, yerr=std_mon_yield, linestyle='none', marker='.', markersize=10, \n",
    "             markerfacecolor='black', markeredgecolor='black', capsize=3, ecolor='black')\n",
    "plt.xscale('log')\n",
    "[plt.gca().spines[i].set_linewidth(1.5) for i in ['top', 'right', 'bottom', 'left']]\n",
    "plt.gca().tick_params(axis='both', which='major', labelsize=14, direction='in', pad=8, top=True, right=True, \n",
    "                      width=1.5, length=6)\n",
    "plt.gca().tick_params(axis='both', which='minor', labelsize=14, direction='in', pad=8, top=True, right=True, \n",
    "                      width=1, length=4)\n",
    "plt.ylabel('Monomer Yield (%)', fontsize=14)\n",
    "plt.xlabel('Addition Rate (monomers/s)', fontsize=14)"
   ]
  },
  {
   "cell_type": "code",
   "execution_count": 19,
   "metadata": {},
   "outputs": [
    {
     "data": {
      "text/plain": [
       "<matplotlib.legend.Legend at 0x101de9e748>"
      ]
     },
     "execution_count": 19,
     "metadata": {},
     "output_type": "execute_result"
    },
    {
     "data": {
      "image/png": "[encoded data removed]",
      "text/plain": [
       "<Figure size 252x252 with 1 Axes>"
      ]
     },
     "metadata": {
      "needs_background": "light"
     },
     "output_type": "display_data"
    }
   ],
   "source": [
    "plt.figure(figsize=(3.5, 3.5))\n",
    "plt.errorbar(add_rates, av_bo4_content, yerr=std_bo4_content, linestyle='none', marker='.',\n",
    "             markersize=10, markerfacecolor=colors[0], markeredgecolor=colors[0], label=BO4,\n",
    "             capsize=3,ecolor=colors[0])\n",
    "plt.errorbar(add_rates, av_bb_content, yerr=std_bb_content, linestyle='none', marker='.', markersize=10, \n",
    "             markerfacecolor=colors[1], markeredgecolor=colors[1], label=BB, capsize=3, ecolor=colors[1])\n",
    "plt.errorbar(add_rates, av_b5_content, yerr=std_b5_content, linestyle='none', marker='.', markersize=10,\n",
    "             markerfacecolor=colors[2], markeredgecolor=colors[2], label=B5, capsize=3, ecolor=colors[2])\n",
    "plt.errorbar(add_rates, av_b1_content, yerr=std_b1_content, linestyle='none', marker='.', markersize=10, \n",
    "             markerfacecolor=colors[3], markeredgecolor=colors[3], label=B1, capsize=3, ecolor=colors[3])\n",
    "plt.errorbar(add_rates, av_5o4_content, yerr=std_5o4_content, linestyle='none', marker='.', markersize=10, \n",
    "             markerfacecolor=colors[4], markeredgecolor=colors[4], label=C5O4, capsize=3, ecolor=colors[4])\n",
    "plt.errorbar(add_rates, av_ao4_content, yerr=std_ao4_content, linestyle='none', marker='.', markersize=10, \n",
    "             markerfacecolor=colors[5], markeredgecolor=colors[5], label=AO4, capsize=3, ecolor=colors[5])\n",
    "plt.errorbar(add_rates, av_55_content, yerr=std_55_content, linestyle='none', marker='.', markersize=10, \n",
    "             markerfacecolor=colors[6], markeredgecolor=colors[6], label=C5C5, capsize=3, ecolor=colors[6])\n",
    "plt.xscale('log')\n",
    "\n",
    "[plt.gca().spines[i].set_linewidth(1.5) for i in ['top', 'right', 'bottom', 'left']]\n",
    "plt.gca().tick_params(axis='both', which='major', labelsize=14, direction='in', pad=8, top=True, right=True, \n",
    "                      width=1.5, length=6)\n",
    "plt.gca().tick_params(axis='both', which='minor', labelsize=14, direction='in', pad=8, top=True, right=True, \n",
    "                      width=1, length=4)\n",
    "plt.ylabel('Bond Type Yield (%)', fontsize=14)\n",
    "plt.xlabel('Addition Rate (monomers/s)', fontsize=14)\n",
    "plt.ylim([0.0, 1.0])\n",
    "plt.legend(fontsize=14, loc='upper center', bbox_to_anchor=(1.2, 1.05), frameon=False)"
   ]
  },
  {
   "cell_type": "markdown",
   "metadata": {},
   "source": [
    "### Continuous monomer addition, SG ratio sensitivity\n",
    "We will now perform the same task on different SG ratios with a slow addition rate."
   ]
  },
  {
   "cell_type": "code",
   "execution_count": 20,
   "metadata": {},
   "outputs": [
    {
     "name": "stdout",
     "output_type": "stream",
     "text": [
      "Completed sensitivity iteration for S to G ratio  0.10 on 2019-11-19 at 16:03:15\n",
      "Completed sensitivity iteration for S to G ratio  0.20 on 2019-11-19 at 16:03:15\n",
      "Completed sensitivity iteration for S to G ratio  0.25 on 2019-11-19 at 16:03:16\n",
      "Completed sensitivity iteration for S to G ratio  0.33 on 2019-11-19 at 16:03:16\n",
      "Completed sensitivity iteration for S to G ratio  0.50 on 2019-11-19 at 16:03:16\n",
      "Completed sensitivity iteration for S to G ratio  1.00 on 2019-11-19 at 16:03:17\n",
      "Completed sensitivity iteration for S to G ratio  2.00 on 2019-11-19 at 16:03:17\n",
      "Completed sensitivity iteration for S to G ratio  3.00 on 2019-11-19 at 16:03:18\n",
      "Completed sensitivity iteration for S to G ratio  4.00 on 2019-11-19 at 16:03:20\n",
      "Completed sensitivity iteration for S to G ratio  5.00 on 2019-11-19 at 16:03:21\n",
      "Completed sensitivity iteration for S to G ratio 10.00 on 2019-11-19 at 16:03:22\n"
     ]
    }
   ],
   "source": [
    "sg_opts = [0.1, 0.2, 0.25, 0.33, 0.5, 1, 2, 3, 4, 5, 10]\n",
    "num_repeats = 5\n",
    "fun = par.delayed(run_kmc)\n",
    "sg_result_list = []\n",
    "\n",
    "for sg_ratio in sg_opts:\n",
    "    # Set the percentage of S\n",
    "    pct_s = sg_ratio / (1 + sg_ratio)\n",
    "    \n",
    "    # Make choices about what kinds of monomers there are and create them\n",
    "    ini_num_monos = 5\n",
    "    max_monos = 200\n",
    "    monomer_draw = np.random.rand(ini_num_monos)\n",
    "    initial_monomers = create_initial_monomers(pct_s, monomer_draw)\n",
    "    \n",
    "    # Initialize the monomers, events, and state\n",
    "    initial_events = create_initial_events(initial_monomers, rxn_rates)\n",
    "    initial_state = create_initial_state(initial_events, initial_monomers)\n",
    "    initial_events.append(Event(GROW, [], rate=1e4, bond=sg_ratio))\n",
    "\n",
    "    results = par.Parallel(n_jobs=4)([fun(rxn_rates, initial_state, initial_events, n_max=max_monos, t_max=1, \n",
    "                                          sg_ratio=sg_ratio) for _ in range(num_repeats)])\n",
    "    \n",
    "    sg_result_list.append(results)\n",
    "    t = time.localtime()\n",
    "    print('Completed sensitivity iteration for S to G ratio {:5.2f} on '\n",
    "          '{}-{:02d}-{:02d} at {:02d}:{:02d}:{:02d}'.format(sg_ratio, t.tm_year, t.tm_mon, t.tm_mday,\n",
    "                                                            t.tm_hour, t.tm_min, t.tm_sec))"
   ]
  },
  {
   "cell_type": "code",
   "execution_count": 21,
   "metadata": {},
   "outputs": [
    {
     "name": "stdout",
     "output_type": "stream",
     "text": [
      "Finished analysis for S:G of  0.10 on 2019-11-19 at 16:03:25\n",
      "Finished analysis for S:G of  0.20 on 2019-11-19 at 16:03:25\n",
      "Finished analysis for S:G of  0.25 on 2019-11-19 at 16:03:26\n",
      "Finished analysis for S:G of  0.33 on 2019-11-19 at 16:03:26\n",
      "Finished analysis for S:G of  0.50 on 2019-11-19 at 16:03:27\n",
      "Finished analysis for S:G of  1.00 on 2019-11-19 at 16:03:27\n",
      "Finished analysis for S:G of  2.00 on 2019-11-19 at 16:03:28\n",
      "Finished analysis for S:G of  3.00 on 2019-11-19 at 16:03:28\n",
      "Finished analysis for S:G of  4.00 on 2019-11-19 at 16:03:28\n",
      "Finished analysis for S:G of  5.00 on 2019-11-19 at 16:03:29\n",
      "Finished analysis for S:G of 10.00 on 2019-11-19 at 16:03:29\n"
     ]
    }
   ],
   "source": [
    "num_sg_opts = len(sg_opts)\n",
    "analysis = []\n",
    "\n",
    "for i in range(num_sg_opts):\n",
    "    sg_results = sg_result_list[i]\n",
    "    cur_adjs = [sg_results[j][ADJ_MATRIX] for j in range(num_repeats)]\n",
    "    analysis.append(par.Parallel(n_jobs=4)(par.delayed(analyze_adj_matrix)(cur_adjs[j])\n",
    "                                           for j in range(num_repeats)))                                        \n",
    "    t = time.localtime()\n",
    "    print('Finished analysis for S:G of {:5.2f} on {}-{:02d}-{:02d} at '\n",
    "          '{:02d}:{:02d}:{:02d}'.format(sg_opts[i], t.tm_year, t.tm_mon, t.tm_mday, \n",
    "                                        t.tm_hour, t.tm_min, t.tm_sec))"
   ]
  },
  {
   "cell_type": "code",
   "execution_count": 22,
   "metadata": {},
   "outputs": [],
   "source": [
    "num_monos = [[sum([analysis[j][i][CHAIN_LEN][k] * k for k in analysis[j][i][CHAIN_LEN]]) \n",
    "              for i in range(num_repeats)] for j in range(num_sg_opts)]\n",
    "\n",
    "monomer_yields = [[analysis[j][i][RCF_YIELDS][1]/num_monos[j][i] \n",
    "                   for i in range(num_repeats)] for j in range(num_sg_opts)]\n",
    "\n",
    "betaO4_content = [[analysis[j][i][BONDS][BO4]/sum(analysis[j][i][BONDS].values())\n",
    "                   for i in range(num_repeats)] for j in range(num_sg_opts)]\n",
    "beta5_content = [[analysis[j][i][BONDS][B5]/sum(analysis[j][i][BONDS].values())\n",
    "                  for i in range(num_repeats)] for j in range(num_sg_opts)]\n",
    "betabeta_content = [[analysis[j][i][BONDS][BB]/sum(analysis[j][i][BONDS].values())\n",
    "                     for i in range(num_repeats)] for j in range(num_sg_opts)]\n",
    "beta1_content = [[analysis[j][i][BONDS][B1]/sum(analysis[j][i][BONDS].values())\n",
    "                  for i in range(num_repeats)] for j in range(num_sg_opts)]\n",
    "c5o4_content = [[analysis[j][i][BONDS][C5O4]/sum(analysis[j][i][BONDS].values())\n",
    "                 for i in range(num_repeats)] for j in range(num_sg_opts)]\n",
    "alphaO4_content = [[analysis[j][i][BONDS][AO4]/sum(analysis[j][i][BONDS].values())\n",
    "                    for i in range(num_repeats)] for j in range(num_sg_opts)]\n",
    "fivefive_content = [[analysis[j][i][BONDS][C5C5]/sum(analysis[j][i][BONDS].values())\n",
    "                     for i in range(num_repeats)] for j in range(num_sg_opts)]\n",
    "\n",
    "av_mon_yield = [np.mean(percent) for percent in monomer_yields]\n",
    "std_mon_yield = [np.sqrt(np.var(percent)) for percent in monomer_yields]\n",
    "\n",
    "av_bo4_content = [np.mean(percent) for percent in betaO4_content]\n",
    "std_bo4_content = [np.sqrt(np.var(percent)) for percent in betaO4_content]\n",
    "\n",
    "av_b5_content = [np.mean(percent) for percent in beta5_content]\n",
    "std_b5_content = [np.sqrt(np.var(percent)) for percent in beta5_content]\n",
    "\n",
    "av_bb_content = [np.mean(percent) for percent in betabeta_content]\n",
    "std_bb_content = [np.sqrt(np.var(percent)) for percent in betabeta_content]\n",
    "\n",
    "av_b1_content = [np.mean(percent) for percent in beta1_content]\n",
    "std_b1_content = [np.sqrt(np.var(percent)) for percent in beta1_content]\n",
    "\n",
    "av_5o4_content = [np.mean(percent) for percent in c5o4_content]\n",
    "std_5o4_content = [np.sqrt(np.var(percent)) for percent in c5o4_content]\n",
    "\n",
    "av_ao4_content = [np.mean(percent) for percent in alphaO4_content]\n",
    "std_ao4_content = [np.sqrt(np.var(percent)) for percent in alphaO4_content]\n",
    "\n",
    "av_55_content = [np.mean(percent) for percent in fivefive_content]\n",
    "std_55_content = [np.sqrt(np.var(percent)) for percent in fivefive_content]"
   ]
  },
  {
   "cell_type": "code",
   "execution_count": 23,
   "metadata": {},
   "outputs": [
    {
     "data": {
      "text/plain": [
       "(0.0, 1.0)"
      ]
     },
     "execution_count": 23,
     "metadata": {},
     "output_type": "execute_result"
    },
    {
     "data": {
      "image/png": "[encoded data removed]",
      "text/plain": [
       "<Figure size 252x252 with 1 Axes>"
      ]
     },
     "metadata": {
      "needs_background": "light"
     },
     "output_type": "display_data"
    }
   ],
   "source": [
    "plt.figure(figsize=(3.5, 3.5))\n",
    "plt.errorbar(sg_opts, av_mon_yield, yerr=std_mon_yield, linestyle='none', marker='.', markersize=10, \n",
    "             markerfacecolor='black', markeredgecolor='black', capsize=3, ecolor='black')\n",
    "plt.xscale('log')\n",
    "[plt.gca().spines[i].set_linewidth(1.5) for i in ['top', 'right', 'bottom', 'left']]\n",
    "plt.gca().tick_params(axis='both', which='major', labelsize=14, direction='in', pad=8, top=True, right=True, \n",
    "                      width=1.5, length=6)\n",
    "plt.gca().tick_params(axis='both', which='minor', labelsize=14, direction='in', pad=8, top=True, right=True, \n",
    "                      width=1, length=4)\n",
    "plt.ylabel('Monomer Yield (%)', fontsize=14)\n",
    "plt.xlabel('SG Ratio', fontsize=14)\n",
    "plt.ylim([0.0, 1.0])"
   ]
  },
  {
   "cell_type": "code",
   "execution_count": 24,
   "metadata": {
    "scrolled": false
   },
   "outputs": [
    {
     "data": {
      "text/plain": [
       "<matplotlib.legend.Legend at 0x101d5dc2e8>"
      ]
     },
     "execution_count": 24,
     "metadata": {},
     "output_type": "execute_result"
    },
    {
     "data": {
      "image/png": "[encoded data removed]",
      "text/plain": [
       "<Figure size 252x252 with 1 Axes>"
      ]
     },
     "metadata": {
      "needs_background": "light"
     },
     "output_type": "display_data"
    }
   ],
   "source": [
    "plt.figure(figsize=(3.5, 3.5))\n",
    "plt.errorbar(sg_opts, av_bo4_content, yerr=std_bo4_content, linestyle='none', marker='.',\n",
    "             markersize=10, markerfacecolor=colors[0], markeredgecolor=colors[0], label=BO4,\n",
    "             capsize=3,ecolor=colors[0])\n",
    "plt.errorbar(sg_opts, av_bb_content, yerr=std_bb_content, linestyle='none', marker='.', markersize=10, \n",
    "             markerfacecolor=colors[1], markeredgecolor=colors[1], label=BB, capsize=3, ecolor=colors[1])\n",
    "plt.errorbar(sg_opts, av_b5_content, yerr=std_b5_content, linestyle='none', marker='.', markersize=10,\n",
    "             markerfacecolor=colors[2], markeredgecolor=colors[2], label=B5, capsize=3, ecolor=colors[2])\n",
    "plt.errorbar(sg_opts, av_b1_content, yerr=std_b1_content, linestyle='none', marker='.', markersize=10, \n",
    "             markerfacecolor=colors[3], markeredgecolor=colors[3], label=B1, capsize=3, ecolor=colors[3])\n",
    "plt.errorbar(sg_opts, av_5o4_content, yerr=std_5o4_content, linestyle='none', marker='.', markersize=10, \n",
    "             markerfacecolor=colors[4], markeredgecolor=colors[4], label=C5O4, capsize=3, ecolor=colors[4])\n",
    "plt.errorbar(sg_opts, av_ao4_content, yerr=std_ao4_content, linestyle='none', marker='.', markersize=10, \n",
    "             markerfacecolor=colors[5], markeredgecolor=colors[5], label=AO4, capsize=3, ecolor=colors[5])\n",
    "plt.errorbar(sg_opts, av_55_content, yerr=std_55_content, linestyle='none', marker='.', markersize=10, \n",
    "             markerfacecolor=colors[6], markeredgecolor=colors[6], label=C5C5, capsize=3, ecolor=colors[6])\n",
    "plt.xscale('log')\n",
    "\n",
    "[plt.gca().spines[i].set_linewidth(1.5) for i in ['top', 'right', 'bottom', 'left']]\n",
    "plt.gca().tick_params(axis='both', which='major', labelsize=14, direction='in', pad=8, top=True, right=True, \n",
    "                      width=1.5, length=6)\n",
    "plt.gca().tick_params(axis='both', which='minor', labelsize=14, direction='in', pad=8, top=True, right=True, \n",
    "                      width=1, length=4)\n",
    "plt.ylabel('Bond Type Yield (%)', fontsize=14)\n",
    "plt.xlabel('SG Ratio', fontsize=14)\n",
    "plt.ylim([0.0, 1.0])\n",
    "plt.legend(fontsize=14, loc='upper center', bbox_to_anchor=(1.2, 1.05), frameon=False)"
   ]
  },
  {
   "cell_type": "markdown",
   "metadata": {},
   "source": [
    "### Continuous monomer addition, SG ratio sensitivity at 1e7 monomers/s\n",
    "We will now perform the same task on different SG ratios with three addition rates"
   ]
  },
  {
   "cell_type": "code",
   "execution_count": 25,
   "metadata": {},
   "outputs": [
    {
     "name": "stdout",
     "output_type": "stream",
     "text": [
      "Completed sensitivity iteration for SG ratio  0.10 on 2019-11-19 at 16:03:44.\n",
      "Completed sensitivity iteration for SG ratio  0.20 on 2019-11-19 at 16:03:46.\n",
      "Completed sensitivity iteration for SG ratio  0.25 on 2019-11-19 at 16:03:47.\n",
      "Completed sensitivity iteration for SG ratio  0.33 on 2019-11-19 at 16:03:49.\n",
      "Completed sensitivity iteration for SG ratio  0.50 on 2019-11-19 at 16:03:51.\n",
      "Completed sensitivity iteration for SG ratio  1.00 on 2019-11-19 at 16:03:53.\n",
      "Completed sensitivity iteration for SG ratio  2.00 on 2019-11-19 at 16:03:56.\n",
      "Completed sensitivity iteration for SG ratio  3.00 on 2019-11-19 at 16:03:59.\n",
      "Completed sensitivity iteration for SG ratio  4.00 on 2019-11-19 at 16:04:03.\n",
      "Completed sensitivity iteration for SG ratio  5.00 on 2019-11-19 at 16:04:06.\n",
      "Completed sensitivity iteration for SG ratio 10.00 on 2019-11-19 at 16:04:09.\n"
     ]
    }
   ],
   "source": [
    "sg_opts = [0.1, 0.2, 0.25, 0.33, 0.5, 1, 2, 3, 4, 5, 10]\n",
    "num_repeats = 5\n",
    "\n",
    "fun = par.delayed(run_kmc)\n",
    "sg_result_list = []\n",
    "\n",
    "for sg_ratio in sg_opts:\n",
    "    # Set the percentage of S\n",
    "    pct_s = sg_ratio / (1 + sg_ratio)\n",
    "    \n",
    "    # Make choices about what kinds of monomers there are and create them\n",
    "    ini_num_monos = 5\n",
    "    max_monos = 200\n",
    "    monomer_draw = np.random.rand(ini_num_monos)\n",
    "    initial_monomers = create_initial_monomers(pct_s, monomer_draw)\n",
    "    \n",
    "    # Initialize the monomers, events, and state\n",
    "    initial_events = create_initial_events(initial_monomers, rxn_rates)\n",
    "    initial_state = create_initial_state(initial_events, initial_monomers)\n",
    "    initial_events.append(Event(GROW, [], rate=1e7, bond=sg_ratio))\n",
    "\n",
    "    results = par.Parallel(n_jobs=4)([fun(rxn_rates, initial_state, initial_events, n_max=max_monos, t_max=1, \n",
    "                                          sg_ratio=sg_ratio) for _ in range(num_repeats)])\n",
    "\n",
    "    sg_result_list.append(results)\n",
    "    t = time.localtime()\n",
    "    print('Completed sensitivity iteration for SG ratio {:5.2f} on ' \n",
    "          '{}-{:02d}-{:02d} at {:02d}:{:02d}:{:02d}.'.format(sg_ratio, t.tm_year, t.tm_mon, t.tm_mday, \n",
    "                                                             t.tm_hour, t.tm_min, t.tm_sec))"
   ]
  },
  {
   "cell_type": "code",
   "execution_count": 26,
   "metadata": {},
   "outputs": [
    {
     "name": "stdout",
     "output_type": "stream",
     "text": [
      "Finished analysis for S:G of  0.10 on 2019-11-19 at 16:04:13\n",
      "Finished analysis for S:G of  0.20 on 2019-11-19 at 16:04:13\n",
      "Finished analysis for S:G of  0.25 on 2019-11-19 at 16:04:14\n",
      "Finished analysis for S:G of  0.33 on 2019-11-19 at 16:04:14\n",
      "Finished analysis for S:G of  0.50 on 2019-11-19 at 16:04:15\n",
      "Finished analysis for S:G of  1.00 on 2019-11-19 at 16:04:16\n",
      "Finished analysis for S:G of  2.00 on 2019-11-19 at 16:04:16\n",
      "Finished analysis for S:G of  3.00 on 2019-11-19 at 16:04:16\n",
      "Finished analysis for S:G of  4.00 on 2019-11-19 at 16:04:17\n",
      "Finished analysis for S:G of  5.00 on 2019-11-19 at 16:04:17\n",
      "Finished analysis for S:G of 10.00 on 2019-11-19 at 16:04:18\n"
     ]
    }
   ],
   "source": [
    "num_sg_opts = len(sg_opts)\n",
    "analysis = []\n",
    "\n",
    "for i in range(num_sg_opts):\n",
    "    sg_results = sg_result_list[i]\n",
    "    cur_adjs = [sg_results[j][ADJ_MATRIX] for j in range(num_repeats)]\n",
    "    analysis.append(par.Parallel(n_jobs=4)(par.delayed(analyze_adj_matrix)(cur_adjs[j])\n",
    "                                           for j in range(num_repeats)))                                        \n",
    "    t = time.localtime()\n",
    "    print('Finished analysis for S:G of {:5.2f} on {}-{:02d}-{:02d} at '\n",
    "          '{:02d}:{:02d}:{:02d}'.format(sg_opts[i], t.tm_year, t.tm_mon, t.tm_mday, \n",
    "                                        t.tm_hour, t.tm_min, t.tm_sec))"
   ]
  },
  {
   "cell_type": "code",
   "execution_count": 27,
   "metadata": {},
   "outputs": [],
   "source": [
    "num_monos = [[sum([analysis[j][i][CHAIN_LEN][k] * k for k in analysis[j][i][CHAIN_LEN]]) \n",
    "              for i in range(num_repeats)] for j in range(num_sg_opts)]\n",
    "\n",
    "monomer_yields = [[analysis[j][i][RCF_YIELDS][1]/num_monos[j][i] \n",
    "                   for i in range(num_repeats)] for j in range(num_sg_opts)]\n",
    "\n",
    "betaO4_content = [[analysis[j][i][BONDS][BO4]/sum(analysis[j][i][BONDS].values())\n",
    "                   for i in range(num_repeats)] for j in range(num_sg_opts)]\n",
    "beta5_content = [[analysis[j][i][BONDS][B5]/sum(analysis[j][i][BONDS].values())\n",
    "                  for i in range(num_repeats)] for j in range(num_sg_opts)]\n",
    "betabeta_content = [[analysis[j][i][BONDS][BB]/sum(analysis[j][i][BONDS].values())\n",
    "                     for i in range(num_repeats)] for j in range(num_sg_opts)]\n",
    "beta1_content = [[analysis[j][i][BONDS][B1]/sum(analysis[j][i][BONDS].values())\n",
    "                  for i in range(num_repeats)] for j in range(num_sg_opts)]\n",
    "c5o4_content = [[analysis[j][i][BONDS][C5O4]/sum(analysis[j][i][BONDS].values())\n",
    "                 for i in range(num_repeats)] for j in range(num_sg_opts)]\n",
    "alphaO4_content = [[analysis[j][i][BONDS][AO4]/sum(analysis[j][i][BONDS].values())\n",
    "                    for i in range(num_repeats)] for j in range(num_sg_opts)]\n",
    "fivefive_content = [[analysis[j][i][BONDS][C5C5]/sum(analysis[j][i][BONDS].values())\n",
    "                     for i in range(num_repeats)] for j in range(num_sg_opts)]\n",
    "\n",
    "av_mon_yield = [np.mean(percent) for percent in monomer_yields]\n",
    "std_mon_yield = [np.sqrt(np.var(percent)) for percent in monomer_yields]\n",
    "\n",
    "av_bo4_content = [np.mean(percent) for percent in betaO4_content]\n",
    "std_bo4_content = [np.sqrt(np.var(percent)) for percent in betaO4_content]\n",
    "\n",
    "av_b5_content = [np.mean(percent) for percent in beta5_content]\n",
    "std_b5_content = [np.sqrt(np.var(percent)) for percent in beta5_content]\n",
    "\n",
    "av_bb_content = [np.mean(percent) for percent in betabeta_content]\n",
    "std_bb_content = [np.sqrt(np.var(percent)) for percent in betabeta_content]\n",
    "\n",
    "av_b1_content = [np.mean(percent) for percent in beta1_content]\n",
    "std_b1_content = [np.sqrt(np.var(percent)) for percent in beta1_content]\n",
    "\n",
    "av_5o4_content = [np.mean(percent) for percent in c5o4_content]\n",
    "std_5o4_content = [np.sqrt(np.var(percent)) for percent in c5o4_content]\n",
    "\n",
    "av_ao4_content = [np.mean(percent) for percent in alphaO4_content]\n",
    "std_ao4_content = [np.sqrt(np.var(percent)) for percent in alphaO4_content]\n",
    "\n",
    "av_55_content = [np.mean(percent) for percent in fivefive_content]\n",
    "std_55_content = [np.sqrt(np.var(percent)) for percent in fivefive_content]"
   ]
  },
  {
   "cell_type": "code",
   "execution_count": 28,
   "metadata": {},
   "outputs": [
    {
     "data": {
      "text/plain": [
       "(0.0, 1.0)"
      ]
     },
     "execution_count": 28,
     "metadata": {},
     "output_type": "execute_result"
    },
    {
     "data": {
      "image/png": "[encoded data removed]",
      "text/plain": [
       "<Figure size 252x252 with 1 Axes>"
      ]
     },
     "metadata": {
      "needs_background": "light"
     },
     "output_type": "display_data"
    }
   ],
   "source": [
    "plt.figure(figsize=(3.5, 3.5))\n",
    "plt.errorbar(sg_opts, av_mon_yield, yerr=std_mon_yield, linestyle='none', marker='.', markersize=10, \n",
    "             markerfacecolor='black', markeredgecolor='black', capsize=3, ecolor='black')\n",
    "plt.xscale('log')\n",
    "[plt.gca().spines[i].set_linewidth(1.5) for i in ['top', 'right', 'bottom', 'left']]\n",
    "plt.gca().tick_params(axis='both', which='major', labelsize=14, direction='in', pad=8, top=True, right=True, \n",
    "                      width=1.5, length=6)\n",
    "plt.gca().tick_params(axis='both', which='minor', labelsize=14, direction='in', pad=8, top=True, right=True, \n",
    "                      width=1, length=4)\n",
    "plt.ylabel('Monomer Yield (%)', fontsize=14)\n",
    "plt.xlabel('SG Ratio', fontsize=14)\n",
    "plt.ylim([0.0, 1.0])"
   ]
  },
  {
   "cell_type": "code",
   "execution_count": 29,
   "metadata": {
    "scrolled": true
   },
   "outputs": [
    {
     "data": {
      "text/plain": [
       "<matplotlib.legend.Legend at 0x101c0e6208>"
      ]
     },
     "execution_count": 29,
     "metadata": {},
     "output_type": "execute_result"
    },
    {
     "data": {
      "image/png": "[encoded data removed]",
      "text/plain": [
       "<Figure size 252x252 with 1 Axes>"
      ]
     },
     "metadata": {
      "needs_background": "light"
     },
     "output_type": "display_data"
    }
   ],
   "source": [
    "plt.figure(figsize=(3.5, 3.5))\n",
    "plt.errorbar(sg_opts, av_bo4_content, yerr=std_bo4_content, linestyle='none', marker='.',\n",
    "             markersize=10, markerfacecolor=colors[0], markeredgecolor=colors[0], label=BO4,\n",
    "             capsize=3,ecolor=colors[0])\n",
    "plt.errorbar(sg_opts, av_bb_content, yerr=std_bb_content, linestyle='none', marker='.', markersize=10, \n",
    "             markerfacecolor=colors[1], markeredgecolor=colors[1], label=BB, capsize=3, ecolor=colors[1])\n",
    "plt.errorbar(sg_opts, av_b5_content, yerr=std_b5_content, linestyle='none', marker='.', markersize=10,\n",
    "             markerfacecolor=colors[2], markeredgecolor=colors[2], label=B5, capsize=3, ecolor=colors[2])\n",
    "plt.errorbar(sg_opts, av_b1_content, yerr=std_b1_content, linestyle='none', marker='.', markersize=10, \n",
    "             markerfacecolor=colors[3], markeredgecolor=colors[3], label=B1, capsize=3, ecolor=colors[3])\n",
    "plt.errorbar(sg_opts, av_5o4_content, yerr=std_5o4_content, linestyle='none', marker='.', markersize=10, \n",
    "             markerfacecolor=colors[4], markeredgecolor=colors[4], label=C5O4, capsize=3, ecolor=colors[4])\n",
    "plt.errorbar(sg_opts, av_ao4_content, yerr=std_ao4_content, linestyle='none', marker='.', markersize=10, \n",
    "             markerfacecolor=colors[5], markeredgecolor=colors[5], label=AO4, capsize=3, ecolor=colors[5])\n",
    "plt.errorbar(sg_opts, av_55_content, yerr=std_55_content, linestyle='none', marker='.', markersize=10, \n",
    "             markerfacecolor=colors[6], markeredgecolor=colors[6], label=C5C5, capsize=3, ecolor=colors[6])\n",
    "plt.xscale('log')\n",
    "\n",
    "[plt.gca().spines[i].set_linewidth(1.5) for i in ['top', 'right', 'bottom', 'left']]\n",
    "plt.gca().tick_params(axis='both', which='major', labelsize=14, direction='in', pad=8, top=True, right=True, \n",
    "                      width=1.5, length=6)\n",
    "plt.gca().tick_params(axis='both', which='minor', labelsize=14, direction='in', pad=8, top=True, right=True, \n",
    "                      width=1, length=4)\n",
    "plt.ylabel('Bond Type Yield (%)', fontsize=14)\n",
    "plt.xlabel('SG Ratio', fontsize=14)\n",
    "plt.ylim([0.0, 1.0])\n",
    "plt.legend(fontsize=14, loc='upper center', bbox_to_anchor=(1.2, 1.05), frameon=False)"
   ]
  },
  {
   "cell_type": "markdown",
   "metadata": {},
   "source": [
    "### Continuous monomer addition, SG ratio sensitivity 1e9 monomers/second\n",
    "\n",
    "Continuing analysis of different SG ratios at different addition rates"
   ]
  },
  {
   "cell_type": "code",
   "execution_count": 30,
   "metadata": {},
   "outputs": [
    {
     "name": "stdout",
     "output_type": "stream",
     "text": [
      "Completed sensitivity iteration for SG ratio  0.10 on 2019-11-19 at 16:05:50.\n",
      "Completed sensitivity iteration for SG ratio  0.20 on 2019-11-19 at 16:06:00.\n",
      "Completed sensitivity iteration for SG ratio  0.25 on 2019-11-19 at 16:06:08.\n",
      "Completed sensitivity iteration for SG ratio  0.33 on 2019-11-19 at 16:06:18.\n",
      "Completed sensitivity iteration for SG ratio  0.50 on 2019-11-19 at 16:06:27.\n",
      "Completed sensitivity iteration for SG ratio  1.00 on 2019-11-19 at 16:06:36.\n",
      "Completed sensitivity iteration for SG ratio  2.00 on 2019-11-19 at 16:06:45.\n",
      "Completed sensitivity iteration for SG ratio  3.00 on 2019-11-19 at 16:06:54.\n",
      "Completed sensitivity iteration for SG ratio  4.00 on 2019-11-19 at 16:07:04.\n",
      "Completed sensitivity iteration for SG ratio  5.00 on 2019-11-19 at 16:07:12.\n",
      "Completed sensitivity iteration for SG ratio 10.00 on 2019-11-19 at 16:07:21.\n"
     ]
    }
   ],
   "source": [
    "sg_opts = [0.1, 0.2, 0.25, 0.33, 0.5, 1, 2, 3, 4, 5, 10]\n",
    "num_repeats = 5\n",
    "\n",
    "fun = par.delayed(run_kmc)\n",
    "sg_result_list = []\n",
    "\n",
    "for sg_ratio in sg_opts:\n",
    "    # Set the percentage of S\n",
    "    pct_s = sg_ratio / (1 + sg_ratio)\n",
    "    \n",
    "    # Make choices about what kinds of monomers there are and create them\n",
    "    ini_num_monos = 5\n",
    "    max_monos = 200\n",
    "    monomer_draw = np.random.rand(ini_num_monos)\n",
    "    initial_monomers = create_initial_monomers(pct_s, monomer_draw)\n",
    "    \n",
    "    # Initialize the monomers, events, and state\n",
    "    initial_events = create_initial_events(initial_monomers, rxn_rates)\n",
    "    initial_state = create_initial_state(initial_events, initial_monomers)\n",
    "    initial_events.append(Event(GROW, [], rate=1e9, bond=sg_ratio))\n",
    "\n",
    "    results = par.Parallel(n_jobs=4)([fun(rxn_rates, initial_state, initial_events, n_max=max_monos, t_max=1, \n",
    "                                          sg_ratio=sg_ratio) for _ in range(num_repeats)])\n",
    "\n",
    "    sg_result_list.append(results)\n",
    "    t = time.localtime()\n",
    "    print('Completed sensitivity iteration for SG ratio {:5.2f} on ' \n",
    "          '{}-{:02d}-{:02d} at {:02d}:{:02d}:{:02d}.'.format(sg_ratio, t.tm_year, t.tm_mon, t.tm_mday, \n",
    "                                                             t.tm_hour, t.tm_min, t.tm_sec))"
   ]
  },
  {
   "cell_type": "code",
   "execution_count": 31,
   "metadata": {},
   "outputs": [
    {
     "name": "stdout",
     "output_type": "stream",
     "text": [
      "Finished analysis for S:G of  0.10 on 2019-11-19 at 16:08:14\n",
      "Finished analysis for S:G of  0.20 on 2019-11-19 at 16:08:15\n",
      "Finished analysis for S:G of  0.25 on 2019-11-19 at 16:08:16\n",
      "Finished analysis for S:G of  0.33 on 2019-11-19 at 16:08:16\n",
      "Finished analysis for S:G of  0.50 on 2019-11-19 at 16:08:17\n",
      "Finished analysis for S:G of  1.00 on 2019-11-19 at 16:08:17\n",
      "Finished analysis for S:G of  2.00 on 2019-11-19 at 16:08:18\n",
      "Finished analysis for S:G of  3.00 on 2019-11-19 at 16:08:18\n",
      "Finished analysis for S:G of  4.00 on 2019-11-19 at 16:08:18\n",
      "Finished analysis for S:G of  5.00 on 2019-11-19 at 16:08:19\n",
      "Finished analysis for S:G of 10.00 on 2019-11-19 at 16:08:19\n"
     ]
    }
   ],
   "source": [
    "num_sg_opts = len(sg_opts)\n",
    "analysis = []\n",
    "\n",
    "for i in range(num_sg_opts):\n",
    "    sg_results = sg_result_list[i]\n",
    "    cur_adjs = [sg_results[j][ADJ_MATRIX] for j in range(num_repeats)]\n",
    "    analysis.append(par.Parallel(n_jobs=4)(par.delayed(analyze_adj_matrix)(cur_adjs[j])\n",
    "                                           for j in range(num_repeats)))                                        \n",
    "    t = time.localtime()\n",
    "    print('Finished analysis for S:G of {:5.2f} on {}-{:02d}-{:02d} at '\n",
    "          '{:02d}:{:02d}:{:02d}'.format(sg_opts[i], t.tm_year, t.tm_mon, t.tm_mday, \n",
    "                                        t.tm_hour, t.tm_min, t.tm_sec))"
   ]
  },
  {
   "cell_type": "code",
   "execution_count": 32,
   "metadata": {},
   "outputs": [],
   "source": [
    "num_monos = [[sum([analysis[j][i][CHAIN_LEN][k] * k for k in analysis[j][i][CHAIN_LEN]]) \n",
    "              for i in range(num_repeats)] for j in range(num_sg_opts)]\n",
    "\n",
    "monomer_yields = [[analysis[j][i][RCF_YIELDS][1]/num_monos[j][i] \n",
    "                   for i in range(num_repeats)] for j in range(num_sg_opts)]\n",
    "\n",
    "betaO4_content = [[analysis[j][i][BONDS][BO4]/sum(analysis[j][i][BONDS].values())\n",
    "                   for i in range(num_repeats)] for j in range(num_sg_opts)]\n",
    "beta5_content = [[analysis[j][i][BONDS][B5]/sum(analysis[j][i][BONDS].values())\n",
    "                  for i in range(num_repeats)] for j in range(num_sg_opts)]\n",
    "betabeta_content = [[analysis[j][i][BONDS][BB]/sum(analysis[j][i][BONDS].values())\n",
    "                     for i in range(num_repeats)] for j in range(num_sg_opts)]\n",
    "beta1_content = [[analysis[j][i][BONDS][B1]/sum(analysis[j][i][BONDS].values())\n",
    "                  for i in range(num_repeats)] for j in range(num_sg_opts)]\n",
    "c5o4_content = [[analysis[j][i][BONDS][C5O4]/sum(analysis[j][i][BONDS].values())\n",
    "                 for i in range(num_repeats)] for j in range(num_sg_opts)]\n",
    "alphaO4_content = [[analysis[j][i][BONDS][AO4]/sum(analysis[j][i][BONDS].values())\n",
    "                    for i in range(num_repeats)] for j in range(num_sg_opts)]\n",
    "fivefive_content = [[analysis[j][i][BONDS][C5C5]/sum(analysis[j][i][BONDS].values())\n",
    "                     for i in range(num_repeats)] for j in range(num_sg_opts)]\n",
    "\n",
    "av_mon_yield = [np.mean(percent) for percent in monomer_yields]\n",
    "std_mon_yield = [np.sqrt(np.var(percent)) for percent in monomer_yields]\n",
    "\n",
    "av_bo4_content = [np.mean(percent) for percent in betaO4_content]\n",
    "std_bo4_content = [np.sqrt(np.var(percent)) for percent in betaO4_content]\n",
    "\n",
    "av_b5_content = [np.mean(percent) for percent in beta5_content]\n",
    "std_b5_content = [np.sqrt(np.var(percent)) for percent in beta5_content]\n",
    "\n",
    "av_bb_content = [np.mean(percent) for percent in betabeta_content]\n",
    "std_bb_content = [np.sqrt(np.var(percent)) for percent in betabeta_content]\n",
    "\n",
    "av_b1_content = [np.mean(percent) for percent in beta1_content]\n",
    "std_b1_content = [np.sqrt(np.var(percent)) for percent in beta1_content]\n",
    "\n",
    "av_5o4_content = [np.mean(percent) for percent in c5o4_content]\n",
    "std_5o4_content = [np.sqrt(np.var(percent)) for percent in c5o4_content]\n",
    "\n",
    "av_ao4_content = [np.mean(percent) for percent in alphaO4_content]\n",
    "std_ao4_content = [np.sqrt(np.var(percent)) for percent in alphaO4_content]\n",
    "\n",
    "av_55_content = [np.mean(percent) for percent in fivefive_content]\n",
    "std_55_content = [np.sqrt(np.var(percent)) for percent in fivefive_content]"
   ]
  },
  {
   "cell_type": "code",
   "execution_count": 33,
   "metadata": {},
   "outputs": [
    {
     "data": {
      "text/plain": [
       "(0.0, 1.0)"
      ]
     },
     "execution_count": 33,
     "metadata": {},
     "output_type": "execute_result"
    },
    {
     "data": {
      "image/png": "[encoded data removed]",
      "text/plain": [
       "<Figure size 252x252 with 1 Axes>"
      ]
     },
     "metadata": {
      "needs_background": "light"
     },
     "output_type": "display_data"
    }
   ],
   "source": [
    "plt.figure(figsize=(3.5, 3.5))\n",
    "plt.errorbar(sg_opts, av_mon_yield, yerr=std_mon_yield, linestyle='none', marker='.', markersize=10, \n",
    "             markerfacecolor='black', markeredgecolor='black', capsize=3, ecolor='black')\n",
    "plt.xscale('log')\n",
    "[plt.gca().spines[i].set_linewidth(1.5) for i in ['top', 'right', 'bottom', 'left']]\n",
    "plt.gca().tick_params(axis='both', which='major', labelsize=14, direction='in', pad=8, top=True, right=True, \n",
    "                      width=1.5, length=6)\n",
    "plt.gca().tick_params(axis='both', which='minor', labelsize=14, direction='in', pad=8, top=True, right=True, \n",
    "                      width=1, length=4)\n",
    "plt.ylabel('Monomer Yield (%)', fontsize=14)\n",
    "plt.xlabel('SG Ratio', fontsize=14)\n",
    "plt.ylim([0.0, 1.0])"
   ]
  },
  {
   "cell_type": "code",
   "execution_count": 34,
   "metadata": {
    "scrolled": true
   },
   "outputs": [
    {
     "data": {
      "text/plain": [
       "<matplotlib.legend.Legend at 0x101cbd4198>"
      ]
     },
     "execution_count": 34,
     "metadata": {},
     "output_type": "execute_result"
    },
    {
     "data": {
      "image/png": "[encoded data removed]",
      "text/plain": [
       "<Figure size 252x252 with 1 Axes>"
      ]
     },
     "metadata": {
      "needs_background": "light"
     },
     "output_type": "display_data"
    }
   ],
   "source": [
    "plt.figure(figsize=(3.5, 3.5))\n",
    "plt.errorbar(sg_opts, av_bo4_content, yerr=std_bo4_content, linestyle='none', marker='.',\n",
    "             markersize=10, markerfacecolor=colors[0], markeredgecolor=colors[0], label=BO4,\n",
    "             capsize=3,ecolor=colors[0])\n",
    "plt.errorbar(sg_opts, av_bb_content, yerr=std_bb_content, linestyle='none', marker='.', markersize=10, \n",
    "             markerfacecolor=colors[1], markeredgecolor=colors[1], label=BB, capsize=3, ecolor=colors[1])\n",
    "plt.errorbar(sg_opts, av_b5_content, yerr=std_b5_content, linestyle='none', marker='.', markersize=10,\n",
    "             markerfacecolor=colors[2], markeredgecolor=colors[2], label=B5, capsize=3, ecolor=colors[2])\n",
    "plt.errorbar(sg_opts, av_b1_content, yerr=std_b1_content, linestyle='none', marker='.', markersize=10, \n",
    "             markerfacecolor=colors[3], markeredgecolor=colors[3], label=B1, capsize=3, ecolor=colors[3])\n",
    "plt.errorbar(sg_opts, av_5o4_content, yerr=std_5o4_content, linestyle='none', marker='.', markersize=10, \n",
    "             markerfacecolor=colors[4], markeredgecolor=colors[4], label=C5O4, capsize=3, ecolor=colors[4])\n",
    "plt.errorbar(sg_opts, av_ao4_content, yerr=std_ao4_content, linestyle='none', marker='.', markersize=10, \n",
    "             markerfacecolor=colors[5], markeredgecolor=colors[5], label=AO4, capsize=3, ecolor=colors[5])\n",
    "plt.errorbar(sg_opts, av_55_content, yerr=std_55_content, linestyle='none', marker='.', markersize=10, \n",
    "             markerfacecolor=colors[6], markeredgecolor=colors[6], label=C5C5, capsize=3, ecolor=colors[6])\n",
    "plt.xscale('log')\n",
    "\n",
    "[plt.gca().spines[i].set_linewidth(1.5) for i in ['top', 'right', 'bottom', 'left']]\n",
    "plt.gca().tick_params(axis='both', which='major', labelsize=14, direction='in', pad=8, top=True, right=True, \n",
    "                      width=1.5, length=6)\n",
    "plt.gca().tick_params(axis='both', which='minor', labelsize=14, direction='in', pad=8, top=True, right=True, \n",
    "                      width=1, length=4)\n",
    "plt.ylabel('Bond Type Yield (%)', fontsize=14)\n",
    "plt.xlabel('SG Ratio', fontsize=14)\n",
    "plt.ylim([0.0, 1.0])\n",
    "plt.legend(fontsize=14, loc='upper center', bbox_to_anchor=(1.2, 1.05), frameon=False)"
   ]
  },
  {
   "cell_type": "markdown",
   "metadata": {},
   "source": [
    "### Continuous monomer addition, SG ratio sensitivity 1e11 monomers/second\n",
    "Continuing analysis of different SG ratios at different addition rates"
   ]
  },
  {
   "cell_type": "code",
   "execution_count": 35,
   "metadata": {},
   "outputs": [
    {
     "name": "stdout",
     "output_type": "stream",
     "text": [
      "Completed sensitivity iteration for SG ratio  0.10 on 2019-11-19 at 16:09:07.\n",
      "Completed sensitivity iteration for SG ratio  0.20 on 2019-11-19 at 16:09:44.\n",
      "Completed sensitivity iteration for SG ratio  0.25 on 2019-11-19 at 16:10:19.\n",
      "Completed sensitivity iteration for SG ratio  0.33 on 2019-11-19 at 16:11:01.\n",
      "Completed sensitivity iteration for SG ratio  0.50 on 2019-11-19 at 16:11:46.\n",
      "Completed sensitivity iteration for SG ratio  1.00 on 2019-11-19 at 16:12:26.\n",
      "Completed sensitivity iteration for SG ratio  2.00 on 2019-11-19 at 16:13:08.\n",
      "Completed sensitivity iteration for SG ratio  3.00 on 2019-11-19 at 16:13:38.\n",
      "Completed sensitivity iteration for SG ratio  4.00 on 2019-11-19 at 16:14:08.\n",
      "Completed sensitivity iteration for SG ratio  5.00 on 2019-11-19 at 16:14:34.\n",
      "Completed sensitivity iteration for SG ratio 10.00 on 2019-11-19 at 16:15:00.\n"
     ]
    }
   ],
   "source": [
    "sg_opts = [0.1, 0.2, 0.25, 0.33, 0.5, 1, 2, 3, 4, 5, 10]\n",
    "num_repeats = 5\n",
    "\n",
    "fun = par.delayed(run_kmc)\n",
    "sg_result_list = []\n",
    "\n",
    "for sg_ratio in sg_opts:\n",
    "    # Set the percentage of S\n",
    "    pct_s = sg_ratio / (1 + sg_ratio)\n",
    "    \n",
    "    # Make choices about what kinds of monomers there are and create them\n",
    "    ini_num_monos = 5\n",
    "    max_monos = 200\n",
    "    monomer_draw = np.random.rand(ini_num_monos)\n",
    "    initial_monomers = create_initial_monomers(pct_s, monomer_draw)\n",
    "    \n",
    "    # Initialize the monomers, events, and state\n",
    "    initial_events = create_initial_events(initial_monomers, rxn_rates)\n",
    "    initial_state = create_initial_state(initial_events, initial_monomers)\n",
    "    initial_events.append(Event(GROW, [], rate=1e11, bond=sg_ratio))\n",
    "\n",
    "\n",
    "\n",
    "    results = par.Parallel(n_jobs=4)([fun(rxn_rates, initial_state, initial_events, n_max=max_monos, t_max=1, \n",
    "                                          sg_ratio=sg_ratio) for _ in range(num_repeats)])\n",
    "\n",
    "    sg_result_list.append(results)\n",
    "    t = time.localtime()\n",
    "    print('Completed sensitivity iteration for SG ratio {:5.2f} on ' \n",
    "          '{}-{:02d}-{:02d} at {:02d}:{:02d}:{:02d}.'.format(sg_ratio, t.tm_year, t.tm_mon, t.tm_mday, \n",
    "                                                             t.tm_hour, t.tm_min, t.tm_sec))"
   ]
  },
  {
   "cell_type": "code",
   "execution_count": 36,
   "metadata": {},
   "outputs": [
    {
     "name": "stdout",
     "output_type": "stream",
     "text": [
      "Finished analysis for S:G of  0.10 on 2019-11-19 at 16:15:25\n",
      "Finished analysis for S:G of  0.20 on 2019-11-19 at 16:15:26\n",
      "Finished analysis for S:G of  0.25 on 2019-11-19 at 16:15:26\n",
      "Finished analysis for S:G of  0.33 on 2019-11-19 at 16:15:27\n",
      "Finished analysis for S:G of  0.50 on 2019-11-19 at 16:15:27\n",
      "Finished analysis for S:G of  1.00 on 2019-11-19 at 16:15:28\n",
      "Finished analysis for S:G of  2.00 on 2019-11-19 at 16:15:28\n",
      "Finished analysis for S:G of  3.00 on 2019-11-19 at 16:15:29\n",
      "Finished analysis for S:G of  4.00 on 2019-11-19 at 16:15:29\n",
      "Finished analysis for S:G of  5.00 on 2019-11-19 at 16:15:29\n",
      "Finished analysis for S:G of 10.00 on 2019-11-19 at 16:15:30\n"
     ]
    }
   ],
   "source": [
    "num_sg_opts = len(sg_opts)\n",
    "analysis = []\n",
    "\n",
    "for i in range(num_sg_opts):\n",
    "    sg_results = sg_result_list[i]\n",
    "    cur_adjs = [sg_results[j][ADJ_MATRIX] for j in range(num_repeats)]\n",
    "    analysis.append(par.Parallel(n_jobs=4)(par.delayed(analyze_adj_matrix)(cur_adjs[j])\n",
    "                                           for j in range(num_repeats)))                                        \n",
    "    t = time.localtime()\n",
    "    print('Finished analysis for S:G of {:5.2f} on {}-{:02d}-{:02d} at '\n",
    "          '{:02d}:{:02d}:{:02d}'.format(sg_opts[i], t.tm_year, t.tm_mon, t.tm_mday, \n",
    "                                        t.tm_hour, t.tm_min, t.tm_sec))"
   ]
  },
  {
   "cell_type": "code",
   "execution_count": 37,
   "metadata": {},
   "outputs": [],
   "source": [
    "num_monos = [[sum([analysis[j][i][CHAIN_LEN][k] * k for k in analysis[j][i][CHAIN_LEN]]) \n",
    "              for i in range(num_repeats)] for j in range(num_sg_opts)]\n",
    "\n",
    "monomer_yields = [[analysis[j][i][RCF_YIELDS][1]/num_monos[j][i] \n",
    "                   for i in range(num_repeats)] for j in range(num_sg_opts)]\n",
    "\n",
    "betaO4_content = [[analysis[j][i][BONDS][BO4]/sum(analysis[j][i][BONDS].values())\n",
    "                   for i in range(num_repeats)] for j in range(num_sg_opts)]\n",
    "beta5_content = [[analysis[j][i][BONDS][B5]/sum(analysis[j][i][BONDS].values())\n",
    "                  for i in range(num_repeats)] for j in range(num_sg_opts)]\n",
    "betabeta_content = [[analysis[j][i][BONDS][BB]/sum(analysis[j][i][BONDS].values())\n",
    "                     for i in range(num_repeats)] for j in range(num_sg_opts)]\n",
    "beta1_content = [[analysis[j][i][BONDS][B1]/sum(analysis[j][i][BONDS].values())\n",
    "                  for i in range(num_repeats)] for j in range(num_sg_opts)]\n",
    "c5o4_content = [[analysis[j][i][BONDS][C5O4]/sum(analysis[j][i][BONDS].values())\n",
    "                 for i in range(num_repeats)] for j in range(num_sg_opts)]\n",
    "alphaO4_content = [[analysis[j][i][BONDS][AO4]/sum(analysis[j][i][BONDS].values())\n",
    "                    for i in range(num_repeats)] for j in range(num_sg_opts)]\n",
    "fivefive_content = [[analysis[j][i][BONDS][C5C5]/sum(analysis[j][i][BONDS].values())\n",
    "                     for i in range(num_repeats)] for j in range(num_sg_opts)]\n",
    "\n",
    "av_mon_yield = [np.mean(percent) for percent in monomer_yields]\n",
    "std_mon_yield = [np.sqrt(np.var(percent)) for percent in monomer_yields]\n",
    "\n",
    "av_bo4_content = [np.mean(percent) for percent in betaO4_content]\n",
    "std_bo4_content = [np.sqrt(np.var(percent)) for percent in betaO4_content]\n",
    "\n",
    "av_b5_content = [np.mean(percent) for percent in beta5_content]\n",
    "std_b5_content = [np.sqrt(np.var(percent)) for percent in beta5_content]\n",
    "\n",
    "av_bb_content = [np.mean(percent) for percent in betabeta_content]\n",
    "std_bb_content = [np.sqrt(np.var(percent)) for percent in betabeta_content]\n",
    "\n",
    "av_b1_content = [np.mean(percent) for percent in beta1_content]\n",
    "std_b1_content = [np.sqrt(np.var(percent)) for percent in beta1_content]\n",
    "\n",
    "av_5o4_content = [np.mean(percent) for percent in c5o4_content]\n",
    "std_5o4_content = [np.sqrt(np.var(percent)) for percent in c5o4_content]\n",
    "\n",
    "av_ao4_content = [np.mean(percent) for percent in alphaO4_content]\n",
    "std_ao4_content = [np.sqrt(np.var(percent)) for percent in alphaO4_content]\n",
    "\n",
    "av_55_content = [np.mean(percent) for percent in fivefive_content]\n",
    "std_55_content = [np.sqrt(np.var(percent)) for percent in fivefive_content]"
   ]
  },
  {
   "cell_type": "code",
   "execution_count": 38,
   "metadata": {},
   "outputs": [
    {
     "data": {
      "text/plain": [
       "(0.0, 1.0)"
      ]
     },
     "execution_count": 38,
     "metadata": {},
     "output_type": "execute_result"
    },
    {
     "data": {
      "image/png": "[encoded data removed]",
      "text/plain": [
       "<Figure size 252x252 with 1 Axes>"
      ]
     },
     "metadata": {
      "needs_background": "light"
     },
     "output_type": "display_data"
    }
   ],
   "source": [
    "plt.figure(figsize=(3.5, 3.5))\n",
    "plt.errorbar(sg_opts, av_mon_yield, yerr=std_mon_yield, linestyle='none', marker='.', markersize=10, \n",
    "             markerfacecolor='black', markeredgecolor='black', capsize=3, ecolor='black')\n",
    "plt.xscale('log')\n",
    "[plt.gca().spines[i].set_linewidth(1.5) for i in ['top', 'right', 'bottom', 'left']]\n",
    "plt.gca().tick_params(axis='both', which='major', labelsize=14, direction='in', pad=8, top=True, right=True, \n",
    "                      width=1.5, length=6)\n",
    "plt.gca().tick_params(axis='both', which='minor', labelsize=14, direction='in', pad=8, top=True, right=True, \n",
    "                      width=1, length=4)\n",
    "plt.ylabel('Monomer Yield (%)', fontsize=14)\n",
    "plt.xlabel('SG Ratio', fontsize=14)\n",
    "plt.ylim([0.0, 1.0])"
   ]
  },
  {
   "cell_type": "code",
   "execution_count": 39,
   "metadata": {
    "scrolled": true
   },
   "outputs": [
    {
     "data": {
      "text/plain": [
       "<matplotlib.legend.Legend at 0x101fb9f208>"
      ]
     },
     "execution_count": 39,
     "metadata": {},
     "output_type": "execute_result"
    },
    {
     "data": {
      "image/png": "[encoded data removed]",
      "text/plain": [
       "<Figure size 252x252 with 1 Axes>"
      ]
     },
     "metadata": {
      "needs_background": "light"
     },
     "output_type": "display_data"
    }
   ],
   "source": [
    "plt.figure(figsize=(3.5, 3.5))\n",
    "plt.errorbar(sg_opts, av_bo4_content, yerr=std_bo4_content, linestyle='none', marker='.',\n",
    "             markersize=10, markerfacecolor=colors[0], markeredgecolor=colors[0], label=BO4,\n",
    "             capsize=3,ecolor=colors[0])\n",
    "plt.errorbar(sg_opts, av_bb_content, yerr=std_bb_content, linestyle='none', marker='.', markersize=10, \n",
    "             markerfacecolor=colors[1], markeredgecolor=colors[1], label=BB, capsize=3, ecolor=colors[1])\n",
    "plt.errorbar(sg_opts, av_b5_content, yerr=std_b5_content, linestyle='none', marker='.', markersize=10,\n",
    "             markerfacecolor=colors[2], markeredgecolor=colors[2], label=B5, capsize=3, ecolor=colors[2])\n",
    "plt.errorbar(sg_opts, av_b1_content, yerr=std_b1_content, linestyle='none', marker='.', markersize=10, \n",
    "             markerfacecolor=colors[3], markeredgecolor=colors[3], label=B1, capsize=3, ecolor=colors[3])\n",
    "plt.errorbar(sg_opts, av_5o4_content, yerr=std_5o4_content, linestyle='none', marker='.', markersize=10, \n",
    "             markerfacecolor=colors[4], markeredgecolor=colors[4], label=C5O4, capsize=3, ecolor=colors[4])\n",
    "plt.errorbar(sg_opts, av_ao4_content, yerr=std_ao4_content, linestyle='none', marker='.', markersize=10, \n",
    "             markerfacecolor=colors[5], markeredgecolor=colors[5], label=AO4, capsize=3, ecolor=colors[5])\n",
    "plt.errorbar(sg_opts, av_55_content, yerr=std_55_content, linestyle='none', marker='.', markersize=10, \n",
    "             markerfacecolor=colors[6], markeredgecolor=colors[6], label=C5C5, capsize=3, ecolor=colors[6])\n",
    "plt.xscale('log')\n",
    "\n",
    "[plt.gca().spines[i].set_linewidth(1.5) for i in ['top', 'right', 'bottom', 'left']]\n",
    "plt.gca().tick_params(axis='both', which='major', labelsize=14, direction='in', pad=8, top=True, right=True, \n",
    "                      width=1.5, length=6)\n",
    "plt.gca().tick_params(axis='both', which='minor', labelsize=14, direction='in', pad=8, top=True, right=True, \n",
    "                      width=1, length=4)\n",
    "plt.ylabel('Bond Type Yield (%)', fontsize=14)\n",
    "plt.xlabel('SG Ratio', fontsize=14)\n",
    "plt.ylim([0.0, 1.0])\n",
    "plt.legend(fontsize=14, loc='upper center', bbox_to_anchor=(1.2, 1.05), frameon=False)"
   ]
  },
  {
   "cell_type": "markdown",
   "metadata": {},
   "source": [
    "As previously noted, this package can also be run from the command line. See the [README on github](https://github.com/michaelorella/lignin-kmc)."
   ]
  }
 ],
 "metadata": {
  "kernelspec": {
   "display_name": "Python 3",
   "language": "python",
   "name": "python3"
  },
  "language_info": {
   "codemirror_mode": {
    "name": "ipython",
    "version": 3
   },
   "file_extension": ".py",
   "mimetype": "text/x-python",
   "name": "python",
   "nbconvert_exporter": "python",
   "pygments_lexer": "ipython3",
   "version": "3.6.6"
  },
  "pycharm": {
   "stem_cell": {
    "cell_type": "raw",
    "metadata": {
     "collapsed": false
    },
    "source": []
   }
  }
 },
 "nbformat": 4,
 "nbformat_minor": 2
}
