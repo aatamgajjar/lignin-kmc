{
 "cells": [
  {
   "cell_type": "markdown",
   "metadata": {},
   "source": [
    "# Kinetic Monte Carlo Simulation of Lignin Polymerization\n",
    "Written by: Michael Orella <br>\n",
    "2019 January 24 <br>\n",
    "Updated by: Heather Mayes <br>\n",
    "2019 November 07 <br>\n",
    "\n",
    "The code in this notebook performs calculations analogous to those performed in [\"Lignin-KMC: A Toolkit for Simulating Lignin Biosynthesis\"](https://pubs.acs.org/doi/abs/10.1021/acssuschemeng.9b03534), which depend on the results that were obtained from [DFT calculations of monolignol coupling kinetics](https://pubs.acs.org/doi/abs/10.1021/acssuschemeng.9b02506)."
   ]
  },
  {
   "cell_type": "code",
   "execution_count": 1,
   "metadata": {},
   "outputs": [],
   "source": [
    "%load_ext autoreload\n",
    "%autoreload 2"
   ]
  },
  {
   "cell_type": "code",
   "execution_count": 2,
   "metadata": {},
   "outputs": [],
   "source": [
    "# functions, global variables, and default values (described below) from the lignin-kmc Package \n",
    "from ligninkmc.event import Event\n",
    "from ligninkmc.monomer import Monomer\n",
    "from ligninkmc.create_lignin import (calc_rates, create_initial_monomers, create_initial_events, \n",
    "                                     create_initial_state, DEF_INI_RATE)\n",
    "from ligninkmc.kineticMonteCarlo import run_kmc\n",
    "from ligninkmc.visualization import generate_mol\n",
    "from ligninkmc.analysis import analyze_adj_matrix\n",
    "from ligninkmc.kmc_common import (DEF_E_A_KCAL_MOL, GROW, OX, BO4, B5, BB, B1, C5O4, AO4, C5C5,\n",
    "                                  MONOMER, MONO_LIST, ADJ_MATRIX, BONDS)\n",
    "\n",
    "#General Math and LinAlg\n",
    "import numpy as np\n",
    "import scipy as sp\n",
    "import scipy.optimize\n",
    "\n",
    "#Chemical Drawing\n",
    "from rdkit.Chem import MolFromMolBlock\n",
    "from rdkit.Chem.AllChem import Compute2DCoords\n",
    "from rdkit.Chem.Draw import MolToImage\n",
    "from IPython.display import display\n",
    "\n",
    "#Plotting\n",
    "import matplotlib.pyplot as plt\n",
    "\n",
    "#Profiling and Performance\n",
    "import cProfile\n",
    "import time\n",
    "\n",
    "#Parallelization\n",
    "import joblib as par"
   ]
  },
  {
   "cell_type": "markdown",
   "metadata": {},
   "source": [
    "## Input Data\n",
    "The kinetic monte carlo code relies on rates of chemical reactions. The reactions that we are interested in here are the coupling of radicals on either individual monomers or oligomers respectively. The energetics necessary to compute the reaction rates were calculated by Terry Gani using [DFT methods](https://pubs.acs.org/doi/abs/10.1021/acssuschemeng.9b02506) for SG lignin and similar methods for C lignin. Once the reaction energies were calculated, they could converted to reaction rates using the Erying equation:\n",
    "$$ r_i = \\dfrac{k_BT}{h}\\exp\\left(-\\dfrac{\\Delta G_i}{k_BT}\\right) $$\n",
    "\n",
    "The these activation energies, as reported in the [Lignin-KMC paper](https://pubs.acs.org/doi/abs/10.1021/acssuschemeng.9b03534), [Tables S1 and S2](https://pubs.acs.org/doi/suppl/10.1021/acssuschemeng.9b03534/suppl_file/sc9b03534_si_001.pdf), are stored in the package's global variable DEF_E_A_KCAL_MOL (imported above). \n",
    "\n",
    "The user may use other values. The assignment of activation energies (in kcal/mol) to this global variable is shown below (using global variables for reaction types to help prevent typos from directly using strings) to provide a template for how to assign alternate values. Of course, the user only needs to (and must) supply activation energies only for the monomer types to be modeled and the reaction types to be modeled. Here, the bond names stands for creation of that bond.\n",
    "\n",
    "Throughout the code, monomers are kept track of individually through the state, so there are no reaction degeneracies occuring, and bond events can be tracked faithfully.\n",
    "\n",
    "The monomer types are:  0: guaiacol, 1: syringyl, 2: caffeoyl"
   ]
  },
  {
   "cell_type": "raw",
   "metadata": {},
   "source": [
    "# The definition for the default activation energies in kcal/mol, shown here as a template for user-input values\n",
    "# the gloval variables MONOMER, DIMER, BO4, etc., can be imported from kmc.kmc_common. \n",
    "# DIMER stands for dimer or longer (\"2+\" in the SI; could be changed to OLIGOMER)\n",
    "DEF_E_A_KCAL_MOL = {C5O4: {(0, 0): {(MONOMER, MONOMER): 11.2, (MONOMER, DIMER): 14.6, \n",
    "                                    (DIMER, MONOMER): 14.6, (DIMER, DIMER): 4.4},\n",
    "                           (1, 0): {(MONOMER, MONOMER): 10.9, (MONOMER, DIMER): 14.6, \n",
    "                                    (DIMER, MONOMER): 14.6, (DIMER, DIMER): 4.4},\n",
    "                           (2, 2): {(MONOMER, MONOMER): 11.9, (MONOMER, DIMER): 11.9,\n",
    "                                    (DIMER, MONOMER): 11.9, (DIMER, DIMER): 11.9}},\n",
    "                    C5C5: {(0, 0): {(MONOMER, MONOMER): 12.5, (MONOMER, DIMER): 15.6, \n",
    "                                    (DIMER, MONOMER): 15.6, (DIMER, DIMER): 3.8},\n",
    "                           (2, 2): {(MONOMER, MONOMER): 10.6, (MONOMER, DIMER): 10.6,\n",
    "                                    (DIMER, MONOMER): 10.6, (DIMER, DIMER): 10.6}},\n",
    "                    B5: {(0, 0): {(MONOMER, MONOMER): 5.5, (MONOMER, DIMER): 5.8, \n",
    "                                  (DIMER, MONOMER): 5.8, (DIMER, DIMER): 5.8},\n",
    "                         (0, 1): {(MONOMER, MONOMER): 5.5, (MONOMER, DIMER): 5.8, \n",
    "                                  (DIMER, MONOMER): 5.8, (DIMER, DIMER): 5.8},\n",
    "                         (2, 2): {(MONOMER, MONOMER): 1.9, (MONOMER, DIMER): 5.8,\n",
    "                                  (DIMER, MONOMER): 5.8, (DIMER, DIMER): 5.8}},\n",
    "                    BB: {(0, 0): {(MONOMER, MONOMER): 5.2, (MONOMER, DIMER): 5.2,\n",
    "                                  (DIMER, MONOMER): 5.2, (DIMER, DIMER): 5.2},\n",
    "                         (1, 0): {(MONOMER, MONOMER): 6.5, (MONOMER, DIMER): 6.5, \n",
    "                                  (DIMER, MONOMER): 6.5, (DIMER, DIMER): 6.5},\n",
    "                         (0, 1): {(MONOMER, MONOMER): 6.5, (MONOMER, DIMER): 6.5, \n",
    "                                  (DIMER, MONOMER): 6.5, (DIMER, DIMER): 6.5},\n",
    "                         (1, 1): {(MONOMER, MONOMER): 5.2, (MONOMER, DIMER): 5.2, \n",
    "                                  (DIMER, MONOMER): 5.2, (DIMER, DIMER): 5.2},\n",
    "                         (2, 2): {(MONOMER, MONOMER): 7.2, (MONOMER, DIMER): 7.2,\n",
    "                                  (DIMER, MONOMER): 7.2, (DIMER, DIMER): 7.2}},\n",
    "                    BO4: {(0, 0): {(MONOMER, MONOMER): 6.3, (MONOMER, DIMER): 6.2, \n",
    "                                   (DIMER, MONOMER): 6.2, (DIMER, DIMER): 6.2},\n",
    "                          (1, 0): {(MONOMER, MONOMER): 9.1, (MONOMER, DIMER): 6.2,\n",
    "                                   (DIMER, MONOMER): 6.2, (DIMER, DIMER): 6.2},\n",
    "                          (0, 1): {(MONOMER, MONOMER): 8.9, (MONOMER, DIMER): 6.2,\n",
    "                                   (DIMER, MONOMER): 6.2, (DIMER, DIMER): 6.2},\n",
    "                          (1, 1): {(MONOMER, MONOMER): 9.8, (MONOMER, DIMER): 10.4,\n",
    "                                   (DIMER, MONOMER): 10.4}, (DIMER, DIMER): 10.4},\n",
    "                          (2, 2): {(MONOMER, MONOMER): 4.9, (MONOMER, DIMER): 1.3,\n",
    "                                   (DIMER, MONOMER): 1.3, (DIMER, DIMER): 1.3},\n",
    "                    AO4: {(0, 0): {(MONOMER, MONOMER): 20.7, (MONOMER, DIMER): 20.7,\n",
    "                                   (DIMER, MONOMER): 20.7, (DIMER, DIMER): 20.7},\n",
    "                          (1, 0): {(MONOMER, MONOMER): 20.7, (MONOMER, DIMER): 20.7,\n",
    "                                   (DIMER, MONOMER): 20.7, (DIMER, DIMER): 20.7},\n",
    "                          (0, 1): {(MONOMER, MONOMER): 20.7, (MONOMER, DIMER): 20.7,\n",
    "                                   (DIMER, MONOMER): 20.7, (DIMER, DIMER): 20.7},\n",
    "                          (1, 1): {(MONOMER, MONOMER): 20.7, (MONOMER, DIMER): 20.7,\n",
    "                                   (DIMER, MONOMER): 20.7, (DIMER, DIMER): 20.7},\n",
    "                          (2, 2): {(MONOMER, MONOMER): 20.7, (MONOMER, DIMER): 20.7,\n",
    "                                   (DIMER, MONOMER): 20.7, (DIMER, DIMER): 20.7}},\n",
    "                    B1: {(0, 0): {(MONOMER, DIMER): 9.6, (DIMER, MONOMER): 9.6, (DIMER, DIMER): 9.6},\n",
    "                         (1, 0): {(MONOMER, DIMER): 11.7, (DIMER, MONOMER): 11.7, (DIMER, DIMER): 11.7},\n",
    "                         (0, 1): {(MONOMER, DIMER): 10.7, (DIMER, MONOMER): 10.7, (DIMER, DIMER): 10.7},\n",
    "                         (1, 1): {(MONOMER, DIMER): 11.9, (DIMER, MONOMER): 11.9, (DIMER, DIMER): 11.9},\n",
    "                         (2, 2): {(MONOMER, DIMER): 9.6, (DIMER, MONOMER): 9.6, (DIMER, DIMER): 9.6}},\n",
    "                    OX: {0: {MONOMER: 0.9, DIMER: 6.3}, 1: {MONOMER: 0.6, DIMER: 2.2}, \n",
    "                         2: {MONOMER: 0.9, DIMER: 0.9}},\n",
    "                    Q: {0: {MONOMER: 11.1, DIMER: 11.1}, 1: {MONOMER: 11.7, DIMER: 11.7},\n",
    "                        2: {MONOMER: 11.1, DIMER: 11.1}}}"
   ]
  },
  {
   "cell_type": "code",
   "execution_count": 3,
   "metadata": {},
   "outputs": [],
   "source": [
    "# Calculate the rates of reaction in 1/s at the specified temp\n",
    "temp = 298.15  # K\n",
    "rxn_rates = calc_rates(temp, ea_kcal_mol_dict=DEF_E_A_KCAL_MOL)\n",
    "\n",
    "# if the user has instead input activation energies in Joules per particle (e.g., as `my_ea_j_part_dict`), \n",
    "# instead invoke:\n",
    "#    rxn_rates = calc_rates(temp, ea_j_part_dict=my_ea_j_part_dict)"
   ]
  },
  {
   "cell_type": "markdown",
   "metadata": {},
   "source": [
    "## Code Performance\n",
    "One of the first things that we were interested in reporting was the performance and scaling of this code package. This was done by replicating runs of the algorithm with different numbers of monomers included in the simulation under batch conditions."
   ]
  },
  {
   "cell_type": "code",
   "execution_count": 4,
   "metadata": {},
   "outputs": [
    {
     "name": "stdout",
     "output_type": "stream",
     "text": [
      "Time to complete simulation with    50 monomers:    0.28 seconds\n",
      "Time to complete simulation with   100 monomers:    1.26 seconds\n",
      "Time to complete simulation with   150 monomers:    2.91 seconds\n"
     ]
    }
   ],
   "source": [
    "# Here, we are testing with equal amount of S and G (no C)\n",
    "times = []\n",
    "sg_ratio = 1\n",
    "pct_s = sg_ratio / (1 + sg_ratio)\n",
    "\n",
    "test_vals = np.linspace(50, 150, num=3, dtype ='int32')\n",
    "num_repeats = 5\n",
    "for num_monos in test_vals:\n",
    "    times.append([])\n",
    "    for _ in range(num_repeats):\n",
    "        # Generate the initial monomers and events (oxidation)\n",
    "        monomer_draw = np.random.rand(num_monos)\n",
    "        initial_monomers = create_initial_monomers(pct_s, num_monos, monomer_draw)\n",
    "        initial_events = create_initial_events(monomer_draw, num_monos, pct_s, rxn_rates)\n",
    "        \n",
    "        # Set the state and add the option to join initial monomers\n",
    "        initial_state = create_initial_state(initial_events, initial_monomers, num_monos)\n",
    "        initial_events.append(Event(GROW, [], rate=DEF_INI_RATE, bond=sg_ratio))\n",
    "        \n",
    "        #Start timing the actual KMC part\n",
    "        start = time.time()\n",
    "        run_kmc(t_final=1e9, rates=rxn_rates, initial_state=initial_state,\n",
    "                         initial_events=initial_events, sg_ratio=sg_ratio)\n",
    "        end = time.time()\n",
    "        times[-1].append(end-start)\n",
    "    print(f'Time to complete simulation with {num_monos:5n} monomers: {np.sum(times[-1])/num_repeats:7.2f} seconds')"
   ]
  },
  {
   "cell_type": "markdown",
   "metadata": {},
   "source": [
    "Now we want to fit the times that we just calculated to a generic power law expression $t = aN^b$ to find the scaling of our algorithm."
   ]
  },
  {
   "cell_type": "code",
   "execution_count": 5,
   "metadata": {},
   "outputs": [
    {
     "name": "stdout",
     "output_type": "stream",
     "text": [
      "      fun: 0.018307191606981514\n",
      " hess_inv: <2x2 LbfgsInvHessProduct with dtype=float64>\n",
      "      jac: array([1.83648270e-03, 7.02216063e-07])\n",
      "  message: b'CONVERGENCE: REL_REDUCTION_OF_F_<=_FACTR*EPSMCH'\n",
      "     nfev: 324\n",
      "      nit: 59\n",
      "   status: 0\n",
      "  success: True\n",
      "        x: array([7.84190721e-05, 2.10029059e+00])\n"
     ]
    }
   ],
   "source": [
    "meas_t = [np.mean(time) for time in times]\n",
    "meas_n = test_vals\n",
    "\n",
    "sim_t = lambda p, n: p[0] * np.power (n, p[1])\n",
    "loss = lambda p: np.linalg.norm(sim_t(p, meas_n) - meas_t)\n",
    "\n",
    "results = sp.optimize.minimize(loss, [1e-5, 2.5], bounds =[[0,1], [0,10]], options = {'disp': True})\n",
    "print(results)\n",
    "\n",
    "opt_p = results.x"
   ]
  },
  {
   "cell_type": "markdown",
   "metadata": {},
   "source": [
    "Now we should plot both the measured values and the fit all together"
   ]
  },
  {
   "cell_type": "code",
   "execution_count": 6,
   "metadata": {},
   "outputs": [
    {
     "data": {
      "text/plain": [
       "Text(200, 200, 'Measured')"
      ]
     },
     "execution_count": 6,
     "metadata": {},
     "output_type": "execute_result"
    },
    {
     "data": {
      "image/png": "[encoded data removed]",
      "text/plain": [
       "<Figure size 252x252 with 1 Axes>"
      ]
     },
     "metadata": {
      "needs_background": "light"
     },
     "output_type": "display_data"
    }
   ],
   "source": [
    "plt.figure(figsize=(3.5, 3.5))\n",
    "plt.errorbar(test_vals, [np.mean(time) for time in times],\n",
    "             yerr=[np.sqrt(np.var(time)) for time in times],\n",
    "             capsize=3, ecolor='black', linestyle='None', marker='.', markerSize=15, color='black', zorder=1)\n",
    "plt.plot(test_vals, sim_t(opt_p,meas_n), linestyle='--', color='r', linewidth=1.5, zorder=2)\n",
    "plt.tick_params(axis='both', which ='major', labelsize=10, direction='in',\n",
    "                pad=8, top = True, right=True, width=1.5, length=5)\n",
    "plt.tick_params(axis='both', which='minor', direction='in',\n",
    "                pad=8, top=True, right=True, width=1, length=3)\n",
    "ax = plt.gca()\n",
    "[ax.spines[i].set_linewidth(1.5) for i in ['top', 'right', 'bottom', 'left']]\n",
    "ax.fontsize = 10\n",
    "plt.xlabel('Number of Monomers', fontsize=10)\n",
    "plt.ylabel('Execution Time [s]', fontsize=10)\n",
    "plt.yscale('log')\n",
    "plt.xscale('log')\n",
    "plt.ylim([0.2, 1200])\n",
    "plt.xlim([40, 1200])\n",
    "plt.text(75, 0.4, f'$t = {opt_p[0]:3.1e}N^{{ {opt_p[1]:4.2f} }}$', fontsize=10, color='red')\n",
    "plt.text(200, 200, r'Measured', fontsize=10, color='black')\n",
    "# plt.savefig('../plots/performance.svg', format='svg', transparent=True, bbox_inches='tight')"
   ]
  },
  {
   "cell_type": "markdown",
   "metadata": {},
   "source": [
    "## Example KMC Runs\n",
    "Small examples of running the algorithm for KMC, using both SG lignin and C lignin."
   ]
  },
  {
   "cell_type": "markdown",
   "metadata": {},
   "source": [
    "### SG Lignin\n",
    "Run an example starting with 2 monomers and an S to G ratio of 1"
   ]
  },
  {
   "cell_type": "code",
   "execution_count": 7,
   "metadata": {
    "scrolled": true
   },
   "outputs": [
    {
     "data": {
      "image/png": "[encoded data removed]",
      "text/plain": [
       "<PIL.Image.Image image mode=RGBA size=300x300 at 0x10174012E8>"
      ]
     },
     "metadata": {},
     "output_type": "display_data"
    }
   ],
   "source": [
    "num_monos = 2\n",
    "sg_ratio = 1\n",
    "pct_s = sg_ratio / (1 + sg_ratio)\n",
    "\n",
    "monomer_draw = np.random.rand(num_monos)\n",
    "initial_monomers = create_initial_monomers(pct_s, num_monos, monomer_draw)\n",
    "initial_events = create_initial_events(monomer_draw, num_monos, pct_s, rxn_rates)\n",
    "initial_state = create_initial_state(initial_events, initial_monomers, num_monos)\n",
    "initial_events.append(Event(GROW, [], rate=DEF_INI_RATE, bond=sg_ratio))\n",
    "\n",
    "result = run_kmc(n_max=10, t_final=1, rates=rxn_rates, initial_state=initial_state, \n",
    "                 initial_events=initial_events, sg_ratio=sg_ratio)\n",
    "nodes = result[MONO_LIST]\n",
    "adj = result[ADJ_MATRIX]\n",
    "block = generate_mol(adj, nodes)\n",
    "mol = MolFromMolBlock(block)\n",
    "Compute2DCoords(mol)\n",
    "display(MolToImage(mol, molSize=(1400,400)))"
   ]
  },
  {
   "cell_type": "markdown",
   "metadata": {},
   "source": [
    "### C lignin\n",
    "Run an example with 2 monomers but using the C lignin energies"
   ]
  },
  {
   "cell_type": "code",
   "execution_count": 8,
   "metadata": {},
   "outputs": [
    {
     "data": {
      "image/png": "[encoded data removed]",
      "text/plain": [
       "<PIL.Image.Image image mode=RGBA size=300x300 at 0x1017401470>"
      ]
     },
     "metadata": {},
     "output_type": "display_data"
    }
   ],
   "source": [
    "num_monos = 2\n",
    "\n",
    "initial_monomers = [Monomer(2, i) for i in range(num_monos)]\n",
    "initial_events = [Event(OX, [i], rxn_rates[OX][2][MONOMER]) for i in range(num_monos)]\n",
    "ini_state = create_initial_state(initial_events, initial_monomers, num_monos)\n",
    "events = {initial_events[i] for i in range(num_monos)}\n",
    "events.add(Event(GROW, [], rate=DEF_INI_RATE))\n",
    "\n",
    "result = run_kmc(n_max=10, t_final=1, rates=rxn_rates, initial_state=ini_state,\n",
    "                 initial_events=sorted(events))\n",
    "\n",
    "nodes = result[MONO_LIST]\n",
    "adj = result[ADJ_MATRIX]\n",
    "block = generate_mol(adj, nodes)\n",
    "mol = MolFromMolBlock(block)\n",
    "Compute2DCoords(mol)\n",
    "display(MolToImage(mol, molSize=(1400,400)))"
   ]
  },
  {
   "cell_type": "markdown",
   "metadata": {},
   "source": [
    "## Sensitivity Analyses Examples\n",
    "The meat of the results and discussion for our paper lay in the predictions of how lignin composition should change with different sets of parameters used for lignification. These calculations were performed on desktop hardware over about a week's period, but for the sake of explanation, shorter examples are used here. We investigated the impact of S to G ratio and addition rate primarily."
   ]
  },
  {
   "cell_type": "markdown",
   "metadata": {},
   "source": [
    "### SG Batch Sensitivity\n",
    "The first analysis performed is the dependence of monomer yields and bond contents on SG ratio, where we selected multiple SG ratios between 0.1 and 10 and ran the simulations for these scenarios."
   ]
  },
  {
   "cell_type": "code",
   "execution_count": 9,
   "metadata": {},
   "outputs": [
    {
     "name": "stdout",
     "output_type": "stream",
     "text": [
      "Completed sensitivity iteration for S to G ratio: 0.10\n",
      "Finished on 2019-11-07 at 14:59:31\n",
      "\n",
      "Completed sensitivity iteration for S to G ratio: 0.20\n",
      "Finished on 2019-11-07 at 14:59:48\n",
      "\n",
      "Completed sensitivity iteration for S to G ratio: 0.25\n",
      "Finished on 2019-11-07 at 15:00:03\n",
      "\n",
      "Completed sensitivity iteration for S to G ratio: 0.33\n",
      "Finished on 2019-11-07 at 15:00:21\n",
      "\n",
      "Completed sensitivity iteration for S to G ratio: 0.50\n",
      "Finished on 2019-11-07 at 15:00:36\n",
      "\n",
      "Completed sensitivity iteration for S to G ratio: 1.00\n",
      "Finished on 2019-11-07 at 15:00:49\n",
      "\n",
      "Completed sensitivity iteration for S to G ratio: 2.00\n",
      "Finished on 2019-11-07 at 15:01:01\n",
      "\n",
      "Completed sensitivity iteration for S to G ratio: 3.00\n",
      "Finished on 2019-11-07 at 15:01:11\n",
      "\n",
      "Completed sensitivity iteration for S to G ratio: 4.00\n",
      "Finished on 2019-11-07 at 15:01:21\n",
      "\n",
      "Completed sensitivity iteration for S to G ratio: 5.00\n",
      "Finished on 2019-11-07 at 15:01:30\n",
      "\n",
      "Completed sensitivity iteration for S to G ratio: 10.00\n",
      "Finished on 2019-11-07 at 15:01:39\n",
      "\n"
     ]
    }
   ],
   "source": [
    "sg_opts = [0.1, 0.2, 0.25, 0.33, 0.5, 1, 2, 3, 4, 5, 10]\n",
    "num_repeats = 5\n",
    "\n",
    "fun = par.delayed(run_kmc)\n",
    "sg_result_list = []\n",
    "\n",
    "for sg_ratio in sg_opts:\n",
    "    # Set the percentage of S\n",
    "    pct_s = sg_ratio / (1 + sg_ratio)\n",
    "    \n",
    "    # Make choices about what kinds of monomers there are and create them\n",
    "    num_monos = 200\n",
    "    monomer_draw = np.random.rand(num_monos)\n",
    "    initial_monomers = create_initial_monomers(pct_s, num_monos, monomer_draw)\n",
    "    \n",
    "    # Initialize the monomers, events, and state\n",
    "    initial_events = create_initial_events(monomer_draw, num_monos, pct_s, rxn_rates)\n",
    "    initial_state = create_initial_state(initial_events, initial_monomers, num_monos)\n",
    "\n",
    "    results = par.Parallel(n_jobs = 4)([fun(n_max=num_monos, t_final=1, rates=rxn_rates, \n",
    "                                            initial_state=initial_state, initial_events=initial_events)\n",
    "                                        for _ in range(num_repeats)])\n",
    "    \n",
    "    sg_result_list.append(results)\n",
    "    print('Completed sensitivity iteration for S to G ratio: {:.2f}'.format(sg_ratio))\n",
    "\n",
    "    \n",
    "    t = time.localtime()\n",
    "    print('Finished on {}-{:02d}-{:02d} at {:02d}:{:02d}:{:02d}\\n'.format(t.tm_year, t.tm_mon, t.tm_mday,\n",
    "                                                                        t.tm_hour, t.tm_min, t.tm_sec))"
   ]
  },
  {
   "cell_type": "markdown",
   "metadata": {},
   "source": [
    "We now aggregate the results that we obtained in the form of adjacency matrices and monomer lists and times to meaningful values of monomer yields and bond contents.|"
   ]
  },
  {
   "cell_type": "code",
   "execution_count": 10,
   "metadata": {},
   "outputs": [
    {
     "name": "stdout",
     "output_type": "stream",
     "text": [
      "Finished S:G  0.10 on 2019-11-07 at 15:01:40\n",
      "Finished S:G  0.20 on 2019-11-07 at 15:01:40\n",
      "Finished S:G  0.25 on 2019-11-07 at 15:01:41\n",
      "Finished S:G  0.33 on 2019-11-07 at 15:01:41\n",
      "Finished S:G  0.50 on 2019-11-07 at 15:01:42\n",
      "Finished S:G  1.00 on 2019-11-07 at 15:01:42\n",
      "Finished S:G  2.00 on 2019-11-07 at 15:01:43\n",
      "Finished S:G  3.00 on 2019-11-07 at 15:01:43\n",
      "Finished S:G  4.00 on 2019-11-07 at 15:01:44\n",
      "Finished S:G  5.00 on 2019-11-07 at 15:01:44\n",
      "Finished S:G 10.00 on 2019-11-07 at 15:01:45\n"
     ]
    }
   ],
   "source": [
    "num_sg_opts = len(sg_opts)\n",
    "analysis = []\n",
    "\n",
    "for i in range(num_sg_opts):\n",
    "    sg_results = sg_result_list[i]\n",
    "    cur_adjs = [sg_results[j][ADJ_MATRIX] for j in range(num_repeats)]\n",
    "    analysis.append(par.Parallel(n_jobs = 4)(par.delayed(analyze_adj_matrix)(adjacency=cur_adjs[j])\n",
    "                                              for j in range(num_repeats)))                                        \n",
    "    t = time.localtime()\n",
    "    print('Finished S:G {:5.2f} on {}-{:02d}-{:02d} at '\n",
    "          '{:02d}:{:02d}:{:02d}'.format(sg_opts[i], t.tm_year, t.tm_mon, t.tm_mday, t.tm_hour, t.tm_min, t.tm_sec))"
   ]
  },
  {
   "cell_type": "markdown",
   "metadata": {},
   "source": [
    "Now as an example, we will look at the distribution of monomer yields that we got, and then summarize that distribution with the sample mean and standard deviation, which will be used for all of the subsequent analyses. To visualize these results, we first need to extract the information from the analysis data structure, and normalize the data to the total number of monomers or total number of bonds."
   ]
  },
  {
   "cell_type": "code",
   "execution_count": 18,
   "metadata": {},
   "outputs": [],
   "source": [
    "betaO4_bonds = [[analysis[j][i][BONDS][BO4]/sum(analysis[j][i][BONDS].values())\n",
    "                for i in range(num_repeats)] for j in range(num_sg_opts)]\n",
    "beta5_bonds = [[analysis[j][i][BONDS][B5]/sum(analysis[j][i][BONDS].values())\n",
    "                for i in range(num_repeats)] for j in range(num_sg_opts)]\n",
    "betabeta_bonds = [[analysis[j][i][BONDS][BB]/sum(analysis[j][i][BONDS].values())\n",
    "                  for i in range(num_repeats)] for j in range(num_sg_opts)]\n",
    "beta1_bonds = [[analysis[j][i][BONDS][B1]/sum(analysis[j][i][BONDS].values())\n",
    "               for i in range(num_repeats)] for j in range(num_sg_opts)]\n",
    "C5O4_bonds = [[analysis[j][i][BONDS][C5O4]/sum(analysis[j][i][BONDS].values())\n",
    "              for i in range(num_repeats)] for j in range(num_sg_opts)]\n",
    "alphaO4_bonds = [[analysis[j][i][BONDS][AO4]/sum(analysis[j][i][BONDS].values())\n",
    "                 for i in range(num_repeats)] for j in range(num_sg_opts)]\n",
    "fivefive_bonds = [[analysis[j][i][BONDS][C5C5]/sum(analysis[j][i][BONDS].values())\n",
    "                  for i in range(num_repeats)] for j in range(num_sg_opts)]\n",
    "\n",
    "av_bo4_bonds = [np.mean(hist) for hist in betaO4_bonds]\n",
    "std_bo4_bonds = [np.sqrt(np.var(hist)) for hist in betaO4_bonds]\n",
    "\n",
    "av_b5_bonds = [np.mean(hist) for hist in beta5_bonds]\n",
    "std_b5_bonds = [np.sqrt(np.var(hist)) for hist in beta5_bonds]\n",
    "\n",
    "av_bb_bonds = [np.mean(hist) for hist in betabeta_bonds]\n",
    "std_bb_bonds = [np.sqrt(np.var(hist)) for hist in betabeta_bonds]\n",
    "\n",
    "av_b1_bonds = [np.mean(hist) for hist in beta1_bonds]\n",
    "std_b1_bonds = [np.sqrt(np.var(hist)) for hist in beta1_bonds]\n",
    "\n",
    "av_5o4_bonds = [np.mean(hist) for hist in C5O4_bonds]\n",
    "std_5o4_bonds = [np.sqrt(np.var(hist)) for hist in C5O4_bonds]\n",
    "\n",
    "av_ao4_bonds = [np.mean(hist) for hist in alphaO4_bonds]\n",
    "std_ao4_bonds = [np.sqrt(np.var(hist)) for hist in alphaO4_bonds]\n",
    "\n",
    "av_55_bonds = [np.mean(hist) for hist in fivefive_bonds]\n",
    "std_55_bonds = [np.sqrt(np.var(hist)) for hist in fivefive_bonds]"
   ]
  },
  {
   "cell_type": "markdown",
   "metadata": {},
   "source": [
    "With this aggregation complete, we now plot the histograms of beta04 bond yields for 3 cases of SG ratios - 0.1, 1, and 10. With so few repeats, these histograms look very poor, but with greater repeats there is a much clearer trend and approximation of the normal distribution - which justifies the use of sample norm and standard deviation as summary statistics."
   ]
  },
  {
   "cell_type": "code",
   "execution_count": 25,
   "metadata": {},
   "outputs": [
    {
     "name": "stderr",
     "output_type": "stream",
     "text": [
      "No handles with labels found to put in legend.\n"
     ]
    },
    {
     "name": "stdout",
     "output_type": "stream",
     "text": [
      "[0.8218390804597702, 0.8083832335329342, 0.7988505747126436, 0.8248587570621468, 0.825]\n"
     ]
    },
    {
     "data": {
      "text/plain": [
       "<matplotlib.legend.Legend at 0x10170698d0>"
      ]
     },
     "execution_count": 25,
     "metadata": {},
     "output_type": "execute_result"
    },
    {
     "data": {
      "image/png": "[encoded data removed]",
      "text/plain": [
       "<Figure size 252x252 with 1 Axes>"
      ]
     },
     "metadata": {
      "needs_background": "light"
     },
     "output_type": "display_data"
    }
   ],
   "source": [
    "plt.figure(figsize=(3.5, 3.5))\n",
    "print(max(betaO4_bonds[0], betaO4_bonds[5], betaO4_bonds[10]))\n",
    "\n",
    "\n",
    "plt.hist(betaO4_bonds[0], bins=np.linspace(0,0.05,1), density=1, facecolor='black', alpha=0.5, edgecolor='black', label='S/G=0.1')\n",
    "plt.hist(betaO4_bonds[5], bins=np.linspace(0,0.05,1), density=1, facecolor='red', alpha=0.5, edgecolor='black', label='S/G=1')\n",
    "plt.hist(betaO4_bonds[10], bins=np.linspace(0,0.05,1), density=1, facecolor='blue', alpha=0.5, edgecolor='black', label='S/G=10')\n",
    "[plt.gca().spines[i].set_linewidth(1.5) for i in ['top', 'right', 'bottom', 'left']]\n",
    "plt.gca().tick_params(axis='both', which='major', labelsize=14, direction='in', pad=8, top=True, right=True, width=1.5, length=6)\n",
    "# plt.xlim([0.0, 1.0])\n",
    "plt.gca().set_yticklabels([''] * len(plt.gca().get_yticklabels()))\n",
    "# plt.xlabel('Monomer Yield [-]', fontsize=14)\n",
    "plt.legend(fontsize=14, loc='best')"
   ]
  },
  {
   "cell_type": "markdown",
   "metadata": {},
   "source": [
    "As mentioned above, with more repeats these distributions approach the normal distribution. In addition, if we want to add more sensitivity results to this plot, it starts to look messier and more crowded. Therefore, it becomes much easier to use the mean and variance of our samples as summary statistics, and just plot these values (using the standard deviation as the error bar on every point)."
   ]
  },
  {
   "cell_type": "code",
   "execution_count": null,
   "metadata": {},
   "outputs": [],
   "source": [
    "plt.figure(figsize=(3.5,3.5))\n",
    "plt.errorbar(sg_opts,av_monYield,yerr = std_monYield,linestyle='none',marker='.',markersize=10,markerfacecolor='black',markeredgecolor='black',capsize=3,ecolor='black')\n",
    "plt.xscale('log')\n",
    "[plt.gca().spines[i].set_linewidth(1.5) for i in ['top','right','bottom','left']]\n",
    "plt.gca().tick_params(axis = 'both',which = 'major', labelsize = 14, direction = 'in', pad = 8, top = True, right = True, width = 1.5,length=6)\n",
    "plt.gca().tick_params(axis = 'both',which = 'minor', labelsize = 14, direction = 'in', pad = 8, top = True, right = True, width = 1,length=4)\n",
    "plt.ylabel('Monomer Yield',fontsize=14)\n",
    "plt.xlabel('SG Ratio',fontsize=14)\n",
    "plt.ylim([0.0,0.2]);"
   ]
  },
  {
   "cell_type": "markdown",
   "metadata": {},
   "source": [
    "The monomer yields plot above is easy, because there is just one trend that we look at. For this instance, that trend is fairly messy, again because there are fewer repeats and fewer monomers in each simulation, but the idea is still the same.\n",
    "\n",
    "Let us now examine the bond contents that were predicted from this simulation."
   ]
  },
  {
   "cell_type": "code",
   "execution_count": null,
   "metadata": {},
   "outputs": [],
   "source": [
    "colors = [(0, 0, 0), (1, 0, 0), (0, 0, 1), (0, 0.6, 0), (0.6, 0, 0.6), (1, 0.549, 0), \n",
    "          (0, 0.6, 0.6), (1, 0.8, 0), (0.6078, 0.2980, 0), (0.6, 0, 0), (0, 0, 0.6)]\n",
    "plt.figure(figsize=(3.5,3.5))\n",
    "plt.errorbar(sg_opts, av_bo4Content, yerr=std_bo4Content, linestyle='none', marker='.',\n",
    "             markersize=10, markerfacecolor=colors[0], markeredgecolor=colors[0], label='bo4',\n",
    "             capsize=3,ecolor=colors[0])\n",
    "plt.errorbar(sg_opts, av_bbContent, yerr=std_bbContent, linestyle='none', marker='.',markersize=10, markerfacecolor=colors[1], markeredgecolor=colors[1], label='bb', capsize=3, ecolor=colors[1])\n",
    "plt.errorbar(sg_opts, av_b5Content, yerr=std_b5Content, linestyle='none', marker='.',markersize=10, markerfacecolor=colors[2], markeredgecolor=colors[2], label='b5', capsize=3, ecolor=colors[2])\n",
    "plt.errorbar(sg_opts, av_b1Content, yerr=std_b1Content, linestyle='none', marker='.',markersize=10, markerfacecolor=colors[3], markeredgecolor=colors[3], label='b1', capsize=3, ecolor=colors[3])\n",
    "plt.errorbar(sg_opts, av_5o4Content, yerr=std_5o4Content, linestyle='none', marker='.',markersize=10, markerfacecolor=colors[4], markeredgecolor=colors[4], label='5o4', capsize=3, ecolor=colors[4])\n",
    "plt.errorbar(sg_opts, av_ao4Content, yerr=std_ao4Content, linestyle='none', marker='.',markersize=10, markerfacecolor=colors[5], markeredgecolor=colors[5], label='ao4', capsize=3, ecolor=colors[5])\n",
    "plt.errorbar(sg_opts, av_55Content, yerr=std_55Content, linestyle='none', marker='.',markersize=10, markerfacecolor=colors[6], markeredgecolor=colors[6], label='55', capsize=3, ecolor=colors[6])\n",
    "plt.xscale('log')\n",
    "[plt.gca().spines[i].set_linewidth(1.5) for i in ['top','right','bottom','left']]\n",
    "plt.gca().tick_params(axis = 'both',which = 'major', labelsize = 14, direction = 'in', pad = 8, top = True, right = True, width = 1.5, length=6)\n",
    "plt.gca().tick_params(axis = 'both',which = 'minor', labelsize = 14, direction = 'in', pad = 8, top = True, right = True, width = 1, length=4)\n",
    "plt.ylabel('Monomer Yield',fontsize=14)\n",
    "plt.xlabel('SG Ratio',fontsize=14)\n",
    "plt.ylim([0.0,1.0])\n",
    "plt.legend(fontsize=14,loc='upper center',bbox_to_anchor=(1.2,1.05),frameon=False);"
   ]
  },
  {
   "cell_type": "markdown",
   "metadata": {},
   "source": [
    "### Addition rate sensitivity\n",
    "We will now perform the same task on different addition rates"
   ]
  },
  {
   "cell_type": "code",
   "execution_count": null,
   "metadata": {},
   "outputs": [],
   "source": [
    "addrates = np.logspace(4,14,21)\n",
    "\n",
    "fun = par.delayed(kmc.run)\n",
    "resultsToSave = []\n",
    "     \n",
    "for rate in addrates:\n",
    "    #Set the percentage of S\n",
    "    sg = 1\n",
    "    pct = sg / (1 + sg)\n",
    "    \n",
    "    #Make choices about what kinds of monomers there are\n",
    "    n = 5\n",
    "    rands = np.random.rand(n)\n",
    "    \n",
    "    #Initialize the monomers, events, and state\n",
    "    mons = [monomer( int ( sOrG < pct ) , i ) for i,sOrG in zip ( range(n) , rands ) ]\n",
    "    startEvents = [event ( 'ox' , [i] , rxn_rates['ox'][ int( sOrG < pct ) ]['monomer'] ) for i,sOrG in zip ( range(n) , rands) ]\n",
    "\n",
    "    state = { i : {'mon' : mons[i] , 'affected' : {startEvents[i]} } for i in range(n) }\n",
    "    events = { startEvents[i] for i in range(n) }\n",
    "    events.add(event('grow',[],rate = rate,bond = sg))\n",
    "\n",
    "    results = par.Parallel(n_jobs = 4)([fun(nMax = 200, tFinal = 1,rates = rxn_rates,initialState = state,initialEvents = events)\n",
    "                                        for _ in range(5)])\n",
    "    resultsToSave.append(results)\n",
    "    print('Completed sensitivity iteration: ' + str(rate))\n",
    "\n",
    "    t = time.localtime()\n",
    "    print('Finished on ' + str(t.tm_year) + '-' + str(t.tm_mon) + '-' + str(t.tm_mday) \n",
    "            + ' at ' + str(t.tm_hour) + ':' + str(t.tm_min) + ':' + str(t.tm_sec))"
   ]
  },
  {
   "cell_type": "code",
   "execution_count": null,
   "metadata": {},
   "outputs": [],
   "source": [
    "nodeRes = [0]*len(resultsToSave); adjRes = [0]*len(resultsToSave);\n",
    "analysis = [0]*len(resultsToSave)\n",
    "for i in range(len(resultsToSave)):\n",
    "    nodeRes[i] = [resultsToSave[i][j]['monomers'] for j in range(len(resultsToSave[i]))]\n",
    "    adjRes[i] = [resultsToSave[i][j]['adjacency_matrix'] for j in range(len(resultsToSave[i]))]\n",
    "    \n",
    "    analysis[i] = par.Parallel(n_jobs = 4)([par.delayed(kmc.analyze)\n",
    "                                         (adjacency = adjRes[i][j],\n",
    "                                          nodes = nodeRes[i][j]) \n",
    "                                         for j in range(len(resultsToSave[i]))])\n",
    "    t = time.localtime()\n",
    "    print('Finished on ',(str(t.tm_year) + '-' + str(t.tm_mon) + '-' \n",
    "                          + str(t.tm_mday)), 'at', \n",
    "         (str(t.tm_hour) + ':' + str(t.tm_min) + ':' + str(t.tm_sec)))"
   ]
  },
  {
   "cell_type": "code",
   "execution_count": null,
   "metadata": {},
   "outputs": [],
   "source": [
    "nsens = len(analysis)\n",
    "nrep = len(analysis[0])\n",
    "\n",
    "nmon = [[sum([analysis[j][i]['Chain Lengths'][k]*k for k in analysis[j][i]['Chain Lengths']]) \n",
    "         for i in range(nrep)] for j in range(nsens)]\n",
    "\n",
    "monomerYields = [[analysis[j][i]['RCF Yields'][1]/nmon[j][i] \n",
    "                  for i in range(nrep)] for j in range(nsens)]\n",
    "betaO4Content = [[analysis[j][i]['Bonds']['bo4']/sum(analysis[j][i]['Bonds'].values())\n",
    "                 for i in range(nrep)] for j in range(nsens)]\n",
    "beta5Content = [[analysis[j][i]['Bonds']['b5']/sum(analysis[j][i]['Bonds'].values())\n",
    "                 for i in range(nrep)] for j in range(nsens)]\n",
    "betabetaContent = [[analysis[j][i]['Bonds']['bb']/sum(analysis[j][i]['Bonds'].values())\n",
    "                 for i in range(nrep)] for j in range(nsens)]\n",
    "beta1Content = [[analysis[j][i]['Bonds']['b1']/sum(analysis[j][i]['Bonds'].values())\n",
    "                 for i in range(nrep)] for j in range(nsens)]\n",
    "fiveO4Content = [[analysis[j][i]['Bonds']['5o4']/sum(analysis[j][i]['Bonds'].values())\n",
    "                 for i in range(nrep)] for j in range(nsens)]\n",
    "alphaO4Content = [[analysis[j][i]['Bonds']['ao4']/sum(analysis[j][i]['Bonds'].values())\n",
    "                 for i in range(nrep)] for j in range(nsens)]\n",
    "fivefiveContent = [[analysis[j][i]['Bonds']['55']/sum(analysis[j][i]['Bonds'].values())\n",
    "                 for i in range(nrep)] for j in range(nsens)]\n",
    "\n",
    "av_monYield = [np.mean(hist) for hist in monomerYields]; std_monYield = [np.sqrt(np.var(hist)) for hist in monomerYields]  \n",
    "av_bo4Content = [np.mean(hist) for hist in betaO4Content]; std_bo4Content = [np.sqrt(np.var(hist)) for hist in betaO4Content]\n",
    "av_b5Content = [np.mean(hist) for hist in beta5Content]; std_b5Content = [np.sqrt(np.var(hist)) for hist in beta5Content]\n",
    "av_bbContent = [np.mean(hist) for hist in betabetaContent]; std_bbContent = [np.sqrt(np.var(hist)) for hist in betabetaContent]\n",
    "av_b1Content = [np.mean(hist) for hist in beta1Content]; std_b1Content = [np.sqrt(np.var(hist)) for hist in beta1Content]\n",
    "av_5o4Content = [np.mean(hist) for hist in fiveO4Content]; std_5o4Content = [np.sqrt(np.var(hist)) for hist in fiveO4Content]\n",
    "av_ao4Content = [np.mean(hist) for hist in alphaO4Content]; std_ao4Content = [np.sqrt(np.var(hist)) for hist in alphaO4Content]\n",
    "av_55Content = [np.mean(hist) for hist in fivefiveContent]; std_55Content = [np.sqrt(np.var(hist)) for hist in fivefiveContent];"
   ]
  },
  {
   "cell_type": "code",
   "execution_count": null,
   "metadata": {},
   "outputs": [],
   "source": [
    "plt.figure(figsize=(3.5,3.5))\n",
    "plt.errorbar(addrates,av_monYield,yerr = std_monYield,linestyle='none',marker='.',markersize=10,markerfacecolor='black',markeredgecolor='black',capsize=3,ecolor='black')\n",
    "plt.xscale('log')\n",
    "[plt.gca().spines[i].set_linewidth(1.5) for i in ['top','right','bottom','left']]\n",
    "plt.gca().tick_params(axis = 'both',which = 'major', labelsize = 14, direction = 'in', pad = 8, top = True, right = True, width = 1.5,length=6)\n",
    "plt.gca().tick_params(axis = 'both',which = 'minor', labelsize = 14, direction = 'in', pad = 8, top = True, right = True, width = 1,length=4)\n",
    "plt.ylabel('Monomer Yield',fontsize=14)\n",
    "plt.xlabel('Addition Rate [Hz]',fontsize=14)\n",
    "plt.ylim([0.0,0.5]);"
   ]
  },
  {
   "cell_type": "code",
   "execution_count": null,
   "metadata": {},
   "outputs": [],
   "source": [
    "colors = [(0, 0, 0), (1, 0, 0), (0, 0, 1), (0, 0.6, 0), (0.6, 0, 0.6), (1, 0.549, 0), \n",
    "          (0, 0.6, 0.6), (1, 0.8, 0), (0.6078, 0.2980, 0), (0.6, 0, 0), (0, 0, 0.6)]\n",
    "plt.figure(figsize=(3.5,3.5))\n",
    "plt.errorbar(addrates,av_bo4Content,yerr = std_bo4Content,linestyle='none',marker='.',markersize=10,markerfacecolor=colors[0],markeredgecolor=colors[0],label='bo4',capsize=3,ecolor=colors[0])\n",
    "plt.errorbar(addrates,av_bbContent,yerr = std_bbContent,linestyle='none',marker='.',markersize=10,markerfacecolor=colors[1],markeredgecolor=colors[1],label='bb',capsize=3,ecolor=colors[1])\n",
    "plt.errorbar(addrates,av_b5Content,yerr = std_b5Content,linestyle='none',marker='.',markersize=10,markerfacecolor=colors[2],markeredgecolor=colors[2],label='b5',capsize=3,ecolor=colors[2])\n",
    "plt.errorbar(addrates,av_b1Content,yerr = std_b1Content,linestyle='none',marker='.',markersize=10,markerfacecolor=colors[3],markeredgecolor=colors[3],label='b1',capsize=3,ecolor=colors[3])\n",
    "plt.errorbar(addrates,av_5o4Content,yerr = std_5o4Content,linestyle='none',marker='.',markersize=10,markerfacecolor=colors[4],markeredgecolor=colors[4],label='5o4',capsize=3,ecolor=colors[4])\n",
    "plt.errorbar(addrates,av_ao4Content,yerr = std_ao4Content,linestyle='none',marker='.',markersize=10,markerfacecolor=colors[5],markeredgecolor=colors[5],label='ao4',capsize=3,ecolor=colors[5])\n",
    "plt.errorbar(addrates,av_55Content,yerr = std_55Content,linestyle='none',marker='.',markersize=10,markerfacecolor=colors[6],markeredgecolor=colors[6],label='55',capsize=3,ecolor=colors[6])\n",
    "plt.xscale('log')\n",
    "[plt.gca().spines[i].set_linewidth(1.5) for i in ['top','right','bottom','left']]\n",
    "plt.gca().tick_params(axis = 'both',which = 'major', labelsize = 14, direction = 'in', pad = 8, top = True, right = True, width = 1.5,length=6)\n",
    "plt.gca().tick_params(axis = 'both',which = 'minor', labelsize = 14, direction = 'in', pad = 8, top = True, right = True, width = 1,length=4)\n",
    "plt.ylabel('Monomer Yield',fontsize=14)\n",
    "plt.xlabel('Add Rate [Hz]',fontsize=14)\n",
    "plt.ylim([0.0,1.0])\n",
    "plt.legend(fontsize=14,loc='upper center',bbox_to_anchor=(1.2,1.05),frameon=False);"
   ]
  },
  {
   "cell_type": "markdown",
   "metadata": {},
   "source": [
    "### Continuous SG ratio sensitivity\n",
    "We will now perform the same task on different SG ratios with a very slow addition rate"
   ]
  },
  {
   "cell_type": "code",
   "execution_count": null,
   "metadata": {},
   "outputs": [],
   "source": [
    "sg_opts = [0.1, 0.2, 0.25, 0.33, 0.5, 1, 2, 3, 4, 5, 10]\n",
    "\n",
    "fun = par.delayed(run_kmc)\n",
    "resultsToSave = []\n",
    "     \n",
    "for sg in sg_opts:\n",
    "    #Set the percentage of S\n",
    "    pct = sg / (1 + sg)\n",
    "    \n",
    "    #Make choices about what kinds of monomers there are\n",
    "    n = 5\n",
    "    rands = np.random.rand(n)\n",
    "    \n",
    "    #Initialize the monomers, events, and state\n",
    "    mons = [monomer( int ( sOrG < pct ) , i ) for i,sOrG in zip ( range(n) , rands ) ]\n",
    "    startEvents = [ kmc.Event ( 'ox' , [i] , rxn_rates['ox'][ int( sOrG < pct ) ]['monomer'] ) for i,sOrG in zip ( range(n) , rands) ]\n",
    "\n",
    "    state = { i : {'mon' : mons[i] , 'affected' : {startEvents[i]} } for i in range(n) }\n",
    "    events = { startEvents[i] for i in range(n) }\n",
    "    events.add(kmc.Event('grow',[],rate = 1e4,bond = sg))\n",
    "\n",
    "    results = par.Parallel(n_jobs = 4)([fun(nMax = 200, tFinal = 1,rates = rxn_rates,initialState = state,initialEvents = events)\n",
    "                                        for _ in range(5)])\n",
    "    resultsToSave.append(results)\n",
    "    print('Completed sensitivity iteration: ' + str(sg))\n",
    "\n",
    "    t = time.localtime()\n",
    "    print('Finished on ' + str(t.tm_year) + '-' + str(t.tm_mon) + '-' + str(t.tm_mday) \n",
    "            + ' at ' + str(t.tm_hour) + ':' + str(t.tm_min) + ':' + str(t.tm_sec))"
   ]
  },
  {
   "cell_type": "code",
   "execution_count": null,
   "metadata": {},
   "outputs": [],
   "source": [
    "nodeRes = [0]*len(resultsToSave); adjRes = [0]*len(resultsToSave)\n",
    "analysis = [0]*len(resultsToSave)\n",
    "for i in range(len(resultsToSave)):\n",
    "    nodeRes[i] = [resultsToSave[i][j]['monomers'] for j in range(len(resultsToSave[i]))]\n",
    "    adjRes[i] = [resultsToSave[i][j]['adjacency_matrix'] for j in range(len(resultsToSave[i]))]\n",
    "    \n",
    "    analysis[i] = par.Parallel(n_jobs = 4)([par.delayed(kmc.analyze)\n",
    "                                         (adjacency = adjRes[i][j],\n",
    "                                          nodes = nodeRes[i][j]) \n",
    "                                         for j in range(len(resultsToSave[i]))])\n",
    "    t = time.localtime()\n",
    "    print('Finished on ',(str(t.tm_year) + '-' + str(t.tm_mon) + '-' \n",
    "                          + str(t.tm_mday)), 'at', \n",
    "         (str(t.tm_hour) + ':' + str(t.tm_min) + ':' + str(t.tm_sec)))"
   ]
  },
  {
   "cell_type": "code",
   "execution_count": null,
   "metadata": {},
   "outputs": [],
   "source": [
    "nsens = len(analysis)\n",
    "nrep = len(analysis[0])\n",
    "\n",
    "nmon = [[sum([analysis[j][i]['Chain Lengths'][k]*k for k in analysis[j][i]['Chain Lengths']]) \n",
    "         for i in range(nrep)] for j in range(nsens)]\n",
    "\n",
    "monomerYields = [[analysis[j][i]['RCF Yields'][1]/nmon[j][i] \n",
    "                  for i in range(nrep)] for j in range(nsens)]\n",
    "betaO4Content = [[analysis[j][i]['Bonds']['bo4']/sum(analysis[j][i]['Bonds'].values())\n",
    "                 for i in range(nrep)] for j in range(nsens)]\n",
    "beta5Content = [[analysis[j][i]['Bonds']['b5']/sum(analysis[j][i]['Bonds'].values())\n",
    "                 for i in range(nrep)] for j in range(nsens)]\n",
    "betabetaContent = [[analysis[j][i]['Bonds']['bb']/sum(analysis[j][i]['Bonds'].values())\n",
    "                 for i in range(nrep)] for j in range(nsens)]\n",
    "beta1Content = [[analysis[j][i]['Bonds']['b1']/sum(analysis[j][i]['Bonds'].values())\n",
    "                 for i in range(nrep)] for j in range(nsens)]\n",
    "fiveO4Content = [[analysis[j][i]['Bonds']['5o4']/sum(analysis[j][i]['Bonds'].values())\n",
    "                 for i in range(nrep)] for j in range(nsens)]\n",
    "alphaO4Content = [[analysis[j][i]['Bonds']['ao4']/sum(analysis[j][i]['Bonds'].values())\n",
    "                 for i in range(nrep)] for j in range(nsens)]\n",
    "fivefiveContent = [[analysis[j][i]['Bonds']['55']/sum(analysis[j][i]['Bonds'].values())\n",
    "                 for i in range(nrep)] for j in range(nsens)]\n",
    "\n",
    "av_monYield = [np.mean(hist) for hist in monomerYields]; std_monYield = [np.sqrt(np.var(hist)) for hist in monomerYields];\n",
    "av_bo4Content = [np.mean(hist) for hist in betaO4Content]; std_bo4Content = [np.sqrt(np.var(hist)) for hist in betaO4Content];\n",
    "av_b5Content = [np.mean(hist) for hist in beta5Content]; std_b5Content = [np.sqrt(np.var(hist)) for hist in beta5Content];\n",
    "av_bbContent = [np.mean(hist) for hist in betabetaContent]; std_bbContent = [np.sqrt(np.var(hist)) for hist in betabetaContent];\n",
    "av_b1Content = [np.mean(hist) for hist in beta1Content]; std_b1Content = [np.sqrt(np.var(hist)) for hist in beta1Content];\n",
    "av_5o4Content = [np.mean(hist) for hist in fiveO4Content]; std_5o4Content = [np.sqrt(np.var(hist)) for hist in fiveO4Content];\n",
    "av_ao4Content = [np.mean(hist) for hist in alphaO4Content]; std_ao4Content = [np.sqrt(np.var(hist)) for hist in alphaO4Content];\n",
    "av_55Content = [np.mean(hist) for hist in fivefiveContent]; std_55Content = [np.sqrt(np.var(hist)) for hist in fivefiveContent];"
   ]
  },
  {
   "cell_type": "code",
   "execution_count": null,
   "metadata": {},
   "outputs": [],
   "source": [
    "plt.figure(figsize=(3.5,3.5))\n",
    "plt.errorbar(sg_opts,av_monYield,yerr = std_monYield,linestyle='none',marker='.',markersize=10,markerfacecolor='black',markeredgecolor='black',capsize=3,ecolor='black')\n",
    "plt.xscale('log')\n",
    "[plt.gca().spines[i].set_linewidth(1.5) for i in ['top','right','bottom','left']]\n",
    "plt.gca().tick_params(axis = 'both',which = 'major', labelsize = 14, direction = 'in', pad = 8, top = True, right = True, width = 1.5,length=6)\n",
    "plt.gca().tick_params(axis = 'both',which = 'minor', labelsize = 14, direction = 'in', pad = 8, top = True, right = True, width = 1,length=4)\n",
    "plt.ylabel('Monomer Yield',fontsize=14)\n",
    "plt.xlabel('SG Ratio',fontsize=14)\n",
    "plt.ylim([0.0,1.0]);"
   ]
  },
  {
   "cell_type": "code",
   "execution_count": null,
   "metadata": {
    "scrolled": false
   },
   "outputs": [],
   "source": [
    "colors = [(0, 0, 0), (1, 0, 0), (0, 0, 1), (0, 0.6, 0), (0.6, 0, 0.6), (1, 0.549, 0), \n",
    "          (0, 0.6, 0.6), (1, 0.8, 0), (0.6078, 0.2980, 0), (0.6, 0, 0), (0, 0, 0.6)]\n",
    "plt.figure(figsize=(3.5,3.5))\n",
    "plt.errorbar(sg_opts,av_bo4Content,yerr = std_bo4Content,linestyle='none',marker='.',markersize=10,markerfacecolor=colors[0],markeredgecolor=colors[0],label='bo4',capsize=3,ecolor=colors[0])\n",
    "plt.errorbar(sg_opts,av_bbContent,yerr = std_bbContent,linestyle='none',marker='.',markersize=10,markerfacecolor=colors[1],markeredgecolor=colors[1],label='bb',capsize=3,ecolor=colors[1])\n",
    "plt.errorbar(sg_opts,av_b5Content,yerr = std_b5Content,linestyle='none',marker='.',markersize=10,markerfacecolor=colors[2],markeredgecolor=colors[2],label='b5',capsize=3,ecolor=colors[2])\n",
    "plt.errorbar(sg_opts,av_b1Content,yerr = std_b1Content,linestyle='none',marker='.',markersize=10,markerfacecolor=colors[3],markeredgecolor=colors[3],label='b1',capsize=3,ecolor=colors[3])\n",
    "plt.errorbar(sg_opts,av_5o4Content,yerr = std_5o4Content,linestyle='none',marker='.',markersize=10,markerfacecolor=colors[4],markeredgecolor=colors[4],label='5o4',capsize=3,ecolor=colors[4])\n",
    "plt.errorbar(sg_opts,av_ao4Content,yerr = std_ao4Content,linestyle='none',marker='.',markersize=10,markerfacecolor=colors[5],markeredgecolor=colors[5],label='ao4',capsize=3,ecolor=colors[5])\n",
    "plt.errorbar(sg_opts,av_55Content,yerr = std_55Content,linestyle='none',marker='.',markersize=10,markerfacecolor=colors[6],markeredgecolor=colors[6],label='55',capsize=3,ecolor=colors[6])\n",
    "plt.xscale('log')\n",
    "[plt.gca().spines[i].set_linewidth(1.5) for i in ['top','right','bottom','left']]\n",
    "plt.gca().tick_params(axis = 'both',which = 'major', labelsize = 14, direction = 'in', pad = 8, top = True, right = True, width = 1.5,length=6)\n",
    "plt.gca().tick_params(axis = 'both',which = 'minor', labelsize = 14, direction = 'in', pad = 8, top = True, right = True, width = 1,length=4)\n",
    "plt.ylabel('Monomer Yield',fontsize=14)\n",
    "plt.xlabel('SG Ratio',fontsize=14)\n",
    "plt.ylim([0.0,1.0])\n",
    "plt.legend(fontsize=14,loc='upper center',bbox_to_anchor=(1.2,1.05),frameon=False);"
   ]
  },
  {
   "cell_type": "markdown",
   "metadata": {},
   "source": [
    "### Continuous SG ratio sensitivity 1e7 Hz\n",
    "We will now perform the same task on different SG ratios with three different addition rates"
   ]
  },
  {
   "cell_type": "code",
   "execution_count": null,
   "metadata": {},
   "outputs": [],
   "source": [
    "sg_opts = [0.1,0.2,0.25,0.33,0.5,1,2,3,4,5,10]\n",
    "\n",
    "fun = par.delayed(run_kmc)\n",
    "resultsToSave = []\n",
    "     \n",
    "for sg in sg_opts:\n",
    "    #Set the percentage of S\n",
    "    pct = sg / (1 + sg)\n",
    "    \n",
    "    #Make choices about what kinds of monomers there are\n",
    "    n = 5\n",
    "    rands = np.random.rand(n)\n",
    "    \n",
    "    #Initialize the monomers, events, and state\n",
    "    mons = [monomer( int ( sOrG < pct ) , i ) for i,sOrG in zip ( range(n) , rands ) ]\n",
    "    startEvents = [ kmc.Event ( 'ox' , [i] , rxn_rates['ox'][ int( sOrG < pct ) ]['monomer'] ) for i,sOrG in zip ( range(n) , rands) ]\n",
    "\n",
    "    state = { i : {'mon' : mons[i] , 'affected' : {startEvents[i]} } for i in range(n) }\n",
    "    events = { startEvents[i] for i in range(n) }\n",
    "    events.add(kmc.Event('grow',[],rate = 1e7,bond = sg))\n",
    "\n",
    "    results = par.Parallel(n_jobs = 4)([fun(nMax = 200, tFinal = 1,rates = rxn_rates,initialState = state,initialEvents = events)\n",
    "                                        for _ in range(5)])\n",
    "    resultsToSave.append(results)\n",
    "    print('Completed sensitivity iteration: ' + str(sg))\n",
    "\n",
    "    t = time.localtime()\n",
    "    print('Finished on ' + str(t.tm_year) + '-' + str(t.tm_mon) + '-' + str(t.tm_mday) \n",
    "            + ' at ' + str(t.tm_hour) + ':' + str(t.tm_min) + ':' + str(t.tm_sec))"
   ]
  },
  {
   "cell_type": "code",
   "execution_count": null,
   "metadata": {},
   "outputs": [],
   "source": [
    "nodeRes = [0]*len(resultsToSave); adjRes = [0]*len(resultsToSave);\n",
    "analysis = [0]*len(resultsToSave)\n",
    "for i in range(len(resultsToSave)):\n",
    "    nodeRes[i] = [resultsToSave[i][j]['monomers'] for j in range(len(resultsToSave[i]))]\n",
    "    adjRes[i] = [resultsToSave[i][j]['adjacency_matrix'] for j in range(len(resultsToSave[i]))]\n",
    "    \n",
    "    analysis[i] = par.Parallel(n_jobs = 4)([par.delayed(kmc.analyze)\n",
    "                                         (adjacency = adjRes[i][j],\n",
    "                                          nodes = nodeRes[i][j]) \n",
    "                                         for j in range(len(resultsToSave[i]))])\n",
    "    t = time.localtime()\n",
    "    print('Finished on ', (str(t.tm_year) + '-' + str(t.tm_mon) + '-' \n",
    "                          + str(t.tm_mday)), 'at', \n",
    "         (str(t.tm_hour) + ':' + str(t.tm_min) + ':' + str(t.tm_sec)))"
   ]
  },
  {
   "cell_type": "code",
   "execution_count": null,
   "metadata": {},
   "outputs": [],
   "source": [
    "nsens = len(analysis)\n",
    "nrep = len(analysis[0])\n",
    "\n",
    "nmon = [[sum([analysis[j][i]['Chain Lengths'][k]*k for k in analysis[j][i]['Chain Lengths']]) \n",
    "         for i in range(nrep)] for j in range(nsens)]\n",
    "\n",
    "monomerYields = [[analysis[j][i]['RCF Yields'][1]/nmon[j][i] \n",
    "                  for i in range(nrep)] for j in range(nsens)]\n",
    "betaO4Content = [[analysis[j][i]['Bonds']['bo4']/sum(analysis[j][i]['Bonds'].values())\n",
    "                 for i in range(nrep)] for j in range(nsens)]\n",
    "beta5Content = [[analysis[j][i]['Bonds']['b5']/sum(analysis[j][i]['Bonds'].values())\n",
    "                 for i in range(nrep)] for j in range(nsens)]\n",
    "betabetaContent = [[analysis[j][i]['Bonds']['bb']/sum(analysis[j][i]['Bonds'].values())\n",
    "                 for i in range(nrep)] for j in range(nsens)]\n",
    "beta1Content = [[analysis[j][i]['Bonds']['b1']/sum(analysis[j][i]['Bonds'].values())\n",
    "                 for i in range(nrep)] for j in range(nsens)]\n",
    "fiveO4Content = [[analysis[j][i]['Bonds']['5o4']/sum(analysis[j][i]['Bonds'].values())\n",
    "                 for i in range(nrep)] for j in range(nsens)]\n",
    "alphaO4Content = [[analysis[j][i]['Bonds']['ao4']/sum(analysis[j][i]['Bonds'].values())\n",
    "                 for i in range(nrep)] for j in range(nsens)]\n",
    "fivefiveContent = [[analysis[j][i]['Bonds']['55']/sum(analysis[j][i]['Bonds'].values())\n",
    "                 for i in range(nrep)] for j in range(nsens)]\n",
    "\n",
    "av_monYield = [np.mean(hist) for hist in monomerYields]; std_monYield = [np.sqrt(np.var(hist)) for hist in monomerYields];\n",
    "av_bo4Content = [np.mean(hist) for hist in betaO4Content]; std_bo4Content = [np.sqrt(np.var(hist)) for hist in betaO4Content];\n",
    "av_b5Content = [np.mean(hist) for hist in beta5Content]; std_b5Content = [np.sqrt(np.var(hist)) for hist in beta5Content];\n",
    "av_bbContent = [np.mean(hist) for hist in betabetaContent]; std_bbContent = [np.sqrt(np.var(hist)) for hist in betabetaContent];\n",
    "av_b1Content = [np.mean(hist) for hist in beta1Content]; std_b1Content = [np.sqrt(np.var(hist)) for hist in beta1Content];\n",
    "av_5o4Content = [np.mean(hist) for hist in fiveO4Content]; std_5o4Content = [np.sqrt(np.var(hist)) for hist in fiveO4Content];\n",
    "av_ao4Content = [np.mean(hist) for hist in alphaO4Content]; std_ao4Content = [np.sqrt(np.var(hist)) for hist in alphaO4Content];\n",
    "av_55Content = [np.mean(hist) for hist in fivefiveContent]; std_55Content = [np.sqrt(np.var(hist)) for hist in fivefiveContent];"
   ]
  },
  {
   "cell_type": "code",
   "execution_count": null,
   "metadata": {},
   "outputs": [],
   "source": [
    "plt.figure(figsize=(3.5,3.5))\n",
    "plt.errorbar(sg_opts,av_monYield,yerr = std_monYield,linestyle='none',marker='.',markersize=10,markerfacecolor='black',markeredgecolor='black',capsize=3,ecolor='black')\n",
    "plt.xscale('log')\n",
    "[plt.gca().spines[i].set_linewidth(1.5) for i in ['top','right','bottom','left']]\n",
    "plt.gca().tick_params(axis = 'both',which = 'major', labelsize = 14, direction = 'in', pad = 8, top = True, right = True, width = 1.5,length=6)\n",
    "plt.gca().tick_params(axis = 'both',which = 'minor', labelsize = 14, direction = 'in', pad = 8, top = True, right = True, width = 1,length=4)\n",
    "plt.ylabel('Monomer Yield',fontsize=14)\n",
    "plt.xlabel('SG Ratio',fontsize=14)\n",
    "plt.ylim([0.0,1.0]);"
   ]
  },
  {
   "cell_type": "code",
   "execution_count": null,
   "metadata": {
    "scrolled": true
   },
   "outputs": [],
   "source": [
    "colors = [(0,0,0),(1,0,0),(0,0,1),(0,0.6,0),(0.6,0,0.6),(1,0.5490,0),(0,0.6,0.6),(1,0.8,0),(0.6078,0.2980,0),\n",
    "         (0.6,0,0),(0,0,0.6)]\n",
    "plt.figure(figsize=(3.5,3.5))\n",
    "plt.errorbar(sg_opts,av_bo4Content,yerr = std_bo4Content,linestyle='none',marker='.',markersize=10,markerfacecolor=colors[0],markeredgecolor=colors[0],label='bo4',capsize=3,ecolor=colors[0])\n",
    "plt.errorbar(sg_opts,av_bbContent,yerr = std_bbContent,linestyle='none',marker='.',markersize=10,markerfacecolor=colors[1],markeredgecolor=colors[1],label='bb',capsize=3,ecolor=colors[1])\n",
    "plt.errorbar(sg_opts,av_b5Content,yerr = std_b5Content,linestyle='none',marker='.',markersize=10,markerfacecolor=colors[2],markeredgecolor=colors[2],label='b5',capsize=3,ecolor=colors[2])\n",
    "plt.errorbar(sg_opts,av_b1Content,yerr = std_b1Content,linestyle='none',marker='.',markersize=10,markerfacecolor=colors[3],markeredgecolor=colors[3],label='b1',capsize=3,ecolor=colors[3])\n",
    "plt.errorbar(sg_opts,av_5o4Content,yerr = std_5o4Content,linestyle='none',marker='.',markersize=10,markerfacecolor=colors[4],markeredgecolor=colors[4],label='5o4',capsize=3,ecolor=colors[4])\n",
    "plt.errorbar(sg_opts,av_ao4Content,yerr = std_ao4Content,linestyle='none',marker='.',markersize=10,markerfacecolor=colors[5],markeredgecolor=colors[5],label='ao4',capsize=3,ecolor=colors[5])\n",
    "plt.errorbar(sg_opts,av_55Content,yerr = std_55Content,linestyle='none',marker='.',markersize=10,markerfacecolor=colors[6],markeredgecolor=colors[6],label='55',capsize=3,ecolor=colors[6])\n",
    "plt.xscale('log')\n",
    "[plt.gca().spines[i].set_linewidth(1.5) for i in ['top','right','bottom','left']]\n",
    "plt.gca().tick_params(axis = 'both',which = 'major', labelsize = 14, direction = 'in', pad = 8, top = True, right = True, width = 1.5,length=6)\n",
    "plt.gca().tick_params(axis = 'both',which = 'minor', labelsize = 14, direction = 'in', pad = 8, top = True, right = True, width = 1,length=4)\n",
    "plt.ylabel('Monomer Yield',fontsize=14)\n",
    "plt.xlabel('SG Ratio',fontsize=14)\n",
    "plt.ylim([0.0,1.0])\n",
    "plt.legend(fontsize=14,loc='upper center',bbox_to_anchor=(1.2,1.05),frameon=False);"
   ]
  },
  {
   "cell_type": "markdown",
   "metadata": {},
   "source": [
    "### Continuous SG ratio sensitivity 1e9 Hz\n",
    "We will now perform the same task on different SG ratios with three different addition rates"
   ]
  },
  {
   "cell_type": "code",
   "execution_count": null,
   "metadata": {},
   "outputs": [],
   "source": [
    "sg_opts = [0.1,0.2,0.25,0.33,0.5,1,2,3,4,5,10]\n",
    "\n",
    "fun = par.delayed(run_kmc)\n",
    "resultsToSave = []\n",
    "     \n",
    "for sg in sg_opts:\n",
    "    #Set the percentage of S\n",
    "    pct = sg / (1 + sg)\n",
    "    \n",
    "    #Make choices about what kinds of monomers there are\n",
    "    n = 5\n",
    "    rands = np.random.rand(n)\n",
    "    \n",
    "    #Initialize the monomers, events, and state\n",
    "    mons = [monomer( int ( sOrG < pct ) , i ) for i,sOrG in zip ( range(n) , rands ) ]\n",
    "    startEvents = [ kmc.Event ( 'ox' , [i] , rxn_rates['ox'][ int( sOrG < pct ) ]['monomer'] ) for i,sOrG in zip ( range(n) , rands) ]\n",
    "\n",
    "    state = { i : {'mon' : mons[i] , 'affected' : {startEvents[i]} } for i in range(n) }\n",
    "    events = { startEvents[i] for i in range(n) }\n",
    "    events.add(kmc.Event('grow',[],rate = 1e9,bond = sg))\n",
    "\n",
    "    results = par.Parallel(n_jobs = 4)([fun(nMax = 200, tFinal = 1,rates = rxn_rates,initialState = state,initialEvents = events)\n",
    "                                        for _ in range(5)])\n",
    "    resultsToSave.append(results)\n",
    "    print('Completed sensitivity iteration: ' + str(sg))\n",
    "\n",
    "    t = time.localtime()\n",
    "    print('Finished on ' + str(t.tm_year) + '-' + str(t.tm_mon) + '-' + str(t.tm_mday) \n",
    "            + ' at ' + str(t.tm_hour) + ':' + str(t.tm_min) + ':' + str(t.tm_sec))"
   ]
  },
  {
   "cell_type": "code",
   "execution_count": null,
   "metadata": {},
   "outputs": [],
   "source": [
    "nodeRes = [0]*len(resultsToSave); adjRes = [0]*len(resultsToSave)\n",
    "analysis = [0]*len(resultsToSave)\n",
    "for i in range(len(resultsToSave)):\n",
    "    nodeRes[i] = [resultsToSave[i][j]['monomers'] for j in range(len(resultsToSave[i]))]\n",
    "    adjRes[i] = [resultsToSave[i][j]['adjacency_matrix'] for j in range(len(resultsToSave[i]))]\n",
    "    \n",
    "    analysis[i] = par.Parallel(n_jobs = 4)([par.delayed(kmc.analyze)\n",
    "                                         (adjacency = adjRes[i][j],\n",
    "                                          nodes = nodeRes[i][j]) \n",
    "                                         for j in range(len(resultsToSave[i]))])\n",
    "    t = time.localtime()\n",
    "    print('Finished on ',(str(t.tm_year) + '-' + str(t.tm_mon) + '-' \n",
    "                          + str(t.tm_mday)), 'at', \n",
    "         (str(t.tm_hour) + ':' + str(t.tm_min) + ':' + str(t.tm_sec)))"
   ]
  },
  {
   "cell_type": "code",
   "execution_count": null,
   "metadata": {},
   "outputs": [],
   "source": [
    "nsens = len(analysis)\n",
    "nrep = len(analysis[0])\n",
    "\n",
    "nmon = [[sum([analysis[j][i]['Chain Lengths'][k]*k for k in analysis[j][i]['Chain Lengths']]) \n",
    "         for i in range(nrep)] for j in range(nsens)]\n",
    "\n",
    "monomerYields = [[analysis[j][i]['RCF Yields'][1]/nmon[j][i] \n",
    "                  for i in range(nrep)] for j in range(nsens)]\n",
    "betaO4Content = [[analysis[j][i]['Bonds']['bo4']/sum(analysis[j][i]['Bonds'].values())\n",
    "                 for i in range(nrep)] for j in range(nsens)]\n",
    "beta5Content = [[analysis[j][i]['Bonds']['b5']/sum(analysis[j][i]['Bonds'].values())\n",
    "                 for i in range(nrep)] for j in range(nsens)]\n",
    "betabetaContent = [[analysis[j][i]['Bonds']['bb']/sum(analysis[j][i]['Bonds'].values())\n",
    "                 for i in range(nrep)] for j in range(nsens)]\n",
    "beta1Content = [[analysis[j][i]['Bonds']['b1']/sum(analysis[j][i]['Bonds'].values())\n",
    "                 for i in range(nrep)] for j in range(nsens)]\n",
    "fiveO4Content = [[analysis[j][i]['Bonds']['5o4']/sum(analysis[j][i]['Bonds'].values())\n",
    "                 for i in range(nrep)] for j in range(nsens)]\n",
    "alphaO4Content = [[analysis[j][i]['Bonds']['ao4']/sum(analysis[j][i]['Bonds'].values())\n",
    "                 for i in range(nrep)] for j in range(nsens)]\n",
    "fivefiveContent = [[analysis[j][i]['Bonds']['55']/sum(analysis[j][i]['Bonds'].values())\n",
    "                 for i in range(nrep)] for j in range(nsens)]\n",
    "\n",
    "av_monYield = [np.mean(hist) for hist in monomerYields]; std_monYield = [np.sqrt(np.var(hist)) for hist in monomerYields];\n",
    "av_bo4Content = [np.mean(hist) for hist in betaO4Content]; std_bo4Content = [np.sqrt(np.var(hist)) for hist in betaO4Content];\n",
    "av_b5Content = [np.mean(hist) for hist in beta5Content]; std_b5Content = [np.sqrt(np.var(hist)) for hist in beta5Content];\n",
    "av_bbContent = [np.mean(hist) for hist in betabetaContent]; std_bbContent = [np.sqrt(np.var(hist)) for hist in betabetaContent];\n",
    "av_b1Content = [np.mean(hist) for hist in beta1Content]; std_b1Content = [np.sqrt(np.var(hist)) for hist in beta1Content];\n",
    "av_5o4Content = [np.mean(hist) for hist in fiveO4Content]; std_5o4Content = [np.sqrt(np.var(hist)) for hist in fiveO4Content];\n",
    "av_ao4Content = [np.mean(hist) for hist in alphaO4Content]; std_ao4Content = [np.sqrt(np.var(hist)) for hist in alphaO4Content];\n",
    "av_55Content = [np.mean(hist) for hist in fivefiveContent]; std_55Content = [np.sqrt(np.var(hist)) for hist in fivefiveContent];"
   ]
  },
  {
   "cell_type": "code",
   "execution_count": null,
   "metadata": {},
   "outputs": [],
   "source": [
    "plt.figure(figsize=(3.5,3.5))\n",
    "plt.errorbar(sg_opts,av_monYield,yerr = std_monYield,linestyle='none',marker='.',markersize=10,markerfacecolor='black',markeredgecolor='black',capsize=3,ecolor='black')\n",
    "plt.xscale('log')\n",
    "[plt.gca().spines[i].set_linewidth(1.5) for i in ['top','right','bottom','left']]\n",
    "plt.gca().tick_params(axis = 'both',which = 'major', labelsize = 14, direction = 'in', pad = 8, top = True, right = True, width = 1.5,length=6)\n",
    "plt.gca().tick_params(axis = 'both',which = 'minor', labelsize = 14, direction = 'in', pad = 8, top = True, right = True, width = 1,length=4)\n",
    "plt.ylabel('Monomer Yield',fontsize=14)\n",
    "plt.xlabel('SG Ratio',fontsize=14)\n",
    "plt.ylim([0.0,1.0]);"
   ]
  },
  {
   "cell_type": "code",
   "execution_count": null,
   "metadata": {
    "scrolled": true
   },
   "outputs": [],
   "source": [
    "colors = [(0,0,0),(1,0,0),(0,0,1),(0,0.6,0),(0.6,0,0.6),(1,0.5490,0),(0,0.6,0.6),(1,0.8,0),(0.6078,0.2980,0),\n",
    "         (0.6,0,0),(0,0,0.6)]\n",
    "plt.figure(figsize=(3.5,3.5))\n",
    "plt.errorbar(sg_opts,av_bo4Content,yerr = std_bo4Content,linestyle='none',marker='.',markersize=10,markerfacecolor=colors[0],markeredgecolor=colors[0],label='bo4',capsize=3,ecolor=colors[0])\n",
    "plt.errorbar(sg_opts,av_bbContent,yerr = std_bbContent,linestyle='none',marker='.',markersize=10,markerfacecolor=colors[1],markeredgecolor=colors[1],label='bb',capsize=3,ecolor=colors[1])\n",
    "plt.errorbar(sg_opts,av_b5Content,yerr = std_b5Content,linestyle='none',marker='.',markersize=10,markerfacecolor=colors[2],markeredgecolor=colors[2],label='b5',capsize=3,ecolor=colors[2])\n",
    "plt.errorbar(sg_opts,av_b1Content,yerr = std_b1Content,linestyle='none',marker='.',markersize=10,markerfacecolor=colors[3],markeredgecolor=colors[3],label='b1',capsize=3,ecolor=colors[3])\n",
    "plt.errorbar(sg_opts,av_5o4Content,yerr = std_5o4Content,linestyle='none',marker='.',markersize=10,markerfacecolor=colors[4],markeredgecolor=colors[4],label='5o4',capsize=3,ecolor=colors[4])\n",
    "plt.errorbar(sg_opts,av_ao4Content,yerr = std_ao4Content,linestyle='none',marker='.',markersize=10,markerfacecolor=colors[5],markeredgecolor=colors[5],label='ao4',capsize=3,ecolor=colors[5])\n",
    "plt.errorbar(sg_opts,av_55Content,yerr = std_55Content,linestyle='none',marker='.',markersize=10,markerfacecolor=colors[6],markeredgecolor=colors[6],label='55',capsize=3,ecolor=colors[6])\n",
    "plt.xscale('log')\n",
    "[plt.gca().spines[i].set_linewidth(1.5) for i in ['top','right','bottom','left']]\n",
    "plt.gca().tick_params(axis = 'both',which = 'major', labelsize = 14, direction = 'in', pad = 8, top = True, right = True, width = 1.5,length=6)\n",
    "plt.gca().tick_params(axis = 'both',which = 'minor', labelsize = 14, direction = 'in', pad = 8, top = True, right = True, width = 1,length=4)\n",
    "plt.ylabel('Monomer Yield',fontsize=14)\n",
    "plt.xlabel('SG Ratio',fontsize=14)\n",
    "plt.ylim([0.0,1.0])\n",
    "plt.legend(fontsize=14,loc='upper center',bbox_to_anchor=(1.2,1.05),frameon=False);"
   ]
  },
  {
   "cell_type": "markdown",
   "metadata": {},
   "source": [
    "### Continuous SG ratio sensitivity 1e11 Hz\n",
    "We will now perform the same task on different SG ratios with three different addition rates"
   ]
  },
  {
   "cell_type": "code",
   "execution_count": null,
   "metadata": {},
   "outputs": [],
   "source": [
    "sg_opts = [0.1,0.2,0.25,0.33,0.5,1,2,3,4,5,10]\n",
    "\n",
    "fun = par.delayed(run_kmc)\n",
    "resultsToSave = []\n",
    "     \n",
    "for sg in sg_opts:\n",
    "    #Set the percentage of S\n",
    "    pct = sg / (1 + sg)\n",
    "    \n",
    "    #Make choices about what kinds of monomers there are\n",
    "    n = 5\n",
    "    rands = np.random.rand(n)\n",
    "    \n",
    "    #Initialize the monomers, events, and state\n",
    "    mons = [monomer( int ( sOrG < pct ) , i ) for i,sOrG in zip ( range(n) , rands ) ]\n",
    "    startEvents = [ kmc.Event ( 'ox' , [i] , rxn_rates['ox'][ int( sOrG < pct ) ]['monomer'] ) for i,sOrG in zip ( range(n) , rands) ]\n",
    "\n",
    "    state = { i : {'mon' : mons[i] , 'affected' : {startEvents[i]} } for i in range(n) }\n",
    "    events = { startEvents[i] for i in range(n) }\n",
    "    events.add(kmc.Event('grow',[],rate = 1e11,bond = sg))\n",
    "\n",
    "    results = par.Parallel(n_jobs = 4)([fun(nMax = 200, tFinal = 1,rates = rxn_rates,initialState = state,initialEvents = events)\n",
    "                                        for _ in range(5)])\n",
    "    resultsToSave.append(results)\n",
    "    print('Completed sensitivity iteration: ' + str(sg))\n",
    "\n",
    "    t = time.localtime()\n",
    "    print('Finished on ' + str(t.tm_year) + '-' + str(t.tm_mon) + '-' + str(t.tm_mday) \n",
    "            + ' at ' + str(t.tm_hour) + ':' + str(t.tm_min) + ':' + str(t.tm_sec))"
   ]
  },
  {
   "cell_type": "code",
   "execution_count": null,
   "metadata": {},
   "outputs": [],
   "source": [
    "nodeRes = [0]*len(resultsToSave); adjRes = [0]*len(resultsToSave);\n",
    "analysis = [0]*len(resultsToSave)\n",
    "for i in range(len(resultsToSave)):\n",
    "    nodeRes[i] = [resultsToSave[i][j]['monomers'] for j in range(len(resultsToSave[i]))]\n",
    "    adjRes[i] = [resultsToSave[i][j]['adjacency_matrix'] for j in range(len(resultsToSave[i]))]\n",
    "    \n",
    "    analysis[i] = par.Parallel(n_jobs = 4)([par.delayed(kmc.analyze)\n",
    "                                         (adjacency = adjRes[i][j],\n",
    "                                          nodes = nodeRes[i][j]) \n",
    "                                         for j in range(len(resultsToSave[i]))])\n",
    "    t = time.localtime()\n",
    "    print('Finished on ',(str(t.tm_year) + '-' + str(t.tm_mon) + '-' \n",
    "                          + str(t.tm_mday)), 'at', \n",
    "         (str(t.tm_hour) + ':' + str(t.tm_min) + ':' + str(t.tm_sec)))"
   ]
  },
  {
   "cell_type": "code",
   "execution_count": null,
   "metadata": {},
   "outputs": [],
   "source": [
    "nsens = len(analysis)\n",
    "nrep = len(analysis[0])\n",
    "\n",
    "nmon = [[sum([analysis[j][i]['Chain Lengths'][k]*k for k in analysis[j][i]['Chain Lengths']]) \n",
    "         for i in range(nrep)] for j in range(nsens)]\n",
    "\n",
    "monomerYields = [[analysis[j][i]['RCF Yields'][1]/nmon[j][i] \n",
    "                  for i in range(nrep)] for j in range(nsens)]\n",
    "betaO4Content = [[analysis[j][i]['Bonds']['bo4']/sum(analysis[j][i]['Bonds'].values())\n",
    "                 for i in range(nrep)] for j in range(nsens)]\n",
    "beta5Content = [[analysis[j][i]['Bonds']['b5']/sum(analysis[j][i]['Bonds'].values())\n",
    "                 for i in range(nrep)] for j in range(nsens)]\n",
    "betabetaContent = [[analysis[j][i]['Bonds']['bb']/sum(analysis[j][i]['Bonds'].values())\n",
    "                 for i in range(nrep)] for j in range(nsens)]\n",
    "beta1Content = [[analysis[j][i]['Bonds']['b1']/sum(analysis[j][i]['Bonds'].values())\n",
    "                 for i in range(nrep)] for j in range(nsens)]\n",
    "fiveO4Content = [[analysis[j][i]['Bonds']['5o4']/sum(analysis[j][i]['Bonds'].values())\n",
    "                 for i in range(nrep)] for j in range(nsens)]\n",
    "alphaO4Content = [[analysis[j][i]['Bonds']['ao4']/sum(analysis[j][i]['Bonds'].values())\n",
    "                 for i in range(nrep)] for j in range(nsens)]\n",
    "fivefiveContent = [[analysis[j][i]['Bonds']['55']/sum(analysis[j][i]['Bonds'].values())\n",
    "                 for i in range(nrep)] for j in range(nsens)]\n",
    "\n",
    "av_monYield = [np.mean(hist) for hist in monomerYields]; std_monYield = [np.sqrt(np.var(hist)) for hist in monomerYields];\n",
    "av_bo4Content = [np.mean(hist) for hist in betaO4Content]; std_bo4Content = [np.sqrt(np.var(hist)) for hist in betaO4Content];\n",
    "av_b5Content = [np.mean(hist) for hist in beta5Content]; std_b5Content = [np.sqrt(np.var(hist)) for hist in beta5Content];\n",
    "av_bbContent = [np.mean(hist) for hist in betabetaContent]; std_bbContent = [np.sqrt(np.var(hist)) for hist in betabetaContent];\n",
    "av_b1Content = [np.mean(hist) for hist in beta1Content]; std_b1Content = [np.sqrt(np.var(hist)) for hist in beta1Content];\n",
    "av_5o4Content = [np.mean(hist) for hist in fiveO4Content]; std_5o4Content = [np.sqrt(np.var(hist)) for hist in fiveO4Content];\n",
    "av_ao4Content = [np.mean(hist) for hist in alphaO4Content]; std_ao4Content = [np.sqrt(np.var(hist)) for hist in alphaO4Content];\n",
    "av_55Content = [np.mean(hist) for hist in fivefiveContent]; std_55Content = [np.sqrt(np.var(hist)) for hist in fivefiveContent];"
   ]
  },
  {
   "cell_type": "code",
   "execution_count": null,
   "metadata": {},
   "outputs": [],
   "source": [
    "plt.figure(figsize=(3.5,3.5))\n",
    "plt.errorbar(sg_opts,av_monYield,yerr = std_monYield,linestyle='none',marker='.',markersize=10,markerfacecolor='black',markeredgecolor='black',capsize=3,ecolor='black')\n",
    "plt.xscale('log')\n",
    "[plt.gca().spines[i].set_linewidth(1.5) for i in ['top','right','bottom','left']]\n",
    "plt.gca().tick_params(axis = 'both',which = 'major', labelsize = 14, direction = 'in', pad = 8, top = True, right = True, width = 1.5,length=6)\n",
    "plt.gca().tick_params(axis = 'both',which = 'minor', labelsize = 14, direction = 'in', pad = 8, top = True, right = True, width = 1,length=4)\n",
    "plt.ylabel('Monomer Yield',fontsize=14)\n",
    "plt.xlabel('SG Ratio',fontsize=14)\n",
    "plt.ylim([0.0,1.0]);"
   ]
  },
  {
   "cell_type": "code",
   "execution_count": null,
   "metadata": {
    "scrolled": true
   },
   "outputs": [],
   "source": [
    "colors = [(0,0,0), (1,0,0), (0,0,1), (0,0.6,0), (0.6,0,0.6),(1,0.5490,0),(0,0.6,0.6),(1,0.8,0),(0.6078,0.2980,0),\n",
    "         (0.6,0,0),(0,0,0.6)]\n",
    "plt.figure(figsize=(3.5,3.5))\n",
    "plt.errorbar(sg_opts,av_bo4Content,yerr = std_bo4Content,linestyle='none',marker='.',markersize=10,markerfacecolor=colors[0],markeredgecolor=colors[0],label='bo4',capsize=3,ecolor=colors[0])\n",
    "plt.errorbar(sg_opts,av_bbContent,yerr = std_bbContent,linestyle='none',marker='.',markersize=10,markerfacecolor=colors[1],markeredgecolor=colors[1],label='bb',capsize=3,ecolor=colors[1])\n",
    "plt.errorbar(sg_opts,av_b5Content,yerr = std_b5Content,linestyle='none',marker='.',markersize=10,markerfacecolor=colors[2],markeredgecolor=colors[2],label='b5',capsize=3,ecolor=colors[2])\n",
    "plt.errorbar(sg_opts,av_b1Content,yerr = std_b1Content,linestyle='none',marker='.',markersize=10,markerfacecolor=colors[3],markeredgecolor=colors[3],label='b1',capsize=3,ecolor=colors[3])\n",
    "plt.errorbar(sg_opts,av_5o4Content,yerr = std_5o4Content,linestyle='none',marker='.',markersize=10,markerfacecolor=colors[4],markeredgecolor=colors[4],label='5o4',capsize=3,ecolor=colors[4])\n",
    "plt.errorbar(sg_opts,av_ao4Content,yerr = std_ao4Content,linestyle='none',marker='.',markersize=10,markerfacecolor=colors[5],markeredgecolor=colors[5],label='ao4',capsize=3,ecolor=colors[5])\n",
    "plt.errorbar(sg_opts,av_55Content,yerr = std_55Content,linestyle='none',marker='.',markersize=10,markerfacecolor=colors[6],markeredgecolor=colors[6],label='55',capsize=3,ecolor=colors[6])\n",
    "plt.xscale('log')\n",
    "[plt.gca().spines[i].set_linewidth(1.5) for i in ['top','right','bottom','left']]\n",
    "plt.gca().tick_params(axis = 'both',which = 'major', labelsize = 14, direction = 'in', pad = 8, top = True, right = True, width = 1.5,length=6)\n",
    "plt.gca().tick_params(axis = 'both',which = 'minor', labelsize = 14, direction = 'in', pad = 8, top = True, right = True, width = 1,length=4)\n",
    "plt.ylabel('Monomer Yield',fontsize=14)\n",
    "plt.xlabel('SG Ratio',fontsize=14)\n",
    "plt.ylim([0.0,1.0])\n",
    "plt.legend(fontsize=14,loc='upper center',bbox_to_anchor=(1.2,1.05),frameon=False);"
   ]
  }
 ],
 "metadata": {
  "kernelspec": {
   "display_name": "Python 3",
   "language": "python",
   "name": "python3"
  },
  "language_info": {
   "codemirror_mode": {
    "name": "ipython",
    "version": 3
   },
   "file_extension": ".py",
   "mimetype": "text/x-python",
   "name": "python",
   "nbconvert_exporter": "python",
   "pygments_lexer": "ipython3",
   "version": "3.7.3"
  },
  "pycharm": {
   "stem_cell": {
    "cell_type": "raw",
    "metadata": {
     "collapsed": false
    },
    "source": []
   }
  }
 },
 "nbformat": 4,
 "nbformat_minor": 2
}
