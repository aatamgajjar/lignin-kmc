{
 "cells": [
  {
   "cell_type": "markdown",
   "metadata": {},
   "source": [
    "# Kinetic Monte Carlo Simulation of Lignin Polymerization\n",
    "Written by: Michael Orella <br>\n",
    "24 January 2019 <br>\n",
    "\n",
    "The code in this notebook performs calculations analogous to those performed in [citation here], which depends on the results that were obtained from [DFT Calculations of monolignol coupling kinetics](https://chemrxiv.org/articles/Quantum_Mechanical_Calculations_Suggest_That_Lignin_Polymerization_Is_Kinetically_Controlled/7334564)."
   ]
  },
  {
   "cell_type": "code",
   "execution_count": 1,
   "metadata": {},
   "outputs": [],
   "source": [
    "%load_ext autoreload\n",
    "%autoreload 2"
   ]
  },
  {
   "cell_type": "code",
   "execution_count": 2,
   "metadata": {},
   "outputs": [],
   "source": [
    "#LIGNIN-KMC Package\n",
    "import ligninkmc as kmc\n",
    "\n",
    "#General Math and LinAlg\n",
    "import numpy as np\n",
    "import scipy as sp\n",
    "import scipy.optimize\n",
    "\n",
    "#Chemical Drawing\n",
    "from rdkit import Chem\n",
    "from rdkit.Chem import AllChem\n",
    "from IPython.display import SVG\n",
    "\n",
    "#Plotting\n",
    "import matplotlib.pyplot as plt\n",
    "\n",
    "#Profiling and Performance\n",
    "import cProfile\n",
    "import time\n",
    "\n",
    "#Parallelization\n",
    "import joblib as par"
   ]
  },
  {
   "cell_type": "markdown",
   "metadata": {},
   "source": [
    "## Input Data\n",
    "The kinetic monte carlo code relies on rates of chemical reactions. The reactions that we are interested in here are the coupling of radicals on either individual monomers or oligomers respectively. The energetics necessary to compute the reaction rates were performed by Terry Gani using [DFT methods](https://chemrxiv.org/articles/Quantum_Mechanical_Calculations_Suggest_That_Lignin_Polymerization_Is_Kinetically_Controlled/7334564) for SG lignin and similar methods for C lignin. Once the reaction energies were calculated, they could be inputted using the Erying equation to obtain the actual rate.\n",
    "$$ r_i = \\dfrac{k_BT}{h}\\exp\\left(-\\dfrac{\\Delta G_i}{k_BT}\\right) $$\n",
    "\n",
    "Throughout the code, monomers are kept track of individually through the state, so there are no reaction degeneracies occuring, and bond events can be tracked faithfully."
   ]
  },
  {
   "cell_type": "code",
   "execution_count": 3,
   "metadata": {},
   "outputs": [],
   "source": [
    "kb = 1.38064852e-23 # J / K\n",
    "h = 6.62607004e-34 # J s\n",
    "temp = 298.15 #K\n",
    "kcalToJoule = 4184 / 6.022140857e23\n",
    "\n",
    "#Input energy information\n",
    "#Select which energy set you want to use\n",
    "energies = {'5o4':{(0,0):{('monomer','monomer'):11.2,('monomer','dimer'):14.6,\n",
    "                          ('dimer','monomer'):14.6,('dimer','dimer'):4.4},\n",
    "                   (1,0):{('monomer','monomer'):10.9,('monomer','dimer'):14.6,\n",
    "                          ('dimer','monomer'):14.6,('dimer','dimer'):4.4}},\n",
    "            '55':{(0,0):{('monomer','monomer'):12.5,('monomer','dimer'):15.6,\n",
    "                          ('dimer','monomer'):15.6,('dimer','dimer'):3.8}},\n",
    "            'b5':{(0,0):{('monomer','monomer'):5.5,('monomer','dimer'):5.8,\n",
    "                          ('dimer','monomer'):5.8,('dimer','dimer'):5.8},\n",
    "                  (0,1):{('monomer','monomer'):5.5,('monomer','dimer'):5.8,\n",
    "                          ('dimer','monomer'):5.8,('dimer','dimer'):5.8}},\n",
    "            'bb':{(0,0):{('monomer','monomer'):5.2,('monomer','dimer'):5.2,('dimer','monomer'):5.2,('dimer','dimer'):5.2},\n",
    "                  (1,0):{('monomer','monomer'):6.5,('monomer','dimer'):6.5,('dimer','monomer'):6.5,('dimer','dimer'):6.5},\n",
    "                  (1,1):{('monomer','monomer'):5.2,('monomer','dimer'):5.2,('dimer','monomer'):5.2,('dimer','dimer'):5.2}},\n",
    "            'bo4':{(0,0):{('monomer','monomer'):6.3,('monomer','dimer'):6.2,\n",
    "                          ('dimer','monomer'):6.2,('dimer','dimer'):6.2},\n",
    "                   (1,0):{('monomer','monomer'):9.1,('monomer','dimer'):6.2,\n",
    "                          ('dimer','monomer'):6.2,('dimer','dimer'):6.2},\n",
    "                   (0,1):{('monomer','monomer'):8.9,('monomer','dimer'):6.2,\n",
    "                          ('dimer','monomer'):6.2,('dimer','dimer'):6.2},\n",
    "                   (1,1):{('monomer','monomer'):9.8,('monomer','dimer'):10.4,\n",
    "                          ('dimer','monomer'):10.4,('dimer','dimer'):10.4}},\n",
    "            'ao4':{(0,0):{('monomer','monomer'):20.7,('monomer','dimer'):20.7,\n",
    "                          ('dimer','monomer'):20.7,('dimer','dimer'):20.7},\n",
    "                   (1,0):{('monomer','monomer'):20.7,('monomer','dimer'):20.7,\n",
    "                          ('dimer','monomer'):20.7,('dimer','dimer'):20.7},\n",
    "                   (0,1):{('monomer','monomer'):20.7,('monomer','dimer'):20.7,\n",
    "                          ('dimer','monomer'):20.7,('dimer','dimer'):20.7},\n",
    "                   (1,1):{('monomer','monomer'):20.7,('monomer','dimer'):20.7,\n",
    "                          ('dimer','monomer'):20.7,('dimer','dimer'):20.7}},\n",
    "            'b1':{(0,0):{('monomer','dimer'):9.6,\n",
    "                          ('dimer','monomer'):9.6,('dimer','dimer'):9.6},\n",
    "                  (1,0):{('monomer','dimer'):11.7,\n",
    "                          ('dimer','monomer'):11.7,('dimer','dimer'):11.7},\n",
    "                  (0,1):{('monomer','dimer'):10.7,\n",
    "                          ('dimer','monomer'):10.7,('dimer','dimer'):10.7},\n",
    "                  (1,1):{('monomer','dimer'):11.9,\n",
    "                          ('dimer','monomer'):11.9,('dimer','dimer'):11.9}},\n",
    "            'ox':{0:{'monomer':0.9,'dimer':6.3},1:{'monomer':0.6,'dimer':2.2}},\n",
    "            'q':{0:{'monomer':11.1,'dimer':11.1},1:{'monomer':11.7,'dimer':11.7}}}\n",
    "energies['bb'][(0,1)] = energies['bb'][(1,0)]\n",
    "\n",
    "#Correct units of the energies\n",
    "energiesev = {bond : {monType : {size : energies[bond][monType][size] * kcalToJoule for size in energies[bond][monType]}\n",
    "                    for monType in energies[bond] } \n",
    "            for bond in energies }\n",
    "\n",
    "#Calculate the rates of reaction\n",
    "rates = {bond : {monType : { size : kb * temp / h * np.exp ( - energiesev[bond][monType][size] / kb / temp ) \n",
    "                            for size in energies[bond][monType]} \n",
    "                 for monType in energies[bond] } #Make rates 1/ns instead of 1/s\n",
    "         for bond in energies}"
   ]
  },
  {
   "cell_type": "markdown",
   "metadata": {},
   "source": [
    "While the above energies were calculated for S and G monomers, there will be differences for the coupling of C monomers"
   ]
  },
  {
   "cell_type": "code",
   "execution_count": 4,
   "metadata": {},
   "outputs": [],
   "source": [
    "cLigEnergies = {'5o4':{(2,2):{('monomer','monomer'):11.9,('monomer','dimer'):11.9,\n",
    "                          ('dimer','monomer'):11.9,('dimer','dimer'):11.9}},\n",
    "            '55':{(2,2):{('monomer','monomer'):10.6,('monomer','dimer'):10.6,\n",
    "                          ('dimer','monomer'):10.6,('dimer','dimer'):10.6}},\n",
    "            'b5':{(2,2):{('monomer','monomer'):1.9,('monomer','dimer'):5.8,\n",
    "                          ('dimer','monomer'):5.8,('dimer','dimer'):5.8}},\n",
    "            'bb':{(2,2):{('monomer','monomer'):7.2,('monomer','dimer'):7.2,\n",
    "                         ('dimer','monomer'):7.2,('dimer','dimer'):7.2}},\n",
    "            'bo4':{(2,2):{('monomer','monomer'):4.9,('monomer','dimer'):1.3,\n",
    "                          ('dimer','monomer'):1.3,('dimer','dimer'):1.3}},\n",
    "            'ao4':{(2,2):{('monomer','monomer'):20.7,('monomer','dimer'):20.7,\n",
    "                          ('dimer','monomer'):20.7,('dimer','dimer'):20.7}},\n",
    "            'b1':{(2,2):{('monomer','dimer'):9.6,\n",
    "                          ('dimer','monomer'):9.6,('dimer','dimer'):9.6}},\n",
    "            'ox':{2:{'monomer':0.9,'dimer':0.9}},\n",
    "            'q':{2:{'monomer':11.1,'dimer':11.1}}}\n",
    "\n",
    "#Correct units of the energies\n",
    "cLigEnergiesev = {bond : {monType : {size : cLigEnergies[bond][monType][size] * kcalToJoule for size in cLigEnergies[bond][monType]}\n",
    "                    for monType in cLigEnergies[bond] }\n",
    "            for bond in cLigEnergies }\n",
    "\n",
    "#Calculate the rates of reaction\n",
    "cRates = {bond : {monType : { size : kb * temp / h * np.exp ( - cLigEnergiesev[bond][monType][size] / kb / temp ) \n",
    "                            for size in cLigEnergies[bond][monType] } \n",
    "                 for monType in cLigEnergies[bond] } #Make rates 1/ns instead of 1/s\n",
    "         for bond in cLigEnergies}"
   ]
  },
  {
   "cell_type": "markdown",
   "metadata": {},
   "source": [
    "## Code Performance\n",
    "One of the first things that we were interested in reporting was the performance and scaling of this code package. This was done by replicating runs of the algorithm with different numbers of monomers included in the simulation under batch conditions."
   ]
  },
  {
   "cell_type": "code",
   "execution_count": 5,
   "metadata": {},
   "outputs": [
    {
     "name": "stdout",
     "output_type": "stream",
     "text": [
      "Time to complete simulation with    50 monomers:    3.58 seconds\n",
      "Time to complete simulation with   100 monomers:   17.08 seconds\n",
      "Time to complete simulation with   150 monomers:   36.70 seconds\n"
     ]
    }
   ],
   "source": [
    "times = []\n",
    "\n",
    "sg = 1\n",
    "\n",
    "pct = sg / (1 + sg)\n",
    "\n",
    "testvals = np.linspace(50,150,num=3,dtype = 'int32')\n",
    "Nrepeats = 5\n",
    "for Nmon in testvals:\n",
    "    times.append([])\n",
    "    for _ in range(Nrepeats):\n",
    "        #Generate the initial monomers\n",
    "        rands = np.random.rand(Nmon)\n",
    "        mons = [ kmc.Monomer( int ( sOrG < pct ) , i ) for i,sOrG in zip ( range(Nmon) , rands ) ]\n",
    "        startEvents = [ kmc.Event ( 'ox' , [i] , rates['ox'][ int( sOrG < pct ) ]['monomer'] ) for i,sOrG in zip ( range(Nmon) , rands) ]\n",
    "\n",
    "        #Set the initial state and events\n",
    "        state = { i : {'mon' : mons[i] , 'affected' : {startEvents[i]} } for i in range(Nmon) }\n",
    "        events = { startEvents[i] for i in range(Nmon) }\n",
    "        \n",
    "        #Start timing the actual KMC part\n",
    "        start = time.time()\n",
    "        kmc.run_kmc(tFinal = 1e9, rates = rates, initialState = state, initialEvents = events)\n",
    "        end = time.time()\n",
    "        times[-1].append(end-start)\n",
    "    print(f'Time to complete simulation with {Nmon:5n} monomers: {np.sum(times[-1])/Nrepeats:7.2f} seconds')"
   ]
  },
  {
   "cell_type": "markdown",
   "metadata": {},
   "source": [
    "Now we want to fit the times that we just calculated to a generic power law expression $t = aN^b$ to find the scaling of our algorithm."
   ]
  },
  {
   "cell_type": "code",
   "execution_count": 6,
   "metadata": {},
   "outputs": [
    {
     "name": "stdout",
     "output_type": "stream",
     "text": [
      "      fun: 0.8397089325933585\n",
      " hess_inv: <2x2 LbfgsInvHessProduct with dtype=float64>\n",
      "      jac: array([-0.10247447, -0.00101501])\n",
      "  message: b'CONVERGENCE: REL_REDUCTION_OF_F_<=_FACTR*EPSMCH'\n",
      "     nfev: 279\n",
      "      nit: 59\n",
      "   status: 0\n",
      "  success: True\n",
      "        x: array([1.95709553e-03, 1.96435500e+00])\n"
     ]
    }
   ],
   "source": [
    "meas_t = [np.mean(time) for time in times]\n",
    "meas_n = testvals\n",
    "\n",
    "sim_t = lambda p,n : p[0] * np.power (n , p[1])\n",
    "loss = lambda p: np.linalg.norm(sim_t(p,meas_n) - meas_t)\n",
    "\n",
    "res = sp.optimize.minimize(loss, [1e-5,2.5] , bounds = [[0,1],[0,10]],options = {'disp':True})\n",
    "print(res)\n",
    "\n",
    "opt_p = res.x"
   ]
  },
  {
   "cell_type": "markdown",
   "metadata": {},
   "source": [
    "Now we should plot both the measured values and the fit all together"
   ]
  },
  {
   "cell_type": "code",
   "execution_count": 7,
   "metadata": {},
   "outputs": [
    {
     "data": {
      "text/plain": [
       "Text(200,200,'Measured')"
      ]
     },
     "execution_count": 7,
     "metadata": {},
     "output_type": "execute_result"
    },
    {
     "data": {
      "image/png": "[encoded data removed]",
      "text/plain": [
       "<Figure size 252x252 with 1 Axes>"
      ]
     },
     "metadata": {
      "needs_background": "light"
     },
     "output_type": "display_data"
    }
   ],
   "source": [
    "plt.figure(figsize=(3.5,3.5))\n",
    "plt.errorbar(testvals,[np.mean(time) for time in times],\n",
    "             yerr=[np.sqrt(np.var(time)) for time in times],\n",
    "             capsize=3,ecolor='black',linestyle='None',marker='.',markerSize=15,color='black',zorder=1)\n",
    "plt.plot(testvals,sim_t(opt_p,meas_n),linestyle='--',color='r',linewidth=1.5,zorder=2)\n",
    "plt.tick_params(axis = 'both',which = 'major', labelsize = 10, direction = 'in',\n",
    "               pad = 8, top = True, right = True, width = 1.5, length = 5)\n",
    "plt.tick_params(axis = 'both',which = 'minor', direction = 'in',\n",
    "               pad = 8, top = True, right = True, width = 1, length = 3)\n",
    "ax = plt.gca()\n",
    "[ax.spines[i].set_linewidth(1.5) for i in ['top','right','bottom','left']]\n",
    "ax.fontsize = 10\n",
    "plt.xlabel('Number of Monomers',fontsize=10)\n",
    "plt.ylabel('Execution Time [s]',fontsize=10)\n",
    "plt.yscale('log')\n",
    "plt.xscale('log')\n",
    "plt.ylim([0.2,1200])\n",
    "plt.xlim([40,1200])\n",
    "plt.text(75,0.4,f'$t = {opt_p[0]:3.1e}N^{{ {opt_p[1]:4.2f} }}$',fontsize=10,color='red')\n",
    "plt.text(200,200,r'Measured',fontsize=10,color='black')\n",
    "#plt.savefig('../plots/performance.svg',format='svg',transparent=True,bbox_inches='tight')"
   ]
  },
  {
   "cell_type": "markdown",
   "metadata": {},
   "source": [
    "## Example KMC Runs\n",
    "Small examples of running the algorithm for KMC, using both SG lignin and C lignin."
   ]
  },
  {
   "cell_type": "markdown",
   "metadata": {},
   "source": [
    "### SG Lignin\n",
    "Run an example starting with 2 monomers and an S to G ratio of 1"
   ]
  },
  {
   "cell_type": "code",
   "execution_count": 8,
   "metadata": {
    "scrolled": true
   },
   "outputs": [
    {
     "data": {
      "image/svg+xml": [
       "<svg baseProfile=\"full\" height=\"250px\" version=\"1.1\" width=\"950px\" xml:space=\"preserve\" xmlns:rdkit=\"http://www.rdkit.org/xml\" xmlns:svg=\"http://www.w3.org/2000/svg\" xmlns:xlink=\"http://www.w3.org/1999/xlink\">\n",
       "<rect height=\"250\" style=\"opacity:1.0;fill:#FFFFFF;stroke:none\" width=\"950\" x=\"0\" y=\"0\"> </rect>\n",
       "<path d=\"M 419.276,168.024 414.061,150.783\" style=\"fill:none;fill-rule:evenodd;stroke:#000000;stroke-width:2px;stroke-linecap:butt;stroke-linejoin:miter;stroke-opacity:1\"/>\n",
       "<path d=\"M 415.046,166.481 411.395,154.412\" style=\"fill:none;fill-rule:evenodd;stroke:#000000;stroke-width:2px;stroke-linecap:butt;stroke-linejoin:miter;stroke-opacity:1\"/>\n",
       "<path d=\"M 419.276,168.024 406.952,181.161\" style=\"fill:none;fill-rule:evenodd;stroke:#000000;stroke-width:2px;stroke-linecap:butt;stroke-linejoin:miter;stroke-opacity:1\"/>\n",
       "<path d=\"M 419.276,168.024 436.815,172.128\" style=\"fill:none;fill-rule:evenodd;stroke:#000000;stroke-width:2px;stroke-linecap:butt;stroke-linejoin:miter;stroke-opacity:1\"/>\n",
       "<path d=\"M 414.061,150.783 396.522,146.678\" style=\"fill:none;fill-rule:evenodd;stroke:#000000;stroke-width:2px;stroke-linecap:butt;stroke-linejoin:miter;stroke-opacity:1\"/>\n",
       "<path d=\"M 396.522,146.678 384.198,159.815\" style=\"fill:none;fill-rule:evenodd;stroke:#000000;stroke-width:2px;stroke-linecap:butt;stroke-linejoin:miter;stroke-opacity:1\"/>\n",
       "<path d=\"M 397.301,151.113 388.674,160.309\" style=\"fill:none;fill-rule:evenodd;stroke:#000000;stroke-width:2px;stroke-linecap:butt;stroke-linejoin:miter;stroke-opacity:1\"/>\n",
       "<path d=\"M 396.522,146.678 394.369,139.558\" style=\"fill:none;fill-rule:evenodd;stroke:#000000;stroke-width:2px;stroke-linecap:butt;stroke-linejoin:miter;stroke-opacity:1\"/>\n",
       "<path d=\"M 394.369,139.558 392.216,132.439\" style=\"fill:none;fill-rule:evenodd;stroke:#FF0000;stroke-width:2px;stroke-linecap:butt;stroke-linejoin:miter;stroke-opacity:1\"/>\n",
       "<path d=\"M 384.198,159.815 389.413,177.056\" style=\"fill:none;fill-rule:evenodd;stroke:#000000;stroke-width:2px;stroke-linecap:butt;stroke-linejoin:miter;stroke-opacity:1\"/>\n",
       "<path d=\"M 384.198,159.815 376.831,158.091\" style=\"fill:none;fill-rule:evenodd;stroke:#000000;stroke-width:2px;stroke-linecap:butt;stroke-linejoin:miter;stroke-opacity:1\"/>\n",
       "<path d=\"M 376.831,158.091 369.463,156.367\" style=\"fill:none;fill-rule:evenodd;stroke:#FF0000;stroke-width:2px;stroke-linecap:butt;stroke-linejoin:miter;stroke-opacity:1\"/>\n",
       "<path d=\"M 389.413,177.056 406.952,181.161\" style=\"fill:none;fill-rule:evenodd;stroke:#000000;stroke-width:2px;stroke-linecap:butt;stroke-linejoin:miter;stroke-opacity:1\"/>\n",
       "<path d=\"M 392.865,174.164 405.142,177.037\" style=\"fill:none;fill-rule:evenodd;stroke:#000000;stroke-width:2px;stroke-linecap:butt;stroke-linejoin:miter;stroke-opacity:1\"/>\n",
       "<path d=\"M 389.413,177.056 384.653,182.13\" style=\"fill:none;fill-rule:evenodd;stroke:#000000;stroke-width:2px;stroke-linecap:butt;stroke-linejoin:miter;stroke-opacity:1\"/>\n",
       "<path d=\"M 384.653,182.13 379.893,187.204\" style=\"fill:none;fill-rule:evenodd;stroke:#FF0000;stroke-width:2px;stroke-linecap:butt;stroke-linejoin:miter;stroke-opacity:1\"/>\n",
       "<path d=\"M 436.815,172.128 450.445,160.352\" style=\"fill:none;fill-rule:evenodd;stroke:#000000;stroke-width:2px;stroke-linecap:butt;stroke-linejoin:miter;stroke-opacity:1\"/>\n",
       "<path d=\"M 436.815,172.128 439.678,178.928\" style=\"fill:none;fill-rule:evenodd;stroke:#000000;stroke-width:2px;stroke-linecap:butt;stroke-linejoin:miter;stroke-opacity:1\"/>\n",
       "<path d=\"M 439.678,178.928 442.54,185.728\" style=\"fill:none;fill-rule:evenodd;stroke:#FF0000;stroke-width:2px;stroke-linecap:butt;stroke-linejoin:miter;stroke-opacity:1\"/>\n",
       "<path d=\"M 450.445,160.352 454.549,142.813\" style=\"fill:none;fill-rule:evenodd;stroke:#000000;stroke-width:2px;stroke-linecap:butt;stroke-linejoin:miter;stroke-opacity:1\"/>\n",
       "<path d=\"M 450.445,160.352 465.857,169.675\" style=\"fill:none;fill-rule:evenodd;stroke:#000000;stroke-width:2px;stroke-linecap:butt;stroke-linejoin:miter;stroke-opacity:1\"/>\n",
       "<path d=\"M 454.549,142.813 462.122,142.173\" style=\"fill:none;fill-rule:evenodd;stroke:#000000;stroke-width:2px;stroke-linecap:butt;stroke-linejoin:miter;stroke-opacity:1\"/>\n",
       "<path d=\"M 462.122,142.173 469.694,141.533\" style=\"fill:none;fill-rule:evenodd;stroke:#FF0000;stroke-width:2px;stroke-linecap:butt;stroke-linejoin:miter;stroke-opacity:1\"/>\n",
       "<path d=\"M 473.762,144.299 476.624,151.099\" style=\"fill:none;fill-rule:evenodd;stroke:#FF0000;stroke-width:2px;stroke-linecap:butt;stroke-linejoin:miter;stroke-opacity:1\"/>\n",
       "<path d=\"M 476.624,151.099 479.487,157.898\" style=\"fill:none;fill-rule:evenodd;stroke:#000000;stroke-width:2px;stroke-linecap:butt;stroke-linejoin:miter;stroke-opacity:1\"/>\n",
       "<path d=\"M 394.112,126.448 398.872,121.374\" style=\"fill:none;fill-rule:evenodd;stroke:#FF0000;stroke-width:2px;stroke-linecap:butt;stroke-linejoin:miter;stroke-opacity:1\"/>\n",
       "<path d=\"M 398.872,121.374 403.632,116.3\" style=\"fill:none;fill-rule:evenodd;stroke:#000000;stroke-width:2px;stroke-linecap:butt;stroke-linejoin:miter;stroke-opacity:1\"/>\n",
       "<path d=\"M 363.856,158.699 359.096,163.773\" style=\"fill:none;fill-rule:evenodd;stroke:#FF0000;stroke-width:2px;stroke-linecap:butt;stroke-linejoin:miter;stroke-opacity:1\"/>\n",
       "<path d=\"M 359.096,163.773 354.335,168.847\" style=\"fill:none;fill-rule:evenodd;stroke:#000000;stroke-width:2px;stroke-linecap:butt;stroke-linejoin:miter;stroke-opacity:1\"/>\n",
       "<path d=\"M 377.997,193.195 380.151,200.315\" style=\"fill:none;fill-rule:evenodd;stroke:#FF0000;stroke-width:2px;stroke-linecap:butt;stroke-linejoin:miter;stroke-opacity:1\"/>\n",
       "<path d=\"M 380.151,200.315 382.304,207.435\" style=\"fill:none;fill-rule:evenodd;stroke:#000000;stroke-width:2px;stroke-linecap:butt;stroke-linejoin:miter;stroke-opacity:1\"/>\n",
       "<path d=\"M 497.026,162.003 502.24,179.244\" style=\"fill:none;fill-rule:evenodd;stroke:#000000;stroke-width:2px;stroke-linecap:butt;stroke-linejoin:miter;stroke-opacity:1\"/>\n",
       "<path d=\"M 501.256,163.546 504.907,175.615\" style=\"fill:none;fill-rule:evenodd;stroke:#000000;stroke-width:2px;stroke-linecap:butt;stroke-linejoin:miter;stroke-opacity:1\"/>\n",
       "<path d=\"M 497.026,162.003 509.35,148.866\" style=\"fill:none;fill-rule:evenodd;stroke:#000000;stroke-width:2px;stroke-linecap:butt;stroke-linejoin:miter;stroke-opacity:1\"/>\n",
       "<path d=\"M 497.026,162.003 479.487,157.898\" style=\"fill:none;fill-rule:evenodd;stroke:#000000;stroke-width:2px;stroke-linecap:butt;stroke-linejoin:miter;stroke-opacity:1\"/>\n",
       "<path d=\"M 502.24,179.244 519.779,183.349\" style=\"fill:none;fill-rule:evenodd;stroke:#000000;stroke-width:2px;stroke-linecap:butt;stroke-linejoin:miter;stroke-opacity:1\"/>\n",
       "<path d=\"M 519.779,183.349 532.103,170.212\" style=\"fill:none;fill-rule:evenodd;stroke:#000000;stroke-width:2px;stroke-linecap:butt;stroke-linejoin:miter;stroke-opacity:1\"/>\n",
       "<path d=\"M 519.001,178.913 527.627,169.718\" style=\"fill:none;fill-rule:evenodd;stroke:#000000;stroke-width:2px;stroke-linecap:butt;stroke-linejoin:miter;stroke-opacity:1\"/>\n",
       "<path d=\"M 519.779,183.349 521.933,190.468\" style=\"fill:none;fill-rule:evenodd;stroke:#000000;stroke-width:2px;stroke-linecap:butt;stroke-linejoin:miter;stroke-opacity:1\"/>\n",
       "<path d=\"M 521.933,190.468 524.086,197.588\" style=\"fill:none;fill-rule:evenodd;stroke:#FF0000;stroke-width:2px;stroke-linecap:butt;stroke-linejoin:miter;stroke-opacity:1\"/>\n",
       "<path d=\"M 532.103,170.212 526.889,152.97\" style=\"fill:none;fill-rule:evenodd;stroke:#000000;stroke-width:2px;stroke-linecap:butt;stroke-linejoin:miter;stroke-opacity:1\"/>\n",
       "<path d=\"M 532.103,170.212 539.706,170.367\" style=\"fill:none;fill-rule:evenodd;stroke:#000000;stroke-width:2px;stroke-linecap:butt;stroke-linejoin:miter;stroke-opacity:1\"/>\n",
       "<path d=\"M 539.706,170.367 547.309,170.523\" style=\"fill:none;fill-rule:evenodd;stroke:#FF0000;stroke-width:2px;stroke-linecap:butt;stroke-linejoin:miter;stroke-opacity:1\"/>\n",
       "<path d=\"M 526.889,152.97 509.35,148.866\" style=\"fill:none;fill-rule:evenodd;stroke:#000000;stroke-width:2px;stroke-linecap:butt;stroke-linejoin:miter;stroke-opacity:1\"/>\n",
       "<path d=\"M 523.437,155.863 511.16,152.989\" style=\"fill:none;fill-rule:evenodd;stroke:#000000;stroke-width:2px;stroke-linecap:butt;stroke-linejoin:miter;stroke-opacity:1\"/>\n",
       "<path d=\"M 526.889,152.97 541.675,142.683\" style=\"fill:none;fill-rule:evenodd;stroke:#000000;stroke-width:2px;stroke-linecap:butt;stroke-linejoin:miter;stroke-opacity:1\"/>\n",
       "<path d=\"M 479.487,157.898 465.857,169.675\" style=\"fill:none;fill-rule:evenodd;stroke:#000000;stroke-width:2px;stroke-linecap:butt;stroke-linejoin:miter;stroke-opacity:1\"/>\n",
       "<path d=\"M 465.857,169.675 461.753,187.214\" style=\"fill:none;fill-rule:evenodd;stroke:#000000;stroke-width:2px;stroke-linecap:butt;stroke-linejoin:miter;stroke-opacity:1\"/>\n",
       "<path d=\"M 461.753,187.214 454.18,187.854\" style=\"fill:none;fill-rule:evenodd;stroke:#000000;stroke-width:2px;stroke-linecap:butt;stroke-linejoin:miter;stroke-opacity:1\"/>\n",
       "<path d=\"M 454.18,187.854 446.608,188.493\" style=\"fill:none;fill-rule:evenodd;stroke:#FF0000;stroke-width:2px;stroke-linecap:butt;stroke-linejoin:miter;stroke-opacity:1\"/>\n",
       "<path d=\"M 522.19,203.579 517.43,208.653\" style=\"fill:none;fill-rule:evenodd;stroke:#FF0000;stroke-width:2px;stroke-linecap:butt;stroke-linejoin:miter;stroke-opacity:1\"/>\n",
       "<path d=\"M 517.43,208.653 512.67,213.727\" style=\"fill:none;fill-rule:evenodd;stroke:#000000;stroke-width:2px;stroke-linecap:butt;stroke-linejoin:miter;stroke-opacity:1\"/>\n",
       "<path d=\"M 551.156,167.578 553.592,160.572\" style=\"fill:none;fill-rule:evenodd;stroke:#FF0000;stroke-width:2px;stroke-linecap:butt;stroke-linejoin:miter;stroke-opacity:1\"/>\n",
       "<path d=\"M 553.592,160.572 556.028,153.566\" style=\"fill:none;fill-rule:evenodd;stroke:#000000;stroke-width:2px;stroke-linecap:butt;stroke-linejoin:miter;stroke-opacity:1\"/>\n",
       "<path d=\"M 573.269,148.351 586.406,160.676\" style=\"fill:none;fill-rule:evenodd;stroke:#000000;stroke-width:2px;stroke-linecap:butt;stroke-linejoin:miter;stroke-opacity:1\"/>\n",
       "<path d=\"M 577.704,147.573 586.9,156.2\" style=\"fill:none;fill-rule:evenodd;stroke:#000000;stroke-width:2px;stroke-linecap:butt;stroke-linejoin:miter;stroke-opacity:1\"/>\n",
       "<path d=\"M 573.269,148.351 577.374,130.813\" style=\"fill:none;fill-rule:evenodd;stroke:#000000;stroke-width:2px;stroke-linecap:butt;stroke-linejoin:miter;stroke-opacity:1\"/>\n",
       "<path d=\"M 573.269,148.351 556.028,153.566\" style=\"fill:none;fill-rule:evenodd;stroke:#000000;stroke-width:2px;stroke-linecap:butt;stroke-linejoin:miter;stroke-opacity:1\"/>\n",
       "<path d=\"M 586.406,160.676 603.647,155.461\" style=\"fill:none;fill-rule:evenodd;stroke:#000000;stroke-width:2px;stroke-linecap:butt;stroke-linejoin:miter;stroke-opacity:1\"/>\n",
       "<path d=\"M 603.647,155.461 607.752,137.922\" style=\"fill:none;fill-rule:evenodd;stroke:#000000;stroke-width:2px;stroke-linecap:butt;stroke-linejoin:miter;stroke-opacity:1\"/>\n",
       "<path d=\"M 600.755,152.009 603.628,139.732\" style=\"fill:none;fill-rule:evenodd;stroke:#000000;stroke-width:2px;stroke-linecap:butt;stroke-linejoin:miter;stroke-opacity:1\"/>\n",
       "<path d=\"M 603.647,155.461 608.814,160.307\" style=\"fill:none;fill-rule:evenodd;stroke:#000000;stroke-width:2px;stroke-linecap:butt;stroke-linejoin:miter;stroke-opacity:1\"/>\n",
       "<path d=\"M 608.814,160.307 613.98,165.154\" style=\"fill:none;fill-rule:evenodd;stroke:#FF0000;stroke-width:2px;stroke-linecap:butt;stroke-linejoin:miter;stroke-opacity:1\"/>\n",
       "<path d=\"M 607.752,137.922 594.615,125.598\" style=\"fill:none;fill-rule:evenodd;stroke:#000000;stroke-width:2px;stroke-linecap:butt;stroke-linejoin:miter;stroke-opacity:1\"/>\n",
       "<path d=\"M 607.752,137.922 614.971,135.738\" style=\"fill:none;fill-rule:evenodd;stroke:#000000;stroke-width:2px;stroke-linecap:butt;stroke-linejoin:miter;stroke-opacity:1\"/>\n",
       "<path d=\"M 614.971,135.738 622.189,133.555\" style=\"fill:none;fill-rule:evenodd;stroke:#FF0000;stroke-width:2px;stroke-linecap:butt;stroke-linejoin:miter;stroke-opacity:1\"/>\n",
       "<path d=\"M 594.615,125.598 577.374,130.813\" style=\"fill:none;fill-rule:evenodd;stroke:#000000;stroke-width:2px;stroke-linecap:butt;stroke-linejoin:miter;stroke-opacity:1\"/>\n",
       "<path d=\"M 593.072,129.828 581.003,133.479\" style=\"fill:none;fill-rule:evenodd;stroke:#000000;stroke-width:2px;stroke-linecap:butt;stroke-linejoin:miter;stroke-opacity:1\"/>\n",
       "<path d=\"M 594.615,125.598 596.316,118.329\" style=\"fill:none;fill-rule:evenodd;stroke:#000000;stroke-width:2px;stroke-linecap:butt;stroke-linejoin:miter;stroke-opacity:1\"/>\n",
       "<path d=\"M 596.316,118.329 598.017,111.061\" style=\"fill:none;fill-rule:evenodd;stroke:#FF0000;stroke-width:2px;stroke-linecap:butt;stroke-linejoin:miter;stroke-opacity:1\"/>\n",
       "<path d=\"M 556.028,153.566 541.675,142.683\" style=\"fill:none;fill-rule:evenodd;stroke:#000000;stroke-width:2px;stroke-linecap:butt;stroke-linejoin:miter;stroke-opacity:1\"/>\n",
       "<path d=\"M 541.675,142.683 542.043,124.674\" style=\"fill:none;fill-rule:evenodd;stroke:#000000;stroke-width:2px;stroke-linecap:butt;stroke-linejoin:miter;stroke-opacity:1\"/>\n",
       "<path d=\"M 542.043,124.674 547.23,121.819\" style=\"fill:none;fill-rule:evenodd;stroke:#000000;stroke-width:2px;stroke-linecap:butt;stroke-linejoin:miter;stroke-opacity:1\"/>\n",
       "<path d=\"M 547.23,121.819 552.417,118.964\" style=\"fill:none;fill-rule:evenodd;stroke:#FF0000;stroke-width:2px;stroke-linecap:butt;stroke-linejoin:miter;stroke-opacity:1\"/>\n",
       "<path d=\"M 616.082,170.787 614.381,178.055\" style=\"fill:none;fill-rule:evenodd;stroke:#FF0000;stroke-width:2px;stroke-linecap:butt;stroke-linejoin:miter;stroke-opacity:1\"/>\n",
       "<path d=\"M 614.381,178.055 612.68,185.324\" style=\"fill:none;fill-rule:evenodd;stroke:#000000;stroke-width:2px;stroke-linecap:butt;stroke-linejoin:miter;stroke-opacity:1\"/>\n",
       "<path d=\"M 627.797,135.337 632.964,140.184\" style=\"fill:none;fill-rule:evenodd;stroke:#FF0000;stroke-width:2px;stroke-linecap:butt;stroke-linejoin:miter;stroke-opacity:1\"/>\n",
       "<path d=\"M 632.964,140.184 638.13,145.031\" style=\"fill:none;fill-rule:evenodd;stroke:#000000;stroke-width:2px;stroke-linecap:butt;stroke-linejoin:miter;stroke-opacity:1\"/>\n",
       "<path d=\"M 601.523,107.211 608.742,105.027\" style=\"fill:none;fill-rule:evenodd;stroke:#FF0000;stroke-width:2px;stroke-linecap:butt;stroke-linejoin:miter;stroke-opacity:1\"/>\n",
       "<path d=\"M 608.742,105.027 615.961,102.844\" style=\"fill:none;fill-rule:evenodd;stroke:#000000;stroke-width:2px;stroke-linecap:butt;stroke-linejoin:miter;stroke-opacity:1\"/>\n",
       "<path d=\"M 668.508,152.14 664.404,169.679\" style=\"fill:none;fill-rule:evenodd;stroke:#000000;stroke-width:2px;stroke-linecap:butt;stroke-linejoin:miter;stroke-opacity:1\"/>\n",
       "<path d=\"M 671.401,155.592 668.527,167.869\" style=\"fill:none;fill-rule:evenodd;stroke:#000000;stroke-width:2px;stroke-linecap:butt;stroke-linejoin:miter;stroke-opacity:1\"/>\n",
       "<path d=\"M 668.508,152.14 685.75,146.925\" style=\"fill:none;fill-rule:evenodd;stroke:#000000;stroke-width:2px;stroke-linecap:butt;stroke-linejoin:miter;stroke-opacity:1\"/>\n",
       "<path d=\"M 668.508,152.14 655.372,139.816\" style=\"fill:none;fill-rule:evenodd;stroke:#000000;stroke-width:2px;stroke-linecap:butt;stroke-linejoin:miter;stroke-opacity:1\"/>\n",
       "<path d=\"M 664.404,169.679 677.541,182.003\" style=\"fill:none;fill-rule:evenodd;stroke:#000000;stroke-width:2px;stroke-linecap:butt;stroke-linejoin:miter;stroke-opacity:1\"/>\n",
       "<path d=\"M 677.541,182.003 694.782,176.788\" style=\"fill:none;fill-rule:evenodd;stroke:#000000;stroke-width:2px;stroke-linecap:butt;stroke-linejoin:miter;stroke-opacity:1\"/>\n",
       "<path d=\"M 679.084,177.773 691.153,174.122\" style=\"fill:none;fill-rule:evenodd;stroke:#000000;stroke-width:2px;stroke-linecap:butt;stroke-linejoin:miter;stroke-opacity:1\"/>\n",
       "<path d=\"M 677.541,182.003 675.84,189.271\" style=\"fill:none;fill-rule:evenodd;stroke:#000000;stroke-width:2px;stroke-linecap:butt;stroke-linejoin:miter;stroke-opacity:1\"/>\n",
       "<path d=\"M 675.84,189.271 674.139,196.54\" style=\"fill:none;fill-rule:evenodd;stroke:#FF0000;stroke-width:2px;stroke-linecap:butt;stroke-linejoin:miter;stroke-opacity:1\"/>\n",
       "<path d=\"M 694.782,176.788 698.887,159.249\" style=\"fill:none;fill-rule:evenodd;stroke:#000000;stroke-width:2px;stroke-linecap:butt;stroke-linejoin:miter;stroke-opacity:1\"/>\n",
       "<path d=\"M 694.782,176.788 699.949,181.635\" style=\"fill:none;fill-rule:evenodd;stroke:#000000;stroke-width:2px;stroke-linecap:butt;stroke-linejoin:miter;stroke-opacity:1\"/>\n",
       "<path d=\"M 699.949,181.635 705.115,186.482\" style=\"fill:none;fill-rule:evenodd;stroke:#FF0000;stroke-width:2px;stroke-linecap:butt;stroke-linejoin:miter;stroke-opacity:1\"/>\n",
       "<path d=\"M 698.887,159.249 685.75,146.925\" style=\"fill:none;fill-rule:evenodd;stroke:#000000;stroke-width:2px;stroke-linecap:butt;stroke-linejoin:miter;stroke-opacity:1\"/>\n",
       "<path d=\"M 694.451,160.028 685.256,151.401\" style=\"fill:none;fill-rule:evenodd;stroke:#000000;stroke-width:2px;stroke-linecap:butt;stroke-linejoin:miter;stroke-opacity:1\"/>\n",
       "<path d=\"M 655.372,139.816 638.13,145.031\" style=\"fill:none;fill-rule:evenodd;stroke:#000000;stroke-width:2px;stroke-linecap:butt;stroke-linejoin:miter;stroke-opacity:1\"/>\n",
       "<path d=\"M 655.372,139.816 657.073,132.548\" style=\"fill:none;fill-rule:evenodd;stroke:#000000;stroke-width:2px;stroke-linecap:butt;stroke-linejoin:miter;stroke-opacity:1\"/>\n",
       "<path d=\"M 657.073,132.548 658.774,125.279\" style=\"fill:none;fill-rule:evenodd;stroke:#FF0000;stroke-width:2px;stroke-linecap:butt;stroke-linejoin:miter;stroke-opacity:1\"/>\n",
       "<path d=\"M 638.13,145.031 634.026,162.57\" style=\"fill:none;fill-rule:evenodd;stroke:#000000;stroke-width:2px;stroke-linecap:butt;stroke-linejoin:miter;stroke-opacity:1\"/>\n",
       "<path d=\"M 634.026,162.57 638.994,167.231\" style=\"fill:none;fill-rule:evenodd;stroke:#000000;stroke-width:2px;stroke-linecap:butt;stroke-linejoin:miter;stroke-opacity:1\"/>\n",
       "<path d=\"M 638.994,167.231 643.962,171.892\" style=\"fill:none;fill-rule:evenodd;stroke:#FF0000;stroke-width:2px;stroke-linecap:butt;stroke-linejoin:miter;stroke-opacity:1\"/>\n",
       "<path d=\"M 676.24,202.172 681.407,207.019\" style=\"fill:none;fill-rule:evenodd;stroke:#FF0000;stroke-width:2px;stroke-linecap:butt;stroke-linejoin:miter;stroke-opacity:1\"/>\n",
       "<path d=\"M 681.407,207.019 686.573,211.866\" style=\"fill:none;fill-rule:evenodd;stroke:#000000;stroke-width:2px;stroke-linecap:butt;stroke-linejoin:miter;stroke-opacity:1\"/>\n",
       "<path d=\"M 710.723,188.264 717.942,186.081\" style=\"fill:none;fill-rule:evenodd;stroke:#FF0000;stroke-width:2px;stroke-linecap:butt;stroke-linejoin:miter;stroke-opacity:1\"/>\n",
       "<path d=\"M 717.942,186.081 725.161,183.897\" style=\"fill:none;fill-rule:evenodd;stroke:#000000;stroke-width:2px;stroke-linecap:butt;stroke-linejoin:miter;stroke-opacity:1\"/>\n",
       "<path d=\"M 324.473,177.88 329.687,195.121\" style=\"fill:none;fill-rule:evenodd;stroke:#000000;stroke-width:2px;stroke-linecap:butt;stroke-linejoin:miter;stroke-opacity:1\"/>\n",
       "<path d=\"M 321.806,181.509 325.457,193.578\" style=\"fill:none;fill-rule:evenodd;stroke:#000000;stroke-width:2px;stroke-linecap:butt;stroke-linejoin:miter;stroke-opacity:1\"/>\n",
       "<path d=\"M 324.473,177.88 306.934,173.775\" style=\"fill:none;fill-rule:evenodd;stroke:#000000;stroke-width:2px;stroke-linecap:butt;stroke-linejoin:miter;stroke-opacity:1\"/>\n",
       "<path d=\"M 324.473,177.88 336.797,164.743\" style=\"fill:none;fill-rule:evenodd;stroke:#000000;stroke-width:2px;stroke-linecap:butt;stroke-linejoin:miter;stroke-opacity:1\"/>\n",
       "<path d=\"M 329.687,195.121 317.363,208.258\" style=\"fill:none;fill-rule:evenodd;stroke:#000000;stroke-width:2px;stroke-linecap:butt;stroke-linejoin:miter;stroke-opacity:1\"/>\n",
       "<path d=\"M 317.363,208.258 299.824,204.154\" style=\"fill:none;fill-rule:evenodd;stroke:#000000;stroke-width:2px;stroke-linecap:butt;stroke-linejoin:miter;stroke-opacity:1\"/>\n",
       "<path d=\"M 315.553,204.135 303.276,201.261\" style=\"fill:none;fill-rule:evenodd;stroke:#000000;stroke-width:2px;stroke-linecap:butt;stroke-linejoin:miter;stroke-opacity:1\"/>\n",
       "<path d=\"M 317.363,208.258 319.517,215.378\" style=\"fill:none;fill-rule:evenodd;stroke:#000000;stroke-width:2px;stroke-linecap:butt;stroke-linejoin:miter;stroke-opacity:1\"/>\n",
       "<path d=\"M 319.517,215.378 321.67,222.497\" style=\"fill:none;fill-rule:evenodd;stroke:#FF0000;stroke-width:2px;stroke-linecap:butt;stroke-linejoin:miter;stroke-opacity:1\"/>\n",
       "<path d=\"M 299.824,204.154 294.61,186.912\" style=\"fill:none;fill-rule:evenodd;stroke:#000000;stroke-width:2px;stroke-linecap:butt;stroke-linejoin:miter;stroke-opacity:1\"/>\n",
       "<path d=\"M 299.824,204.154 295.064,209.228\" style=\"fill:none;fill-rule:evenodd;stroke:#000000;stroke-width:2px;stroke-linecap:butt;stroke-linejoin:miter;stroke-opacity:1\"/>\n",
       "<path d=\"M 295.064,209.228 290.304,214.302\" style=\"fill:none;fill-rule:evenodd;stroke:#FF0000;stroke-width:2px;stroke-linecap:butt;stroke-linejoin:miter;stroke-opacity:1\"/>\n",
       "<path d=\"M 294.61,186.912 306.934,173.775\" style=\"fill:none;fill-rule:evenodd;stroke:#000000;stroke-width:2px;stroke-linecap:butt;stroke-linejoin:miter;stroke-opacity:1\"/>\n",
       "<path d=\"M 299.086,187.406 307.712,178.211\" style=\"fill:none;fill-rule:evenodd;stroke:#000000;stroke-width:2px;stroke-linecap:butt;stroke-linejoin:miter;stroke-opacity:1\"/>\n",
       "<path d=\"M 336.797,164.743 354.335,168.847\" style=\"fill:none;fill-rule:evenodd;stroke:#000000;stroke-width:2px;stroke-linecap:butt;stroke-linejoin:miter;stroke-opacity:1\"/>\n",
       "<path d=\"M 336.797,164.743 334.643,157.623\" style=\"fill:none;fill-rule:evenodd;stroke:#000000;stroke-width:2px;stroke-linecap:butt;stroke-linejoin:miter;stroke-opacity:1\"/>\n",
       "<path d=\"M 334.643,157.623 332.49,150.504\" style=\"fill:none;fill-rule:evenodd;stroke:#FF0000;stroke-width:2px;stroke-linecap:butt;stroke-linejoin:miter;stroke-opacity:1\"/>\n",
       "<path d=\"M 354.335,168.847 359.55,186.089\" style=\"fill:none;fill-rule:evenodd;stroke:#000000;stroke-width:2px;stroke-linecap:butt;stroke-linejoin:miter;stroke-opacity:1\"/>\n",
       "<path d=\"M 359.55,186.089 354.796,191.156\" style=\"fill:none;fill-rule:evenodd;stroke:#000000;stroke-width:2px;stroke-linecap:butt;stroke-linejoin:miter;stroke-opacity:1\"/>\n",
       "<path d=\"M 354.796,191.156 350.043,196.224\" style=\"fill:none;fill-rule:evenodd;stroke:#FF0000;stroke-width:2px;stroke-linecap:butt;stroke-linejoin:miter;stroke-opacity:1\"/>\n",
       "<path d=\"M 319.774,228.488 315.014,233.562\" style=\"fill:none;fill-rule:evenodd;stroke:#FF0000;stroke-width:2px;stroke-linecap:butt;stroke-linejoin:miter;stroke-opacity:1\"/>\n",
       "<path d=\"M 315.014,233.562 310.254,238.636\" style=\"fill:none;fill-rule:evenodd;stroke:#000000;stroke-width:2px;stroke-linecap:butt;stroke-linejoin:miter;stroke-opacity:1\"/>\n",
       "<path d=\"M 284.696,216.634 277.329,214.91\" style=\"fill:none;fill-rule:evenodd;stroke:#FF0000;stroke-width:2px;stroke-linecap:butt;stroke-linejoin:miter;stroke-opacity:1\"/>\n",
       "<path d=\"M 277.329,214.91 269.961,213.186\" style=\"fill:none;fill-rule:evenodd;stroke:#000000;stroke-width:2px;stroke-linecap:butt;stroke-linejoin:miter;stroke-opacity:1\"/>\n",
       "<path d=\"M 247.208,191.84 234.884,204.977\" style=\"fill:none;fill-rule:evenodd;stroke:#000000;stroke-width:2px;stroke-linecap:butt;stroke-linejoin:miter;stroke-opacity:1\"/>\n",
       "<path d=\"M 242.732,191.346 234.105,200.542\" style=\"fill:none;fill-rule:evenodd;stroke:#000000;stroke-width:2px;stroke-linecap:butt;stroke-linejoin:miter;stroke-opacity:1\"/>\n",
       "<path d=\"M 247.208,191.84 241.993,174.599\" style=\"fill:none;fill-rule:evenodd;stroke:#000000;stroke-width:2px;stroke-linecap:butt;stroke-linejoin:miter;stroke-opacity:1\"/>\n",
       "<path d=\"M 247.208,191.84 264.747,195.945\" style=\"fill:none;fill-rule:evenodd;stroke:#000000;stroke-width:2px;stroke-linecap:butt;stroke-linejoin:miter;stroke-opacity:1\"/>\n",
       "<path d=\"M 234.884,204.977 217.345,200.873\" style=\"fill:none;fill-rule:evenodd;stroke:#000000;stroke-width:2px;stroke-linecap:butt;stroke-linejoin:miter;stroke-opacity:1\"/>\n",
       "<path d=\"M 217.345,200.873 212.13,183.631\" style=\"fill:none;fill-rule:evenodd;stroke:#000000;stroke-width:2px;stroke-linecap:butt;stroke-linejoin:miter;stroke-opacity:1\"/>\n",
       "<path d=\"M 220.011,197.243 216.36,185.174\" style=\"fill:none;fill-rule:evenodd;stroke:#000000;stroke-width:2px;stroke-linecap:butt;stroke-linejoin:miter;stroke-opacity:1\"/>\n",
       "<path d=\"M 217.345,200.873 212.585,205.947\" style=\"fill:none;fill-rule:evenodd;stroke:#000000;stroke-width:2px;stroke-linecap:butt;stroke-linejoin:miter;stroke-opacity:1\"/>\n",
       "<path d=\"M 212.585,205.947 207.825,211.021\" style=\"fill:none;fill-rule:evenodd;stroke:#FF0000;stroke-width:2px;stroke-linecap:butt;stroke-linejoin:miter;stroke-opacity:1\"/>\n",
       "<path d=\"M 212.13,183.631 224.454,170.494\" style=\"fill:none;fill-rule:evenodd;stroke:#000000;stroke-width:2px;stroke-linecap:butt;stroke-linejoin:miter;stroke-opacity:1\"/>\n",
       "<path d=\"M 212.13,183.631 204.762,181.907\" style=\"fill:none;fill-rule:evenodd;stroke:#000000;stroke-width:2px;stroke-linecap:butt;stroke-linejoin:miter;stroke-opacity:1\"/>\n",
       "<path d=\"M 204.762,181.907 197.395,180.183\" style=\"fill:none;fill-rule:evenodd;stroke:#FF0000;stroke-width:2px;stroke-linecap:butt;stroke-linejoin:miter;stroke-opacity:1\"/>\n",
       "<path d=\"M 224.454,170.494 241.993,174.599\" style=\"fill:none;fill-rule:evenodd;stroke:#000000;stroke-width:2px;stroke-linecap:butt;stroke-linejoin:miter;stroke-opacity:1\"/>\n",
       "<path d=\"M 226.264,174.618 238.541,177.491\" style=\"fill:none;fill-rule:evenodd;stroke:#000000;stroke-width:2px;stroke-linecap:butt;stroke-linejoin:miter;stroke-opacity:1\"/>\n",
       "<path d=\"M 224.454,170.494 222.3,163.375\" style=\"fill:none;fill-rule:evenodd;stroke:#000000;stroke-width:2px;stroke-linecap:butt;stroke-linejoin:miter;stroke-opacity:1\"/>\n",
       "<path d=\"M 222.3,163.375 220.147,156.255\" style=\"fill:none;fill-rule:evenodd;stroke:#FF0000;stroke-width:2px;stroke-linecap:butt;stroke-linejoin:miter;stroke-opacity:1\"/>\n",
       "<path d=\"M 264.747,195.945 269.961,213.186\" style=\"fill:none;fill-rule:evenodd;stroke:#000000;stroke-width:2px;stroke-linecap:butt;stroke-linejoin:miter;stroke-opacity:1\"/>\n",
       "<path d=\"M 264.747,195.945 269.5,190.877\" style=\"fill:none;fill-rule:evenodd;stroke:#000000;stroke-width:2px;stroke-linecap:butt;stroke-linejoin:miter;stroke-opacity:1\"/>\n",
       "<path d=\"M 269.5,190.877 274.254,185.81\" style=\"fill:none;fill-rule:evenodd;stroke:#FF0000;stroke-width:2px;stroke-linecap:butt;stroke-linejoin:miter;stroke-opacity:1\"/>\n",
       "<path d=\"M 269.961,213.186 257.637,226.323\" style=\"fill:none;fill-rule:evenodd;stroke:#000000;stroke-width:2px;stroke-linecap:butt;stroke-linejoin:miter;stroke-opacity:1\"/>\n",
       "<path d=\"M 257.637,226.323 251.571,224.903\" style=\"fill:none;fill-rule:evenodd;stroke:#000000;stroke-width:2px;stroke-linecap:butt;stroke-linejoin:miter;stroke-opacity:1\"/>\n",
       "<path d=\"M 251.571,224.903 245.504,223.484\" style=\"fill:none;fill-rule:evenodd;stroke:#FF0000;stroke-width:2px;stroke-linecap:butt;stroke-linejoin:miter;stroke-opacity:1\"/>\n",
       "<path d=\"M 202.217,213.353 194.849,211.629\" style=\"fill:none;fill-rule:evenodd;stroke:#FF0000;stroke-width:2px;stroke-linecap:butt;stroke-linejoin:miter;stroke-opacity:1\"/>\n",
       "<path d=\"M 194.849,211.629 187.482,209.905\" style=\"fill:none;fill-rule:evenodd;stroke:#000000;stroke-width:2px;stroke-linecap:butt;stroke-linejoin:miter;stroke-opacity:1\"/>\n",
       "<path d=\"M 193.683,176.525 191.529,169.405\" style=\"fill:none;fill-rule:evenodd;stroke:#FF0000;stroke-width:2px;stroke-linecap:butt;stroke-linejoin:miter;stroke-opacity:1\"/>\n",
       "<path d=\"M 191.529,169.405 189.376,162.285\" style=\"fill:none;fill-rule:evenodd;stroke:#000000;stroke-width:2px;stroke-linecap:butt;stroke-linejoin:miter;stroke-opacity:1\"/>\n",
       "<path d=\"M 222.043,150.264 226.803,145.19\" style=\"fill:none;fill-rule:evenodd;stroke:#FF0000;stroke-width:2px;stroke-linecap:butt;stroke-linejoin:miter;stroke-opacity:1\"/>\n",
       "<path d=\"M 226.803,145.19 231.563,140.116\" style=\"fill:none;fill-rule:evenodd;stroke:#000000;stroke-width:2px;stroke-linecap:butt;stroke-linejoin:miter;stroke-opacity:1\"/>\n",
       "<path d=\"M 746.506,161.144 759.643,173.468\" style=\"fill:none;fill-rule:evenodd;stroke:#000000;stroke-width:2px;stroke-linecap:butt;stroke-linejoin:miter;stroke-opacity:1\"/>\n",
       "<path d=\"M 750.942,160.365 760.138,168.992\" style=\"fill:none;fill-rule:evenodd;stroke:#000000;stroke-width:2px;stroke-linecap:butt;stroke-linejoin:miter;stroke-opacity:1\"/>\n",
       "<path d=\"M 746.506,161.144 750.611,143.605\" style=\"fill:none;fill-rule:evenodd;stroke:#000000;stroke-width:2px;stroke-linecap:butt;stroke-linejoin:miter;stroke-opacity:1\"/>\n",
       "<path d=\"M 746.506,161.144 729.265,166.358\" style=\"fill:none;fill-rule:evenodd;stroke:#000000;stroke-width:2px;stroke-linecap:butt;stroke-linejoin:miter;stroke-opacity:1\"/>\n",
       "<path d=\"M 759.643,173.468 776.885,168.253\" style=\"fill:none;fill-rule:evenodd;stroke:#000000;stroke-width:2px;stroke-linecap:butt;stroke-linejoin:miter;stroke-opacity:1\"/>\n",
       "<path d=\"M 776.885,168.253 780.989,150.714\" style=\"fill:none;fill-rule:evenodd;stroke:#000000;stroke-width:2px;stroke-linecap:butt;stroke-linejoin:miter;stroke-opacity:1\"/>\n",
       "<path d=\"M 773.993,164.801 776.866,152.524\" style=\"fill:none;fill-rule:evenodd;stroke:#000000;stroke-width:2px;stroke-linecap:butt;stroke-linejoin:miter;stroke-opacity:1\"/>\n",
       "<path d=\"M 776.885,168.253 782.051,173.1\" style=\"fill:none;fill-rule:evenodd;stroke:#000000;stroke-width:2px;stroke-linecap:butt;stroke-linejoin:miter;stroke-opacity:1\"/>\n",
       "<path d=\"M 782.051,173.1 787.218,177.946\" style=\"fill:none;fill-rule:evenodd;stroke:#FF0000;stroke-width:2px;stroke-linecap:butt;stroke-linejoin:miter;stroke-opacity:1\"/>\n",
       "<path d=\"M 780.989,150.714 767.852,138.39\" style=\"fill:none;fill-rule:evenodd;stroke:#000000;stroke-width:2px;stroke-linecap:butt;stroke-linejoin:miter;stroke-opacity:1\"/>\n",
       "<path d=\"M 780.989,150.714 788.208,148.53\" style=\"fill:none;fill-rule:evenodd;stroke:#000000;stroke-width:2px;stroke-linecap:butt;stroke-linejoin:miter;stroke-opacity:1\"/>\n",
       "<path d=\"M 788.208,148.53 795.427,146.347\" style=\"fill:none;fill-rule:evenodd;stroke:#FF0000;stroke-width:2px;stroke-linecap:butt;stroke-linejoin:miter;stroke-opacity:1\"/>\n",
       "<path d=\"M 767.852,138.39 750.611,143.605\" style=\"fill:none;fill-rule:evenodd;stroke:#000000;stroke-width:2px;stroke-linecap:butt;stroke-linejoin:miter;stroke-opacity:1\"/>\n",
       "<path d=\"M 766.309,142.62 754.24,146.271\" style=\"fill:none;fill-rule:evenodd;stroke:#000000;stroke-width:2px;stroke-linecap:butt;stroke-linejoin:miter;stroke-opacity:1\"/>\n",
       "<path d=\"M 729.265,166.358 725.161,183.897\" style=\"fill:none;fill-rule:evenodd;stroke:#000000;stroke-width:2px;stroke-linecap:butt;stroke-linejoin:miter;stroke-opacity:1\"/>\n",
       "<path d=\"M 729.265,166.358 724.297,161.697\" style=\"fill:none;fill-rule:evenodd;stroke:#000000;stroke-width:2px;stroke-linecap:butt;stroke-linejoin:miter;stroke-opacity:1\"/>\n",
       "<path d=\"M 724.297,161.697 719.328,157.037\" style=\"fill:none;fill-rule:evenodd;stroke:#FF0000;stroke-width:2px;stroke-linecap:butt;stroke-linejoin:miter;stroke-opacity:1\"/>\n",
       "<path d=\"M 725.161,183.897 738.297,196.221\" style=\"fill:none;fill-rule:evenodd;stroke:#000000;stroke-width:2px;stroke-linecap:butt;stroke-linejoin:miter;stroke-opacity:1\"/>\n",
       "<path d=\"M 738.297,196.221 744.215,194.432\" style=\"fill:none;fill-rule:evenodd;stroke:#000000;stroke-width:2px;stroke-linecap:butt;stroke-linejoin:miter;stroke-opacity:1\"/>\n",
       "<path d=\"M 744.215,194.432 750.133,192.642\" style=\"fill:none;fill-rule:evenodd;stroke:#FF0000;stroke-width:2px;stroke-linecap:butt;stroke-linejoin:miter;stroke-opacity:1\"/>\n",
       "<path d=\"M 792.826,179.729 800.044,177.545\" style=\"fill:none;fill-rule:evenodd;stroke:#FF0000;stroke-width:2px;stroke-linecap:butt;stroke-linejoin:miter;stroke-opacity:1\"/>\n",
       "<path d=\"M 800.044,177.545 807.263,175.362\" style=\"fill:none;fill-rule:evenodd;stroke:#000000;stroke-width:2px;stroke-linecap:butt;stroke-linejoin:miter;stroke-opacity:1\"/>\n",
       "<path d=\"M 798.933,142.497 800.634,135.228\" style=\"fill:none;fill-rule:evenodd;stroke:#FF0000;stroke-width:2px;stroke-linecap:butt;stroke-linejoin:miter;stroke-opacity:1\"/>\n",
       "<path d=\"M 800.634,135.228 802.335,127.96\" style=\"fill:none;fill-rule:evenodd;stroke:#000000;stroke-width:2px;stroke-linecap:butt;stroke-linejoin:miter;stroke-opacity:1\"/>\n",
       "<path d=\"M 793.303,98.0971 810.544,92.8823\" style=\"fill:none;fill-rule:evenodd;stroke:#000000;stroke-width:2px;stroke-linecap:butt;stroke-linejoin:miter;stroke-opacity:1\"/>\n",
       "<path d=\"M 794.846,93.8666 806.915,90.2162\" style=\"fill:none;fill-rule:evenodd;stroke:#000000;stroke-width:2px;stroke-linecap:butt;stroke-linejoin:miter;stroke-opacity:1\"/>\n",
       "<path d=\"M 793.303,98.0971 780.166,85.7731\" style=\"fill:none;fill-rule:evenodd;stroke:#000000;stroke-width:2px;stroke-linecap:butt;stroke-linejoin:miter;stroke-opacity:1\"/>\n",
       "<path d=\"M 793.303,98.0971 789.198,115.636\" style=\"fill:none;fill-rule:evenodd;stroke:#000000;stroke-width:2px;stroke-linecap:butt;stroke-linejoin:miter;stroke-opacity:1\"/>\n",
       "<path d=\"M 810.544,92.8823 814.649,75.3434\" style=\"fill:none;fill-rule:evenodd;stroke:#000000;stroke-width:2px;stroke-linecap:butt;stroke-linejoin:miter;stroke-opacity:1\"/>\n",
       "<path d=\"M 814.649,75.3434 801.512,63.0193\" style=\"fill:none;fill-rule:evenodd;stroke:#000000;stroke-width:2px;stroke-linecap:butt;stroke-linejoin:miter;stroke-opacity:1\"/>\n",
       "<path d=\"M 810.213,76.1221 801.017,67.4953\" style=\"fill:none;fill-rule:evenodd;stroke:#000000;stroke-width:2px;stroke-linecap:butt;stroke-linejoin:miter;stroke-opacity:1\"/>\n",
       "<path d=\"M 814.649,75.3434 821.867,73.16\" style=\"fill:none;fill-rule:evenodd;stroke:#000000;stroke-width:2px;stroke-linecap:butt;stroke-linejoin:miter;stroke-opacity:1\"/>\n",
       "<path d=\"M 821.867,73.16 829.086,70.9766\" style=\"fill:none;fill-rule:evenodd;stroke:#FF0000;stroke-width:2px;stroke-linecap:butt;stroke-linejoin:miter;stroke-opacity:1\"/>\n",
       "<path d=\"M 801.512,63.0193 784.27,68.2342\" style=\"fill:none;fill-rule:evenodd;stroke:#000000;stroke-width:2px;stroke-linecap:butt;stroke-linejoin:miter;stroke-opacity:1\"/>\n",
       "<path d=\"M 801.512,63.0193 803.213,55.7509\" style=\"fill:none;fill-rule:evenodd;stroke:#000000;stroke-width:2px;stroke-linecap:butt;stroke-linejoin:miter;stroke-opacity:1\"/>\n",
       "<path d=\"M 803.213,55.7509 804.914,48.4825\" style=\"fill:none;fill-rule:evenodd;stroke:#FF0000;stroke-width:2px;stroke-linecap:butt;stroke-linejoin:miter;stroke-opacity:1\"/>\n",
       "<path d=\"M 784.27,68.2342 780.166,85.7731\" style=\"fill:none;fill-rule:evenodd;stroke:#000000;stroke-width:2px;stroke-linecap:butt;stroke-linejoin:miter;stroke-opacity:1\"/>\n",
       "<path d=\"M 787.162,71.6859 784.289,83.9631\" style=\"fill:none;fill-rule:evenodd;stroke:#000000;stroke-width:2px;stroke-linecap:butt;stroke-linejoin:miter;stroke-opacity:1\"/>\n",
       "<path d=\"M 784.27,68.2342 779.104,63.3874\" style=\"fill:none;fill-rule:evenodd;stroke:#000000;stroke-width:2px;stroke-linecap:butt;stroke-linejoin:miter;stroke-opacity:1\"/>\n",
       "<path d=\"M 779.104,63.3874 773.937,58.5405\" style=\"fill:none;fill-rule:evenodd;stroke:#FF0000;stroke-width:2px;stroke-linecap:butt;stroke-linejoin:miter;stroke-opacity:1\"/>\n",
       "<path d=\"M 789.198,115.636 802.335,127.96\" style=\"fill:none;fill-rule:evenodd;stroke:#000000;stroke-width:2px;stroke-linecap:butt;stroke-linejoin:miter;stroke-opacity:1\"/>\n",
       "<path d=\"M 789.198,115.636 783.28,117.426\" style=\"fill:none;fill-rule:evenodd;stroke:#000000;stroke-width:2px;stroke-linecap:butt;stroke-linejoin:miter;stroke-opacity:1\"/>\n",
       "<path d=\"M 783.28,117.426 777.363,119.216\" style=\"fill:none;fill-rule:evenodd;stroke:#FF0000;stroke-width:2px;stroke-linecap:butt;stroke-linejoin:miter;stroke-opacity:1\"/>\n",
       "<path d=\"M 802.335,127.96 819.576,122.745\" style=\"fill:none;fill-rule:evenodd;stroke:#000000;stroke-width:2px;stroke-linecap:butt;stroke-linejoin:miter;stroke-opacity:1\"/>\n",
       "<path d=\"M 819.576,122.745 821.277,115.477\" style=\"fill:none;fill-rule:evenodd;stroke:#000000;stroke-width:2px;stroke-linecap:butt;stroke-linejoin:miter;stroke-opacity:1\"/>\n",
       "<path d=\"M 821.277,115.477 822.978,108.208\" style=\"fill:none;fill-rule:evenodd;stroke:#FF0000;stroke-width:2px;stroke-linecap:butt;stroke-linejoin:miter;stroke-opacity:1\"/>\n",
       "<path d=\"M 832.592,67.1264 834.293,59.858\" style=\"fill:none;fill-rule:evenodd;stroke:#FF0000;stroke-width:2px;stroke-linecap:butt;stroke-linejoin:miter;stroke-opacity:1\"/>\n",
       "<path d=\"M 834.293,59.858 835.994,52.5896\" style=\"fill:none;fill-rule:evenodd;stroke:#000000;stroke-width:2px;stroke-linecap:butt;stroke-linejoin:miter;stroke-opacity:1\"/>\n",
       "<path d=\"M 768.329,56.7582 761.111,58.9416\" style=\"fill:none;fill-rule:evenodd;stroke:#FF0000;stroke-width:2px;stroke-linecap:butt;stroke-linejoin:miter;stroke-opacity:1\"/>\n",
       "<path d=\"M 761.111,58.9416 753.892,61.125\" style=\"fill:none;fill-rule:evenodd;stroke:#000000;stroke-width:2px;stroke-linecap:butt;stroke-linejoin:miter;stroke-opacity:1\"/>\n",
       "<path d=\"M 166.622,140.939 149.083,136.835\" style=\"fill:none;fill-rule:evenodd;stroke:#000000;stroke-width:2px;stroke-linecap:butt;stroke-linejoin:miter;stroke-opacity:1\"/>\n",
       "<path d=\"M 164.812,136.816 152.535,133.943\" style=\"fill:none;fill-rule:evenodd;stroke:#000000;stroke-width:2px;stroke-linecap:butt;stroke-linejoin:miter;stroke-opacity:1\"/>\n",
       "<path d=\"M 166.622,140.939 178.946,127.803\" style=\"fill:none;fill-rule:evenodd;stroke:#000000;stroke-width:2px;stroke-linecap:butt;stroke-linejoin:miter;stroke-opacity:1\"/>\n",
       "<path d=\"M 166.622,140.939 171.837,158.181\" style=\"fill:none;fill-rule:evenodd;stroke:#000000;stroke-width:2px;stroke-linecap:butt;stroke-linejoin:miter;stroke-opacity:1\"/>\n",
       "<path d=\"M 149.083,136.835 143.869,119.594\" style=\"fill:none;fill-rule:evenodd;stroke:#000000;stroke-width:2px;stroke-linecap:butt;stroke-linejoin:miter;stroke-opacity:1\"/>\n",
       "<path d=\"M 143.869,119.594 156.193,106.457\" style=\"fill:none;fill-rule:evenodd;stroke:#000000;stroke-width:2px;stroke-linecap:butt;stroke-linejoin:miter;stroke-opacity:1\"/>\n",
       "<path d=\"M 148.345,120.088 156.971,110.892\" style=\"fill:none;fill-rule:evenodd;stroke:#000000;stroke-width:2px;stroke-linecap:butt;stroke-linejoin:miter;stroke-opacity:1\"/>\n",
       "<path d=\"M 143.869,119.594 136.501,117.869\" style=\"fill:none;fill-rule:evenodd;stroke:#000000;stroke-width:2px;stroke-linecap:butt;stroke-linejoin:miter;stroke-opacity:1\"/>\n",
       "<path d=\"M 136.501,117.869 129.134,116.145\" style=\"fill:none;fill-rule:evenodd;stroke:#FF0000;stroke-width:2px;stroke-linecap:butt;stroke-linejoin:miter;stroke-opacity:1\"/>\n",
       "<path d=\"M 156.193,106.457 173.731,110.561\" style=\"fill:none;fill-rule:evenodd;stroke:#000000;stroke-width:2px;stroke-linecap:butt;stroke-linejoin:miter;stroke-opacity:1\"/>\n",
       "<path d=\"M 156.193,106.457 155.561,98.9833\" style=\"fill:none;fill-rule:evenodd;stroke:#000000;stroke-width:2px;stroke-linecap:butt;stroke-linejoin:miter;stroke-opacity:1\"/>\n",
       "<path d=\"M 155.561,98.9833 154.93,91.5099\" style=\"fill:none;fill-rule:evenodd;stroke:#FF0000;stroke-width:2px;stroke-linecap:butt;stroke-linejoin:miter;stroke-opacity:1\"/>\n",
       "<path d=\"M 173.731,110.561 178.946,127.803\" style=\"fill:none;fill-rule:evenodd;stroke:#000000;stroke-width:2px;stroke-linecap:butt;stroke-linejoin:miter;stroke-opacity:1\"/>\n",
       "<path d=\"M 171.065,114.19 174.716,126.259\" style=\"fill:none;fill-rule:evenodd;stroke:#000000;stroke-width:2px;stroke-linecap:butt;stroke-linejoin:miter;stroke-opacity:1\"/>\n",
       "<path d=\"M 173.731,110.561 183.055,95.149\" style=\"fill:none;fill-rule:evenodd;stroke:#000000;stroke-width:2px;stroke-linecap:butt;stroke-linejoin:miter;stroke-opacity:1\"/>\n",
       "<path d=\"M 171.837,158.181 189.376,162.285\" style=\"fill:none;fill-rule:evenodd;stroke:#000000;stroke-width:2px;stroke-linecap:butt;stroke-linejoin:miter;stroke-opacity:1\"/>\n",
       "<path d=\"M 171.837,158.181 167.083,163.248\" style=\"fill:none;fill-rule:evenodd;stroke:#000000;stroke-width:2px;stroke-linecap:butt;stroke-linejoin:miter;stroke-opacity:1\"/>\n",
       "<path d=\"M 167.083,163.248 162.329,168.316\" style=\"fill:none;fill-rule:evenodd;stroke:#FF0000;stroke-width:2px;stroke-linecap:butt;stroke-linejoin:miter;stroke-opacity:1\"/>\n",
       "<path d=\"M 189.376,162.285 201.7,149.148\" style=\"fill:none;fill-rule:evenodd;stroke:#000000;stroke-width:2px;stroke-linecap:butt;stroke-linejoin:miter;stroke-opacity:1\"/>\n",
       "<path d=\"M 201.7,149.148 199.547,142.029\" style=\"fill:none;fill-rule:evenodd;stroke:#000000;stroke-width:2px;stroke-linecap:butt;stroke-linejoin:miter;stroke-opacity:1\"/>\n",
       "<path d=\"M 199.547,142.029 197.393,134.909\" style=\"fill:none;fill-rule:evenodd;stroke:#FF0000;stroke-width:2px;stroke-linecap:butt;stroke-linejoin:miter;stroke-opacity:1\"/>\n",
       "<path d=\"M 123.526,118.478 118.766,123.552\" style=\"fill:none;fill-rule:evenodd;stroke:#FF0000;stroke-width:2px;stroke-linecap:butt;stroke-linejoin:miter;stroke-opacity:1\"/>\n",
       "<path d=\"M 118.766,123.552 114.006,128.626\" style=\"fill:none;fill-rule:evenodd;stroke:#000000;stroke-width:2px;stroke-linecap:butt;stroke-linejoin:miter;stroke-opacity:1\"/>\n",
       "<path d=\"M 157.48,87.3275 164.379,84.4234\" style=\"fill:none;fill-rule:evenodd;stroke:#FF0000;stroke-width:2px;stroke-linecap:butt;stroke-linejoin:miter;stroke-opacity:1\"/>\n",
       "<path d=\"M 164.379,84.4234 171.278,81.5193\" style=\"fill:none;fill-rule:evenodd;stroke:#000000;stroke-width:2px;stroke-linecap:butt;stroke-linejoin:miter;stroke-opacity:1\"/>\n",
       "<path d=\"M 175.383,63.9804 192.624,58.7655\" style=\"fill:none;fill-rule:evenodd;stroke:#000000;stroke-width:2px;stroke-linecap:butt;stroke-linejoin:miter;stroke-opacity:1\"/>\n",
       "<path d=\"M 176.926,59.7499 188.995,56.0995\" style=\"fill:none;fill-rule:evenodd;stroke:#000000;stroke-width:2px;stroke-linecap:butt;stroke-linejoin:miter;stroke-opacity:1\"/>\n",
       "<path d=\"M 175.383,63.9804 162.246,51.6563\" style=\"fill:none;fill-rule:evenodd;stroke:#000000;stroke-width:2px;stroke-linecap:butt;stroke-linejoin:miter;stroke-opacity:1\"/>\n",
       "<path d=\"M 175.383,63.9804 171.278,81.5193\" style=\"fill:none;fill-rule:evenodd;stroke:#000000;stroke-width:2px;stroke-linecap:butt;stroke-linejoin:miter;stroke-opacity:1\"/>\n",
       "<path d=\"M 192.624,58.7655 196.729,41.2266\" style=\"fill:none;fill-rule:evenodd;stroke:#000000;stroke-width:2px;stroke-linecap:butt;stroke-linejoin:miter;stroke-opacity:1\"/>\n",
       "<path d=\"M 196.729,41.2266 183.592,28.9025\" style=\"fill:none;fill-rule:evenodd;stroke:#000000;stroke-width:2px;stroke-linecap:butt;stroke-linejoin:miter;stroke-opacity:1\"/>\n",
       "<path d=\"M 192.293,42.0054 183.097,33.3785\" style=\"fill:none;fill-rule:evenodd;stroke:#000000;stroke-width:2px;stroke-linecap:butt;stroke-linejoin:miter;stroke-opacity:1\"/>\n",
       "<path d=\"M 196.729,41.2266 203.947,39.0432\" style=\"fill:none;fill-rule:evenodd;stroke:#000000;stroke-width:2px;stroke-linecap:butt;stroke-linejoin:miter;stroke-opacity:1\"/>\n",
       "<path d=\"M 203.947,39.0432 211.166,36.8598\" style=\"fill:none;fill-rule:evenodd;stroke:#FF0000;stroke-width:2px;stroke-linecap:butt;stroke-linejoin:miter;stroke-opacity:1\"/>\n",
       "<path d=\"M 183.592,28.9025 166.35,34.1174\" style=\"fill:none;fill-rule:evenodd;stroke:#000000;stroke-width:2px;stroke-linecap:butt;stroke-linejoin:miter;stroke-opacity:1\"/>\n",
       "<path d=\"M 183.592,28.9025 185.293,21.6342\" style=\"fill:none;fill-rule:evenodd;stroke:#000000;stroke-width:2px;stroke-linecap:butt;stroke-linejoin:miter;stroke-opacity:1\"/>\n",
       "<path d=\"M 185.293,21.6342 186.994,14.3658\" style=\"fill:none;fill-rule:evenodd;stroke:#FF0000;stroke-width:2px;stroke-linecap:butt;stroke-linejoin:miter;stroke-opacity:1\"/>\n",
       "<path d=\"M 166.35,34.1174 162.246,51.6563\" style=\"fill:none;fill-rule:evenodd;stroke:#000000;stroke-width:2px;stroke-linecap:butt;stroke-linejoin:miter;stroke-opacity:1\"/>\n",
       "<path d=\"M 169.242,37.5691 166.369,49.8464\" style=\"fill:none;fill-rule:evenodd;stroke:#000000;stroke-width:2px;stroke-linecap:butt;stroke-linejoin:miter;stroke-opacity:1\"/>\n",
       "<path d=\"M 166.35,34.1174 161.184,29.2706\" style=\"fill:none;fill-rule:evenodd;stroke:#000000;stroke-width:2px;stroke-linecap:butt;stroke-linejoin:miter;stroke-opacity:1\"/>\n",
       "<path d=\"M 161.184,29.2706 156.017,24.4238\" style=\"fill:none;fill-rule:evenodd;stroke:#FF0000;stroke-width:2px;stroke-linecap:butt;stroke-linejoin:miter;stroke-opacity:1\"/>\n",
       "<path d=\"M 171.278,81.5193 183.055,95.149\" style=\"fill:none;fill-rule:evenodd;stroke:#000000;stroke-width:2px;stroke-linecap:butt;stroke-linejoin:miter;stroke-opacity:1\"/>\n",
       "<path d=\"M 183.055,95.149 201.004,93.6328\" style=\"fill:none;fill-rule:evenodd;stroke:#000000;stroke-width:2px;stroke-linecap:butt;stroke-linejoin:miter;stroke-opacity:1\"/>\n",
       "<path d=\"M 201.004,93.6328 205.103,99.5247\" style=\"fill:none;fill-rule:evenodd;stroke:#000000;stroke-width:2px;stroke-linecap:butt;stroke-linejoin:miter;stroke-opacity:1\"/>\n",
       "<path d=\"M 205.103,99.5247 209.203,105.417\" style=\"fill:none;fill-rule:evenodd;stroke:#FF0000;stroke-width:2px;stroke-linecap:butt;stroke-linejoin:miter;stroke-opacity:1\"/>\n",
       "<path d=\"M 216.774,38.6421 221.94,43.489\" style=\"fill:none;fill-rule:evenodd;stroke:#FF0000;stroke-width:2px;stroke-linecap:butt;stroke-linejoin:miter;stroke-opacity:1\"/>\n",
       "<path d=\"M 221.94,43.489 227.107,48.3358\" style=\"fill:none;fill-rule:evenodd;stroke:#000000;stroke-width:2px;stroke-linecap:butt;stroke-linejoin:miter;stroke-opacity:1\"/>\n",
       "<path d=\"M 150.409,22.6414 143.191,24.8248\" style=\"fill:none;fill-rule:evenodd;stroke:#FF0000;stroke-width:2px;stroke-linecap:butt;stroke-linejoin:miter;stroke-opacity:1\"/>\n",
       "<path d=\"M 143.191,24.8248 135.972,27.0082\" style=\"fill:none;fill-rule:evenodd;stroke:#000000;stroke-width:2px;stroke-linecap:butt;stroke-linejoin:miter;stroke-opacity:1\"/>\n",
       "<text style=\"font-size:6px;font-style:normal;font-weight:normal;fill-opacity:1;stroke:none;font-family:sans-serif;text-anchor:start;fill:#FF0000\" x=\"469.694\" y=\"144.299\"><tspan>O</tspan></text>\n",
       "<text style=\"font-size:6px;font-style:normal;font-weight:normal;fill-opacity:1;stroke:none;font-family:sans-serif;text-anchor:start;fill:#FF0000\" x=\"388.504\" y=\"132.439\"><tspan>O</tspan></text>\n",
       "<text style=\"font-size:6px;font-style:normal;font-weight:normal;fill-opacity:1;stroke:none;font-family:sans-serif;text-anchor:start;fill:#FF0000\" x=\"363.856\" y=\"158.713\"><tspan>O</tspan></text>\n",
       "<text style=\"font-size:6px;font-style:normal;font-weight:normal;fill-opacity:1;stroke:none;font-family:sans-serif;text-anchor:start;fill:#FF0000\" x=\"374.285\" y=\"193.195\"><tspan>O</tspan></text>\n",
       "<text style=\"font-size:6px;font-style:normal;font-weight:normal;fill-opacity:1;stroke:none;font-family:sans-serif;text-anchor:start;fill:#FF0000\" x=\"441\" y=\"191.732\"><tspan>O</tspan></text>\n",
       "<text style=\"font-size:6px;font-style:normal;font-weight:normal;fill-opacity:1;stroke:none;font-family:sans-serif;text-anchor:start;fill:#FF0000\" x=\"522.19\" y=\"203.592\"><tspan>O</tspan></text>\n",
       "<text style=\"font-size:6px;font-style:normal;font-weight:normal;fill-opacity:1;stroke:none;font-family:sans-serif;text-anchor:start;fill:#FF0000\" x=\"547.309\" y=\"173.582\"><tspan>O</tspan></text>\n",
       "<text style=\"font-size:6px;font-style:normal;font-weight:normal;fill-opacity:1;stroke:none;font-family:sans-serif;text-anchor:start;fill:#FF0000\" x=\"552.417\" y=\"118.991\"><tspan>OH</tspan></text>\n",
       "<text style=\"font-size:6px;font-style:normal;font-weight:normal;fill-opacity:1;stroke:none;font-family:sans-serif;text-anchor:start;fill:#FF0000\" x=\"613.98\" y=\"170.787\"><tspan>O</tspan></text>\n",
       "<text style=\"font-size:6px;font-style:normal;font-weight:normal;fill-opacity:1;stroke:none;font-family:sans-serif;text-anchor:start;fill:#FF0000\" x=\"622.189\" y=\"135.709\"><tspan>O</tspan></text>\n",
       "<text style=\"font-size:6px;font-style:normal;font-weight:normal;fill-opacity:1;stroke:none;font-family:sans-serif;text-anchor:start;fill:#FF0000\" x=\"595.916\" y=\"111.061\"><tspan>O</tspan></text>\n",
       "<text style=\"font-size:6px;font-style:normal;font-weight:normal;fill-opacity:1;stroke:none;font-family:sans-serif;text-anchor:start;fill:#FF0000\" x=\"641.757\" y=\"177.896\"><tspan>OH</tspan></text>\n",
       "<text style=\"font-size:6px;font-style:normal;font-weight:normal;fill-opacity:1;stroke:none;font-family:sans-serif;text-anchor:start;fill:#FF0000\" x=\"670.632\" y=\"202.544\"><tspan>O</tspan></text>\n",
       "<text style=\"font-size:6px;font-style:normal;font-weight:normal;fill-opacity:1;stroke:none;font-family:sans-serif;text-anchor:start;fill:#FF0000\" x=\"705.115\" y=\"192.114\"><tspan>O</tspan></text>\n",
       "<text style=\"font-size:6px;font-style:normal;font-weight:normal;fill-opacity:1;stroke:none;font-family:sans-serif;text-anchor:start;fill:#FF0000\" x=\"341.82\" y=\"202.228\"><tspan>HO</tspan></text>\n",
       "<text style=\"font-size:6px;font-style:normal;font-weight:normal;fill-opacity:1;stroke:none;font-family:sans-serif;text-anchor:start;fill:#FF0000\" x=\"319.774\" y=\"228.502\"><tspan>O</tspan></text>\n",
       "<text style=\"font-size:6px;font-style:normal;font-weight:normal;fill-opacity:1;stroke:none;font-family:sans-serif;text-anchor:start;fill:#FF0000\" x=\"284.696\" y=\"220.293\"><tspan>O</tspan></text>\n",
       "<text style=\"font-size:6px;font-style:normal;font-weight:normal;fill-opacity:1;stroke:none;font-family:sans-serif;text-anchor:start;fill:#FF0000\" x=\"234.693\" y=\"225.221\"><tspan>HO</tspan></text>\n",
       "<text style=\"font-size:6px;font-style:normal;font-weight:normal;fill-opacity:1;stroke:none;font-family:sans-serif;text-anchor:start;fill:#FF0000\" x=\"202.217\" y=\"217.012\"><tspan>O</tspan></text>\n",
       "<text style=\"font-size:6px;font-style:normal;font-weight:normal;fill-opacity:1;stroke:none;font-family:sans-serif;text-anchor:start;fill:#FF0000\" x=\"191.787\" y=\"182.529\"><tspan>O</tspan></text>\n",
       "<text style=\"font-size:6px;font-style:normal;font-weight:normal;fill-opacity:1;stroke:none;font-family:sans-serif;text-anchor:start;fill:#FF0000\" x=\"216.435\" y=\"156.255\"><tspan>O</tspan></text>\n",
       "<text style=\"font-size:6px;font-style:normal;font-weight:normal;fill-opacity:1;stroke:none;font-family:sans-serif;text-anchor:start;fill:#FF0000\" x=\"750.133\" y=\"194.009\"><tspan>OH</tspan></text>\n",
       "<text style=\"font-size:6px;font-style:normal;font-weight:normal;fill-opacity:1;stroke:none;font-family:sans-serif;text-anchor:start;fill:#FF0000\" x=\"787.218\" y=\"183.579\"><tspan>O</tspan></text>\n",
       "<text style=\"font-size:6px;font-style:normal;font-weight:normal;fill-opacity:1;stroke:none;font-family:sans-serif;text-anchor:start;fill:#FF0000\" x=\"795.427\" y=\"148.501\"><tspan>O</tspan></text>\n",
       "<text style=\"font-size:6px;font-style:normal;font-weight:normal;fill-opacity:1;stroke:none;font-family:sans-serif;text-anchor:start;fill:#FF0000\" x=\"818.275\" y=\"108.208\"><tspan>OH</tspan></text>\n",
       "<text style=\"font-size:6px;font-style:normal;font-weight:normal;fill-opacity:1;stroke:none;font-family:sans-serif;text-anchor:start;fill:#FF0000\" x=\"829.086\" y=\"73.1306\"><tspan>O</tspan></text>\n",
       "<text style=\"font-size:6px;font-style:normal;font-weight:normal;fill-opacity:1;stroke:none;font-family:sans-serif;text-anchor:start;fill:#FF0000\" x=\"802.812\" y=\"48.4825\"><tspan>O</tspan></text>\n",
       "<text style=\"font-size:6px;font-style:normal;font-weight:normal;fill-opacity:1;stroke:none;font-family:sans-serif;text-anchor:start;fill:#FF0000\" x=\"768.329\" y=\"58.9123\"><tspan>O</tspan></text>\n",
       "<text style=\"font-size:6px;font-style:normal;font-weight:normal;fill-opacity:1;stroke:none;font-family:sans-serif;text-anchor:start;fill:#FF0000\" x=\"191.079\" y=\"134.909\"><tspan>OH</tspan></text>\n",
       "<text style=\"font-size:6px;font-style:normal;font-weight:normal;fill-opacity:1;stroke:none;font-family:sans-serif;text-anchor:start;fill:#FF0000\" x=\"123.526\" y=\"118.491\"><tspan>O</tspan></text>\n",
       "<text style=\"font-size:6px;font-style:normal;font-weight:normal;fill-opacity:1;stroke:none;font-family:sans-serif;text-anchor:start;fill:#FF0000\" x=\"151.872\" y=\"91.5099\"><tspan>O</tspan></text>\n",
       "<text style=\"font-size:6px;font-style:normal;font-weight:normal;fill-opacity:1;stroke:none;font-family:sans-serif;text-anchor:start;fill:#FF0000\" x=\"205.885\" y=\"111.421\"><tspan>OH</tspan></text>\n",
       "<text style=\"font-size:6px;font-style:normal;font-weight:normal;fill-opacity:1;stroke:none;font-family:sans-serif;text-anchor:start;fill:#FF0000\" x=\"211.166\" y=\"39.0139\"><tspan>O</tspan></text>\n",
       "<text style=\"font-size:6px;font-style:normal;font-weight:normal;fill-opacity:1;stroke:none;font-family:sans-serif;text-anchor:start;fill:#FF0000\" x=\"184.892\" y=\"14.3658\"><tspan>O</tspan></text>\n",
       "<text style=\"font-size:6px;font-style:normal;font-weight:normal;fill-opacity:1;stroke:none;font-family:sans-serif;text-anchor:start;fill:#FF0000\" x=\"150.409\" y=\"24.7955\"><tspan>O</tspan></text>\n",
       "<text style=\"font-size:6px;font-style:normal;font-weight:normal;fill-opacity:1;stroke:none;font-family:sans-serif;text-anchor:start;fill:#FF0000\" x=\"654.07\" y=\"125.279\"><tspan>OH</tspan></text>\n",
       "<text style=\"font-size:6px;font-style:normal;font-weight:normal;fill-opacity:1;stroke:none;font-family:sans-serif;text-anchor:start;fill:#FF0000\" x=\"326.176\" y=\"150.504\"><tspan>OH</tspan></text>\n",
       "<text style=\"font-size:6px;font-style:normal;font-weight:normal;fill-opacity:1;stroke:none;font-family:sans-serif;text-anchor:start;fill:#FF0000\" x=\"271.665\" y=\"185.81\"><tspan>OH</tspan></text>\n",
       "<text style=\"font-size:6px;font-style:normal;font-weight:normal;fill-opacity:1;stroke:none;font-family:sans-serif;text-anchor:start;fill:#FF0000\" x=\"710.722\" y=\"157.037\"><tspan>HO</tspan></text>\n",
       "<text style=\"font-size:6px;font-style:normal;font-weight:normal;fill-opacity:1;stroke:none;font-family:sans-serif;text-anchor:start;fill:#FF0000\" x=\"766.551\" y=\"123.853\"><tspan>HO</tspan></text>\n",
       "<text style=\"font-size:6px;font-style:normal;font-weight:normal;fill-opacity:1;stroke:none;font-family:sans-serif;text-anchor:start;fill:#FF0000\" x=\"154.107\" y=\"174.32\"><tspan>HO</tspan></text>\n",
       "</svg>"
      ],
      "text/plain": [
       "<IPython.core.display.SVG object>"
      ]
     },
     "execution_count": 8,
     "metadata": {},
     "output_type": "execute_result"
    }
   ],
   "source": [
    "sg = 1\n",
    "n = 2\n",
    "\n",
    "pct = sg / (1 + sg)\n",
    "\n",
    "rands = np.random.rand(n)\n",
    "mons = [ kmc.Monomer( int ( sOrG < pct ) , i ) for i,sOrG in zip ( range(n) , rands ) ]\n",
    "startEvents = [ kmc.Event ( 'ox' , [i] , rates['ox'][ int( sOrG < pct ) ]['monomer'] ) for i,sOrG in zip ( range(n) , rands) ]\n",
    "\n",
    "state = { i : {'mon' : mons[i] , 'affected' : {startEvents[i]} } for i in range(n) }\n",
    "events = { startEvents[i] for i in range(n) }\n",
    "events.add(kmc.Event('grow',[],rate = 1e4,bond = sg))\n",
    "\n",
    "res = kmc.run_kmc(nMax = 10,tFinal = 1, rates = rates, initialState = state, initialEvents = events)\n",
    "nodes = res['monomers']\n",
    "adj = res['adjacency_matrix']\n",
    "\n",
    "block = kmc.generateMol(adj,nodes)\n",
    "mol = Chem.MolFromMolBlock(block)\n",
    "AllChem.Compute2DCoords(mol)\n",
    "SVG(kmc.moltosvg(mol,molSize=(950,250)))"
   ]
  },
  {
   "cell_type": "markdown",
   "metadata": {},
   "source": [
    "### C lignin\n",
    "Run an example with 2 monomers but using the C lignin energies"
   ]
  },
  {
   "cell_type": "code",
   "execution_count": 9,
   "metadata": {},
   "outputs": [
    {
     "data": {
      "image/svg+xml": [
       "<svg baseProfile=\"full\" height=\"250px\" version=\"1.1\" width=\"950px\" xml:space=\"preserve\" xmlns:rdkit=\"http://www.rdkit.org/xml\" xmlns:svg=\"http://www.w3.org/2000/svg\" xmlns:xlink=\"http://www.w3.org/1999/xlink\">\n",
       "<rect height=\"250\" style=\"opacity:1.0;fill:#FFFFFF;stroke:none\" width=\"950\" x=\"0\" y=\"0\"> </rect>\n",
       "<path d=\"M 180.477,108.013 196.837,118.028\" style=\"fill:none;fill-rule:evenodd;stroke:#000000;stroke-width:2px;stroke-linecap:butt;stroke-linejoin:miter;stroke-opacity:1\"/>\n",
       "<path d=\"M 184.934,106.243 196.386,113.254\" style=\"fill:none;fill-rule:evenodd;stroke:#000000;stroke-width:2px;stroke-linecap:butt;stroke-linejoin:miter;stroke-opacity:1\"/>\n",
       "<path d=\"M 180.477,108.013 180.971,88.8373\" style=\"fill:none;fill-rule:evenodd;stroke:#000000;stroke-width:2px;stroke-linecap:butt;stroke-linejoin:miter;stroke-opacity:1\"/>\n",
       "<path d=\"M 180.477,108.013 163.624,117.173\" style=\"fill:none;fill-rule:evenodd;stroke:#000000;stroke-width:2px;stroke-linecap:butt;stroke-linejoin:miter;stroke-opacity:1\"/>\n",
       "<path d=\"M 196.837,118.028 213.691,108.868\" style=\"fill:none;fill-rule:evenodd;stroke:#000000;stroke-width:2px;stroke-linecap:butt;stroke-linejoin:miter;stroke-opacity:1\"/>\n",
       "<path d=\"M 213.691,108.868 214.184,89.6924\" style=\"fill:none;fill-rule:evenodd;stroke:#000000;stroke-width:2px;stroke-linecap:butt;stroke-linejoin:miter;stroke-opacity:1\"/>\n",
       "<path d=\"M 209.929,105.893 210.275,92.47\" style=\"fill:none;fill-rule:evenodd;stroke:#000000;stroke-width:2px;stroke-linecap:butt;stroke-linejoin:miter;stroke-opacity:1\"/>\n",
       "<path d=\"M 213.691,108.868 220.378,112.962\" style=\"fill:none;fill-rule:evenodd;stroke:#000000;stroke-width:2px;stroke-linecap:butt;stroke-linejoin:miter;stroke-opacity:1\"/>\n",
       "<path d=\"M 220.378,112.962 227.064,117.056\" style=\"fill:none;fill-rule:evenodd;stroke:#FF0000;stroke-width:2px;stroke-linecap:butt;stroke-linejoin:miter;stroke-opacity:1\"/>\n",
       "<path d=\"M 214.184,89.6924 197.824,79.677\" style=\"fill:none;fill-rule:evenodd;stroke:#000000;stroke-width:2px;stroke-linecap:butt;stroke-linejoin:miter;stroke-opacity:1\"/>\n",
       "<path d=\"M 214.184,89.6924 221.118,85.9237\" style=\"fill:none;fill-rule:evenodd;stroke:#000000;stroke-width:2px;stroke-linecap:butt;stroke-linejoin:miter;stroke-opacity:1\"/>\n",
       "<path d=\"M 221.118,85.9237 228.052,82.155\" style=\"fill:none;fill-rule:evenodd;stroke:#FF0000;stroke-width:2px;stroke-linecap:butt;stroke-linejoin:miter;stroke-opacity:1\"/>\n",
       "<path d=\"M 197.824,79.677 180.971,88.8373\" style=\"fill:none;fill-rule:evenodd;stroke:#000000;stroke-width:2px;stroke-linecap:butt;stroke-linejoin:miter;stroke-opacity:1\"/>\n",
       "<path d=\"M 197.128,84.4218 185.331,90.834\" style=\"fill:none;fill-rule:evenodd;stroke:#000000;stroke-width:2px;stroke-linecap:butt;stroke-linejoin:miter;stroke-opacity:1\"/>\n",
       "<path d=\"M 163.624,117.173 161.128,136.192\" style=\"fill:none;fill-rule:evenodd;stroke:#000000;stroke-width:2px;stroke-linecap:butt;stroke-linejoin:miter;stroke-opacity:1\"/>\n",
       "<path d=\"M 163.624,117.173 156.458,113.759\" style=\"fill:none;fill-rule:evenodd;stroke:#000000;stroke-width:2px;stroke-linecap:butt;stroke-linejoin:miter;stroke-opacity:1\"/>\n",
       "<path d=\"M 156.458,113.759 149.293,110.346\" style=\"fill:none;fill-rule:evenodd;stroke:#FF0000;stroke-width:2px;stroke-linecap:butt;stroke-linejoin:miter;stroke-opacity:1\"/>\n",
       "<path d=\"M 161.128,136.192 175.048,149.39\" style=\"fill:none;fill-rule:evenodd;stroke:#000000;stroke-width:2px;stroke-linecap:butt;stroke-linejoin:miter;stroke-opacity:1\"/>\n",
       "<path d=\"M 161.128,136.192 142.269,139.696\" style=\"fill:none;fill-rule:evenodd;stroke:#000000;stroke-width:2px;stroke-linecap:butt;stroke-linejoin:miter;stroke-opacity:1\"/>\n",
       "<path d=\"M 175.048,149.39 173.197,157.119\" style=\"fill:none;fill-rule:evenodd;stroke:#000000;stroke-width:2px;stroke-linecap:butt;stroke-linejoin:miter;stroke-opacity:1\"/>\n",
       "<path d=\"M 173.197,157.119 171.345,164.847\" style=\"fill:none;fill-rule:evenodd;stroke:#FF0000;stroke-width:2px;stroke-linecap:butt;stroke-linejoin:miter;stroke-opacity:1\"/>\n",
       "<path d=\"M 233.036,117.261 239.97,113.492\" style=\"fill:none;fill-rule:evenodd;stroke:#FF0000;stroke-width:2px;stroke-linecap:butt;stroke-linejoin:miter;stroke-opacity:1\"/>\n",
       "<path d=\"M 239.97,113.492 246.904,109.723\" style=\"fill:none;fill-rule:evenodd;stroke:#000000;stroke-width:2px;stroke-linecap:butt;stroke-linejoin:miter;stroke-opacity:1\"/>\n",
       "<path d=\"M 234.024,82.36 240.711,86.4538\" style=\"fill:none;fill-rule:evenodd;stroke:#FF0000;stroke-width:2px;stroke-linecap:butt;stroke-linejoin:miter;stroke-opacity:1\"/>\n",
       "<path d=\"M 240.711,86.4538 247.398,90.5475\" style=\"fill:none;fill-rule:evenodd;stroke:#000000;stroke-width:2px;stroke-linecap:butt;stroke-linejoin:miter;stroke-opacity:1\"/>\n",
       "<path d=\"M 113.078,155.563 103.918,138.709\" style=\"fill:none;fill-rule:evenodd;stroke:#000000;stroke-width:2px;stroke-linecap:butt;stroke-linejoin:miter;stroke-opacity:1\"/>\n",
       "<path d=\"M 115.075,151.202 108.662,139.405\" style=\"fill:none;fill-rule:evenodd;stroke:#000000;stroke-width:2px;stroke-linecap:butt;stroke-linejoin:miter;stroke-opacity:1\"/>\n",
       "<path d=\"M 113.078,155.563 132.254,156.056\" style=\"fill:none;fill-rule:evenodd;stroke:#000000;stroke-width:2px;stroke-linecap:butt;stroke-linejoin:miter;stroke-opacity:1\"/>\n",
       "<path d=\"M 113.078,155.563 103.063,171.922\" style=\"fill:none;fill-rule:evenodd;stroke:#000000;stroke-width:2px;stroke-linecap:butt;stroke-linejoin:miter;stroke-opacity:1\"/>\n",
       "<path d=\"M 103.918,138.709 113.933,122.349\" style=\"fill:none;fill-rule:evenodd;stroke:#000000;stroke-width:2px;stroke-linecap:butt;stroke-linejoin:miter;stroke-opacity:1\"/>\n",
       "<path d=\"M 113.933,122.349 133.109,122.843\" style=\"fill:none;fill-rule:evenodd;stroke:#000000;stroke-width:2px;stroke-linecap:butt;stroke-linejoin:miter;stroke-opacity:1\"/>\n",
       "<path d=\"M 116.711,126.258 130.134,126.604\" style=\"fill:none;fill-rule:evenodd;stroke:#000000;stroke-width:2px;stroke-linecap:butt;stroke-linejoin:miter;stroke-opacity:1\"/>\n",
       "<path d=\"M 113.933,122.349 110.222,115.521\" style=\"fill:none;fill-rule:evenodd;stroke:#000000;stroke-width:2px;stroke-linecap:butt;stroke-linejoin:miter;stroke-opacity:1\"/>\n",
       "<path d=\"M 110.222,115.521 106.51,108.693\" style=\"fill:none;fill-rule:evenodd;stroke:#FF0000;stroke-width:2px;stroke-linecap:butt;stroke-linejoin:miter;stroke-opacity:1\"/>\n",
       "<path d=\"M 133.109,122.843 142.269,139.696\" style=\"fill:none;fill-rule:evenodd;stroke:#000000;stroke-width:2px;stroke-linecap:butt;stroke-linejoin:miter;stroke-opacity:1\"/>\n",
       "<path d=\"M 133.109,122.843 138.215,117.458\" style=\"fill:none;fill-rule:evenodd;stroke:#000000;stroke-width:2px;stroke-linecap:butt;stroke-linejoin:miter;stroke-opacity:1\"/>\n",
       "<path d=\"M 138.215,117.458 143.321,112.072\" style=\"fill:none;fill-rule:evenodd;stroke:#FF0000;stroke-width:2px;stroke-linecap:butt;stroke-linejoin:miter;stroke-opacity:1\"/>\n",
       "<path d=\"M 142.269,139.696 132.254,156.056\" style=\"fill:none;fill-rule:evenodd;stroke:#000000;stroke-width:2px;stroke-linecap:butt;stroke-linejoin:miter;stroke-opacity:1\"/>\n",
       "<path d=\"M 137.495,140.147 130.484,151.599\" style=\"fill:none;fill-rule:evenodd;stroke:#000000;stroke-width:2px;stroke-linecap:butt;stroke-linejoin:miter;stroke-opacity:1\"/>\n",
       "<path d=\"M 103.063,171.922 83.8868,171.429\" style=\"fill:none;fill-rule:evenodd;stroke:#000000;stroke-width:2px;stroke-linecap:butt;stroke-linejoin:miter;stroke-opacity:1\"/>\n",
       "<path d=\"M 100.285,168.013 86.8619,167.668\" style=\"fill:none;fill-rule:evenodd;stroke:#000000;stroke-width:2px;stroke-linecap:butt;stroke-linejoin:miter;stroke-opacity:1\"/>\n",
       "<path d=\"M 83.8868,171.429 73.8714,187.789\" style=\"fill:none;fill-rule:evenodd;stroke:#000000;stroke-width:2px;stroke-linecap:butt;stroke-linejoin:miter;stroke-opacity:1\"/>\n",
       "<path d=\"M 73.8714,187.789 67.162,187.616\" style=\"fill:none;fill-rule:evenodd;stroke:#000000;stroke-width:2px;stroke-linecap:butt;stroke-linejoin:miter;stroke-opacity:1\"/>\n",
       "<path d=\"M 67.162,187.616 60.4526,187.443\" style=\"fill:none;fill-rule:evenodd;stroke:#FF0000;stroke-width:2px;stroke-linecap:butt;stroke-linejoin:miter;stroke-opacity:1\"/>\n",
       "<path d=\"M 263.264,119.739 280.117,110.578\" style=\"fill:none;fill-rule:evenodd;stroke:#000000;stroke-width:2px;stroke-linecap:butt;stroke-linejoin:miter;stroke-opacity:1\"/>\n",
       "<path d=\"M 267.624,121.735 279.421,115.323\" style=\"fill:none;fill-rule:evenodd;stroke:#000000;stroke-width:2px;stroke-linecap:butt;stroke-linejoin:miter;stroke-opacity:1\"/>\n",
       "<path d=\"M 263.264,119.739 262.77,138.914\" style=\"fill:none;fill-rule:evenodd;stroke:#000000;stroke-width:2px;stroke-linecap:butt;stroke-linejoin:miter;stroke-opacity:1\"/>\n",
       "<path d=\"M 263.264,119.739 246.904,109.723\" style=\"fill:none;fill-rule:evenodd;stroke:#000000;stroke-width:2px;stroke-linecap:butt;stroke-linejoin:miter;stroke-opacity:1\"/>\n",
       "<path d=\"M 280.117,110.578 296.477,120.594\" style=\"fill:none;fill-rule:evenodd;stroke:#000000;stroke-width:2px;stroke-linecap:butt;stroke-linejoin:miter;stroke-opacity:1\"/>\n",
       "<path d=\"M 296.477,120.594 295.983,139.769\" style=\"fill:none;fill-rule:evenodd;stroke:#000000;stroke-width:2px;stroke-linecap:butt;stroke-linejoin:miter;stroke-opacity:1\"/>\n",
       "<path d=\"M 292.568,123.371 292.222,136.794\" style=\"fill:none;fill-rule:evenodd;stroke:#000000;stroke-width:2px;stroke-linecap:butt;stroke-linejoin:miter;stroke-opacity:1\"/>\n",
       "<path d=\"M 296.477,120.594 303.411,116.825\" style=\"fill:none;fill-rule:evenodd;stroke:#000000;stroke-width:2px;stroke-linecap:butt;stroke-linejoin:miter;stroke-opacity:1\"/>\n",
       "<path d=\"M 303.411,116.825 310.345,113.056\" style=\"fill:none;fill-rule:evenodd;stroke:#FF0000;stroke-width:2px;stroke-linecap:butt;stroke-linejoin:miter;stroke-opacity:1\"/>\n",
       "<path d=\"M 295.983,139.769 279.13,148.93\" style=\"fill:none;fill-rule:evenodd;stroke:#000000;stroke-width:2px;stroke-linecap:butt;stroke-linejoin:miter;stroke-opacity:1\"/>\n",
       "<path d=\"M 295.983,139.769 302.67,143.863\" style=\"fill:none;fill-rule:evenodd;stroke:#000000;stroke-width:2px;stroke-linecap:butt;stroke-linejoin:miter;stroke-opacity:1\"/>\n",
       "<path d=\"M 302.67,143.863 309.357,147.957\" style=\"fill:none;fill-rule:evenodd;stroke:#FF0000;stroke-width:2px;stroke-linecap:butt;stroke-linejoin:miter;stroke-opacity:1\"/>\n",
       "<path d=\"M 279.13,148.93 262.77,138.914\" style=\"fill:none;fill-rule:evenodd;stroke:#000000;stroke-width:2px;stroke-linecap:butt;stroke-linejoin:miter;stroke-opacity:1\"/>\n",
       "<path d=\"M 278.679,144.155 267.227,137.145\" style=\"fill:none;fill-rule:evenodd;stroke:#000000;stroke-width:2px;stroke-linecap:butt;stroke-linejoin:miter;stroke-opacity:1\"/>\n",
       "<path d=\"M 246.904,109.723 247.398,90.5475\" style=\"fill:none;fill-rule:evenodd;stroke:#000000;stroke-width:2px;stroke-linecap:butt;stroke-linejoin:miter;stroke-opacity:1\"/>\n",
       "<path d=\"M 247.398,90.5475 264.251,81.3872\" style=\"fill:none;fill-rule:evenodd;stroke:#000000;stroke-width:2px;stroke-linecap:butt;stroke-linejoin:miter;stroke-opacity:1\"/>\n",
       "<path d=\"M 264.251,81.3872 264.457,73.3978\" style=\"fill:none;fill-rule:evenodd;stroke:#000000;stroke-width:2px;stroke-linecap:butt;stroke-linejoin:miter;stroke-opacity:1\"/>\n",
       "<path d=\"M 264.457,73.3978 264.662,65.4084\" style=\"fill:none;fill-rule:evenodd;stroke:#FF0000;stroke-width:2px;stroke-linecap:butt;stroke-linejoin:miter;stroke-opacity:1\"/>\n",
       "<path d=\"M 316.316,113.261 323.003,117.355\" style=\"fill:none;fill-rule:evenodd;stroke:#FF0000;stroke-width:2px;stroke-linecap:butt;stroke-linejoin:miter;stroke-opacity:1\"/>\n",
       "<path d=\"M 323.003,117.355 329.69,121.449\" style=\"fill:none;fill-rule:evenodd;stroke:#000000;stroke-width:2px;stroke-linecap:butt;stroke-linejoin:miter;stroke-opacity:1\"/>\n",
       "<path d=\"M 315.329,148.162 322.263,144.393\" style=\"fill:none;fill-rule:evenodd;stroke:#FF0000;stroke-width:2px;stroke-linecap:butt;stroke-linejoin:miter;stroke-opacity:1\"/>\n",
       "<path d=\"M 322.263,144.393 329.197,140.624\" style=\"fill:none;fill-rule:evenodd;stroke:#000000;stroke-width:2px;stroke-linecap:butt;stroke-linejoin:miter;stroke-opacity:1\"/>\n",
       "<path d=\"M 346.544,112.288 362.904,122.304\" style=\"fill:none;fill-rule:evenodd;stroke:#000000;stroke-width:2px;stroke-linecap:butt;stroke-linejoin:miter;stroke-opacity:1\"/>\n",
       "<path d=\"M 351.001,110.519 362.453,117.53\" style=\"fill:none;fill-rule:evenodd;stroke:#000000;stroke-width:2px;stroke-linecap:butt;stroke-linejoin:miter;stroke-opacity:1\"/>\n",
       "<path d=\"M 346.544,112.288 347.038,93.1127\" style=\"fill:none;fill-rule:evenodd;stroke:#000000;stroke-width:2px;stroke-linecap:butt;stroke-linejoin:miter;stroke-opacity:1\"/>\n",
       "<path d=\"M 346.544,112.288 329.69,121.449\" style=\"fill:none;fill-rule:evenodd;stroke:#000000;stroke-width:2px;stroke-linecap:butt;stroke-linejoin:miter;stroke-opacity:1\"/>\n",
       "<path d=\"M 362.904,122.304 379.757,113.143\" style=\"fill:none;fill-rule:evenodd;stroke:#000000;stroke-width:2px;stroke-linecap:butt;stroke-linejoin:miter;stroke-opacity:1\"/>\n",
       "<path d=\"M 379.757,113.143 380.251,93.9678\" style=\"fill:none;fill-rule:evenodd;stroke:#000000;stroke-width:2px;stroke-linecap:butt;stroke-linejoin:miter;stroke-opacity:1\"/>\n",
       "<path d=\"M 375.996,110.168 376.342,96.7454\" style=\"fill:none;fill-rule:evenodd;stroke:#000000;stroke-width:2px;stroke-linecap:butt;stroke-linejoin:miter;stroke-opacity:1\"/>\n",
       "<path d=\"M 379.757,113.143 386.444,117.237\" style=\"fill:none;fill-rule:evenodd;stroke:#000000;stroke-width:2px;stroke-linecap:butt;stroke-linejoin:miter;stroke-opacity:1\"/>\n",
       "<path d=\"M 386.444,117.237 393.131,121.331\" style=\"fill:none;fill-rule:evenodd;stroke:#FF0000;stroke-width:2px;stroke-linecap:butt;stroke-linejoin:miter;stroke-opacity:1\"/>\n",
       "<path d=\"M 380.251,93.9678 363.891,83.9524\" style=\"fill:none;fill-rule:evenodd;stroke:#000000;stroke-width:2px;stroke-linecap:butt;stroke-linejoin:miter;stroke-opacity:1\"/>\n",
       "<path d=\"M 380.251,93.9678 387.185,90.1991\" style=\"fill:none;fill-rule:evenodd;stroke:#000000;stroke-width:2px;stroke-linecap:butt;stroke-linejoin:miter;stroke-opacity:1\"/>\n",
       "<path d=\"M 387.185,90.1991 394.118,86.4304\" style=\"fill:none;fill-rule:evenodd;stroke:#FF0000;stroke-width:2px;stroke-linecap:butt;stroke-linejoin:miter;stroke-opacity:1\"/>\n",
       "<path d=\"M 363.891,83.9524 347.038,93.1127\" style=\"fill:none;fill-rule:evenodd;stroke:#000000;stroke-width:2px;stroke-linecap:butt;stroke-linejoin:miter;stroke-opacity:1\"/>\n",
       "<path d=\"M 363.195,88.6971 351.398,95.1093\" style=\"fill:none;fill-rule:evenodd;stroke:#000000;stroke-width:2px;stroke-linecap:butt;stroke-linejoin:miter;stroke-opacity:1\"/>\n",
       "<path d=\"M 329.69,121.449 329.197,140.624\" style=\"fill:none;fill-rule:evenodd;stroke:#000000;stroke-width:2px;stroke-linecap:butt;stroke-linejoin:miter;stroke-opacity:1\"/>\n",
       "<path d=\"M 329.197,140.624 345.557,150.64\" style=\"fill:none;fill-rule:evenodd;stroke:#000000;stroke-width:2px;stroke-linecap:butt;stroke-linejoin:miter;stroke-opacity:1\"/>\n",
       "<path d=\"M 345.557,150.64 345.351,158.629\" style=\"fill:none;fill-rule:evenodd;stroke:#000000;stroke-width:2px;stroke-linecap:butt;stroke-linejoin:miter;stroke-opacity:1\"/>\n",
       "<path d=\"M 345.351,158.629 345.145,166.619\" style=\"fill:none;fill-rule:evenodd;stroke:#FF0000;stroke-width:2px;stroke-linecap:butt;stroke-linejoin:miter;stroke-opacity:1\"/>\n",
       "<path d=\"M 399.103,121.536 406.037,117.767\" style=\"fill:none;fill-rule:evenodd;stroke:#FF0000;stroke-width:2px;stroke-linecap:butt;stroke-linejoin:miter;stroke-opacity:1\"/>\n",
       "<path d=\"M 406.037,117.767 412.971,113.999\" style=\"fill:none;fill-rule:evenodd;stroke:#000000;stroke-width:2px;stroke-linecap:butt;stroke-linejoin:miter;stroke-opacity:1\"/>\n",
       "<path d=\"M 400.09,86.6354 406.777,90.7291\" style=\"fill:none;fill-rule:evenodd;stroke:#FF0000;stroke-width:2px;stroke-linecap:butt;stroke-linejoin:miter;stroke-opacity:1\"/>\n",
       "<path d=\"M 406.777,90.7291 413.464,94.8228\" style=\"fill:none;fill-rule:evenodd;stroke:#000000;stroke-width:2px;stroke-linecap:butt;stroke-linejoin:miter;stroke-opacity:1\"/>\n",
       "<path d=\"M 429.33,124.014 446.184,114.854\" style=\"fill:none;fill-rule:evenodd;stroke:#000000;stroke-width:2px;stroke-linecap:butt;stroke-linejoin:miter;stroke-opacity:1\"/>\n",
       "<path d=\"M 433.69,126.011 445.488,119.598\" style=\"fill:none;fill-rule:evenodd;stroke:#000000;stroke-width:2px;stroke-linecap:butt;stroke-linejoin:miter;stroke-opacity:1\"/>\n",
       "<path d=\"M 429.33,124.014 428.837,143.19\" style=\"fill:none;fill-rule:evenodd;stroke:#000000;stroke-width:2px;stroke-linecap:butt;stroke-linejoin:miter;stroke-opacity:1\"/>\n",
       "<path d=\"M 429.33,124.014 412.971,113.999\" style=\"fill:none;fill-rule:evenodd;stroke:#000000;stroke-width:2px;stroke-linecap:butt;stroke-linejoin:miter;stroke-opacity:1\"/>\n",
       "<path d=\"M 446.184,114.854 462.544,124.869\" style=\"fill:none;fill-rule:evenodd;stroke:#000000;stroke-width:2px;stroke-linecap:butt;stroke-linejoin:miter;stroke-opacity:1\"/>\n",
       "<path d=\"M 462.544,124.869 462.05,144.045\" style=\"fill:none;fill-rule:evenodd;stroke:#000000;stroke-width:2px;stroke-linecap:butt;stroke-linejoin:miter;stroke-opacity:1\"/>\n",
       "<path d=\"M 458.635,127.647 458.289,141.07\" style=\"fill:none;fill-rule:evenodd;stroke:#000000;stroke-width:2px;stroke-linecap:butt;stroke-linejoin:miter;stroke-opacity:1\"/>\n",
       "<path d=\"M 462.544,124.869 469.477,121.1\" style=\"fill:none;fill-rule:evenodd;stroke:#000000;stroke-width:2px;stroke-linecap:butt;stroke-linejoin:miter;stroke-opacity:1\"/>\n",
       "<path d=\"M 469.477,121.1 476.411,117.332\" style=\"fill:none;fill-rule:evenodd;stroke:#FF0000;stroke-width:2px;stroke-linecap:butt;stroke-linejoin:miter;stroke-opacity:1\"/>\n",
       "<path d=\"M 462.05,144.045 445.197,153.205\" style=\"fill:none;fill-rule:evenodd;stroke:#000000;stroke-width:2px;stroke-linecap:butt;stroke-linejoin:miter;stroke-opacity:1\"/>\n",
       "<path d=\"M 462.05,144.045 468.737,148.138\" style=\"fill:none;fill-rule:evenodd;stroke:#000000;stroke-width:2px;stroke-linecap:butt;stroke-linejoin:miter;stroke-opacity:1\"/>\n",
       "<path d=\"M 468.737,148.138 475.424,152.232\" style=\"fill:none;fill-rule:evenodd;stroke:#FF0000;stroke-width:2px;stroke-linecap:butt;stroke-linejoin:miter;stroke-opacity:1\"/>\n",
       "<path d=\"M 445.197,153.205 428.837,143.19\" style=\"fill:none;fill-rule:evenodd;stroke:#000000;stroke-width:2px;stroke-linecap:butt;stroke-linejoin:miter;stroke-opacity:1\"/>\n",
       "<path d=\"M 444.746,148.431 433.294,141.42\" style=\"fill:none;fill-rule:evenodd;stroke:#000000;stroke-width:2px;stroke-linecap:butt;stroke-linejoin:miter;stroke-opacity:1\"/>\n",
       "<path d=\"M 412.971,113.999 413.464,94.8228\" style=\"fill:none;fill-rule:evenodd;stroke:#000000;stroke-width:2px;stroke-linecap:butt;stroke-linejoin:miter;stroke-opacity:1\"/>\n",
       "<path d=\"M 413.464,94.8228 430.318,85.6625\" style=\"fill:none;fill-rule:evenodd;stroke:#000000;stroke-width:2px;stroke-linecap:butt;stroke-linejoin:miter;stroke-opacity:1\"/>\n",
       "<path d=\"M 430.318,85.6625 430.523,77.6731\" style=\"fill:none;fill-rule:evenodd;stroke:#000000;stroke-width:2px;stroke-linecap:butt;stroke-linejoin:miter;stroke-opacity:1\"/>\n",
       "<path d=\"M 430.523,77.6731 430.729,69.6838\" style=\"fill:none;fill-rule:evenodd;stroke:#FF0000;stroke-width:2px;stroke-linecap:butt;stroke-linejoin:miter;stroke-opacity:1\"/>\n",
       "<path d=\"M 482.383,117.537 489.07,121.63\" style=\"fill:none;fill-rule:evenodd;stroke:#FF0000;stroke-width:2px;stroke-linecap:butt;stroke-linejoin:miter;stroke-opacity:1\"/>\n",
       "<path d=\"M 489.07,121.63 495.757,125.724\" style=\"fill:none;fill-rule:evenodd;stroke:#000000;stroke-width:2px;stroke-linecap:butt;stroke-linejoin:miter;stroke-opacity:1\"/>\n",
       "<path d=\"M 481.396,152.437 488.33,148.669\" style=\"fill:none;fill-rule:evenodd;stroke:#FF0000;stroke-width:2px;stroke-linecap:butt;stroke-linejoin:miter;stroke-opacity:1\"/>\n",
       "<path d=\"M 488.33,148.669 495.263,144.9\" style=\"fill:none;fill-rule:evenodd;stroke:#000000;stroke-width:2px;stroke-linecap:butt;stroke-linejoin:miter;stroke-opacity:1\"/>\n",
       "<path d=\"M 512.611,116.564 528.97,126.579\" style=\"fill:none;fill-rule:evenodd;stroke:#000000;stroke-width:2px;stroke-linecap:butt;stroke-linejoin:miter;stroke-opacity:1\"/>\n",
       "<path d=\"M 517.068,114.794 528.519,121.805\" style=\"fill:none;fill-rule:evenodd;stroke:#000000;stroke-width:2px;stroke-linecap:butt;stroke-linejoin:miter;stroke-opacity:1\"/>\n",
       "<path d=\"M 512.611,116.564 513.104,97.388\" style=\"fill:none;fill-rule:evenodd;stroke:#000000;stroke-width:2px;stroke-linecap:butt;stroke-linejoin:miter;stroke-opacity:1\"/>\n",
       "<path d=\"M 512.611,116.564 495.757,125.724\" style=\"fill:none;fill-rule:evenodd;stroke:#000000;stroke-width:2px;stroke-linecap:butt;stroke-linejoin:miter;stroke-opacity:1\"/>\n",
       "<path d=\"M 528.97,126.579 545.824,117.419\" style=\"fill:none;fill-rule:evenodd;stroke:#000000;stroke-width:2px;stroke-linecap:butt;stroke-linejoin:miter;stroke-opacity:1\"/>\n",
       "<path d=\"M 545.824,117.419 546.318,98.2431\" style=\"fill:none;fill-rule:evenodd;stroke:#000000;stroke-width:2px;stroke-linecap:butt;stroke-linejoin:miter;stroke-opacity:1\"/>\n",
       "<path d=\"M 542.063,114.444 542.408,101.021\" style=\"fill:none;fill-rule:evenodd;stroke:#000000;stroke-width:2px;stroke-linecap:butt;stroke-linejoin:miter;stroke-opacity:1\"/>\n",
       "<path d=\"M 545.824,117.419 552.511,121.513\" style=\"fill:none;fill-rule:evenodd;stroke:#000000;stroke-width:2px;stroke-linecap:butt;stroke-linejoin:miter;stroke-opacity:1\"/>\n",
       "<path d=\"M 552.511,121.513 559.198,125.606\" style=\"fill:none;fill-rule:evenodd;stroke:#FF0000;stroke-width:2px;stroke-linecap:butt;stroke-linejoin:miter;stroke-opacity:1\"/>\n",
       "<path d=\"M 546.318,98.2431 529.958,88.2277\" style=\"fill:none;fill-rule:evenodd;stroke:#000000;stroke-width:2px;stroke-linecap:butt;stroke-linejoin:miter;stroke-opacity:1\"/>\n",
       "<path d=\"M 546.318,98.2431 553.251,94.4744\" style=\"fill:none;fill-rule:evenodd;stroke:#000000;stroke-width:2px;stroke-linecap:butt;stroke-linejoin:miter;stroke-opacity:1\"/>\n",
       "<path d=\"M 553.251,94.4744 560.185,90.7057\" style=\"fill:none;fill-rule:evenodd;stroke:#FF0000;stroke-width:2px;stroke-linecap:butt;stroke-linejoin:miter;stroke-opacity:1\"/>\n",
       "<path d=\"M 529.958,88.2277 513.104,97.388\" style=\"fill:none;fill-rule:evenodd;stroke:#000000;stroke-width:2px;stroke-linecap:butt;stroke-linejoin:miter;stroke-opacity:1\"/>\n",
       "<path d=\"M 529.262,92.9725 517.464,99.3847\" style=\"fill:none;fill-rule:evenodd;stroke:#000000;stroke-width:2px;stroke-linecap:butt;stroke-linejoin:miter;stroke-opacity:1\"/>\n",
       "<path d=\"M 495.757,125.724 495.263,144.9\" style=\"fill:none;fill-rule:evenodd;stroke:#000000;stroke-width:2px;stroke-linecap:butt;stroke-linejoin:miter;stroke-opacity:1\"/>\n",
       "<path d=\"M 495.263,144.9 511.623,154.915\" style=\"fill:none;fill-rule:evenodd;stroke:#000000;stroke-width:2px;stroke-linecap:butt;stroke-linejoin:miter;stroke-opacity:1\"/>\n",
       "<path d=\"M 511.623,154.915 511.418,162.905\" style=\"fill:none;fill-rule:evenodd;stroke:#000000;stroke-width:2px;stroke-linecap:butt;stroke-linejoin:miter;stroke-opacity:1\"/>\n",
       "<path d=\"M 511.418,162.905 511.212,170.894\" style=\"fill:none;fill-rule:evenodd;stroke:#FF0000;stroke-width:2px;stroke-linecap:butt;stroke-linejoin:miter;stroke-opacity:1\"/>\n",
       "<path d=\"M 565.17,125.811 572.103,122.043\" style=\"fill:none;fill-rule:evenodd;stroke:#FF0000;stroke-width:2px;stroke-linecap:butt;stroke-linejoin:miter;stroke-opacity:1\"/>\n",
       "<path d=\"M 572.103,122.043 579.037,118.274\" style=\"fill:none;fill-rule:evenodd;stroke:#000000;stroke-width:2px;stroke-linecap:butt;stroke-linejoin:miter;stroke-opacity:1\"/>\n",
       "<path d=\"M 566.157,90.9107 572.844,95.0045\" style=\"fill:none;fill-rule:evenodd;stroke:#FF0000;stroke-width:2px;stroke-linecap:butt;stroke-linejoin:miter;stroke-opacity:1\"/>\n",
       "<path d=\"M 572.844,95.0045 579.531,99.0982\" style=\"fill:none;fill-rule:evenodd;stroke:#000000;stroke-width:2px;stroke-linecap:butt;stroke-linejoin:miter;stroke-opacity:1\"/>\n",
       "<path d=\"M 595.397,128.289 612.251,119.129\" style=\"fill:none;fill-rule:evenodd;stroke:#000000;stroke-width:2px;stroke-linecap:butt;stroke-linejoin:miter;stroke-opacity:1\"/>\n",
       "<path d=\"M 599.757,130.286 611.555,123.874\" style=\"fill:none;fill-rule:evenodd;stroke:#000000;stroke-width:2px;stroke-linecap:butt;stroke-linejoin:miter;stroke-opacity:1\"/>\n",
       "<path d=\"M 595.397,128.289 594.903,147.465\" style=\"fill:none;fill-rule:evenodd;stroke:#000000;stroke-width:2px;stroke-linecap:butt;stroke-linejoin:miter;stroke-opacity:1\"/>\n",
       "<path d=\"M 595.397,128.289 579.037,118.274\" style=\"fill:none;fill-rule:evenodd;stroke:#000000;stroke-width:2px;stroke-linecap:butt;stroke-linejoin:miter;stroke-opacity:1\"/>\n",
       "<path d=\"M 612.251,119.129 628.61,129.144\" style=\"fill:none;fill-rule:evenodd;stroke:#000000;stroke-width:2px;stroke-linecap:butt;stroke-linejoin:miter;stroke-opacity:1\"/>\n",
       "<path d=\"M 628.61,129.144 628.117,148.32\" style=\"fill:none;fill-rule:evenodd;stroke:#000000;stroke-width:2px;stroke-linecap:butt;stroke-linejoin:miter;stroke-opacity:1\"/>\n",
       "<path d=\"M 624.701,131.922 624.356,145.345\" style=\"fill:none;fill-rule:evenodd;stroke:#000000;stroke-width:2px;stroke-linecap:butt;stroke-linejoin:miter;stroke-opacity:1\"/>\n",
       "<path d=\"M 628.61,129.144 635.544,125.376\" style=\"fill:none;fill-rule:evenodd;stroke:#000000;stroke-width:2px;stroke-linecap:butt;stroke-linejoin:miter;stroke-opacity:1\"/>\n",
       "<path d=\"M 635.544,125.376 642.478,121.607\" style=\"fill:none;fill-rule:evenodd;stroke:#FF0000;stroke-width:2px;stroke-linecap:butt;stroke-linejoin:miter;stroke-opacity:1\"/>\n",
       "<path d=\"M 628.117,148.32 611.263,157.48\" style=\"fill:none;fill-rule:evenodd;stroke:#000000;stroke-width:2px;stroke-linecap:butt;stroke-linejoin:miter;stroke-opacity:1\"/>\n",
       "<path d=\"M 628.117,148.32 634.804,152.414\" style=\"fill:none;fill-rule:evenodd;stroke:#000000;stroke-width:2px;stroke-linecap:butt;stroke-linejoin:miter;stroke-opacity:1\"/>\n",
       "<path d=\"M 634.804,152.414 641.491,156.508\" style=\"fill:none;fill-rule:evenodd;stroke:#FF0000;stroke-width:2px;stroke-linecap:butt;stroke-linejoin:miter;stroke-opacity:1\"/>\n",
       "<path d=\"M 611.263,157.48 594.903,147.465\" style=\"fill:none;fill-rule:evenodd;stroke:#000000;stroke-width:2px;stroke-linecap:butt;stroke-linejoin:miter;stroke-opacity:1\"/>\n",
       "<path d=\"M 610.812,152.706 599.36,145.695\" style=\"fill:none;fill-rule:evenodd;stroke:#000000;stroke-width:2px;stroke-linecap:butt;stroke-linejoin:miter;stroke-opacity:1\"/>\n",
       "<path d=\"M 579.037,118.274 579.531,99.0982\" style=\"fill:none;fill-rule:evenodd;stroke:#000000;stroke-width:2px;stroke-linecap:butt;stroke-linejoin:miter;stroke-opacity:1\"/>\n",
       "<path d=\"M 579.531,99.0982 596.384,89.9378\" style=\"fill:none;fill-rule:evenodd;stroke:#000000;stroke-width:2px;stroke-linecap:butt;stroke-linejoin:miter;stroke-opacity:1\"/>\n",
       "<path d=\"M 596.384,89.9378 596.59,81.9485\" style=\"fill:none;fill-rule:evenodd;stroke:#000000;stroke-width:2px;stroke-linecap:butt;stroke-linejoin:miter;stroke-opacity:1\"/>\n",
       "<path d=\"M 596.59,81.9485 596.796,73.9591\" style=\"fill:none;fill-rule:evenodd;stroke:#FF0000;stroke-width:2px;stroke-linecap:butt;stroke-linejoin:miter;stroke-opacity:1\"/>\n",
       "<path d=\"M 648.45,121.812 655.137,125.906\" style=\"fill:none;fill-rule:evenodd;stroke:#FF0000;stroke-width:2px;stroke-linecap:butt;stroke-linejoin:miter;stroke-opacity:1\"/>\n",
       "<path d=\"M 655.137,125.906 661.824,129.999\" style=\"fill:none;fill-rule:evenodd;stroke:#000000;stroke-width:2px;stroke-linecap:butt;stroke-linejoin:miter;stroke-opacity:1\"/>\n",
       "<path d=\"M 647.462,156.713 654.396,152.944\" style=\"fill:none;fill-rule:evenodd;stroke:#FF0000;stroke-width:2px;stroke-linecap:butt;stroke-linejoin:miter;stroke-opacity:1\"/>\n",
       "<path d=\"M 654.396,152.944 661.33,149.175\" style=\"fill:none;fill-rule:evenodd;stroke:#000000;stroke-width:2px;stroke-linecap:butt;stroke-linejoin:miter;stroke-opacity:1\"/>\n",
       "<path d=\"M 678.677,120.839 695.037,130.854\" style=\"fill:none;fill-rule:evenodd;stroke:#000000;stroke-width:2px;stroke-linecap:butt;stroke-linejoin:miter;stroke-opacity:1\"/>\n",
       "<path d=\"M 683.134,119.069 694.586,126.08\" style=\"fill:none;fill-rule:evenodd;stroke:#000000;stroke-width:2px;stroke-linecap:butt;stroke-linejoin:miter;stroke-opacity:1\"/>\n",
       "<path d=\"M 678.677,120.839 679.171,101.663\" style=\"fill:none;fill-rule:evenodd;stroke:#000000;stroke-width:2px;stroke-linecap:butt;stroke-linejoin:miter;stroke-opacity:1\"/>\n",
       "<path d=\"M 678.677,120.839 661.824,129.999\" style=\"fill:none;fill-rule:evenodd;stroke:#000000;stroke-width:2px;stroke-linecap:butt;stroke-linejoin:miter;stroke-opacity:1\"/>\n",
       "<path d=\"M 695.037,130.854 711.891,121.694\" style=\"fill:none;fill-rule:evenodd;stroke:#000000;stroke-width:2px;stroke-linecap:butt;stroke-linejoin:miter;stroke-opacity:1\"/>\n",
       "<path d=\"M 711.891,121.694 712.384,102.518\" style=\"fill:none;fill-rule:evenodd;stroke:#000000;stroke-width:2px;stroke-linecap:butt;stroke-linejoin:miter;stroke-opacity:1\"/>\n",
       "<path d=\"M 708.129,118.719 708.475,105.296\" style=\"fill:none;fill-rule:evenodd;stroke:#000000;stroke-width:2px;stroke-linecap:butt;stroke-linejoin:miter;stroke-opacity:1\"/>\n",
       "<path d=\"M 711.891,121.694 718.577,125.788\" style=\"fill:none;fill-rule:evenodd;stroke:#000000;stroke-width:2px;stroke-linecap:butt;stroke-linejoin:miter;stroke-opacity:1\"/>\n",
       "<path d=\"M 718.577,125.788 725.264,129.882\" style=\"fill:none;fill-rule:evenodd;stroke:#FF0000;stroke-width:2px;stroke-linecap:butt;stroke-linejoin:miter;stroke-opacity:1\"/>\n",
       "<path d=\"M 712.384,102.518 696.024,92.503\" style=\"fill:none;fill-rule:evenodd;stroke:#000000;stroke-width:2px;stroke-linecap:butt;stroke-linejoin:miter;stroke-opacity:1\"/>\n",
       "<path d=\"M 712.384,102.518 719.318,98.7497\" style=\"fill:none;fill-rule:evenodd;stroke:#000000;stroke-width:2px;stroke-linecap:butt;stroke-linejoin:miter;stroke-opacity:1\"/>\n",
       "<path d=\"M 719.318,98.7497 726.252,94.981\" style=\"fill:none;fill-rule:evenodd;stroke:#FF0000;stroke-width:2px;stroke-linecap:butt;stroke-linejoin:miter;stroke-opacity:1\"/>\n",
       "<path d=\"M 696.024,92.503 679.171,101.663\" style=\"fill:none;fill-rule:evenodd;stroke:#000000;stroke-width:2px;stroke-linecap:butt;stroke-linejoin:miter;stroke-opacity:1\"/>\n",
       "<path d=\"M 695.328,97.2478 683.531,103.66\" style=\"fill:none;fill-rule:evenodd;stroke:#000000;stroke-width:2px;stroke-linecap:butt;stroke-linejoin:miter;stroke-opacity:1\"/>\n",
       "<path d=\"M 661.824,129.999 661.33,149.175\" style=\"fill:none;fill-rule:evenodd;stroke:#000000;stroke-width:2px;stroke-linecap:butt;stroke-linejoin:miter;stroke-opacity:1\"/>\n",
       "<path d=\"M 661.33,149.175 677.69,159.191\" style=\"fill:none;fill-rule:evenodd;stroke:#000000;stroke-width:2px;stroke-linecap:butt;stroke-linejoin:miter;stroke-opacity:1\"/>\n",
       "<path d=\"M 677.69,159.191 677.484,167.18\" style=\"fill:none;fill-rule:evenodd;stroke:#000000;stroke-width:2px;stroke-linecap:butt;stroke-linejoin:miter;stroke-opacity:1\"/>\n",
       "<path d=\"M 677.484,167.18 677.278,175.169\" style=\"fill:none;fill-rule:evenodd;stroke:#FF0000;stroke-width:2px;stroke-linecap:butt;stroke-linejoin:miter;stroke-opacity:1\"/>\n",
       "<path d=\"M 731.236,130.087 738.17,126.318\" style=\"fill:none;fill-rule:evenodd;stroke:#FF0000;stroke-width:2px;stroke-linecap:butt;stroke-linejoin:miter;stroke-opacity:1\"/>\n",
       "<path d=\"M 738.17,126.318 745.104,122.549\" style=\"fill:none;fill-rule:evenodd;stroke:#000000;stroke-width:2px;stroke-linecap:butt;stroke-linejoin:miter;stroke-opacity:1\"/>\n",
       "<path d=\"M 732.224,95.1861 738.911,99.2798\" style=\"fill:none;fill-rule:evenodd;stroke:#FF0000;stroke-width:2px;stroke-linecap:butt;stroke-linejoin:miter;stroke-opacity:1\"/>\n",
       "<path d=\"M 738.911,99.2798 745.598,103.374\" style=\"fill:none;fill-rule:evenodd;stroke:#000000;stroke-width:2px;stroke-linecap:butt;stroke-linejoin:miter;stroke-opacity:1\"/>\n",
       "<path d=\"M 761.464,132.565 778.317,123.404\" style=\"fill:none;fill-rule:evenodd;stroke:#000000;stroke-width:2px;stroke-linecap:butt;stroke-linejoin:miter;stroke-opacity:1\"/>\n",
       "<path d=\"M 765.824,134.561 777.621,128.149\" style=\"fill:none;fill-rule:evenodd;stroke:#000000;stroke-width:2px;stroke-linecap:butt;stroke-linejoin:miter;stroke-opacity:1\"/>\n",
       "<path d=\"M 761.464,132.565 760.97,151.74\" style=\"fill:none;fill-rule:evenodd;stroke:#000000;stroke-width:2px;stroke-linecap:butt;stroke-linejoin:miter;stroke-opacity:1\"/>\n",
       "<path d=\"M 761.464,132.565 745.104,122.549\" style=\"fill:none;fill-rule:evenodd;stroke:#000000;stroke-width:2px;stroke-linecap:butt;stroke-linejoin:miter;stroke-opacity:1\"/>\n",
       "<path d=\"M 778.317,123.404 794.677,133.42\" style=\"fill:none;fill-rule:evenodd;stroke:#000000;stroke-width:2px;stroke-linecap:butt;stroke-linejoin:miter;stroke-opacity:1\"/>\n",
       "<path d=\"M 794.677,133.42 794.183,152.595\" style=\"fill:none;fill-rule:evenodd;stroke:#000000;stroke-width:2px;stroke-linecap:butt;stroke-linejoin:miter;stroke-opacity:1\"/>\n",
       "<path d=\"M 790.768,136.197 790.422,149.62\" style=\"fill:none;fill-rule:evenodd;stroke:#000000;stroke-width:2px;stroke-linecap:butt;stroke-linejoin:miter;stroke-opacity:1\"/>\n",
       "<path d=\"M 794.677,133.42 801.611,129.651\" style=\"fill:none;fill-rule:evenodd;stroke:#000000;stroke-width:2px;stroke-linecap:butt;stroke-linejoin:miter;stroke-opacity:1\"/>\n",
       "<path d=\"M 801.611,129.651 808.545,125.882\" style=\"fill:none;fill-rule:evenodd;stroke:#FF0000;stroke-width:2px;stroke-linecap:butt;stroke-linejoin:miter;stroke-opacity:1\"/>\n",
       "<path d=\"M 794.183,152.595 777.33,161.756\" style=\"fill:none;fill-rule:evenodd;stroke:#000000;stroke-width:2px;stroke-linecap:butt;stroke-linejoin:miter;stroke-opacity:1\"/>\n",
       "<path d=\"M 794.183,152.595 800.87,156.689\" style=\"fill:none;fill-rule:evenodd;stroke:#000000;stroke-width:2px;stroke-linecap:butt;stroke-linejoin:miter;stroke-opacity:1\"/>\n",
       "<path d=\"M 800.87,156.689 807.557,160.783\" style=\"fill:none;fill-rule:evenodd;stroke:#FF0000;stroke-width:2px;stroke-linecap:butt;stroke-linejoin:miter;stroke-opacity:1\"/>\n",
       "<path d=\"M 777.33,161.756 760.97,151.74\" style=\"fill:none;fill-rule:evenodd;stroke:#000000;stroke-width:2px;stroke-linecap:butt;stroke-linejoin:miter;stroke-opacity:1\"/>\n",
       "<path d=\"M 776.879,156.981 765.427,149.971\" style=\"fill:none;fill-rule:evenodd;stroke:#000000;stroke-width:2px;stroke-linecap:butt;stroke-linejoin:miter;stroke-opacity:1\"/>\n",
       "<path d=\"M 745.104,122.549 745.598,103.374\" style=\"fill:none;fill-rule:evenodd;stroke:#000000;stroke-width:2px;stroke-linecap:butt;stroke-linejoin:miter;stroke-opacity:1\"/>\n",
       "<path d=\"M 745.598,103.374 762.451,94.2132\" style=\"fill:none;fill-rule:evenodd;stroke:#000000;stroke-width:2px;stroke-linecap:butt;stroke-linejoin:miter;stroke-opacity:1\"/>\n",
       "<path d=\"M 762.451,94.2132 762.657,86.2238\" style=\"fill:none;fill-rule:evenodd;stroke:#000000;stroke-width:2px;stroke-linecap:butt;stroke-linejoin:miter;stroke-opacity:1\"/>\n",
       "<path d=\"M 762.657,86.2238 762.862,78.2345\" style=\"fill:none;fill-rule:evenodd;stroke:#FF0000;stroke-width:2px;stroke-linecap:butt;stroke-linejoin:miter;stroke-opacity:1\"/>\n",
       "<path d=\"M 814.516,126.087 821.203,130.181\" style=\"fill:none;fill-rule:evenodd;stroke:#FF0000;stroke-width:2px;stroke-linecap:butt;stroke-linejoin:miter;stroke-opacity:1\"/>\n",
       "<path d=\"M 821.203,130.181 827.89,134.275\" style=\"fill:none;fill-rule:evenodd;stroke:#000000;stroke-width:2px;stroke-linecap:butt;stroke-linejoin:miter;stroke-opacity:1\"/>\n",
       "<path d=\"M 813.529,160.988 820.463,157.219\" style=\"fill:none;fill-rule:evenodd;stroke:#FF0000;stroke-width:2px;stroke-linecap:butt;stroke-linejoin:miter;stroke-opacity:1\"/>\n",
       "<path d=\"M 820.463,157.219 827.397,153.45\" style=\"fill:none;fill-rule:evenodd;stroke:#000000;stroke-width:2px;stroke-linecap:butt;stroke-linejoin:miter;stroke-opacity:1\"/>\n",
       "<path d=\"M 844.744,125.114 861.104,135.13\" style=\"fill:none;fill-rule:evenodd;stroke:#000000;stroke-width:2px;stroke-linecap:butt;stroke-linejoin:miter;stroke-opacity:1\"/>\n",
       "<path d=\"M 849.201,123.345 860.653,130.356\" style=\"fill:none;fill-rule:evenodd;stroke:#000000;stroke-width:2px;stroke-linecap:butt;stroke-linejoin:miter;stroke-opacity:1\"/>\n",
       "<path d=\"M 844.744,125.114 845.238,105.939\" style=\"fill:none;fill-rule:evenodd;stroke:#000000;stroke-width:2px;stroke-linecap:butt;stroke-linejoin:miter;stroke-opacity:1\"/>\n",
       "<path d=\"M 844.744,125.114 827.89,134.275\" style=\"fill:none;fill-rule:evenodd;stroke:#000000;stroke-width:2px;stroke-linecap:butt;stroke-linejoin:miter;stroke-opacity:1\"/>\n",
       "<path d=\"M 861.104,135.13 877.957,125.97\" style=\"fill:none;fill-rule:evenodd;stroke:#000000;stroke-width:2px;stroke-linecap:butt;stroke-linejoin:miter;stroke-opacity:1\"/>\n",
       "<path d=\"M 877.957,125.97 878.451,106.794\" style=\"fill:none;fill-rule:evenodd;stroke:#000000;stroke-width:2px;stroke-linecap:butt;stroke-linejoin:miter;stroke-opacity:1\"/>\n",
       "<path d=\"M 874.196,122.994 874.542,109.571\" style=\"fill:none;fill-rule:evenodd;stroke:#000000;stroke-width:2px;stroke-linecap:butt;stroke-linejoin:miter;stroke-opacity:1\"/>\n",
       "<path d=\"M 877.957,125.97 883.526,129.379\" style=\"fill:none;fill-rule:evenodd;stroke:#000000;stroke-width:2px;stroke-linecap:butt;stroke-linejoin:miter;stroke-opacity:1\"/>\n",
       "<path d=\"M 883.526,129.379 889.095,132.788\" style=\"fill:none;fill-rule:evenodd;stroke:#FF0000;stroke-width:2px;stroke-linecap:butt;stroke-linejoin:miter;stroke-opacity:1\"/>\n",
       "<path d=\"M 878.451,106.794 862.091,96.7784\" style=\"fill:none;fill-rule:evenodd;stroke:#000000;stroke-width:2px;stroke-linecap:butt;stroke-linejoin:miter;stroke-opacity:1\"/>\n",
       "<path d=\"M 878.451,106.794 883.999,103.778\" style=\"fill:none;fill-rule:evenodd;stroke:#000000;stroke-width:2px;stroke-linecap:butt;stroke-linejoin:miter;stroke-opacity:1\"/>\n",
       "<path d=\"M 883.999,103.778 889.547,100.763\" style=\"fill:none;fill-rule:evenodd;stroke:#FF0000;stroke-width:2px;stroke-linecap:butt;stroke-linejoin:miter;stroke-opacity:1\"/>\n",
       "<path d=\"M 862.091,96.7784 845.238,105.939\" style=\"fill:none;fill-rule:evenodd;stroke:#000000;stroke-width:2px;stroke-linecap:butt;stroke-linejoin:miter;stroke-opacity:1\"/>\n",
       "<path d=\"M 861.395,101.523 849.598,107.935\" style=\"fill:none;fill-rule:evenodd;stroke:#000000;stroke-width:2px;stroke-linecap:butt;stroke-linejoin:miter;stroke-opacity:1\"/>\n",
       "<path d=\"M 827.89,134.275 827.397,153.45\" style=\"fill:none;fill-rule:evenodd;stroke:#000000;stroke-width:2px;stroke-linecap:butt;stroke-linejoin:miter;stroke-opacity:1\"/>\n",
       "<path d=\"M 827.397,153.45 843.756,163.466\" style=\"fill:none;fill-rule:evenodd;stroke:#000000;stroke-width:2px;stroke-linecap:butt;stroke-linejoin:miter;stroke-opacity:1\"/>\n",
       "<path d=\"M 843.756,163.466 843.551,171.455\" style=\"fill:none;fill-rule:evenodd;stroke:#000000;stroke-width:2px;stroke-linecap:butt;stroke-linejoin:miter;stroke-opacity:1\"/>\n",
       "<path d=\"M 843.551,171.455 843.345,179.445\" style=\"fill:none;fill-rule:evenodd;stroke:#FF0000;stroke-width:2px;stroke-linecap:butt;stroke-linejoin:miter;stroke-opacity:1\"/>\n",
       "<text style=\"font-size:6px;font-style:normal;font-weight:normal;fill-opacity:1;stroke:none;font-family:sans-serif;text-anchor:start;fill:#FF0000\" x=\"164.822\" y=\"171.241\"><tspan>OH</tspan></text>\n",
       "<text style=\"font-size:6px;font-style:normal;font-weight:normal;fill-opacity:1;stroke:none;font-family:sans-serif;text-anchor:start;fill:#FF0000\" x=\"227.064\" y=\"122.081\"><tspan>O</tspan></text>\n",
       "<text style=\"font-size:6px;font-style:normal;font-weight:normal;fill-opacity:1;stroke:none;font-family:sans-serif;text-anchor:start;fill:#FF0000\" x=\"228.052\" y=\"83.7291\"><tspan>O</tspan></text>\n",
       "<text style=\"font-size:6px;font-style:normal;font-weight:normal;fill-opacity:1;stroke:none;font-family:sans-serif;text-anchor:start;fill:#FF0000\" x=\"48.9387\" y=\"190.492\"><tspan>HO</tspan></text>\n",
       "<text style=\"font-size:6px;font-style:normal;font-weight:normal;fill-opacity:1;stroke:none;font-family:sans-serif;text-anchor:start;fill:#FF0000\" x=\"99.0157\" y=\"108.693\"><tspan>OH</tspan></text>\n",
       "<text style=\"font-size:6px;font-style:normal;font-weight:normal;fill-opacity:1;stroke:none;font-family:sans-serif;text-anchor:start;fill:#FF0000\" x=\"143.321\" y=\"112.12\"><tspan>O</tspan></text>\n",
       "<text style=\"font-size:6px;font-style:normal;font-weight:normal;fill-opacity:1;stroke:none;font-family:sans-serif;text-anchor:start;fill:#FF0000\" x=\"258.988\" y=\"65.4084\"><tspan>OH</tspan></text>\n",
       "<text style=\"font-size:6px;font-style:normal;font-weight:normal;fill-opacity:1;stroke:none;font-family:sans-serif;text-anchor:start;fill:#FF0000\" x=\"310.345\" y=\"114.63\"><tspan>O</tspan></text>\n",
       "<text style=\"font-size:6px;font-style:normal;font-weight:normal;fill-opacity:1;stroke:none;font-family:sans-serif;text-anchor:start;fill:#FF0000\" x=\"309.357\" y=\"152.982\"><tspan>O</tspan></text>\n",
       "<text style=\"font-size:6px;font-style:normal;font-weight:normal;fill-opacity:1;stroke:none;font-family:sans-serif;text-anchor:start;fill:#FF0000\" x=\"339.306\" y=\"173.013\"><tspan>OH</tspan></text>\n",
       "<text style=\"font-size:6px;font-style:normal;font-weight:normal;fill-opacity:1;stroke:none;font-family:sans-serif;text-anchor:start;fill:#FF0000\" x=\"393.131\" y=\"126.356\"><tspan>O</tspan></text>\n",
       "<text style=\"font-size:6px;font-style:normal;font-weight:normal;fill-opacity:1;stroke:none;font-family:sans-serif;text-anchor:start;fill:#FF0000\" x=\"394.118\" y=\"88.0044\"><tspan>O</tspan></text>\n",
       "<text style=\"font-size:6px;font-style:normal;font-weight:normal;fill-opacity:1;stroke:none;font-family:sans-serif;text-anchor:start;fill:#FF0000\" x=\"425.054\" y=\"69.6838\"><tspan>OH</tspan></text>\n",
       "<text style=\"font-size:6px;font-style:normal;font-weight:normal;fill-opacity:1;stroke:none;font-family:sans-serif;text-anchor:start;fill:#FF0000\" x=\"476.411\" y=\"118.906\"><tspan>O</tspan></text>\n",
       "<text style=\"font-size:6px;font-style:normal;font-weight:normal;fill-opacity:1;stroke:none;font-family:sans-serif;text-anchor:start;fill:#FF0000\" x=\"475.424\" y=\"157.257\"><tspan>O</tspan></text>\n",
       "<text style=\"font-size:6px;font-style:normal;font-weight:normal;fill-opacity:1;stroke:none;font-family:sans-serif;text-anchor:start;fill:#FF0000\" x=\"505.373\" y=\"177.288\"><tspan>OH</tspan></text>\n",
       "<text style=\"font-size:6px;font-style:normal;font-weight:normal;fill-opacity:1;stroke:none;font-family:sans-serif;text-anchor:start;fill:#FF0000\" x=\"559.198\" y=\"130.631\"><tspan>O</tspan></text>\n",
       "<text style=\"font-size:6px;font-style:normal;font-weight:normal;fill-opacity:1;stroke:none;font-family:sans-serif;text-anchor:start;fill:#FF0000\" x=\"560.185\" y=\"92.2798\"><tspan>O</tspan></text>\n",
       "<text style=\"font-size:6px;font-style:normal;font-weight:normal;fill-opacity:1;stroke:none;font-family:sans-serif;text-anchor:start;fill:#FF0000\" x=\"591.121\" y=\"73.9591\"><tspan>OH</tspan></text>\n",
       "<text style=\"font-size:6px;font-style:normal;font-weight:normal;fill-opacity:1;stroke:none;font-family:sans-serif;text-anchor:start;fill:#FF0000\" x=\"642.478\" y=\"123.181\"><tspan>O</tspan></text>\n",
       "<text style=\"font-size:6px;font-style:normal;font-weight:normal;fill-opacity:1;stroke:none;font-family:sans-serif;text-anchor:start;fill:#FF0000\" x=\"641.491\" y=\"161.532\"><tspan>O</tspan></text>\n",
       "<text style=\"font-size:6px;font-style:normal;font-weight:normal;fill-opacity:1;stroke:none;font-family:sans-serif;text-anchor:start;fill:#FF0000\" x=\"671.439\" y=\"181.563\"><tspan>OH</tspan></text>\n",
       "<text style=\"font-size:6px;font-style:normal;font-weight:normal;fill-opacity:1;stroke:none;font-family:sans-serif;text-anchor:start;fill:#FF0000\" x=\"725.264\" y=\"134.907\"><tspan>O</tspan></text>\n",
       "<text style=\"font-size:6px;font-style:normal;font-weight:normal;fill-opacity:1;stroke:none;font-family:sans-serif;text-anchor:start;fill:#FF0000\" x=\"726.252\" y=\"96.5551\"><tspan>O</tspan></text>\n",
       "<text style=\"font-size:6px;font-style:normal;font-weight:normal;fill-opacity:1;stroke:none;font-family:sans-serif;text-anchor:start;fill:#FF0000\" x=\"757.188\" y=\"78.2345\"><tspan>OH</tspan></text>\n",
       "<text style=\"font-size:6px;font-style:normal;font-weight:normal;fill-opacity:1;stroke:none;font-family:sans-serif;text-anchor:start;fill:#FF0000\" x=\"808.545\" y=\"127.456\"><tspan>O</tspan></text>\n",
       "<text style=\"font-size:6px;font-style:normal;font-weight:normal;fill-opacity:1;stroke:none;font-family:sans-serif;text-anchor:start;fill:#FF0000\" x=\"807.557\" y=\"165.808\"><tspan>O</tspan></text>\n",
       "<text style=\"font-size:6px;font-style:normal;font-weight:normal;fill-opacity:1;stroke:none;font-family:sans-serif;text-anchor:start;fill:#FF0000\" x=\"837.506\" y=\"185.839\"><tspan>OH</tspan></text>\n",
       "<text style=\"font-size:6px;font-style:normal;font-weight:normal;fill-opacity:1;stroke:none;font-family:sans-serif;text-anchor:start;fill:#FF0000\" x=\"888.56\" y=\"139.182\"><tspan>OH</tspan></text>\n",
       "<text style=\"font-size:6px;font-style:normal;font-weight:normal;fill-opacity:1;stroke:none;font-family:sans-serif;text-anchor:start;fill:#FF0000\" x=\"889.547\" y=\"100.83\"><tspan>OH</tspan></text>\n",
       "</svg>"
      ],
      "text/plain": [
       "<IPython.core.display.SVG object>"
      ]
     },
     "execution_count": 9,
     "metadata": {},
     "output_type": "execute_result"
    }
   ],
   "source": [
    "n = 2\n",
    "\n",
    "mons = [ kmc.Monomer( 2 , i ) for i in range(n) ]\n",
    "startEvents = [ kmc.Event ( 'ox' , [i] , cRates['ox'][ 2 ]['monomer'] ) for i in range(n) ]\n",
    "\n",
    "state = { i : {'mon' : mons[i] , 'affected' : {startEvents[i]} } for i in range(n)}\n",
    "events = { startEvents[i] for i in range(n)}\n",
    "events.add(kmc.Event('grow',[],rate=1e0))\n",
    "\n",
    "res = kmc.run_kmc(nMax = 10,tFinal = 1000, rates = cRates, initialState = state, initialEvents = events)\n",
    "nodes = res['monomers']\n",
    "adj = res['adjacency_matrix']\n",
    "\n",
    "block = kmc.generateMol(adj,nodes)\n",
    "mol = Chem.MolFromMolBlock(block)\n",
    "AllChem.Compute2DCoords(mol)\n",
    "SVG(kmc.moltosvg(mol,molSize=(950,250)))"
   ]
  },
  {
   "cell_type": "markdown",
   "metadata": {},
   "source": [
    "## Sensitivity Analyses Examples\n",
    "The meat of the results and discussion for our paper lay in the predictions of how lignin composition should change with different sets of parameters used for lignification. These calculations were performed on desktop hardware over about a week's period, but for the sake of explanation, shorter examples are used here. We investigated the impact of S to G ratio and addition rate primarily."
   ]
  },
  {
   "cell_type": "markdown",
   "metadata": {},
   "source": [
    "### SG Batch Sensitivity\n",
    "The first analysis performed is the dependence of monomer yields and bond contents on SG ratio, where we selected multiple SG ratios between 0.1 and 10 and ran the simulations for these scenarios."
   ]
  },
  {
   "cell_type": "code",
   "execution_count": 10,
   "metadata": {},
   "outputs": [
    {
     "name": "stdout",
     "output_type": "stream",
     "text": [
      "Completed sensitivity iteration: 0.1\n",
      "Finished on 2019-12-5 at 10:20:25\n",
      "Completed sensitivity iteration: 0.2\n",
      "Finished on 2019-12-5 at 10:23:45\n",
      "Completed sensitivity iteration: 0.25\n",
      "Finished on 2019-12-5 at 10:26:21\n",
      "Completed sensitivity iteration: 0.33\n",
      "Finished on 2019-12-5 at 10:30:59\n",
      "Completed sensitivity iteration: 0.5\n",
      "Finished on 2019-12-5 at 10:34:2\n",
      "Completed sensitivity iteration: 1\n",
      "Finished on 2019-12-5 at 10:37:15\n",
      "Completed sensitivity iteration: 2\n",
      "Finished on 2019-12-5 at 10:40:6\n",
      "Completed sensitivity iteration: 3\n",
      "Finished on 2019-12-5 at 10:43:22\n",
      "Completed sensitivity iteration: 4\n",
      "Finished on 2019-12-5 at 10:59:3\n",
      "Completed sensitivity iteration: 5\n",
      "Finished on 2019-12-5 at 11:3:33\n",
      "Completed sensitivity iteration: 10\n",
      "Finished on 2019-12-5 at 11:5:25\n"
     ]
    }
   ],
   "source": [
    "sg_opts = [0.1,0.2,0.25,0.33,0.5,1,2,3,4,5,10]\n",
    "\n",
    "fun = par.delayed(kmc.run_kmc)\n",
    "resultsToSave = []\n",
    "     \n",
    "for sg in sg_opts:\n",
    "    #Set the percentage of S\n",
    "    pct = sg / (1 + sg)\n",
    "    \n",
    "    #Make choices about what kinds of monomers there are\n",
    "    n = 200\n",
    "    rands = np.random.rand(n)\n",
    "    \n",
    "    #Initialize the monomers, events, and state\n",
    "    mons = [ kmc.Monomer( int ( sOrG < pct ) , i ) for i,sOrG in zip ( range(n) , rands ) ]\n",
    "    startEvents = [ kmc.Event ( 'ox' , [i] , rates['ox'][ int( sOrG < pct ) ]['monomer'] ) for i,sOrG in zip ( range(n) , rands) ]\n",
    "\n",
    "    state = { i : {'mon' : mons[i] , 'affected' : {startEvents[i]} } for i in range(n) }\n",
    "    events = { startEvents[i] for i in range(n) }\n",
    "\n",
    "    results = par.Parallel(n_jobs = 4)([fun(nMax = 200, tFinal = 1,rates = rates,initialState = state,initialEvents = events)\n",
    "                                        for _ in range(5)])\n",
    "    resultsToSave.append(results)\n",
    "    print('Completed sensitivity iteration: ' + str(sg))\n",
    "\n",
    "    t = time.localtime()\n",
    "    print('Finished on ' + str(t.tm_year) + '-' + str(t.tm_mon) + '-' + str(t.tm_mday) \n",
    "            + ' at ' + str(t.tm_hour) + ':' + str(t.tm_min) + ':' + str(t.tm_sec))"
   ]
  },
  {
   "cell_type": "markdown",
   "metadata": {},
   "source": [
    "We must now aggregate the results that we obtained in the form of adjacency matrices and monomer lists and times to meaningful values of monomer yields and bond contents."
   ]
  },
  {
   "cell_type": "code",
   "execution_count": 11,
   "metadata": {},
   "outputs": [
    {
     "name": "stdout",
     "output_type": "stream",
     "text": [
      "Finished on  2019-12-5 at 11:5:34\n",
      "Finished on  2019-12-5 at 11:5:39\n",
      "Finished on  2019-12-5 at 11:5:45\n",
      "Finished on  2019-12-5 at 11:5:54\n",
      "Finished on  2019-12-5 at 11:6:2\n",
      "Finished on  2019-12-5 at 11:6:10\n",
      "Finished on  2019-12-5 at 11:6:18\n",
      "Finished on  2019-12-5 at 11:6:25\n",
      "Finished on  2019-12-5 at 11:6:33\n",
      "Finished on  2019-12-5 at 11:6:39\n",
      "Finished on  2019-12-5 at 11:6:43\n"
     ]
    }
   ],
   "source": [
    "nodeRes = [0]*len(resultsToSave); adjRes = [0]*len(resultsToSave);\n",
    "analysis = [0]*len(resultsToSave)\n",
    "for i in range(len(resultsToSave)):\n",
    "    nodeRes[i] = [resultsToSave[i][j]['monomers'] for j in range(len(resultsToSave[i]))]\n",
    "    adjRes[i] = [resultsToSave[i][j]['adjacency_matrix'] for j in range(len(resultsToSave[i]))]\n",
    "    \n",
    "    analysis[i] = par.Parallel(n_jobs = 4)([par.delayed(kmc.analyze)\n",
    "                                         (adjacency = adjRes[i][j],\n",
    "                                          nodes = nodeRes[i][j]) \n",
    "                                         for j in range(len(resultsToSave[i]))])\n",
    "    t = time.localtime()\n",
    "    print('Finished on ',(str(t.tm_year) + '-' + str(t.tm_mon) + '-' \n",
    "                          + str(t.tm_mday)), 'at', \n",
    "         (str(t.tm_hour) + ':' + str(t.tm_min) + ':' + str(t.tm_sec)))"
   ]
  },
  {
   "cell_type": "markdown",
   "metadata": {},
   "source": [
    "Now as an example, we will look at the distribution of monomer yields that we got, and then summarize that distribution with the sample mean and standard deviation, which will be used for all of the subsequent analyses. To visualize these results, we first need to extract the information from the analysis data structure, and normalize the data to the total number of monomers or total number of bonds."
   ]
  },
  {
   "cell_type": "code",
   "execution_count": 12,
   "metadata": {},
   "outputs": [],
   "source": [
    "nsens = len(analysis)\n",
    "nrep = len(analysis[0])\n",
    "\n",
    "nmon = [[sum([analysis[j][i]['Chain Lengths'][k]*k for k in analysis[j][i]['Chain Lengths']]) \n",
    "         for i in range(nrep)] for j in range(nsens)]\n",
    "\n",
    "monomerYields = [[analysis[j][i]['RCF Yields'][1]/nmon[j][i] \n",
    "                  for i in range(nrep)] for j in range(nsens)]\n",
    "betaO4Content = [[analysis[j][i]['Bonds']['bo4']/sum(analysis[j][i]['Bonds'].values())\n",
    "                 for i in range(nrep)] for j in range(nsens)]\n",
    "beta5Content = [[analysis[j][i]['Bonds']['b5']/sum(analysis[j][i]['Bonds'].values())\n",
    "                 for i in range(nrep)] for j in range(nsens)]\n",
    "betabetaContent = [[analysis[j][i]['Bonds']['bb']/sum(analysis[j][i]['Bonds'].values())\n",
    "                 for i in range(nrep)] for j in range(nsens)]\n",
    "beta1Content = [[analysis[j][i]['Bonds']['b1']/sum(analysis[j][i]['Bonds'].values())\n",
    "                 for i in range(nrep)] for j in range(nsens)]\n",
    "fiveO4Content = [[analysis[j][i]['Bonds']['5o4']/sum(analysis[j][i]['Bonds'].values())\n",
    "                 for i in range(nrep)] for j in range(nsens)]\n",
    "alphaO4Content = [[analysis[j][i]['Bonds']['ao4']/sum(analysis[j][i]['Bonds'].values())\n",
    "                 for i in range(nrep)] for j in range(nsens)]\n",
    "fivefiveContent = [[analysis[j][i]['Bonds']['55']/sum(analysis[j][i]['Bonds'].values())\n",
    "                 for i in range(nrep)] for j in range(nsens)]\n",
    "\n",
    "av_monYield = [np.mean(hist) for hist in monomerYields]; std_monYield = [np.sqrt(np.var(hist)) for hist in monomerYields];\n",
    "av_bo4Content = [np.mean(hist) for hist in betaO4Content]; std_bo4Content = [np.sqrt(np.var(hist)) for hist in betaO4Content];\n",
    "av_b5Content = [np.mean(hist) for hist in beta5Content]; std_b5Content = [np.sqrt(np.var(hist)) for hist in beta5Content];\n",
    "av_bbContent = [np.mean(hist) for hist in betabetaContent]; std_bbContent = [np.sqrt(np.var(hist)) for hist in betabetaContent];\n",
    "av_b1Content = [np.mean(hist) for hist in beta1Content]; std_b1Content = [np.sqrt(np.var(hist)) for hist in beta1Content];\n",
    "av_5o4Content = [np.mean(hist) for hist in fiveO4Content]; std_5o4Content = [np.sqrt(np.var(hist)) for hist in fiveO4Content];\n",
    "av_ao4Content = [np.mean(hist) for hist in alphaO4Content]; std_ao4Content = [np.sqrt(np.var(hist)) for hist in alphaO4Content];\n",
    "av_55Content = [np.mean(hist) for hist in fivefiveContent]; std_55Content = [np.sqrt(np.var(hist)) for hist in fivefiveContent];"
   ]
  },
  {
   "cell_type": "markdown",
   "metadata": {},
   "source": [
    "With this aggregation complete, we now plot the histograms of monomer yields for 3 cases of SG ratios - 0.1, 1, and 10. With so few repeats, these histograms look very poor, but with greater repeats there is a much clearer trend and approximation of the normal distribution - which justifies the use of sample norm and standard deviation as summary statistics."
   ]
  },
  {
   "cell_type": "code",
   "execution_count": 13,
   "metadata": {},
   "outputs": [
    {
     "data": {
      "image/png": "[encoded data removed]",
      "text/plain": [
       "<Figure size 252x252 with 1 Axes>"
      ]
     },
     "metadata": {
      "needs_background": "light"
     },
     "output_type": "display_data"
    }
   ],
   "source": [
    "plt.figure(figsize=(3.5,3.5))\n",
    "plt.hist(monomerYields[0],bins=np.linspace(0,0.2,21),density=1,facecolor='black',alpha=0.5,edgecolor='black',label='S/G=0.1')\n",
    "plt.hist(monomerYields[5],bins=np.linspace(0,0.2,21),density=1,facecolor='red',alpha=0.5,edgecolor='black',label='S/G=1')\n",
    "plt.hist(monomerYields[10],bins=np.linspace(0,0.2,21),density=1,facecolor='blue',alpha=0.5,edgecolor='black',label='S/G=10')\n",
    "[plt.gca().spines[i].set_linewidth(1.5) for i in ['top','right','bottom','left']]\n",
    "plt.gca().tick_params(axis = 'both',which = 'major', labelsize = 14, direction = 'in', pad = 8, top = True, right = True, width = 1.5,length=6)\n",
    "plt.xlim([0.0,0.2])\n",
    "plt.gca().set_yticklabels(['']*len(plt.gca().get_yticklabels()))\n",
    "plt.xlabel('Monomer Yield [-]',fontsize=14)\n",
    "plt.legend(fontsize=14,loc='best');"
   ]
  },
  {
   "cell_type": "markdown",
   "metadata": {},
   "source": [
    "As mentioned above, with more repeats these distributions approach the normal distribution. In addition, if we want to add more sensitivity results to this plot, it starts to look messier and more crowded. Therefore, it becomes much easier to use the mean and variance of our samples as summary statistics, and just plot these values (using the standard deviation as the error bar on every point)."
   ]
  },
  {
   "cell_type": "code",
   "execution_count": 14,
   "metadata": {},
   "outputs": [
    {
     "data": {
      "image/png": "[encoded data removed]",
      "text/plain": [
       "<Figure size 252x252 with 1 Axes>"
      ]
     },
     "metadata": {
      "needs_background": "light"
     },
     "output_type": "display_data"
    }
   ],
   "source": [
    "plt.figure(figsize=(3.5,3.5))\n",
    "plt.errorbar(sg_opts,av_monYield,yerr = std_monYield,linestyle='none',marker='.',markersize=10,markerfacecolor='black',markeredgecolor='black',capsize=3,ecolor='black')\n",
    "plt.xscale('log')\n",
    "[plt.gca().spines[i].set_linewidth(1.5) for i in ['top','right','bottom','left']]\n",
    "plt.gca().tick_params(axis = 'both',which = 'major', labelsize = 14, direction = 'in', pad = 8, top = True, right = True, width = 1.5,length=6)\n",
    "plt.gca().tick_params(axis = 'both',which = 'minor', labelsize = 14, direction = 'in', pad = 8, top = True, right = True, width = 1,length=4)\n",
    "plt.ylabel('Monomer Yield',fontsize=14)\n",
    "plt.xlabel('SG Ratio',fontsize=14)\n",
    "plt.ylim([0.0,0.2]);"
   ]
  },
  {
   "cell_type": "markdown",
   "metadata": {},
   "source": [
    "The monomer yields plot above is easy, because there is just one trend that we look at. For this instance, that trend is fairly messy, again because there are fewer repeats and fewer monomers in each simulation, but the idea is still the same.\n",
    "\n",
    "Let us now examine the bond contents that were predicted from this simulation."
   ]
  },
  {
   "cell_type": "code",
   "execution_count": 15,
   "metadata": {},
   "outputs": [
    {
     "data": {
      "image/png": "[encoded data removed]",
      "text/plain": [
       "<Figure size 252x252 with 1 Axes>"
      ]
     },
     "metadata": {
      "needs_background": "light"
     },
     "output_type": "display_data"
    }
   ],
   "source": [
    "colors = [(0,0,0),(1,0,0),(0,0,1),(0,0.6,0),(0.6,0,0.6),(1,0.5490,0),(0,0.6,0.6),(1,0.8,0),(0.6078,0.2980,0),\n",
    "         (0.6,0,0),(0,0,0.6)]\n",
    "plt.figure(figsize=(3.5,3.5))\n",
    "plt.errorbar(sg_opts,av_bo4Content,yerr = std_bo4Content,linestyle='none',marker='.',markersize=10,markerfacecolor=colors[0],markeredgecolor=colors[0],label='bo4',capsize=3,ecolor=colors[0])\n",
    "plt.errorbar(sg_opts,av_bbContent,yerr = std_bbContent,linestyle='none',marker='.',markersize=10,markerfacecolor=colors[1],markeredgecolor=colors[1],label='bb',capsize=3,ecolor=colors[1])\n",
    "plt.errorbar(sg_opts,av_b5Content,yerr = std_b5Content,linestyle='none',marker='.',markersize=10,markerfacecolor=colors[2],markeredgecolor=colors[2],label='b5',capsize=3,ecolor=colors[2])\n",
    "plt.errorbar(sg_opts,av_b1Content,yerr = std_b1Content,linestyle='none',marker='.',markersize=10,markerfacecolor=colors[3],markeredgecolor=colors[3],label='b1',capsize=3,ecolor=colors[3])\n",
    "plt.errorbar(sg_opts,av_5o4Content,yerr = std_5o4Content,linestyle='none',marker='.',markersize=10,markerfacecolor=colors[4],markeredgecolor=colors[4],label='5o4',capsize=3,ecolor=colors[4])\n",
    "plt.errorbar(sg_opts,av_ao4Content,yerr = std_ao4Content,linestyle='none',marker='.',markersize=10,markerfacecolor=colors[5],markeredgecolor=colors[5],label='ao4',capsize=3,ecolor=colors[5])\n",
    "plt.errorbar(sg_opts,av_55Content,yerr = std_55Content,linestyle='none',marker='.',markersize=10,markerfacecolor=colors[6],markeredgecolor=colors[6],label='55',capsize=3,ecolor=colors[6])\n",
    "plt.xscale('log')\n",
    "[plt.gca().spines[i].set_linewidth(1.5) for i in ['top','right','bottom','left']]\n",
    "plt.gca().tick_params(axis = 'both',which = 'major', labelsize = 14, direction = 'in', pad = 8, top = True, right = True, width = 1.5,length=6)\n",
    "plt.gca().tick_params(axis = 'both',which = 'minor', labelsize = 14, direction = 'in', pad = 8, top = True, right = True, width = 1,length=4)\n",
    "plt.ylabel('Monomer Yield',fontsize=14)\n",
    "plt.xlabel('SG Ratio',fontsize=14)\n",
    "plt.ylim([0.0,1.0])\n",
    "plt.legend(fontsize=14,loc='upper center',bbox_to_anchor=(1.2,1.05),frameon=False);"
   ]
  },
  {
   "cell_type": "markdown",
   "metadata": {},
   "source": [
    "### Addition rate sensitivity\n",
    "We will now perform the same task on different addition rates"
   ]
  },
  {
   "cell_type": "code",
   "execution_count": 16,
   "metadata": {},
   "outputs": [
    {
     "name": "stdout",
     "output_type": "stream",
     "text": [
      "Completed sensitivity iteration: 10000.0\n",
      "Finished on 2019-12-5 at 11:6:57\n",
      "Completed sensitivity iteration: 31622.776601683792\n",
      "Finished on 2019-12-5 at 11:7:8\n",
      "Completed sensitivity iteration: 100000.0\n",
      "Finished on 2019-12-5 at 11:7:21\n",
      "Completed sensitivity iteration: 316227.7660168379\n",
      "Finished on 2019-12-5 at 11:7:41\n",
      "Completed sensitivity iteration: 1000000.0\n",
      "Finished on 2019-12-5 at 11:8:5\n",
      "Completed sensitivity iteration: 3162277.6601683795\n",
      "Finished on 2019-12-5 at 11:8:39\n",
      "Completed sensitivity iteration: 10000000.0\n",
      "Finished on 2019-12-5 at 11:9:5\n",
      "Completed sensitivity iteration: 31622776.60168379\n",
      "Finished on 2019-12-5 at 11:10:30\n",
      "Completed sensitivity iteration: 100000000.0\n",
      "Finished on 2019-12-5 at 11:11:54\n",
      "Completed sensitivity iteration: 316227766.01683795\n",
      "Finished on 2019-12-5 at 11:12:45\n",
      "Completed sensitivity iteration: 1000000000.0\n",
      "Finished on 2019-12-5 at 11:13:40\n",
      "Completed sensitivity iteration: 3162277660.1683793\n",
      "Finished on 2019-12-5 at 11:15:35\n",
      "Completed sensitivity iteration: 10000000000.0\n",
      "Finished on 2019-12-5 at 11:17:55\n",
      "Completed sensitivity iteration: 31622776601.683792\n",
      "Finished on 2019-12-5 at 11:19:34\n",
      "Completed sensitivity iteration: 100000000000.0\n",
      "Finished on 2019-12-5 at 11:21:7\n",
      "Completed sensitivity iteration: 316227766016.83795\n",
      "Finished on 2019-12-5 at 11:22:37\n",
      "Completed sensitivity iteration: 1000000000000.0\n",
      "Finished on 2019-12-5 at 11:24:28\n",
      "Completed sensitivity iteration: 3162277660168.3794\n",
      "Finished on 2019-12-5 at 11:25:48\n",
      "Completed sensitivity iteration: 10000000000000.0\n",
      "Finished on 2019-12-5 at 11:26:40\n",
      "Completed sensitivity iteration: 31622776601683.793\n",
      "Finished on 2019-12-5 at 11:27:24\n",
      "Completed sensitivity iteration: 100000000000000.0\n",
      "Finished on 2019-12-5 at 11:28:9\n"
     ]
    }
   ],
   "source": [
    "addrates = np.logspace(4,14,21)\n",
    "\n",
    "fun = par.delayed(kmc.run_kmc)\n",
    "resultsToSave = []\n",
    "     \n",
    "for rate in addrates:\n",
    "    #Set the percentage of S\n",
    "    sg = 1\n",
    "    pct = sg / (1 + sg)\n",
    "    \n",
    "    #Make choices about what kinds of monomers there are\n",
    "    n = 5\n",
    "    rands = np.random.rand(n)\n",
    "    \n",
    "    #Initialize the monomers, events, and state\n",
    "    mons = [ kmc.Monomer( int ( sOrG < pct ) , i ) for i,sOrG in zip ( range(n) , rands ) ]\n",
    "    startEvents = [ kmc.Event ( 'ox' , [i] , rates['ox'][ int( sOrG < pct ) ]['monomer'] ) for i,sOrG in zip ( range(n) , rands) ]\n",
    "\n",
    "    state = { i : {'mon' : mons[i] , 'affected' : {startEvents[i]} } for i in range(n) }\n",
    "    events = { startEvents[i] for i in range(n) }\n",
    "    events.add(kmc.Event('grow',[],rate = rate,bond = sg))\n",
    "\n",
    "    results = par.Parallel(n_jobs = 4)([fun(nMax = 200, tFinal = 1,rates = rates,initialState = state,initialEvents = events)\n",
    "                                        for _ in range(5)])\n",
    "    resultsToSave.append(results)\n",
    "    print('Completed sensitivity iteration: ' + str(rate))\n",
    "\n",
    "    t = time.localtime()\n",
    "    print('Finished on ' + str(t.tm_year) + '-' + str(t.tm_mon) + '-' + str(t.tm_mday) \n",
    "            + ' at ' + str(t.tm_hour) + ':' + str(t.tm_min) + ':' + str(t.tm_sec))"
   ]
  },
  {
   "cell_type": "code",
   "execution_count": 17,
   "metadata": {},
   "outputs": [
    {
     "name": "stdout",
     "output_type": "stream",
     "text": [
      "Finished on  2019-12-5 at 11:28:11\n",
      "Finished on  2019-12-5 at 11:28:13\n",
      "Finished on  2019-12-5 at 11:28:15\n",
      "Finished on  2019-12-5 at 11:28:19\n",
      "Finished on  2019-12-5 at 11:28:22\n",
      "Finished on  2019-12-5 at 11:28:25\n",
      "Finished on  2019-12-5 at 11:28:28\n",
      "Finished on  2019-12-5 at 11:28:32\n",
      "Finished on  2019-12-5 at 11:28:35\n",
      "Finished on  2019-12-5 at 11:28:38\n",
      "Finished on  2019-12-5 at 11:28:41\n",
      "Finished on  2019-12-5 at 11:28:44\n",
      "Finished on  2019-12-5 at 11:28:47\n",
      "Finished on  2019-12-5 at 11:28:50\n",
      "Finished on  2019-12-5 at 11:28:52\n",
      "Finished on  2019-12-5 at 11:28:55\n",
      "Finished on  2019-12-5 at 11:28:58\n",
      "Finished on  2019-12-5 at 11:29:1\n",
      "Finished on  2019-12-5 at 11:29:4\n",
      "Finished on  2019-12-5 at 11:29:7\n",
      "Finished on  2019-12-5 at 11:29:10\n"
     ]
    }
   ],
   "source": [
    "nodeRes = [0]*len(resultsToSave); adjRes = [0]*len(resultsToSave);\n",
    "analysis = [0]*len(resultsToSave)\n",
    "for i in range(len(resultsToSave)):\n",
    "    nodeRes[i] = [resultsToSave[i][j]['monomers'] for j in range(len(resultsToSave[i]))]\n",
    "    adjRes[i] = [resultsToSave[i][j]['adjacency_matrix'] for j in range(len(resultsToSave[i]))]\n",
    "    \n",
    "    analysis[i] = par.Parallel(n_jobs = 4)([par.delayed(kmc.analyze)\n",
    "                                         (adjacency = adjRes[i][j],\n",
    "                                          nodes = nodeRes[i][j]) \n",
    "                                         for j in range(len(resultsToSave[i]))])\n",
    "    t = time.localtime()\n",
    "    print('Finished on ',(str(t.tm_year) + '-' + str(t.tm_mon) + '-' \n",
    "                          + str(t.tm_mday)), 'at', \n",
    "         (str(t.tm_hour) + ':' + str(t.tm_min) + ':' + str(t.tm_sec)))"
   ]
  },
  {
   "cell_type": "code",
   "execution_count": 18,
   "metadata": {},
   "outputs": [],
   "source": [
    "nsens = len(analysis)\n",
    "nrep = len(analysis[0])\n",
    "\n",
    "nmon = [[sum([analysis[j][i]['Chain Lengths'][k]*k for k in analysis[j][i]['Chain Lengths']]) \n",
    "         for i in range(nrep)] for j in range(nsens)]\n",
    "\n",
    "monomerYields = [[analysis[j][i]['RCF Yields'][1]/nmon[j][i] \n",
    "                  for i in range(nrep)] for j in range(nsens)]\n",
    "betaO4Content = [[analysis[j][i]['Bonds']['bo4']/sum(analysis[j][i]['Bonds'].values())\n",
    "                 for i in range(nrep)] for j in range(nsens)]\n",
    "beta5Content = [[analysis[j][i]['Bonds']['b5']/sum(analysis[j][i]['Bonds'].values())\n",
    "                 for i in range(nrep)] for j in range(nsens)]\n",
    "betabetaContent = [[analysis[j][i]['Bonds']['bb']/sum(analysis[j][i]['Bonds'].values())\n",
    "                 for i in range(nrep)] for j in range(nsens)]\n",
    "beta1Content = [[analysis[j][i]['Bonds']['b1']/sum(analysis[j][i]['Bonds'].values())\n",
    "                 for i in range(nrep)] for j in range(nsens)]\n",
    "fiveO4Content = [[analysis[j][i]['Bonds']['5o4']/sum(analysis[j][i]['Bonds'].values())\n",
    "                 for i in range(nrep)] for j in range(nsens)]\n",
    "alphaO4Content = [[analysis[j][i]['Bonds']['ao4']/sum(analysis[j][i]['Bonds'].values())\n",
    "                 for i in range(nrep)] for j in range(nsens)]\n",
    "fivefiveContent = [[analysis[j][i]['Bonds']['55']/sum(analysis[j][i]['Bonds'].values())\n",
    "                 for i in range(nrep)] for j in range(nsens)]\n",
    "\n",
    "av_monYield = [np.mean(hist) for hist in monomerYields]; std_monYield = [np.sqrt(np.var(hist)) for hist in monomerYields];\n",
    "av_bo4Content = [np.mean(hist) for hist in betaO4Content]; std_bo4Content = [np.sqrt(np.var(hist)) for hist in betaO4Content];\n",
    "av_b5Content = [np.mean(hist) for hist in beta5Content]; std_b5Content = [np.sqrt(np.var(hist)) for hist in beta5Content];\n",
    "av_bbContent = [np.mean(hist) for hist in betabetaContent]; std_bbContent = [np.sqrt(np.var(hist)) for hist in betabetaContent];\n",
    "av_b1Content = [np.mean(hist) for hist in beta1Content]; std_b1Content = [np.sqrt(np.var(hist)) for hist in beta1Content];\n",
    "av_5o4Content = [np.mean(hist) for hist in fiveO4Content]; std_5o4Content = [np.sqrt(np.var(hist)) for hist in fiveO4Content];\n",
    "av_ao4Content = [np.mean(hist) for hist in alphaO4Content]; std_ao4Content = [np.sqrt(np.var(hist)) for hist in alphaO4Content];\n",
    "av_55Content = [np.mean(hist) for hist in fivefiveContent]; std_55Content = [np.sqrt(np.var(hist)) for hist in fivefiveContent];"
   ]
  },
  {
   "cell_type": "code",
   "execution_count": 19,
   "metadata": {},
   "outputs": [
    {
     "data": {
      "image/png": "[encoded data removed]",
      "text/plain": [
       "<Figure size 252x252 with 1 Axes>"
      ]
     },
     "metadata": {
      "needs_background": "light"
     },
     "output_type": "display_data"
    }
   ],
   "source": [
    "plt.figure(figsize=(3.5,3.5))\n",
    "plt.errorbar(addrates,av_monYield,yerr = std_monYield,linestyle='none',marker='.',markersize=10,markerfacecolor='black',markeredgecolor='black',capsize=3,ecolor='black')\n",
    "plt.xscale('log')\n",
    "[plt.gca().spines[i].set_linewidth(1.5) for i in ['top','right','bottom','left']]\n",
    "plt.gca().tick_params(axis = 'both',which = 'major', labelsize = 14, direction = 'in', pad = 8, top = True, right = True, width = 1.5,length=6)\n",
    "plt.gca().tick_params(axis = 'both',which = 'minor', labelsize = 14, direction = 'in', pad = 8, top = True, right = True, width = 1,length=4)\n",
    "plt.ylabel('Monomer Yield',fontsize=14)\n",
    "plt.xlabel('Addition Rate [Hz]',fontsize=14)\n",
    "plt.ylim([0.0,0.5]);"
   ]
  },
  {
   "cell_type": "code",
   "execution_count": 20,
   "metadata": {},
   "outputs": [
    {
     "data": {
      "image/png": "[encoded data removed]",
      "text/plain": [
       "<Figure size 252x252 with 1 Axes>"
      ]
     },
     "metadata": {
      "needs_background": "light"
     },
     "output_type": "display_data"
    }
   ],
   "source": [
    "colors = [(0,0,0),(1,0,0),(0,0,1),(0,0.6,0),(0.6,0,0.6),(1,0.5490,0),(0,0.6,0.6),(1,0.8,0),(0.6078,0.2980,0),\n",
    "         (0.6,0,0),(0,0,0.6)]\n",
    "plt.figure(figsize=(3.5,3.5))\n",
    "plt.errorbar(addrates,av_bo4Content,yerr = std_bo4Content,linestyle='none',marker='.',markersize=10,markerfacecolor=colors[0],markeredgecolor=colors[0],label='bo4',capsize=3,ecolor=colors[0])\n",
    "plt.errorbar(addrates,av_bbContent,yerr = std_bbContent,linestyle='none',marker='.',markersize=10,markerfacecolor=colors[1],markeredgecolor=colors[1],label='bb',capsize=3,ecolor=colors[1])\n",
    "plt.errorbar(addrates,av_b5Content,yerr = std_b5Content,linestyle='none',marker='.',markersize=10,markerfacecolor=colors[2],markeredgecolor=colors[2],label='b5',capsize=3,ecolor=colors[2])\n",
    "plt.errorbar(addrates,av_b1Content,yerr = std_b1Content,linestyle='none',marker='.',markersize=10,markerfacecolor=colors[3],markeredgecolor=colors[3],label='b1',capsize=3,ecolor=colors[3])\n",
    "plt.errorbar(addrates,av_5o4Content,yerr = std_5o4Content,linestyle='none',marker='.',markersize=10,markerfacecolor=colors[4],markeredgecolor=colors[4],label='5o4',capsize=3,ecolor=colors[4])\n",
    "plt.errorbar(addrates,av_ao4Content,yerr = std_ao4Content,linestyle='none',marker='.',markersize=10,markerfacecolor=colors[5],markeredgecolor=colors[5],label='ao4',capsize=3,ecolor=colors[5])\n",
    "plt.errorbar(addrates,av_55Content,yerr = std_55Content,linestyle='none',marker='.',markersize=10,markerfacecolor=colors[6],markeredgecolor=colors[6],label='55',capsize=3,ecolor=colors[6])\n",
    "plt.xscale('log')\n",
    "[plt.gca().spines[i].set_linewidth(1.5) for i in ['top','right','bottom','left']]\n",
    "plt.gca().tick_params(axis = 'both',which = 'major', labelsize = 14, direction = 'in', pad = 8, top = True, right = True, width = 1.5,length=6)\n",
    "plt.gca().tick_params(axis = 'both',which = 'minor', labelsize = 14, direction = 'in', pad = 8, top = True, right = True, width = 1,length=4)\n",
    "plt.ylabel('Monomer Yield',fontsize=14)\n",
    "plt.xlabel('Add Rate [Hz]',fontsize=14)\n",
    "plt.ylim([0.0,1.0])\n",
    "plt.legend(fontsize=14,loc='upper center',bbox_to_anchor=(1.2,1.05),frameon=False);"
   ]
  },
  {
   "cell_type": "markdown",
   "metadata": {},
   "source": [
    "### Continuous SG ratio sensitivity\n",
    "We will now perform the same task on different SG ratios with a very slow addition rate"
   ]
  },
  {
   "cell_type": "code",
   "execution_count": 21,
   "metadata": {},
   "outputs": [
    {
     "name": "stdout",
     "output_type": "stream",
     "text": [
      "Completed sensitivity iteration: 0.1\n",
      "Finished on 2019-12-5 at 11:29:15\n",
      "Completed sensitivity iteration: 0.2\n",
      "Finished on 2019-12-5 at 11:29:19\n",
      "Completed sensitivity iteration: 0.25\n",
      "Finished on 2019-12-5 at 11:29:22\n",
      "Completed sensitivity iteration: 0.33\n",
      "Finished on 2019-12-5 at 11:29:26\n",
      "Completed sensitivity iteration: 0.5\n",
      "Finished on 2019-12-5 at 11:29:30\n",
      "Completed sensitivity iteration: 1\n",
      "Finished on 2019-12-5 at 11:29:34\n",
      "Completed sensitivity iteration: 2\n",
      "Finished on 2019-12-5 at 11:29:38\n",
      "Completed sensitivity iteration: 3\n",
      "Finished on 2019-12-5 at 11:29:43\n",
      "Completed sensitivity iteration: 4\n",
      "Finished on 2019-12-5 at 11:29:48\n",
      "Completed sensitivity iteration: 5\n",
      "Finished on 2019-12-5 at 11:29:53\n",
      "Completed sensitivity iteration: 10\n",
      "Finished on 2019-12-5 at 11:29:59\n"
     ]
    }
   ],
   "source": [
    "sg_opts = [0.1,0.2,0.25,0.33,0.5,1,2,3,4,5,10]\n",
    "\n",
    "fun = par.delayed(kmc.run_kmc)\n",
    "resultsToSave = []\n",
    "     \n",
    "for sg in sg_opts:\n",
    "    #Set the percentage of S\n",
    "    pct = sg / (1 + sg)\n",
    "    \n",
    "    #Make choices about what kinds of monomers there are\n",
    "    n = 5\n",
    "    rands = np.random.rand(n)\n",
    "    \n",
    "    #Initialize the monomers, events, and state\n",
    "    mons = [ kmc.Monomer( int ( sOrG < pct ) , i ) for i,sOrG in zip ( range(n) , rands ) ]\n",
    "    startEvents = [ kmc.Event ( 'ox' , [i] , rates['ox'][ int( sOrG < pct ) ]['monomer'] ) for i,sOrG in zip ( range(n) , rands) ]\n",
    "\n",
    "    state = { i : {'mon' : mons[i] , 'affected' : {startEvents[i]} } for i in range(n) }\n",
    "    events = { startEvents[i] for i in range(n) }\n",
    "    events.add(kmc.Event('grow',[],rate = 1e4,bond = sg))\n",
    "\n",
    "    results = par.Parallel(n_jobs = 4)([fun(nMax = 200, tFinal = 1,rates = rates,initialState = state,initialEvents = events)\n",
    "                                        for _ in range(5)])\n",
    "    resultsToSave.append(results)\n",
    "    print('Completed sensitivity iteration: ' + str(sg))\n",
    "\n",
    "    t = time.localtime()\n",
    "    print('Finished on ' + str(t.tm_year) + '-' + str(t.tm_mon) + '-' + str(t.tm_mday) \n",
    "            + ' at ' + str(t.tm_hour) + ':' + str(t.tm_min) + ':' + str(t.tm_sec))"
   ]
  },
  {
   "cell_type": "code",
   "execution_count": 22,
   "metadata": {},
   "outputs": [
    {
     "name": "stdout",
     "output_type": "stream",
     "text": [
      "Finished on  2019-12-5 at 11:30:2\n",
      "Finished on  2019-12-5 at 11:30:5\n",
      "Finished on  2019-12-5 at 11:30:8\n",
      "Finished on  2019-12-5 at 11:30:11\n",
      "Finished on  2019-12-5 at 11:30:14\n",
      "Finished on  2019-12-5 at 11:30:18\n",
      "Finished on  2019-12-5 at 11:30:21\n",
      "Finished on  2019-12-5 at 11:30:24\n",
      "Finished on  2019-12-5 at 11:30:27\n",
      "Finished on  2019-12-5 at 11:30:30\n",
      "Finished on  2019-12-5 at 11:30:33\n"
     ]
    }
   ],
   "source": [
    "nodeRes = [0]*len(resultsToSave); adjRes = [0]*len(resultsToSave);\n",
    "analysis = [0]*len(resultsToSave)\n",
    "for i in range(len(resultsToSave)):\n",
    "    nodeRes[i] = [resultsToSave[i][j]['monomers'] for j in range(len(resultsToSave[i]))]\n",
    "    adjRes[i] = [resultsToSave[i][j]['adjacency_matrix'] for j in range(len(resultsToSave[i]))]\n",
    "    \n",
    "    analysis[i] = par.Parallel(n_jobs = 4)([par.delayed(kmc.analyze)\n",
    "                                         (adjacency = adjRes[i][j],\n",
    "                                          nodes = nodeRes[i][j]) \n",
    "                                         for j in range(len(resultsToSave[i]))])\n",
    "    t = time.localtime()\n",
    "    print('Finished on ',(str(t.tm_year) + '-' + str(t.tm_mon) + '-' \n",
    "                          + str(t.tm_mday)), 'at', \n",
    "         (str(t.tm_hour) + ':' + str(t.tm_min) + ':' + str(t.tm_sec)))"
   ]
  },
  {
   "cell_type": "code",
   "execution_count": 23,
   "metadata": {},
   "outputs": [],
   "source": [
    "nsens = len(analysis)\n",
    "nrep = len(analysis[0])\n",
    "\n",
    "nmon = [[sum([analysis[j][i]['Chain Lengths'][k]*k for k in analysis[j][i]['Chain Lengths']]) \n",
    "         for i in range(nrep)] for j in range(nsens)]\n",
    "\n",
    "monomerYields = [[analysis[j][i]['RCF Yields'][1]/nmon[j][i] \n",
    "                  for i in range(nrep)] for j in range(nsens)]\n",
    "betaO4Content = [[analysis[j][i]['Bonds']['bo4']/sum(analysis[j][i]['Bonds'].values())\n",
    "                 for i in range(nrep)] for j in range(nsens)]\n",
    "beta5Content = [[analysis[j][i]['Bonds']['b5']/sum(analysis[j][i]['Bonds'].values())\n",
    "                 for i in range(nrep)] for j in range(nsens)]\n",
    "betabetaContent = [[analysis[j][i]['Bonds']['bb']/sum(analysis[j][i]['Bonds'].values())\n",
    "                 for i in range(nrep)] for j in range(nsens)]\n",
    "beta1Content = [[analysis[j][i]['Bonds']['b1']/sum(analysis[j][i]['Bonds'].values())\n",
    "                 for i in range(nrep)] for j in range(nsens)]\n",
    "fiveO4Content = [[analysis[j][i]['Bonds']['5o4']/sum(analysis[j][i]['Bonds'].values())\n",
    "                 for i in range(nrep)] for j in range(nsens)]\n",
    "alphaO4Content = [[analysis[j][i]['Bonds']['ao4']/sum(analysis[j][i]['Bonds'].values())\n",
    "                 for i in range(nrep)] for j in range(nsens)]\n",
    "fivefiveContent = [[analysis[j][i]['Bonds']['55']/sum(analysis[j][i]['Bonds'].values())\n",
    "                 for i in range(nrep)] for j in range(nsens)]\n",
    "\n",
    "av_monYield = [np.mean(hist) for hist in monomerYields]; std_monYield = [np.sqrt(np.var(hist)) for hist in monomerYields];\n",
    "av_bo4Content = [np.mean(hist) for hist in betaO4Content]; std_bo4Content = [np.sqrt(np.var(hist)) for hist in betaO4Content];\n",
    "av_b5Content = [np.mean(hist) for hist in beta5Content]; std_b5Content = [np.sqrt(np.var(hist)) for hist in beta5Content];\n",
    "av_bbContent = [np.mean(hist) for hist in betabetaContent]; std_bbContent = [np.sqrt(np.var(hist)) for hist in betabetaContent];\n",
    "av_b1Content = [np.mean(hist) for hist in beta1Content]; std_b1Content = [np.sqrt(np.var(hist)) for hist in beta1Content];\n",
    "av_5o4Content = [np.mean(hist) for hist in fiveO4Content]; std_5o4Content = [np.sqrt(np.var(hist)) for hist in fiveO4Content];\n",
    "av_ao4Content = [np.mean(hist) for hist in alphaO4Content]; std_ao4Content = [np.sqrt(np.var(hist)) for hist in alphaO4Content];\n",
    "av_55Content = [np.mean(hist) for hist in fivefiveContent]; std_55Content = [np.sqrt(np.var(hist)) for hist in fivefiveContent];"
   ]
  },
  {
   "cell_type": "code",
   "execution_count": 24,
   "metadata": {},
   "outputs": [
    {
     "data": {
      "image/png": "[encoded data removed]",
      "text/plain": [
       "<Figure size 252x252 with 1 Axes>"
      ]
     },
     "metadata": {
      "needs_background": "light"
     },
     "output_type": "display_data"
    }
   ],
   "source": [
    "plt.figure(figsize=(3.5,3.5))\n",
    "plt.errorbar(sg_opts,av_monYield,yerr = std_monYield,linestyle='none',marker='.',markersize=10,markerfacecolor='black',markeredgecolor='black',capsize=3,ecolor='black')\n",
    "plt.xscale('log')\n",
    "[plt.gca().spines[i].set_linewidth(1.5) for i in ['top','right','bottom','left']]\n",
    "plt.gca().tick_params(axis = 'both',which = 'major', labelsize = 14, direction = 'in', pad = 8, top = True, right = True, width = 1.5,length=6)\n",
    "plt.gca().tick_params(axis = 'both',which = 'minor', labelsize = 14, direction = 'in', pad = 8, top = True, right = True, width = 1,length=4)\n",
    "plt.ylabel('Monomer Yield',fontsize=14)\n",
    "plt.xlabel('SG Ratio',fontsize=14)\n",
    "plt.ylim([0.0,1.0]);"
   ]
  },
  {
   "cell_type": "code",
   "execution_count": 25,
   "metadata": {
    "scrolled": false
   },
   "outputs": [
    {
     "data": {
      "image/png": "[encoded data removed]",
      "text/plain": [
       "<Figure size 252x252 with 1 Axes>"
      ]
     },
     "metadata": {
      "needs_background": "light"
     },
     "output_type": "display_data"
    }
   ],
   "source": [
    "colors = [(0,0,0),(1,0,0),(0,0,1),(0,0.6,0),(0.6,0,0.6),(1,0.5490,0),(0,0.6,0.6),(1,0.8,0),(0.6078,0.2980,0),\n",
    "         (0.6,0,0),(0,0,0.6)]\n",
    "plt.figure(figsize=(3.5,3.5))\n",
    "plt.errorbar(sg_opts,av_bo4Content,yerr = std_bo4Content,linestyle='none',marker='.',markersize=10,markerfacecolor=colors[0],markeredgecolor=colors[0],label='bo4',capsize=3,ecolor=colors[0])\n",
    "plt.errorbar(sg_opts,av_bbContent,yerr = std_bbContent,linestyle='none',marker='.',markersize=10,markerfacecolor=colors[1],markeredgecolor=colors[1],label='bb',capsize=3,ecolor=colors[1])\n",
    "plt.errorbar(sg_opts,av_b5Content,yerr = std_b5Content,linestyle='none',marker='.',markersize=10,markerfacecolor=colors[2],markeredgecolor=colors[2],label='b5',capsize=3,ecolor=colors[2])\n",
    "plt.errorbar(sg_opts,av_b1Content,yerr = std_b1Content,linestyle='none',marker='.',markersize=10,markerfacecolor=colors[3],markeredgecolor=colors[3],label='b1',capsize=3,ecolor=colors[3])\n",
    "plt.errorbar(sg_opts,av_5o4Content,yerr = std_5o4Content,linestyle='none',marker='.',markersize=10,markerfacecolor=colors[4],markeredgecolor=colors[4],label='5o4',capsize=3,ecolor=colors[4])\n",
    "plt.errorbar(sg_opts,av_ao4Content,yerr = std_ao4Content,linestyle='none',marker='.',markersize=10,markerfacecolor=colors[5],markeredgecolor=colors[5],label='ao4',capsize=3,ecolor=colors[5])\n",
    "plt.errorbar(sg_opts,av_55Content,yerr = std_55Content,linestyle='none',marker='.',markersize=10,markerfacecolor=colors[6],markeredgecolor=colors[6],label='55',capsize=3,ecolor=colors[6])\n",
    "plt.xscale('log')\n",
    "[plt.gca().spines[i].set_linewidth(1.5) for i in ['top','right','bottom','left']]\n",
    "plt.gca().tick_params(axis = 'both',which = 'major', labelsize = 14, direction = 'in', pad = 8, top = True, right = True, width = 1.5,length=6)\n",
    "plt.gca().tick_params(axis = 'both',which = 'minor', labelsize = 14, direction = 'in', pad = 8, top = True, right = True, width = 1,length=4)\n",
    "plt.ylabel('Monomer Yield',fontsize=14)\n",
    "plt.xlabel('SG Ratio',fontsize=14)\n",
    "plt.ylim([0.0,1.0])\n",
    "plt.legend(fontsize=14,loc='upper center',bbox_to_anchor=(1.2,1.05),frameon=False);"
   ]
  },
  {
   "cell_type": "markdown",
   "metadata": {},
   "source": [
    "### Continuous SG ratio sensitivity 1e7 Hz\n",
    "We will now perform the same task on different SG ratios with three different addition rates"
   ]
  },
  {
   "cell_type": "code",
   "execution_count": 26,
   "metadata": {},
   "outputs": [
    {
     "name": "stdout",
     "output_type": "stream",
     "text": [
      "Completed sensitivity iteration: 0.1\n",
      "Finished on 2019-12-5 at 11:30:42\n",
      "Completed sensitivity iteration: 0.2\n",
      "Finished on 2019-12-5 at 11:30:49\n",
      "Completed sensitivity iteration: 0.25\n",
      "Finished on 2019-12-5 at 11:30:57\n",
      "Completed sensitivity iteration: 0.33\n",
      "Finished on 2019-12-5 at 11:31:9\n",
      "Completed sensitivity iteration: 0.5\n",
      "Finished on 2019-12-5 at 11:31:20\n",
      "Completed sensitivity iteration: 1\n",
      "Finished on 2019-12-5 at 11:31:51\n",
      "Completed sensitivity iteration: 2\n",
      "Finished on 2019-12-5 at 11:33:34\n",
      "Completed sensitivity iteration: 3\n",
      "Finished on 2019-12-5 at 11:33:51\n",
      "Completed sensitivity iteration: 4\n",
      "Finished on 2019-12-5 at 11:34:4\n",
      "Completed sensitivity iteration: 5\n",
      "Finished on 2019-12-5 at 11:34:19\n",
      "Completed sensitivity iteration: 10\n",
      "Finished on 2019-12-5 at 11:34:29\n"
     ]
    }
   ],
   "source": [
    "sg_opts = [0.1,0.2,0.25,0.33,0.5,1,2,3,4,5,10]\n",
    "\n",
    "fun = par.delayed(kmc.run_kmc)\n",
    "resultsToSave = []\n",
    "     \n",
    "for sg in sg_opts:\n",
    "    #Set the percentage of S\n",
    "    pct = sg / (1 + sg)\n",
    "    \n",
    "    #Make choices about what kinds of monomers there are\n",
    "    n = 5\n",
    "    rands = np.random.rand(n)\n",
    "    \n",
    "    #Initialize the monomers, events, and state\n",
    "    mons = [ kmc.Monomer( int ( sOrG < pct ) , i ) for i,sOrG in zip ( range(n) , rands ) ]\n",
    "    startEvents = [ kmc.Event ( 'ox' , [i] , rates['ox'][ int( sOrG < pct ) ]['monomer'] ) for i,sOrG in zip ( range(n) , rands) ]\n",
    "\n",
    "    state = { i : {'mon' : mons[i] , 'affected' : {startEvents[i]} } for i in range(n) }\n",
    "    events = { startEvents[i] for i in range(n) }\n",
    "    events.add(kmc.Event('grow',[],rate = 1e7,bond = sg))\n",
    "\n",
    "    results = par.Parallel(n_jobs = 4)([fun(nMax = 200, tFinal = 1,rates = rates,initialState = state,initialEvents = events)\n",
    "                                        for _ in range(5)])\n",
    "    resultsToSave.append(results)\n",
    "    print('Completed sensitivity iteration: ' + str(sg))\n",
    "\n",
    "    t = time.localtime()\n",
    "    print('Finished on ' + str(t.tm_year) + '-' + str(t.tm_mon) + '-' + str(t.tm_mday) \n",
    "            + ' at ' + str(t.tm_hour) + ':' + str(t.tm_min) + ':' + str(t.tm_sec))"
   ]
  },
  {
   "cell_type": "code",
   "execution_count": 27,
   "metadata": {},
   "outputs": [
    {
     "name": "stdout",
     "output_type": "stream",
     "text": [
      "Finished on  2019-12-5 at 11:34:34\n",
      "Finished on  2019-12-5 at 11:34:38\n",
      "Finished on  2019-12-5 at 11:34:40\n",
      "Finished on  2019-12-5 at 11:34:43\n",
      "Finished on  2019-12-5 at 11:34:46\n",
      "Finished on  2019-12-5 at 11:34:49\n",
      "Finished on  2019-12-5 at 11:34:52\n",
      "Finished on  2019-12-5 at 11:34:55\n",
      "Finished on  2019-12-5 at 11:34:58\n",
      "Finished on  2019-12-5 at 11:35:0\n",
      "Finished on  2019-12-5 at 11:35:3\n"
     ]
    }
   ],
   "source": [
    "nodeRes = [0]*len(resultsToSave); adjRes = [0]*len(resultsToSave);\n",
    "analysis = [0]*len(resultsToSave)\n",
    "for i in range(len(resultsToSave)):\n",
    "    nodeRes[i] = [resultsToSave[i][j]['monomers'] for j in range(len(resultsToSave[i]))]\n",
    "    adjRes[i] = [resultsToSave[i][j]['adjacency_matrix'] for j in range(len(resultsToSave[i]))]\n",
    "    \n",
    "    analysis[i] = par.Parallel(n_jobs = 4)([par.delayed(kmc.analyze)\n",
    "                                         (adjacency = adjRes[i][j],\n",
    "                                          nodes = nodeRes[i][j]) \n",
    "                                         for j in range(len(resultsToSave[i]))])\n",
    "    t = time.localtime()\n",
    "    print('Finished on ',(str(t.tm_year) + '-' + str(t.tm_mon) + '-' \n",
    "                          + str(t.tm_mday)), 'at', \n",
    "         (str(t.tm_hour) + ':' + str(t.tm_min) + ':' + str(t.tm_sec)))"
   ]
  },
  {
   "cell_type": "code",
   "execution_count": 28,
   "metadata": {},
   "outputs": [],
   "source": [
    "nsens = len(analysis)\n",
    "nrep = len(analysis[0])\n",
    "\n",
    "nmon = [[sum([analysis[j][i]['Chain Lengths'][k]*k for k in analysis[j][i]['Chain Lengths']]) \n",
    "         for i in range(nrep)] for j in range(nsens)]\n",
    "\n",
    "monomerYields = [[analysis[j][i]['RCF Yields'][1]/nmon[j][i] \n",
    "                  for i in range(nrep)] for j in range(nsens)]\n",
    "betaO4Content = [[analysis[j][i]['Bonds']['bo4']/sum(analysis[j][i]['Bonds'].values())\n",
    "                 for i in range(nrep)] for j in range(nsens)]\n",
    "beta5Content = [[analysis[j][i]['Bonds']['b5']/sum(analysis[j][i]['Bonds'].values())\n",
    "                 for i in range(nrep)] for j in range(nsens)]\n",
    "betabetaContent = [[analysis[j][i]['Bonds']['bb']/sum(analysis[j][i]['Bonds'].values())\n",
    "                 for i in range(nrep)] for j in range(nsens)]\n",
    "beta1Content = [[analysis[j][i]['Bonds']['b1']/sum(analysis[j][i]['Bonds'].values())\n",
    "                 for i in range(nrep)] for j in range(nsens)]\n",
    "fiveO4Content = [[analysis[j][i]['Bonds']['5o4']/sum(analysis[j][i]['Bonds'].values())\n",
    "                 for i in range(nrep)] for j in range(nsens)]\n",
    "alphaO4Content = [[analysis[j][i]['Bonds']['ao4']/sum(analysis[j][i]['Bonds'].values())\n",
    "                 for i in range(nrep)] for j in range(nsens)]\n",
    "fivefiveContent = [[analysis[j][i]['Bonds']['55']/sum(analysis[j][i]['Bonds'].values())\n",
    "                 for i in range(nrep)] for j in range(nsens)]\n",
    "\n",
    "av_monYield = [np.mean(hist) for hist in monomerYields]; std_monYield = [np.sqrt(np.var(hist)) for hist in monomerYields];\n",
    "av_bo4Content = [np.mean(hist) for hist in betaO4Content]; std_bo4Content = [np.sqrt(np.var(hist)) for hist in betaO4Content];\n",
    "av_b5Content = [np.mean(hist) for hist in beta5Content]; std_b5Content = [np.sqrt(np.var(hist)) for hist in beta5Content];\n",
    "av_bbContent = [np.mean(hist) for hist in betabetaContent]; std_bbContent = [np.sqrt(np.var(hist)) for hist in betabetaContent];\n",
    "av_b1Content = [np.mean(hist) for hist in beta1Content]; std_b1Content = [np.sqrt(np.var(hist)) for hist in beta1Content];\n",
    "av_5o4Content = [np.mean(hist) for hist in fiveO4Content]; std_5o4Content = [np.sqrt(np.var(hist)) for hist in fiveO4Content];\n",
    "av_ao4Content = [np.mean(hist) for hist in alphaO4Content]; std_ao4Content = [np.sqrt(np.var(hist)) for hist in alphaO4Content];\n",
    "av_55Content = [np.mean(hist) for hist in fivefiveContent]; std_55Content = [np.sqrt(np.var(hist)) for hist in fivefiveContent];"
   ]
  },
  {
   "cell_type": "code",
   "execution_count": 29,
   "metadata": {},
   "outputs": [
    {
     "data": {
      "image/png": "[encoded data removed]",
      "text/plain": [
       "<Figure size 252x252 with 1 Axes>"
      ]
     },
     "metadata": {
      "needs_background": "light"
     },
     "output_type": "display_data"
    }
   ],
   "source": [
    "plt.figure(figsize=(3.5,3.5))\n",
    "plt.errorbar(sg_opts,av_monYield,yerr = std_monYield,linestyle='none',marker='.',markersize=10,markerfacecolor='black',markeredgecolor='black',capsize=3,ecolor='black')\n",
    "plt.xscale('log')\n",
    "[plt.gca().spines[i].set_linewidth(1.5) for i in ['top','right','bottom','left']]\n",
    "plt.gca().tick_params(axis = 'both',which = 'major', labelsize = 14, direction = 'in', pad = 8, top = True, right = True, width = 1.5,length=6)\n",
    "plt.gca().tick_params(axis = 'both',which = 'minor', labelsize = 14, direction = 'in', pad = 8, top = True, right = True, width = 1,length=4)\n",
    "plt.ylabel('Monomer Yield',fontsize=14)\n",
    "plt.xlabel('SG Ratio',fontsize=14)\n",
    "plt.ylim([0.0,1.0]);"
   ]
  },
  {
   "cell_type": "code",
   "execution_count": 30,
   "metadata": {
    "scrolled": true
   },
   "outputs": [
    {
     "data": {
      "image/png": "[encoded data removed]",
      "text/plain": [
       "<Figure size 252x252 with 1 Axes>"
      ]
     },
     "metadata": {
      "needs_background": "light"
     },
     "output_type": "display_data"
    }
   ],
   "source": [
    "colors = [(0,0,0),(1,0,0),(0,0,1),(0,0.6,0),(0.6,0,0.6),(1,0.5490,0),(0,0.6,0.6),(1,0.8,0),(0.6078,0.2980,0),\n",
    "         (0.6,0,0),(0,0,0.6)]\n",
    "plt.figure(figsize=(3.5,3.5))\n",
    "plt.errorbar(sg_opts,av_bo4Content,yerr = std_bo4Content,linestyle='none',marker='.',markersize=10,markerfacecolor=colors[0],markeredgecolor=colors[0],label='bo4',capsize=3,ecolor=colors[0])\n",
    "plt.errorbar(sg_opts,av_bbContent,yerr = std_bbContent,linestyle='none',marker='.',markersize=10,markerfacecolor=colors[1],markeredgecolor=colors[1],label='bb',capsize=3,ecolor=colors[1])\n",
    "plt.errorbar(sg_opts,av_b5Content,yerr = std_b5Content,linestyle='none',marker='.',markersize=10,markerfacecolor=colors[2],markeredgecolor=colors[2],label='b5',capsize=3,ecolor=colors[2])\n",
    "plt.errorbar(sg_opts,av_b1Content,yerr = std_b1Content,linestyle='none',marker='.',markersize=10,markerfacecolor=colors[3],markeredgecolor=colors[3],label='b1',capsize=3,ecolor=colors[3])\n",
    "plt.errorbar(sg_opts,av_5o4Content,yerr = std_5o4Content,linestyle='none',marker='.',markersize=10,markerfacecolor=colors[4],markeredgecolor=colors[4],label='5o4',capsize=3,ecolor=colors[4])\n",
    "plt.errorbar(sg_opts,av_ao4Content,yerr = std_ao4Content,linestyle='none',marker='.',markersize=10,markerfacecolor=colors[5],markeredgecolor=colors[5],label='ao4',capsize=3,ecolor=colors[5])\n",
    "plt.errorbar(sg_opts,av_55Content,yerr = std_55Content,linestyle='none',marker='.',markersize=10,markerfacecolor=colors[6],markeredgecolor=colors[6],label='55',capsize=3,ecolor=colors[6])\n",
    "plt.xscale('log')\n",
    "[plt.gca().spines[i].set_linewidth(1.5) for i in ['top','right','bottom','left']]\n",
    "plt.gca().tick_params(axis = 'both',which = 'major', labelsize = 14, direction = 'in', pad = 8, top = True, right = True, width = 1.5,length=6)\n",
    "plt.gca().tick_params(axis = 'both',which = 'minor', labelsize = 14, direction = 'in', pad = 8, top = True, right = True, width = 1,length=4)\n",
    "plt.ylabel('Monomer Yield',fontsize=14)\n",
    "plt.xlabel('SG Ratio',fontsize=14)\n",
    "plt.ylim([0.0,1.0])\n",
    "plt.legend(fontsize=14,loc='upper center',bbox_to_anchor=(1.2,1.05),frameon=False);"
   ]
  },
  {
   "cell_type": "markdown",
   "metadata": {},
   "source": [
    "### Continuous SG ratio sensitivity 1e9 Hz\n",
    "We will now perform the same task on different SG ratios with three different addition rates"
   ]
  },
  {
   "cell_type": "code",
   "execution_count": 31,
   "metadata": {},
   "outputs": [
    {
     "name": "stdout",
     "output_type": "stream",
     "text": [
      "Completed sensitivity iteration: 0.1\n",
      "Finished on 2019-12-5 at 11:35:19\n",
      "Completed sensitivity iteration: 0.2\n",
      "Finished on 2019-12-5 at 11:35:32\n",
      "Completed sensitivity iteration: 0.25\n",
      "Finished on 2019-12-5 at 11:35:46\n",
      "Completed sensitivity iteration: 0.33\n",
      "Finished on 2019-12-5 at 11:36:3\n",
      "Completed sensitivity iteration: 0.5\n",
      "Finished on 2019-12-5 at 11:36:18\n",
      "Completed sensitivity iteration: 1\n",
      "Finished on 2019-12-5 at 11:36:32\n",
      "Completed sensitivity iteration: 2\n",
      "Finished on 2019-12-5 at 11:36:48\n",
      "Completed sensitivity iteration: 3\n",
      "Finished on 2019-12-5 at 11:37:4\n",
      "Completed sensitivity iteration: 4\n",
      "Finished on 2019-12-5 at 11:37:19\n",
      "Completed sensitivity iteration: 5\n",
      "Finished on 2019-12-5 at 11:37:35\n",
      "Completed sensitivity iteration: 10\n",
      "Finished on 2019-12-5 at 11:37:50\n"
     ]
    }
   ],
   "source": [
    "sg_opts = [0.1,0.2,0.25,0.33,0.5,1,2,3,4,5,10]\n",
    "\n",
    "fun = par.delayed(kmc.run_kmc)\n",
    "resultsToSave = []\n",
    "     \n",
    "for sg in sg_opts:\n",
    "    #Set the percentage of S\n",
    "    pct = sg / (1 + sg)\n",
    "    \n",
    "    #Make choices about what kinds of monomers there are\n",
    "    n = 5\n",
    "    rands = np.random.rand(n)\n",
    "    \n",
    "    #Initialize the monomers, events, and state\n",
    "    mons = [ kmc.Monomer( int ( sOrG < pct ) , i ) for i,sOrG in zip ( range(n) , rands ) ]\n",
    "    startEvents = [ kmc.Event ( 'ox' , [i] , rates['ox'][ int( sOrG < pct ) ]['monomer'] ) for i,sOrG in zip ( range(n) , rands) ]\n",
    "\n",
    "    state = { i : {'mon' : mons[i] , 'affected' : {startEvents[i]} } for i in range(n) }\n",
    "    events = { startEvents[i] for i in range(n) }\n",
    "    events.add(kmc.Event('grow',[],rate = 1e9,bond = sg))\n",
    "\n",
    "    results = par.Parallel(n_jobs = 4)([fun(nMax = 200, tFinal = 1,rates = rates,initialState = state,initialEvents = events)\n",
    "                                        for _ in range(5)])\n",
    "    resultsToSave.append(results)\n",
    "    print('Completed sensitivity iteration: ' + str(sg))\n",
    "\n",
    "    t = time.localtime()\n",
    "    print('Finished on ' + str(t.tm_year) + '-' + str(t.tm_mon) + '-' + str(t.tm_mday) \n",
    "            + ' at ' + str(t.tm_hour) + ':' + str(t.tm_min) + ':' + str(t.tm_sec))"
   ]
  },
  {
   "cell_type": "code",
   "execution_count": 32,
   "metadata": {},
   "outputs": [
    {
     "name": "stdout",
     "output_type": "stream",
     "text": [
      "Finished on  2019-12-5 at 11:37:52\n",
      "Finished on  2019-12-5 at 11:37:55\n",
      "Finished on  2019-12-5 at 11:37:57\n",
      "Finished on  2019-12-5 at 11:38:0\n",
      "Finished on  2019-12-5 at 11:38:3\n",
      "Finished on  2019-12-5 at 11:38:5\n",
      "Finished on  2019-12-5 at 11:38:7\n",
      "Finished on  2019-12-5 at 11:38:10\n",
      "Finished on  2019-12-5 at 11:38:12\n",
      "Finished on  2019-12-5 at 11:38:14\n",
      "Finished on  2019-12-5 at 11:38:16\n"
     ]
    }
   ],
   "source": [
    "nodeRes = [0]*len(resultsToSave); adjRes = [0]*len(resultsToSave);\n",
    "analysis = [0]*len(resultsToSave)\n",
    "for i in range(len(resultsToSave)):\n",
    "    nodeRes[i] = [resultsToSave[i][j]['monomers'] for j in range(len(resultsToSave[i]))]\n",
    "    adjRes[i] = [resultsToSave[i][j]['adjacency_matrix'] for j in range(len(resultsToSave[i]))]\n",
    "    \n",
    "    analysis[i] = par.Parallel(n_jobs = 4)([par.delayed(kmc.analyze)\n",
    "                                         (adjacency = adjRes[i][j],\n",
    "                                          nodes = nodeRes[i][j]) \n",
    "                                         for j in range(len(resultsToSave[i]))])\n",
    "    t = time.localtime()\n",
    "    print('Finished on ',(str(t.tm_year) + '-' + str(t.tm_mon) + '-' \n",
    "                          + str(t.tm_mday)), 'at', \n",
    "         (str(t.tm_hour) + ':' + str(t.tm_min) + ':' + str(t.tm_sec)))"
   ]
  },
  {
   "cell_type": "code",
   "execution_count": 33,
   "metadata": {},
   "outputs": [],
   "source": [
    "nsens = len(analysis)\n",
    "nrep = len(analysis[0])\n",
    "\n",
    "nmon = [[sum([analysis[j][i]['Chain Lengths'][k]*k for k in analysis[j][i]['Chain Lengths']]) \n",
    "         for i in range(nrep)] for j in range(nsens)]\n",
    "\n",
    "monomerYields = [[analysis[j][i]['RCF Yields'][1]/nmon[j][i] \n",
    "                  for i in range(nrep)] for j in range(nsens)]\n",
    "betaO4Content = [[analysis[j][i]['Bonds']['bo4']/sum(analysis[j][i]['Bonds'].values())\n",
    "                 for i in range(nrep)] for j in range(nsens)]\n",
    "beta5Content = [[analysis[j][i]['Bonds']['b5']/sum(analysis[j][i]['Bonds'].values())\n",
    "                 for i in range(nrep)] for j in range(nsens)]\n",
    "betabetaContent = [[analysis[j][i]['Bonds']['bb']/sum(analysis[j][i]['Bonds'].values())\n",
    "                 for i in range(nrep)] for j in range(nsens)]\n",
    "beta1Content = [[analysis[j][i]['Bonds']['b1']/sum(analysis[j][i]['Bonds'].values())\n",
    "                 for i in range(nrep)] for j in range(nsens)]\n",
    "fiveO4Content = [[analysis[j][i]['Bonds']['5o4']/sum(analysis[j][i]['Bonds'].values())\n",
    "                 for i in range(nrep)] for j in range(nsens)]\n",
    "alphaO4Content = [[analysis[j][i]['Bonds']['ao4']/sum(analysis[j][i]['Bonds'].values())\n",
    "                 for i in range(nrep)] for j in range(nsens)]\n",
    "fivefiveContent = [[analysis[j][i]['Bonds']['55']/sum(analysis[j][i]['Bonds'].values())\n",
    "                 for i in range(nrep)] for j in range(nsens)]\n",
    "\n",
    "av_monYield = [np.mean(hist) for hist in monomerYields]; std_monYield = [np.sqrt(np.var(hist)) for hist in monomerYields];\n",
    "av_bo4Content = [np.mean(hist) for hist in betaO4Content]; std_bo4Content = [np.sqrt(np.var(hist)) for hist in betaO4Content];\n",
    "av_b5Content = [np.mean(hist) for hist in beta5Content]; std_b5Content = [np.sqrt(np.var(hist)) for hist in beta5Content];\n",
    "av_bbContent = [np.mean(hist) for hist in betabetaContent]; std_bbContent = [np.sqrt(np.var(hist)) for hist in betabetaContent];\n",
    "av_b1Content = [np.mean(hist) for hist in beta1Content]; std_b1Content = [np.sqrt(np.var(hist)) for hist in beta1Content];\n",
    "av_5o4Content = [np.mean(hist) for hist in fiveO4Content]; std_5o4Content = [np.sqrt(np.var(hist)) for hist in fiveO4Content];\n",
    "av_ao4Content = [np.mean(hist) for hist in alphaO4Content]; std_ao4Content = [np.sqrt(np.var(hist)) for hist in alphaO4Content];\n",
    "av_55Content = [np.mean(hist) for hist in fivefiveContent]; std_55Content = [np.sqrt(np.var(hist)) for hist in fivefiveContent];"
   ]
  },
  {
   "cell_type": "code",
   "execution_count": 34,
   "metadata": {},
   "outputs": [
    {
     "data": {
      "image/png": "[encoded data removed]",
      "text/plain": [
       "<Figure size 252x252 with 1 Axes>"
      ]
     },
     "metadata": {
      "needs_background": "light"
     },
     "output_type": "display_data"
    }
   ],
   "source": [
    "plt.figure(figsize=(3.5,3.5))\n",
    "plt.errorbar(sg_opts,av_monYield,yerr = std_monYield,linestyle='none',marker='.',markersize=10,markerfacecolor='black',markeredgecolor='black',capsize=3,ecolor='black')\n",
    "plt.xscale('log')\n",
    "[plt.gca().spines[i].set_linewidth(1.5) for i in ['top','right','bottom','left']]\n",
    "plt.gca().tick_params(axis = 'both',which = 'major', labelsize = 14, direction = 'in', pad = 8, top = True, right = True, width = 1.5,length=6)\n",
    "plt.gca().tick_params(axis = 'both',which = 'minor', labelsize = 14, direction = 'in', pad = 8, top = True, right = True, width = 1,length=4)\n",
    "plt.ylabel('Monomer Yield',fontsize=14)\n",
    "plt.xlabel('SG Ratio',fontsize=14)\n",
    "plt.ylim([0.0,1.0]);"
   ]
  },
  {
   "cell_type": "code",
   "execution_count": 35,
   "metadata": {
    "scrolled": true
   },
   "outputs": [
    {
     "data": {
      "image/png": "[encoded data removed]",
      "text/plain": [
       "<Figure size 252x252 with 1 Axes>"
      ]
     },
     "metadata": {
      "needs_background": "light"
     },
     "output_type": "display_data"
    }
   ],
   "source": [
    "colors = [(0,0,0),(1,0,0),(0,0,1),(0,0.6,0),(0.6,0,0.6),(1,0.5490,0),(0,0.6,0.6),(1,0.8,0),(0.6078,0.2980,0),\n",
    "         (0.6,0,0),(0,0,0.6)]\n",
    "plt.figure(figsize=(3.5,3.5))\n",
    "plt.errorbar(sg_opts,av_bo4Content,yerr = std_bo4Content,linestyle='none',marker='.',markersize=10,markerfacecolor=colors[0],markeredgecolor=colors[0],label='bo4',capsize=3,ecolor=colors[0])\n",
    "plt.errorbar(sg_opts,av_bbContent,yerr = std_bbContent,linestyle='none',marker='.',markersize=10,markerfacecolor=colors[1],markeredgecolor=colors[1],label='bb',capsize=3,ecolor=colors[1])\n",
    "plt.errorbar(sg_opts,av_b5Content,yerr = std_b5Content,linestyle='none',marker='.',markersize=10,markerfacecolor=colors[2],markeredgecolor=colors[2],label='b5',capsize=3,ecolor=colors[2])\n",
    "plt.errorbar(sg_opts,av_b1Content,yerr = std_b1Content,linestyle='none',marker='.',markersize=10,markerfacecolor=colors[3],markeredgecolor=colors[3],label='b1',capsize=3,ecolor=colors[3])\n",
    "plt.errorbar(sg_opts,av_5o4Content,yerr = std_5o4Content,linestyle='none',marker='.',markersize=10,markerfacecolor=colors[4],markeredgecolor=colors[4],label='5o4',capsize=3,ecolor=colors[4])\n",
    "plt.errorbar(sg_opts,av_ao4Content,yerr = std_ao4Content,linestyle='none',marker='.',markersize=10,markerfacecolor=colors[5],markeredgecolor=colors[5],label='ao4',capsize=3,ecolor=colors[5])\n",
    "plt.errorbar(sg_opts,av_55Content,yerr = std_55Content,linestyle='none',marker='.',markersize=10,markerfacecolor=colors[6],markeredgecolor=colors[6],label='55',capsize=3,ecolor=colors[6])\n",
    "plt.xscale('log')\n",
    "[plt.gca().spines[i].set_linewidth(1.5) for i in ['top','right','bottom','left']]\n",
    "plt.gca().tick_params(axis = 'both',which = 'major', labelsize = 14, direction = 'in', pad = 8, top = True, right = True, width = 1.5,length=6)\n",
    "plt.gca().tick_params(axis = 'both',which = 'minor', labelsize = 14, direction = 'in', pad = 8, top = True, right = True, width = 1,length=4)\n",
    "plt.ylabel('Monomer Yield',fontsize=14)\n",
    "plt.xlabel('SG Ratio',fontsize=14)\n",
    "plt.ylim([0.0,1.0])\n",
    "plt.legend(fontsize=14,loc='upper center',bbox_to_anchor=(1.2,1.05),frameon=False);"
   ]
  },
  {
   "cell_type": "markdown",
   "metadata": {},
   "source": [
    "### Continuous SG ratio sensitivity 1e11 Hz\n",
    "We will now perform the same task on different SG ratios with three different addition rates"
   ]
  },
  {
   "cell_type": "code",
   "execution_count": 36,
   "metadata": {},
   "outputs": [
    {
     "name": "stdout",
     "output_type": "stream",
     "text": [
      "Completed sensitivity iteration: 0.1\n",
      "Finished on 2019-12-5 at 11:39:40\n",
      "Completed sensitivity iteration: 0.2\n",
      "Finished on 2019-12-5 at 11:40:57\n",
      "Completed sensitivity iteration: 0.25\n",
      "Finished on 2019-12-5 at 11:42:10\n",
      "Completed sensitivity iteration: 0.33\n",
      "Finished on 2019-12-5 at 11:43:30\n",
      "Completed sensitivity iteration: 0.5\n",
      "Finished on 2019-12-5 at 11:44:50\n",
      "Completed sensitivity iteration: 1\n",
      "Finished on 2019-12-5 at 11:46:16\n",
      "Completed sensitivity iteration: 2\n",
      "Finished on 2019-12-5 at 11:47:26\n",
      "Completed sensitivity iteration: 3\n",
      "Finished on 2019-12-5 at 11:48:40\n",
      "Completed sensitivity iteration: 4\n",
      "Finished on 2019-12-5 at 11:49:44\n",
      "Completed sensitivity iteration: 5\n",
      "Finished on 2019-12-5 at 11:51:4\n",
      "Completed sensitivity iteration: 10\n",
      "Finished on 2019-12-5 at 11:52:15\n"
     ]
    }
   ],
   "source": [
    "sg_opts = [0.1,0.2,0.25,0.33,0.5,1,2,3,4,5,10]\n",
    "\n",
    "fun = par.delayed(kmc.run_kmc)\n",
    "resultsToSave = []\n",
    "     \n",
    "for sg in sg_opts:\n",
    "    #Set the percentage of S\n",
    "    pct = sg / (1 + sg)\n",
    "    \n",
    "    #Make choices about what kinds of monomers there are\n",
    "    n = 5\n",
    "    rands = np.random.rand(n)\n",
    "    \n",
    "    #Initialize the monomers, events, and state\n",
    "    mons = [ kmc.Monomer( int ( sOrG < pct ) , i ) for i,sOrG in zip ( range(n) , rands ) ]\n",
    "    startEvents = [ kmc.Event ( 'ox' , [i] , rates['ox'][ int( sOrG < pct ) ]['monomer'] ) for i,sOrG in zip ( range(n) , rands) ]\n",
    "\n",
    "    state = { i : {'mon' : mons[i] , 'affected' : {startEvents[i]} } for i in range(n) }\n",
    "    events = { startEvents[i] for i in range(n) }\n",
    "    events.add(kmc.Event('grow',[],rate = 1e11,bond = sg))\n",
    "\n",
    "    results = par.Parallel(n_jobs = 4)([fun(nMax = 200, tFinal = 1,rates = rates,initialState = state,initialEvents = events)\n",
    "                                        for _ in range(5)])\n",
    "    resultsToSave.append(results)\n",
    "    print('Completed sensitivity iteration: ' + str(sg))\n",
    "\n",
    "    t = time.localtime()\n",
    "    print('Finished on ' + str(t.tm_year) + '-' + str(t.tm_mon) + '-' + str(t.tm_mday) \n",
    "            + ' at ' + str(t.tm_hour) + ':' + str(t.tm_min) + ':' + str(t.tm_sec))"
   ]
  },
  {
   "cell_type": "code",
   "execution_count": 37,
   "metadata": {},
   "outputs": [
    {
     "name": "stdout",
     "output_type": "stream",
     "text": [
      "Finished on  2019-12-5 at 11:52:17\n",
      "Finished on  2019-12-5 at 11:52:20\n",
      "Finished on  2019-12-5 at 11:52:23\n",
      "Finished on  2019-12-5 at 11:52:26\n",
      "Finished on  2019-12-5 at 11:52:29\n",
      "Finished on  2019-12-5 at 11:52:32\n",
      "Finished on  2019-12-5 at 11:52:34\n",
      "Finished on  2019-12-5 at 11:52:37\n",
      "Finished on  2019-12-5 at 11:52:39\n",
      "Finished on  2019-12-5 at 11:52:41\n",
      "Finished on  2019-12-5 at 11:52:43\n"
     ]
    }
   ],
   "source": [
    "nodeRes = [0]*len(resultsToSave); adjRes = [0]*len(resultsToSave);\n",
    "analysis = [0]*len(resultsToSave)\n",
    "for i in range(len(resultsToSave)):\n",
    "    nodeRes[i] = [resultsToSave[i][j]['monomers'] for j in range(len(resultsToSave[i]))]\n",
    "    adjRes[i] = [resultsToSave[i][j]['adjacency_matrix'] for j in range(len(resultsToSave[i]))]\n",
    "    \n",
    "    analysis[i] = par.Parallel(n_jobs = 4)([par.delayed(kmc.analyze)\n",
    "                                         (adjacency = adjRes[i][j],\n",
    "                                          nodes = nodeRes[i][j]) \n",
    "                                         for j in range(len(resultsToSave[i]))])\n",
    "    t = time.localtime()\n",
    "    print('Finished on ',(str(t.tm_year) + '-' + str(t.tm_mon) + '-' \n",
    "                          + str(t.tm_mday)), 'at', \n",
    "         (str(t.tm_hour) + ':' + str(t.tm_min) + ':' + str(t.tm_sec)))"
   ]
  },
  {
   "cell_type": "code",
   "execution_count": 38,
   "metadata": {},
   "outputs": [],
   "source": [
    "nsens = len(analysis)\n",
    "nrep = len(analysis[0])\n",
    "\n",
    "nmon = [[sum([analysis[j][i]['Chain Lengths'][k]*k for k in analysis[j][i]['Chain Lengths']]) \n",
    "         for i in range(nrep)] for j in range(nsens)]\n",
    "\n",
    "monomerYields = [[analysis[j][i]['RCF Yields'][1]/nmon[j][i] \n",
    "                  for i in range(nrep)] for j in range(nsens)]\n",
    "betaO4Content = [[analysis[j][i]['Bonds']['bo4']/sum(analysis[j][i]['Bonds'].values())\n",
    "                 for i in range(nrep)] for j in range(nsens)]\n",
    "beta5Content = [[analysis[j][i]['Bonds']['b5']/sum(analysis[j][i]['Bonds'].values())\n",
    "                 for i in range(nrep)] for j in range(nsens)]\n",
    "betabetaContent = [[analysis[j][i]['Bonds']['bb']/sum(analysis[j][i]['Bonds'].values())\n",
    "                 for i in range(nrep)] for j in range(nsens)]\n",
    "beta1Content = [[analysis[j][i]['Bonds']['b1']/sum(analysis[j][i]['Bonds'].values())\n",
    "                 for i in range(nrep)] for j in range(nsens)]\n",
    "fiveO4Content = [[analysis[j][i]['Bonds']['5o4']/sum(analysis[j][i]['Bonds'].values())\n",
    "                 for i in range(nrep)] for j in range(nsens)]\n",
    "alphaO4Content = [[analysis[j][i]['Bonds']['ao4']/sum(analysis[j][i]['Bonds'].values())\n",
    "                 for i in range(nrep)] for j in range(nsens)]\n",
    "fivefiveContent = [[analysis[j][i]['Bonds']['55']/sum(analysis[j][i]['Bonds'].values())\n",
    "                 for i in range(nrep)] for j in range(nsens)]\n",
    "\n",
    "av_monYield = [np.mean(hist) for hist in monomerYields]; std_monYield = [np.sqrt(np.var(hist)) for hist in monomerYields];\n",
    "av_bo4Content = [np.mean(hist) for hist in betaO4Content]; std_bo4Content = [np.sqrt(np.var(hist)) for hist in betaO4Content];\n",
    "av_b5Content = [np.mean(hist) for hist in beta5Content]; std_b5Content = [np.sqrt(np.var(hist)) for hist in beta5Content];\n",
    "av_bbContent = [np.mean(hist) for hist in betabetaContent]; std_bbContent = [np.sqrt(np.var(hist)) for hist in betabetaContent];\n",
    "av_b1Content = [np.mean(hist) for hist in beta1Content]; std_b1Content = [np.sqrt(np.var(hist)) for hist in beta1Content];\n",
    "av_5o4Content = [np.mean(hist) for hist in fiveO4Content]; std_5o4Content = [np.sqrt(np.var(hist)) for hist in fiveO4Content];\n",
    "av_ao4Content = [np.mean(hist) for hist in alphaO4Content]; std_ao4Content = [np.sqrt(np.var(hist)) for hist in alphaO4Content];\n",
    "av_55Content = [np.mean(hist) for hist in fivefiveContent]; std_55Content = [np.sqrt(np.var(hist)) for hist in fivefiveContent];"
   ]
  },
  {
   "cell_type": "code",
   "execution_count": 39,
   "metadata": {},
   "outputs": [
    {
     "data": {
      "image/png": "[encoded data removed]",
      "text/plain": [
       "<Figure size 252x252 with 1 Axes>"
      ]
     },
     "metadata": {
      "needs_background": "light"
     },
     "output_type": "display_data"
    }
   ],
   "source": [
    "plt.figure(figsize=(3.5,3.5))\n",
    "plt.errorbar(sg_opts,av_monYield,yerr = std_monYield,linestyle='none',marker='.',markersize=10,markerfacecolor='black',markeredgecolor='black',capsize=3,ecolor='black')\n",
    "plt.xscale('log')\n",
    "[plt.gca().spines[i].set_linewidth(1.5) for i in ['top','right','bottom','left']]\n",
    "plt.gca().tick_params(axis = 'both',which = 'major', labelsize = 14, direction = 'in', pad = 8, top = True, right = True, width = 1.5,length=6)\n",
    "plt.gca().tick_params(axis = 'both',which = 'minor', labelsize = 14, direction = 'in', pad = 8, top = True, right = True, width = 1,length=4)\n",
    "plt.ylabel('Monomer Yield',fontsize=14)\n",
    "plt.xlabel('SG Ratio',fontsize=14)\n",
    "plt.ylim([0.0,1.0]);"
   ]
  },
  {
   "cell_type": "code",
   "execution_count": 40,
   "metadata": {
    "scrolled": true
   },
   "outputs": [
    {
     "data": {
      "image/png": "[encoded data removed]",
      "text/plain": [
       "<Figure size 252x252 with 1 Axes>"
      ]
     },
     "metadata": {
      "needs_background": "light"
     },
     "output_type": "display_data"
    }
   ],
   "source": [
    "colors = [(0,0,0),(1,0,0),(0,0,1),(0,0.6,0),(0.6,0,0.6),(1,0.5490,0),(0,0.6,0.6),(1,0.8,0),(0.6078,0.2980,0),\n",
    "         (0.6,0,0),(0,0,0.6)]\n",
    "plt.figure(figsize=(3.5,3.5))\n",
    "plt.errorbar(sg_opts,av_bo4Content,yerr = std_bo4Content,linestyle='none',marker='.',markersize=10,markerfacecolor=colors[0],markeredgecolor=colors[0],label='bo4',capsize=3,ecolor=colors[0])\n",
    "plt.errorbar(sg_opts,av_bbContent,yerr = std_bbContent,linestyle='none',marker='.',markersize=10,markerfacecolor=colors[1],markeredgecolor=colors[1],label='bb',capsize=3,ecolor=colors[1])\n",
    "plt.errorbar(sg_opts,av_b5Content,yerr = std_b5Content,linestyle='none',marker='.',markersize=10,markerfacecolor=colors[2],markeredgecolor=colors[2],label='b5',capsize=3,ecolor=colors[2])\n",
    "plt.errorbar(sg_opts,av_b1Content,yerr = std_b1Content,linestyle='none',marker='.',markersize=10,markerfacecolor=colors[3],markeredgecolor=colors[3],label='b1',capsize=3,ecolor=colors[3])\n",
    "plt.errorbar(sg_opts,av_5o4Content,yerr = std_5o4Content,linestyle='none',marker='.',markersize=10,markerfacecolor=colors[4],markeredgecolor=colors[4],label='5o4',capsize=3,ecolor=colors[4])\n",
    "plt.errorbar(sg_opts,av_ao4Content,yerr = std_ao4Content,linestyle='none',marker='.',markersize=10,markerfacecolor=colors[5],markeredgecolor=colors[5],label='ao4',capsize=3,ecolor=colors[5])\n",
    "plt.errorbar(sg_opts,av_55Content,yerr = std_55Content,linestyle='none',marker='.',markersize=10,markerfacecolor=colors[6],markeredgecolor=colors[6],label='55',capsize=3,ecolor=colors[6])\n",
    "plt.xscale('log')\n",
    "[plt.gca().spines[i].set_linewidth(1.5) for i in ['top','right','bottom','left']]\n",
    "plt.gca().tick_params(axis = 'both',which = 'major', labelsize = 14, direction = 'in', pad = 8, top = True, right = True, width = 1.5,length=6)\n",
    "plt.gca().tick_params(axis = 'both',which = 'minor', labelsize = 14, direction = 'in', pad = 8, top = True, right = True, width = 1,length=4)\n",
    "plt.ylabel('Monomer Yield',fontsize=14)\n",
    "plt.xlabel('SG Ratio',fontsize=14)\n",
    "plt.ylim([0.0,1.0])\n",
    "plt.legend(fontsize=14,loc='upper center',bbox_to_anchor=(1.2,1.05),frameon=False);"
   ]
  }
 ],
 "metadata": {
  "kernelspec": {
   "display_name": "Python 3",
   "language": "python",
   "name": "python3"
  },
  "language_info": {
   "codemirror_mode": {
    "name": "ipython",
    "version": 3
   },
   "file_extension": ".py",
   "mimetype": "text/x-python",
   "name": "python",
   "nbconvert_exporter": "python",
   "pygments_lexer": "ipython3",
   "version": "3.6.6"
  }
 },
 "nbformat": 4,
 "nbformat_minor": 2
}
