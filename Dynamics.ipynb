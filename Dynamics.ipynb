{
 "cells": [
  {
   "cell_type": "markdown",
   "metadata": {},
   "source": [
    "# Example Use of Lignin-KMC to Track Lignin Growth\n",
    "Written by: Michael Orella <br>\n",
    "Updated by: Heather Mayes <br>\n",
    "2019 November 10 <br>\n",
    "\n",
    "This notebook contains brief examples of how to use the Lignin-KMC package within python to visualize the process of lignin biosynthesis. The simulation methodology is discussed in [\"Lignin-KMC: A Toolkit for Simulating Lignin Biosynthesis\"](https://pubs.acs.org/doi/abs/10.1021/acssuschemeng.9b03534), and uses data reported in [DFT calculations of monolignol coupling kinetics](https://pubs.acs.org/doi/abs/10.1021/acssuschemeng.9b02506).\n",
    "\n",
    "**Note:** this notebook directly calls various functions in the package. Users can also run Lignin-KMC from the command line, without the need to directly interact with the python code. See the [README on github](https://github.com/michaelorella/lignin-kmc)."
   ]
  },
  {
   "cell_type": "code",
   "execution_count": 1,
   "metadata": {},
   "outputs": [],
   "source": [
    "%load_ext autoreload\n",
    "%autoreload 2"
   ]
  },
  {
   "cell_type": "code",
   "execution_count": 2,
   "metadata": {},
   "outputs": [
    {
     "ename": "ModuleNotFoundError",
     "evalue": "No module named 'joblib'",
     "output_type": "error",
     "traceback": [
      "\u001b[0;31m---------------------------------------------------------------------------\u001b[0m",
      "\u001b[0;31mModuleNotFoundError\u001b[0m                       Traceback (most recent call last)",
      "\u001b[0;32m<ipython-input-2-252f853be527>\u001b[0m in \u001b[0;36m<module>\u001b[0;34m\u001b[0m\n\u001b[1;32m     14\u001b[0m \u001b[0;34m\u001b[0m\u001b[0m\n\u001b[1;32m     15\u001b[0m \u001b[0;31m# Parallelization\u001b[0m\u001b[0;34m\u001b[0m\u001b[0;34m\u001b[0m\u001b[0;34m\u001b[0m\u001b[0m\n\u001b[0;32m---> 16\u001b[0;31m \u001b[0;32mimport\u001b[0m \u001b[0mjoblib\u001b[0m \u001b[0;32mas\u001b[0m \u001b[0mpar\u001b[0m\u001b[0;34m\u001b[0m\u001b[0;34m\u001b[0m\u001b[0m\n\u001b[0m\u001b[1;32m     17\u001b[0m \u001b[0;34m\u001b[0m\u001b[0m\n\u001b[1;32m     18\u001b[0m \u001b[0mBOND_COUNTS\u001b[0m \u001b[0;34m=\u001b[0m \u001b[0;34m'bond counts'\u001b[0m\u001b[0;34m\u001b[0m\u001b[0;34m\u001b[0m\u001b[0m\n",
      "\u001b[0;31mModuleNotFoundError\u001b[0m: No module named 'joblib'"
     ]
    }
   ],
   "source": [
    "# Lignin-KMC functions and global variables used in this notebook\n",
    "from ligninkmc.event import Event\n",
    "from ligninkmc.kmc_functions import run_kmc\n",
    "from ligninkmc.create_lignin import (calc_rates, create_initial_monomers, create_initial_events, \n",
    "                                     create_initial_state)\n",
    "from ligninkmc.analysis import get_bond_type_v_time_dict\n",
    "from ligninkmc.kmc_common import (DEF_E_A_KCAL_MOL, GROW, TIME, ADJ_MATRIX)\n",
    "\n",
    "# General Math and LinAlg\n",
    "import numpy as np\n",
    "\n",
    "# Plotting\n",
    "import matplotlib.pyplot as plt\n",
    "\n",
    "# Parallelization\n",
    "import joblib as par\n",
    "\n",
    "BOND_COUNTS = 'bond counts'\n",
    "FRAG_COUNTS = 'fragment length counts'\n",
    "SUM_LIST = 'sum list'\n",
    "STYLES_LIST = [(0, 0, 0), (1, 0, 0), (0, 0, 1), (0, 0.6, 0), (0.6, 0, 0.6), (1, 0.5490, 0), (0, 0.6, 0.6), \n",
    "               (1, 0.8, 0), (0.6078, 0.2980, 0), (0.6, 0, 0), (0, 0, 0.6)]"
   ]
  },
  {
   "cell_type": "markdown",
   "metadata": {},
   "source": [
    "Make a plotting function, and an analysis function, as they will called multiple times"
   ]
  },
  {
   "cell_type": "code",
   "execution_count": null,
   "metadata": {},
   "outputs": [],
   "source": [
    "def plot_dynamics(kmc_output):\n",
    "    fig, axes = plt.subplots(1, 2, figsize=(7, 5))\n",
    "\n",
    "    # first iteration is to get curve keys (iterate over each repeat as some keys can be in \n",
    "    #     one repeat and not another (right now, will only happen for the frag_lens)\n",
    "    bond_legend_list = []\n",
    "    frag_legend_list = []\n",
    "    # start with a number much larger than expected simulation time\n",
    "    shortest_sim_time = 1e20\n",
    "    for out in kmc_output:  # iterate over the number of repeats\n",
    "        bond_counts_keys = out[BOND_COUNTS].keys()\n",
    "        for key in bond_counts_keys:\n",
    "            if key not in bond_legend_list:\n",
    "                bond_legend_list.append(key)\n",
    "         \n",
    "        frag_counts_keys = out[FRAG_COUNTS].keys()\n",
    "        for key in frag_counts_keys:\n",
    "            if key not in frag_legend_list:\n",
    "                frag_legend_list.append(key)\n",
    "        # different simulations can run for different amounts of time. Plot only to the shortest run time.\n",
    "        final_time = out[TIME][-1]\n",
    "        if final_time < shortest_sim_time:\n",
    "            shortest_sim_time = final_time\n",
    "    \n",
    "    # for consistent output on multiple platforms\n",
    "    bond_legend_list.sort()\n",
    "    frag_legend_list.sort()\n",
    "                \n",
    "    # Now iterate to create plot\n",
    "    for out in kmc_output:  # iterate over the number of repeats\n",
    "        t = out[TIME]\n",
    "        bond_counts_dict = out[BOND_COUNTS]\n",
    "        frag_counts_dict = out[FRAG_COUNTS]\n",
    "        # different lengths, so iterate separately\n",
    "        for frag_idx, frag_len in enumerate(frag_legend_list):\n",
    "            # only up to oligomer length 9 (index 8); then add the 10+\n",
    "            if frag_idx > 8:\n",
    "                break\n",
    "            axes[0].plot(t, frag_counts_dict[frag_len], linestyle='-', color=STYLES_LIST[frag_idx], label=frag_len)\n",
    "        if out[SUM_LIST]:\n",
    "            axes[0].plot(t, out[SUM_LIST][1], linestyle='-', color=STYLES_LIST[9], label=out[SUM_LIST][0])\n",
    "        for bond_idx, bond_type in enumerate(bond_legend_list):\n",
    "            axes[1].plot(t, bond_counts_dict[bond_type], linestyle='-', color=STYLES_LIST[bond_idx], label=bond_type)\n",
    "\n",
    "    axes[0].legend(axes[0].get_children()[:10], ['1', '2', '3', '4', '5', '6', '7', '8', '9', '10+'], \n",
    "                   loc='best', fontsize=14)\n",
    "    [axes[0].spines[i].set_linewidth(1.5) for i in ['top', 'right', 'bottom', 'left']]\n",
    "    axes[0].tick_params(axis='x', which='major', labelsize=14, direction='in', pad=8, top=True, right=True,\n",
    "                        width=1.5, length=5)\n",
    "    axes[0].tick_params(axis='x', which='minor', labelsize=8, direction='in', pad=8, top=True, right=True, \n",
    "                        width=1, length=2.5)\n",
    "    axes[0].tick_params(axis='y', which='major', labelsize=14, direction='in', pad=8, top=True, right=True,\n",
    "                        width=1.5, length=4)\n",
    "    axes[0].set_xlabel('Time [s]', fontsize=14)\n",
    "    axes[0].set_xlim([0, shortest_sim_time])  \n",
    "    axes[0].set_ylabel('# Monomers in Oligomers per Length', fontsize=14)\n",
    "\n",
    "    axes[1].legend(axes[0].get_children()[:7], bond_legend_list, loc='best', fontsize=14)\n",
    "    [axes[1].spines[i].set_linewidth(1.5) for i in ['top', 'right', 'bottom', 'left']]\n",
    "    axes[1].tick_params(axis='x', which='major', labelsize=14, direction='in', pad=8, top=True, right=True,\n",
    "                        width=1.5, length=5)\n",
    "    axes[1].tick_params(axis='x', which='minor', labelsize=8, direction='in', pad=8, top=True, right=True, \n",
    "                        width=1, length=2.5)\n",
    "    axes[1].tick_params(axis='y', which='major', labelsize=14, direction='in', pad=8, top=True, right=True,\n",
    "                        width=1.5, length=4)\n",
    "    axes[1].set_xlabel('Time [s]', fontsize=14)\n",
    "    axes[1].set_xlim([0, shortest_sim_time])  \n",
    "    axes[1].set_ylabel('# Bonds per Type', fontsize=14)\n",
    "\n",
    "    fig.tight_layout()"
   ]
  },
  {
   "cell_type": "code",
   "execution_count": null,
   "metadata": {},
   "outputs": [],
   "source": [
    "# analysis function to be called after running the simulation\n",
    "def get_traces(result):\n",
    "    t_steps = result[TIME]\n",
    "    adj_list = result[ADJ_MATRIX]\n",
    "\n",
    "    sum_len_larger_than=10\n",
    "    bond_type_dict, olig_len_dict, sum_list = get_bond_type_v_time_dict(adj_list, sum_len_larger_than=10)\n",
    "   \n",
    "    return {TIME: t_steps, BOND_COUNTS: bond_type_dict, FRAG_COUNTS: olig_len_dict, \n",
    "            SUM_LIST: (sum_len_larger_than, sum_list)}"
   ]
  },
  {
   "cell_type": "markdown",
   "metadata": {},
   "source": [
    "Here, we will use the default activation energy values, as reported in the [Lignin-KMC paper](https://pubs.acs.org/doi/abs/10.1021/acssuschemeng.9b03534), [Tables S1 and S2](https://pubs.acs.org/doi/suppl/10.1021/acssuschemeng.9b03534/suppl_file/sc9b03534_si_001.pdf), which stored in the package's global variable DEF_E_A_KCAL_MOL (imported above). \n",
    "\n",
    "These values can be tuned and updated to reflect new developments in better understanding of lignin chemistry. The format of the expected dictionary is shown in the [LigninPolymerizationNotebook.ipynb](LigninPolymerizationNotebook.ipynb).\n",
    "\n",
    "Once the values have been input or imported, the `calc_rates` function uses the Eyring equation to calculate an equivalent dictionary (bond types) of dictionaries (substrate monomer types) of dictionaries (fragment sizes of substrates) of rates."
   ]
  },
  {
   "cell_type": "code",
   "execution_count": null,
   "metadata": {},
   "outputs": [],
   "source": [
    "# Calculate the rates of reaction in 1/s at the specified temp\n",
    "temp = 298.15  # K\n",
    "rxn_rates = calc_rates(temp, ea_kcal_mol_dict=DEF_E_A_KCAL_MOL)"
   ]
  },
  {
   "cell_type": "code",
   "execution_count": null,
   "metadata": {},
   "outputs": [],
   "source": [
    "# Define the function to be run in parallel\n",
    "fun = par.delayed(run_kmc)\n",
    "\n",
    "# Set the percentage of S\n",
    "sg_ratio = 1\n",
    "pct_s = sg_ratio / (1 + sg_ratio)\n",
    "\n",
    "# Here we will use a constant number of monomers: all will be available at the beginning of the simulation \n",
    "#     and no more will be added during the simulation (as in simulating a batch reactor) \n",
    "num_monos = 200\n",
    "\n",
    "# The initial distribution of monomers will be randomly determined based on the provided S to G ratio\n",
    "monomer_draw = np.random.rand(num_monos)\n",
    "initial_monomers = create_initial_monomers(pct_s, monomer_draw)\n",
    "\n",
    "# Initialize the events and state\n",
    "initial_events = create_initial_events(monomer_draw, pct_s, rxn_rates)\n",
    "initial_state = create_initial_state(initial_events, initial_monomers)\n",
    "\n",
    "# Now running the simulation from this initial state, for multiple repeats to provide some statistics\n",
    "num_repeats = 8\n",
    "# The simulation will end when the final time (in seconds) is reached, or earlier if no more reactions are possible\n",
    "results = par.Parallel(n_jobs=8, verbose = 11)([fun(rxn_rates, initial_state, initial_events, n_max=num_monos, \n",
    "                                                    t_max=10000, dynamics=True) for _ in range(num_repeats)])"
   ]
  },
  {
   "cell_type": "code",
   "execution_count": null,
   "metadata": {},
   "outputs": [],
   "source": [
    "output = par.Parallel(n_jobs=8, verbose=11)([par.delayed(get_traces)(res) for res in results])"
   ]
  },
  {
   "cell_type": "code",
   "execution_count": null,
   "metadata": {},
   "outputs": [],
   "source": [
    "# FYI: the maximum time shown is the length of the simulation repeat that finished the fastest\n",
    "plot_dynamics(output)"
   ]
  },
  {
   "cell_type": "markdown",
   "metadata": {},
   "source": [
    "Now, a similar analysis is done for continuous monomer addition."
   ]
  },
  {
   "cell_type": "code",
   "execution_count": null,
   "metadata": {},
   "outputs": [],
   "source": [
    "# Set the percentage of S\n",
    "sg_ratio = 1\n",
    "pct_s = sg_ratio / (1 + sg_ratio)\n",
    "\n",
    "# Here we will start with 2 monomers, and add more during the simulation up to the specified maximum\n",
    "ini_num_monos = 2\n",
    "max_num_monos = 200\n",
    "mono_add_rate = 1e4  # monomers/second\n",
    "\n",
    "# As before, the initial distribution of monomers will be randomly determined based on the provided S to G ratio\n",
    "monomer_draw = np.random.rand(ini_num_monos)\n",
    "initial_monomers = create_initial_monomers(pct_s, monomer_draw)\n",
    "\n",
    "# Initialize the events and state\n",
    "initial_events = create_initial_events(monomer_draw, pct_s, rxn_rates)\n",
    "initial_state = create_initial_state(initial_events, initial_monomers)\n",
    "\n",
    "# After initialization (with oxidizes monomers), add the ability to \"grow\" lignin by adding monomers during\n",
    "#     the KMC simulation of biosynthesis, with the same sg_ratio for determining monomer types to add\n",
    "initial_events.append(Event(GROW, [], rate=mono_add_rate, bond=sg_ratio))\n",
    "\n",
    "# Again running the simulation from this initial state, for multiple repeats to provide some statistics\n",
    "num_repeats = 8\n",
    "# The simulation will still end when the final time (in seconds) is reached, or earlier if no more reactions \n",
    "#     are possible, with addition of monomers up to a maximum number included in the termination of whether \n",
    "#     additional reactions are possible\n",
    "results = par.Parallel(n_jobs=8, verbose = 11)([fun(rxn_rates, initial_state, initial_events, n_max=max_num_monos, \n",
    "                                                    t_max=10000, sg_ratio=sg_ratio, dynamics=True) \n",
    "                                                for _ in range(num_repeats)])"
   ]
  },
  {
   "cell_type": "code",
   "execution_count": null,
   "metadata": {},
   "outputs": [],
   "source": [
    "output = par.Parallel(n_jobs=8, verbose=11)([par.delayed(get_traces)(res) for res in results])"
   ]
  },
  {
   "cell_type": "code",
   "execution_count": null,
   "metadata": {
    "scrolled": false
   },
   "outputs": [],
   "source": [
    "plot_dynamics(output)"
   ]
  },
  {
   "cell_type": "markdown",
   "metadata": {},
   "source": [
    "The above simulation of continuous monomer addition will now be repeated for a larger monomer addition rate."
   ]
  },
  {
   "cell_type": "code",
   "execution_count": null,
   "metadata": {},
   "outputs": [],
   "source": [
    "# Set the percentage of S\n",
    "sg_ratio = 1\n",
    "pct_s = sg_ratio / (1 + sg_ratio)\n",
    "\n",
    "# Here we will start with 2 monomers, and add more during the simulation up to the specified maximum\n",
    "ini_num_monos = 2\n",
    "max_num_monos = 200\n",
    "mono_add_rate = 1e9  # monomers/second\n",
    "\n",
    "# As before, the initial distribution of monomers will be randomly determined based on the provided S to G ratio\n",
    "monomer_draw = np.random.rand(ini_num_monos)\n",
    "initial_monomers = create_initial_monomers(pct_s, monomer_draw)\n",
    "\n",
    "# Initialize the events and state\n",
    "initial_events = create_initial_events(monomer_draw, pct_s, rxn_rates)\n",
    "initial_state = create_initial_state(initial_events, initial_monomers)\n",
    "\n",
    "# After initialization (with oxidizes monomers), add the ability to \"grow\" lignin by adding monomers during\n",
    "#     the KMC simulation of biosynthesis, with the same sg_ratio for determining monomer types to add\n",
    "initial_events.append(Event(GROW, [], rate=mono_add_rate, bond=sg_ratio))\n",
    "\n",
    "# Again running the simulation from this initial state, for multiple repeats to provide some statistics\n",
    "num_repeats = 8\n",
    "# The simulation will still end when the final time (in seconds) is reached, or earlier if no more reactions \n",
    "#     are possible, with addition of monomers up to a maximum number included in the termination of whether \n",
    "#     additional reactions are possible\n",
    "results = par.Parallel(n_jobs=8, verbose = 11)([fun(rxn_rates, initial_state, initial_events, n_max=max_num_monos, \n",
    "                                                    t_max=10000, sg_ratio=sg_ratio, dynamics=True) \n",
    "                                                for _ in range(num_repeats)])"
   ]
  },
  {
   "cell_type": "code",
   "execution_count": null,
   "metadata": {},
   "outputs": [],
   "source": [
    "output = par.Parallel(n_jobs=8, verbose=11)([par.delayed(get_traces)(res) for res in results])"
   ]
  },
  {
   "cell_type": "code",
   "execution_count": null,
   "metadata": {},
   "outputs": [],
   "source": [
    "plot_dynamics(output)"
   ]
  },
  {
   "cell_type": "markdown",
   "metadata": {},
   "source": [
    "For more information, see the [github for this project](https://github.com/michaelorella/lignin-kmc)."
   ]
  }
 ],
 "metadata": {
  "kernelspec": {
   "display_name": "Python 3",
   "language": "python",
   "name": "python3"
  },
  "language_info": {
   "codemirror_mode": {
    "name": "ipython",
    "version": 3
   },
   "file_extension": ".py",
   "mimetype": "text/x-python",
   "name": "python",
   "nbconvert_exporter": "python",
   "pygments_lexer": "ipython3",
   "version": "3.7.3"
  },
  "pycharm": {
   "stem_cell": {
    "cell_type": "raw",
    "metadata": {
     "collapsed": false
    },
    "source": []
   }
  }
 },
 "nbformat": 4,
 "nbformat_minor": 2
}
